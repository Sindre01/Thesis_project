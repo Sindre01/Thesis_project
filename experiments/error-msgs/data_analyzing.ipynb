{
 "cells": [
  {
   "cell_type": "code",
   "execution_count": null,
   "metadata": {},
   "outputs": [
    {
     "name": "stdout",
     "output_type": "stream",
     "text": [
      "         model_name task_id  candidate_id  metric error_type  \\\n",
      "0     phi4:14b-fp16       8             5  syntax     syntax   \n",
      "1     phi4:14b-fp16       8             8  syntax     syntax   \n",
      "2     phi4:14b-fp16      10             3  syntax     syntax   \n",
      "3     phi4:14b-fp16      10             6  syntax     syntax   \n",
      "4     phi4:14b-fp16      10             8  syntax     syntax   \n",
      "...             ...     ...           ...     ...        ...   \n",
      "4223   qwq:32b-fp16      16             1   tests     syntax   \n",
      "4224   qwq:32b-fp16      18             1   tests   semantic   \n",
      "4225   qwq:32b-fp16      34             1   tests     syntax   \n",
      "4226   qwq:32b-fp16      42             1   tests   semantic   \n",
      "4227   qwq:32b-fp16      48             1   tests     syntax   \n",
      "\n",
      "                                              error_msg  \\\n",
      "0     [ERROR compiler::frontend::code_gen: 3182: Err...   \n",
      "1     [ERROR compiler::frontend::parser: 1372: Error...   \n",
      "2     [ERROR compiler::frontend::parser: 1372: Error...   \n",
      "3     [ERROR compiler::frontend::parser: 1372: Error...   \n",
      "4     [ERROR compiler::frontend::parser: 1372: Error...   \n",
      "...                                                 ...   \n",
      "4223  [ERROR compiler::frontend::tokenizer: 742: Err...   \n",
      "4224  [ERROR compiler::frontend::semantic_analysis::...   \n",
      "4225  [ERROR compiler::frontend::tokenizer: 742: Err...   \n",
      "4226  [ERROR compiler::frontend::semantic_analysis::...   \n",
      "4227                                                 []   \n",
      "\n",
      "                                         code_candidate test_result  \\\n",
      "0     import(\"std\", Std_k98ojb)\\nimport(\"http\", Http...        None   \n",
      "1     import(\"std\", Std_k98ojb)\\nimport(\"http\", Http...        None   \n",
      "2     import(\"std\", Std_k98ojb)\\nimport(\"http\", Http...        None   \n",
      "3     import(\"std\", Std_k98ojb)\\nimport(\"http\", Http...        None   \n",
      "4     import(\"std\", Std_k98ojb)\\nimport(\"http\", Http...        None   \n",
      "...                                                 ...         ...   \n",
      "4223  module() main {\\n    func(doc: \"Calculates the...        None   \n",
      "4224  import(\"std\", Std_k98ojb)\\nimport(\"http\", Http...        None   \n",
      "4225  module main {\\n    func rotate_right {\\n      ...        None   \n",
      "4226  import(\"std\", Std_k98ojb)\\nimport(\"http\", Http...        None   \n",
      "4227  handler for Iteration.Find on the candidate li...        None   \n",
      "\n",
      "                                                 stderr  \\\n",
      "0     Error: Code gen failed\\n\\nCaused by:\\n    Coul...   \n",
      "1     Error: Parsing failed\\n\\nCaused by:\\n    Compi...   \n",
      "2     Error: Parsing failed\\n\\nCaused by:\\n    Compi...   \n",
      "3     Error: Parsing failed\\n\\nCaused by:\\n    Compi...   \n",
      "4     Error: Parsing failed\\n\\nCaused by:\\n    Compi...   \n",
      "...                                                 ...   \n",
      "4223  Error: Tokenization failed\\n\\nCaused by:\\n    ...   \n",
      "4224                                                      \n",
      "4225  Error: Tokenization failed\\n\\nCaused by:\\n    ...   \n",
      "4226                                                      \n",
      "4227  CUSTOM WARNING: Code is not compile ready for ...   \n",
      "\n",
      "                                                 stdout       phase  seed  \\\n",
      "0     Installing dependencies for midio_example@0.1....     testing    15   \n",
      "1     Installing dependencies for midio_example@0.1....     testing    24   \n",
      "2     Installing dependencies for midio_example@0.1....     testing     9   \n",
      "3     Installing dependencies for midio_example@0.1....     testing    18   \n",
      "4     Installing dependencies for midio_example@0.1....     testing    24   \n",
      "...                                                 ...         ...   ...   \n",
      "4223  Installing dependencies for midio_example@0.1....  validation     9   \n",
      "4224  Installing dependencies for midio_example@0.1....  validation     9   \n",
      "4225  Installing dependencies for midio_example@0.1....  validation     9   \n",
      "4226  Installing dependencies for midio_example@0.1....  validation     9   \n",
      "4227  CUSTOM WARNING: Code that is not compile ready...  validation     9   \n",
      "\n",
      "      temperature  top_p  top_k              created_at eval_method  fold  \n",
      "0             0.2    0.2     10 2025-03-14 09:13:16.479      3_fold   0.0  \n",
      "1             0.2    0.2     10 2025-03-14 09:13:16.479      3_fold   0.0  \n",
      "2             0.2    0.2     10 2025-03-14 09:13:16.479      3_fold   0.0  \n",
      "3             0.2    0.2     10 2025-03-14 09:13:16.479      3_fold   0.0  \n",
      "4             0.2    0.2     10 2025-03-14 09:13:16.479      3_fold   0.0  \n",
      "...           ...    ...    ...                     ...         ...   ...  \n",
      "4223          0.9    0.9    100 2025-03-18 09:40:39.653    hold_out   NaN  \n",
      "4224          0.9    0.9    100 2025-03-18 09:40:39.653    hold_out   NaN  \n",
      "4225          0.9    0.9    100 2025-03-18 09:40:39.653    hold_out   NaN  \n",
      "4226          0.9    0.9    100 2025-03-18 09:40:39.653    hold_out   NaN  \n",
      "4227          0.9    0.9    100 2025-03-18 09:40:39.653    hold_out   NaN  \n",
      "\n",
      "[4228 rows x 18 columns]\n"
     ]
    }
   ],
   "source": [
    "import os\n",
    "import sys\n",
    "\n",
    "sys.path.append('../../')  # Add the path to the my_packages module\n",
    "os.environ['EXPERIMENT_DB_NAME'] = \"few_shot_experiments\"\n",
    "from my_packages.db_service.error_service import delete_error_docs, errors_to_df, pretty_print_errors\n",
    "from my_packages.evaluation.midio_compiler import compile_code\n",
    "from my_packages.db_service.experiment_service import experiment_exists, pretty_print_experiment_collections, run_experiment_quality_checks, setup_experiment_collection\n",
    "\n",
    "\n",
    "experiment_name = f\"regular_coverage_5_shot\"\n",
    "syntax_filter = {\n",
    "    \"experiment_name\": experiment_name,\n",
    "    \"model\": \"Phi4:14b\",\n",
    "    \"error_type\": \"syntax\",\n",
    "}\n",
    "df = errors_to_df(experiment_name, filter=filter)\n",
    "# extract \"CompilerError - ..\" from list of strings in errors_msg field\n",
    "\n",
    "\n",
    "print(df)\n",
    "\n"
   ]
  },
  {
   "cell_type": "code",
   "execution_count": 2,
   "metadata": {},
   "outputs": [
    {
     "ename": "NameError",
     "evalue": "name 'sys' is not defined",
     "output_type": "error",
     "traceback": [
      "\u001b[0;31m---------------------------------------------------------------------------\u001b[0m",
      "\u001b[0;31mNameError\u001b[0m                                 Traceback (most recent call last)",
      "Cell \u001b[0;32mIn[2], line 1\u001b[0m\n\u001b[0;32m----> 1\u001b[0m \u001b[43msys\u001b[49m\u001b[38;5;241m.\u001b[39mpath\u001b[38;5;241m.\u001b[39mappend(\u001b[38;5;124m'\u001b[39m\u001b[38;5;124m../../\u001b[39m\u001b[38;5;124m'\u001b[39m)  \u001b[38;5;66;03m# Add the path to the my_packages module\u001b[39;00m\n\u001b[1;32m      2\u001b[0m \u001b[38;5;28;01mfrom\u001b[39;00m\u001b[38;5;250m \u001b[39m\u001b[38;5;21;01mmy_packages\u001b[39;00m\u001b[38;5;21;01m.\u001b[39;00m\u001b[38;5;21;01mdb_service\u001b[39;00m\u001b[38;5;21;01m.\u001b[39;00m\u001b[38;5;21;01mdata_visualization\u001b[39;00m\u001b[38;5;250m \u001b[39m\u001b[38;5;28;01mimport\u001b[39;00m visualize_error_flow_for_model\n\u001b[1;32m      6\u001b[0m \u001b[38;5;66;03m# Assuming the experiment 'GPT4_signature_exp1' exists,\u001b[39;00m\n\u001b[1;32m      7\u001b[0m \u001b[38;5;66;03m# and you evaluated 100 candidates for model 'GPT-4':\u001b[39;00m\n\u001b[1;32m      8\u001b[0m \u001b[38;5;66;03m# visualize_error_flow_for_model(experiment_name, \"gpt-4o\")\u001b[39;00m\n",
      "\u001b[0;31mNameError\u001b[0m: name 'sys' is not defined"
     ]
    }
   ],
   "source": [
    "\n",
    "sys.path.append('../../')  # Add the path to the my_packages module\n",
    "from my_packages.db_service.data_visualization import visualize_error_flow_for_model\n",
    "\n",
    "\n",
    "\n",
    "# Assuming the experiment 'GPT4_signature_exp1' exists,\n",
    "# and you evaluated 100 candidates for model 'GPT-4':\n",
    "# visualize_error_flow_for_model(experiment_name, \"gpt-4o\")\n",
    "pretty_print_experiment_collections(experiment_name, filter={\"eval_method\": \"hold_out\"})\n"
   ]
  },
  {
   "cell_type": "code",
   "execution_count": null,
   "metadata": {},
   "outputs": [],
   "source": []
  }
 ],
 "metadata": {
  "kernelspec": {
   "display_name": ".venv_Master",
   "language": "python",
   "name": "python3"
  },
  "language_info": {
   "codemirror_mode": {
    "name": "ipython",
    "version": 3
   },
   "file_extension": ".py",
   "mimetype": "text/x-python",
   "name": "python",
   "nbconvert_exporter": "python",
   "pygments_lexer": "ipython3",
   "version": "3.11.5"
  }
 },
 "nbformat": 4,
 "nbformat_minor": 2
}
