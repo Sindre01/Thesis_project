{
 "cells": [
  {
   "cell_type": "code",
   "execution_count": 1,
   "metadata": {},
   "outputs": [
    {
     "name": "stdout",
     "output_type": "stream",
     "text": [
      "signature_RAG_5_shot\n",
      "               model_name              created_at eval_method                    syntax@1                    syntax@3                  semantic@1                  semantic@3                     tests@1                     tests@3            visual@placement\n",
      "            phi4:14b-fp16 2025-04-25 14:07:40.103      3_fold {'mean': 0.64, 'std': 0.18} {'mean': 0.72, 'std': 0.19}  {'mean': 0.5, 'std': 0.07} {'mean': 0.59, 'std': 0.11} {'mean': 0.38, 'std': 0.04} {'mean': 0.48, 'std': 0.05} {'mean': 0.77, 'std': 0.03}\n",
      "llama3.2:3b-instruct-fp16 2025-04-25 14:07:32.322      3_fold {'mean': 0.71, 'std': 0.02}  {'mean': 0.9, 'std': 0.03} {'mean': 0.43, 'std': 0.05} {'mean': 0.67, 'std': 0.08} {'mean': 0.24, 'std': 0.06} {'mean': 0.44, 'std': 0.07} {'mean': 0.78, 'std': 0.06}\n",
      "...\n",
      "Total documents/rows: 2      \n",
      "--------------------------------------------------\n"
     ]
    }
   ],
   "source": [
    "import sys\n",
    "import os\n",
    "sys.path.append(\"../../../..\")\n",
    "os.environ['EXPERIMENT_DB_NAME'] = \"syncode_experiments\"\n",
    "from my_packages.db_service.results_service import pretty_print_results, results_to_df\n",
    "\n",
    "for shot in [5]:\n",
    "    experiment_name = f\"signature_RAG_{shot}_shot\"\n",
    "        \n",
    "    print(experiment_name)\n",
    "    # results_to_df(f\"{experiment_name}_5_shot\")\n",
    "\n",
    "    pretty_print_results(\n",
    "        experiment_name, \n",
    "        filter= {\"model_name\": {\"$in\": [\"llama3.2:3b-instruct-fp16\", \"phi4:14b-fp16\"]}},\n",
    "        exclude_columns=[\n",
    "            \"ks\", \"temperature\", \"top_p\", \"top_k\", \"metrics\", \"seed\",\n",
    "            \"syntax@10\",\n",
    "            \"semantic@10\",\n",
    "            \"tests@10\",\n",
    "            \"syntax@5\",\n",
    "            \"semantic@5\",\n",
    "            \"tests@5\",\n",
    "            \"syntax@2\",\n",
    "            \"semantic@2\",\n",
    "            \"tests@2\",\n",
    "        ]\n",
    "    )\n",
    "\n",
    "\n"
   ]
  }
 ],
 "metadata": {
  "kernelspec": {
   "display_name": ".venv_Master",
   "language": "python",
   "name": "python3"
  },
  "language_info": {
   "codemirror_mode": {
    "name": "ipython",
    "version": 3
   },
   "file_extension": ".py",
   "mimetype": "text/x-python",
   "name": "python",
   "nbconvert_exporter": "python",
   "pygments_lexer": "ipython3",
   "version": "3.11.0rc1"
  }
 },
 "nbformat": 4,
 "nbformat_minor": 2
}
