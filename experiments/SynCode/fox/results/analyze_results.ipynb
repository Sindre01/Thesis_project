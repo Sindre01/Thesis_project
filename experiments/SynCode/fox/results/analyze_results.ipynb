{
 "cells": [
  {
   "cell_type": "code",
   "execution_count": 3,
   "metadata": {},
   "outputs": [
    {
     "name": "stdout",
     "output_type": "stream",
     "text": [
      "signature_similarity_5_shot\n",
      "               model_name         seed              created_at eval_method                    syntax@1                    syntax@2                    syntax@3                   syntax@5                   syntax@10                  semantic@1                  semantic@2                  semantic@3                  semantic@5                 semantic@10                     tests@1                     tests@2                     tests@3                     tests@5                   tests@10\n",
      "llama3.2:3b-instruct-fp16 [3, 346, 75] 2025-04-06 19:43:34.669      3_fold {'mean': 0.51, 'std': 0.04} {'mean': 0.66, 'std': 0.06} {'mean': 0.73, 'std': 0.08} {'mean': 0.8, 'std': 0.09} {'mean': 0.87, 'std': 0.11} {'mean': 0.39, 'std': 0.04} {'mean': 0.51, 'std': 0.06} {'mean': 0.59, 'std': 0.07} {'mean': 0.67, 'std': 0.09} {'mean': 0.76, 'std': 0.12} {'mean': 0.25, 'std': 0.02} {'mean': 0.35, 'std': 0.01} {'mean': 0.42, 'std': 0.03} {'mean': 0.51, 'std': 0.06} {'mean': 0.63, 'std': 0.1}\n",
      "...\n",
      "Total documents/rows: 1      \n",
      "--------------------------------------------------\n",
      "signature_similarity_10_shot\n",
      "               model_name         seed              created_at eval_method                    syntax@1                    syntax@2                    syntax@3                    syntax@5                   syntax@10                  semantic@1                  semantic@2                  semantic@3                  semantic@5                 semantic@10                     tests@1                     tests@2                     tests@3                     tests@5                    tests@10\n",
      "llama3.2:3b-instruct-fp16 [3, 346, 75] 2025-04-06 19:43:42.855      3_fold {'mean': 0.57, 'std': 0.09} {'mean': 0.67, 'std': 0.12} {'mean': 0.73, 'std': 0.12} {'mean': 0.79, 'std': 0.12} {'mean': 0.84, 'std': 0.13} {'mean': 0.45, 'std': 0.08} {'mean': 0.56, 'std': 0.08} {'mean': 0.62, 'std': 0.08} {'mean': 0.69, 'std': 0.08} {'mean': 0.75, 'std': 0.08} {'mean': 0.27, 'std': 0.02} {'mean': 0.35, 'std': 0.03} {'mean': 0.41, 'std': 0.04} {'mean': 0.47, 'std': 0.05} {'mean': 0.54, 'std': 0.07}\n",
      "...\n",
      "Total documents/rows: 1      \n",
      "--------------------------------------------------\n"
     ]
    }
   ],
   "source": [
    "import sys\n",
    "import os\n",
    "sys.path.append(\"../../../..\")\n",
    "os.environ['EXPERIMENT_DB_NAME'] = \"syncode_experiments\"\n",
    "from my_packages.db_service.results_service import pretty_print_results, results_to_df\n",
    "\n",
    "\n",
    "for shot in [5, 10]:\n",
    "    experiment_name = f\"signature_similarity_{shot}_shot\"\n",
    "        \n",
    "    print(experiment_name)\n",
    "    # results_to_df(f\"{experiment_name}_5_shot\")\n",
    "\n",
    "    pretty_print_results(\n",
    "        experiment_name, \n",
    "        filter= {\"model_name\": {\"$in\": [\"llama3.2:3b-instruct-fp16\"]}},\n",
    "        exclude_columns=[\n",
    "            \"ks\", \"temperature\", \"top_p\", \"top_k\", \"metrics\",\n",
    "        ]\n",
    "    )\n",
    "\n",
    "\n"
   ]
  }
 ],
 "metadata": {
  "kernelspec": {
   "display_name": ".venv_Master",
   "language": "python",
   "name": "python3"
  },
  "language_info": {
   "codemirror_mode": {
    "name": "ipython",
    "version": 3
   },
   "file_extension": ".py",
   "mimetype": "text/x-python",
   "name": "python",
   "nbconvert_exporter": "python",
   "pygments_lexer": "ipython3",
   "version": "3.11.0rc1"
  }
 },
 "nbformat": 4,
 "nbformat_minor": 2
}
