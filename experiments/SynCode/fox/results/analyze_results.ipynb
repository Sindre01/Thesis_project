{
 "cells": [
  {
   "cell_type": "code",
   "execution_count": 9,
   "metadata": {},
   "outputs": [
    {
     "name": "stdout",
     "output_type": "stream",
     "text": [
      "signature_similarity_10_shot\n",
      "               model_name              created_at eval_method                    syntax@1                    syntax@3                  semantic@1                  semantic@3                     tests@1                     tests@3\n",
      "llama3.2:3b-instruct-fp16 2025-04-08 06:04:58.295      3_fold {'mean': 0.61, 'std': 0.08} {'mean': 0.79, 'std': 0.09} {'mean': 0.45, 'std': 0.07} {'mean': 0.62, 'std': 0.09} {'mean': 0.27, 'std': 0.02} {'mean': 0.41, 'std': 0.04}\n",
      "...\n",
      "Total documents/rows: 1      \n",
      "--------------------------------------------------\n"
     ]
    }
   ],
   "source": [
    "import sys\n",
    "import os\n",
    "sys.path.append(\"../../../..\")\n",
    "os.environ['EXPERIMENT_DB_NAME'] = \"syncode_experiments\"\n",
    "from my_packages.db_service.results_service import pretty_print_results, results_to_df\n",
    "\n",
    "\n",
    "for shot in [10]:\n",
    "    experiment_name = f\"signature_similarity_{shot}_shot\"\n",
    "        \n",
    "    print(experiment_name)\n",
    "    # results_to_df(f\"{experiment_name}_5_shot\")\n",
    "\n",
    "    pretty_print_results(\n",
    "        experiment_name, \n",
    "        filter= {\"model_name\": {\"$in\": [\"llama3.2:3b-instruct-fp16\", \"phi4:14b-instruct-fp16\"]}},\n",
    "        exclude_columns=[\n",
    "            \"ks\", \"temperature\", \"top_p\", \"top_k\", \"metrics\", \"seed\",\n",
    "            \"syntax@10\",\n",
    "            \"semantic@10\",\n",
    "            \"tests@10\",\n",
    "            \"syntax@5\",\n",
    "            \"semantic@5\",\n",
    "            \"tests@5\",\n",
    "            \"syntax@2\",\n",
    "            \"semantic@2\",\n",
    "            \"tests@2\",\n",
    "        ]\n",
    "    )\n",
    "\n",
    "\n"
   ]
  }
 ],
 "metadata": {
  "kernelspec": {
   "display_name": ".venv_Master",
   "language": "python",
   "name": "python3"
  },
  "language_info": {
   "codemirror_mode": {
    "name": "ipython",
    "version": 3
   },
   "file_extension": ".py",
   "mimetype": "text/x-python",
   "name": "python",
   "nbconvert_exporter": "python",
   "pygments_lexer": "ipython3",
   "version": "3.11.0rc1"
  }
 },
 "nbformat": 4,
 "nbformat_minor": 2
}
