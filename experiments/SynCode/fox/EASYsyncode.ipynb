{
 "cells": [
  {
   "cell_type": "code",
   "execution_count": 2,
   "metadata": {},
   "outputs": [
    {
     "data": {
      "application/vnd.jupyter.widget-view+json": {
       "model_id": "cec0335c0d6f4870b4e934159675f905",
       "version_major": 2,
       "version_minor": 0
      },
      "text/plain": [
       "Loading checkpoint shards:   0%|          | 0/2 [00:00<?, ?it/s]"
      ]
     },
     "metadata": {},
     "output_type": "display_data"
    }
   ],
   "source": [
    "import os\n",
    "from syncode import Syncode\n",
    "# from syncode.infer import Syncode\n",
    "# Pass in a grammar as a string of rules in EBNF format\n",
    "grammar_file = os.path.abspath(os.path.join(os.getcwd(), '../../../data/midio_grammar.lark'))\n",
    "\n",
    "model_name = \"microsoft/phi-2\"\n",
    "model_kwargs = {\n",
    "    \"seed\": 42,\n",
    "    \"max_length\": 2000,\n",
    "    \"temperature\": 0.7,\n",
    "    \"top_k\": 50,\n",
    "    \"top_p\": 0.9\n",
    "}\n",
    "# Load the Syncode augmented model\n",
    "syn_llm = Syncode(\n",
    "    model=model_name, \n",
    "    grammar=grammar_file, \n",
    "    parse_output_only=True, \n",
    "    **model_kwargs\n",
    ")"
   ]
  },
  {
   "cell_type": "code",
   "execution_count": 3,
   "metadata": {},
   "outputs": [
    {
     "name": "stderr",
     "output_type": "stream",
     "text": [
      "/fp/homes01/u01/ec-sindrre/.local/lib/python3.11/site-packages/transformers/generation/configuration_utils.py:567: UserWarning: `do_sample` is set to `False`. However, `temperature` is set to `0.7` -- this flag is only used in sample-based generation modes. You should set `do_sample=True` or unset `temperature`.\n",
      "  warnings.warn(\n",
      "/fp/homes01/u01/ec-sindrre/.local/lib/python3.11/site-packages/transformers/generation/configuration_utils.py:572: UserWarning: `do_sample` is set to `False`. However, `top_p` is set to `0.9` -- this flag is only used in sample-based generation modes. You should set `do_sample=True` or unset `top_p`.\n",
      "  warnings.warn(\n",
      "The attention mask and the pad token id were not set. As a consequence, you may observe unexpected behavior. Please pass your input's `attention_mask` to obtain reliable results.\n",
      "Setting `pad_token_id` to `eos_token_id`:50256 for open-end generation.\n",
      "The attention mask is not set and cannot be inferred from input because pad token is same as eos token. As a consequence, you may observe unexpected behavior. Please pass your input's `attention_mask` to obtain reliable results.\n",
      "We detected that you are passing `past_key_values` as a tuple and this is deprecated and will be removed in v4.43. Please use an appropriate `Cache` class (https://huggingface.co/docs/transformers/v4.41.3/en/internal/generation_utils#transformers.Cache)\n"
     ]
    },
    {
     "name": "stdout",
     "output_type": "stream",
     "text": [
      "Syncode augmented LLM output:\n",
      "    module() main {\n",
      "        func(doc: \"finds whether a number is divisible by 11.\") is_diff {\n",
      "            in(x: 5, y: -25, name: \"n\") property(Number) n_27f29c\n",
      "\n",
      "            out(x: 668, y: 2, name: \"output\") property(Bool) output_f2630f\n",
      "\n",
      "            data_instance(x: 0, y: 64) data_1e2ff2  = 11\n",
      "            instance(x: 190, y: 0) modulo_629f32 root.Std_k98ojb.Math.Modulo {}\n",
      "            instance(x: 408, y: -4) expression_a794a5 root.Std_k98ojb.Math.Expression {\n",
      "                expression: \"n == 0\"\n",
      "            }\n",
      "            data_1e2ff2 -> modulo_\n"
     ]
    }
   ],
   "source": [
    "input = \"\"\"\n",
    "Here is a simple example of a midio function:\n",
    "import(\"std\", Std_k98ojb)\n",
    "import(\"http\", Http_q7o96c)\n",
    "\n",
    "module() main {\n",
    "    func(doc: \"finds whether a number is divisible by 11.\") is_diff {\n",
    "        in(x: 5, y: -25, name: \"n\") property(Number) n_27f29c\n",
    "\n",
    "        out(x: 668, y: 2, name: \"output\") property(Bool) output_f2630f\n",
    "\n",
    "        data_instance(x: 0, y: 64) data_1e2ff2  = 11\n",
    "        instance(x: 190, y: 0) modulo_629f32 root.Std_k98ojb.Math.Modulo {}\n",
    "        instance(x: 408, y: -4) expression_a794a5 root.Std_k98ojb.Math.Expression {\n",
    "            expression: \"n == 0\"\n",
    "        }\n",
    "        data_1e2ff2 -> modulo_629f32.divisor\n",
    "        n_27f29c -> modulo_629f32.value\n",
    "        modulo_629f32.result -> expression_a794a5.gen_0\n",
    "        expression_a794a5.result -> output_f2630f\n",
    "    }\n",
    "    \n",
    "\n",
    "    instance(x: 98, y: -87) is_diff_586588 root.main.is_diff {}\n",
    "\n",
    "}\n",
    "\n",
    "Create another simple Midio function.\n",
    "\n",
    "\"\"\"\n",
    "\n",
    "output = syn_llm.infer(input, stop_words=None)[0]\n",
    "print(f\"Syncode augmented LLM output:\\n{output}\")"
   ]
  }
 ],
 "metadata": {
  "kernelspec": {
   "display_name": ".venv_Master",
   "language": "python",
   "name": "python3"
  },
  "language_info": {
   "codemirror_mode": {
    "name": "ipython",
    "version": 3
   },
   "file_extension": ".py",
   "mimetype": "text/x-python",
   "name": "python",
   "nbconvert_exporter": "python",
   "pygments_lexer": "ipython3",
   "version": "3.11.5"
  }
 },
 "nbformat": 4,
 "nbformat_minor": 4
}
