{
 "cells": [
  {
   "cell_type": "code",
   "execution_count": 1,
   "metadata": {},
   "outputs": [
    {
     "name": "stdout",
     "output_type": "stream",
     "text": [
      "Defaulting to user installation because normal site-packages is not writeable\n",
      "Requirement already satisfied: syncode in /fp/homes01/u01/ec-sindrre/.local/lib/python3.11/site-packages (0.4.9)\n",
      "Requirement already satisfied: fire in /fp/homes01/u01/ec-sindrre/.local/lib/python3.11/site-packages (from syncode) (0.7.0)\n",
      "Requirement already satisfied: interegular in /fp/homes01/u01/ec-sindrre/.local/lib/python3.11/site-packages (from syncode) (0.3.3)\n",
      "Collecting regex==2023.8.8 (from syncode)\n",
      "  Using cached regex-2023.8.8-cp311-cp311-manylinux_2_17_x86_64.manylinux2014_x86_64.whl.metadata (40 kB)\n",
      "Requirement already satisfied: torch in /fp/homes01/u01/ec-sindrre/.local/lib/python3.11/site-packages (from syncode) (2.5.1)\n",
      "Requirement already satisfied: tqdm in /fp/homes01/u01/ec-sindrre/.local/lib/python3.11/site-packages (from syncode) (4.67.1)\n",
      "Requirement already satisfied: transformers==4.44.0 in /fp/homes01/u01/ec-sindrre/.local/lib/python3.11/site-packages (from syncode) (4.44.0)\n",
      "Requirement already satisfied: datasets in /fp/homes01/u01/ec-sindrre/.local/lib/python3.11/site-packages (from syncode) (3.3.2)\n",
      "Requirement already satisfied: jsonschema in /cluster/software/EL9/easybuild/software/jupyter-server/2.14.0-GCCcore-13.2.0/lib/python3.11/site-packages (from syncode) (4.22.0)\n",
      "Requirement already satisfied: filelock in /cluster/software/EL9/easybuild/software/Python-bundle-PyPI/2023.10-GCCcore-13.2.0/lib/python3.11/site-packages (from transformers==4.44.0->syncode) (3.13.0)\n",
      "Requirement already satisfied: huggingface-hub<1.0,>=0.23.2 in /fp/homes01/u01/ec-sindrre/.local/lib/python3.11/site-packages (from transformers==4.44.0->syncode) (0.26.5)\n",
      "Requirement already satisfied: numpy>=1.17 in /fp/homes01/u01/ec-sindrre/.local/lib/python3.11/site-packages (from transformers==4.44.0->syncode) (2.2.0)\n",
      "Requirement already satisfied: packaging>=20.0 in /cluster/software/EL9/easybuild/software/Python-bundle-PyPI/2023.10-GCCcore-13.2.0/lib/python3.11/site-packages (from transformers==4.44.0->syncode) (23.2)\n",
      "Requirement already satisfied: pyyaml>=5.1 in /cluster/software/EL9/easybuild/software/PyYAML/6.0.1-GCCcore-13.2.0/lib/python3.11/site-packages (from transformers==4.44.0->syncode) (6.0.1)\n",
      "Requirement already satisfied: requests in /cluster/software/EL9/easybuild/software/Python-bundle-PyPI/2023.10-GCCcore-13.2.0/lib/python3.11/site-packages (from transformers==4.44.0->syncode) (2.31.0)\n",
      "Requirement already satisfied: safetensors>=0.4.1 in /fp/homes01/u01/ec-sindrre/.local/lib/python3.11/site-packages (from transformers==4.44.0->syncode) (0.4.5)\n",
      "Requirement already satisfied: tokenizers<0.20,>=0.19 in /fp/homes01/u01/ec-sindrre/.local/lib/python3.11/site-packages (from transformers==4.44.0->syncode) (0.19.1)\n",
      "Requirement already satisfied: pyarrow>=15.0.0 in /fp/homes01/u01/ec-sindrre/.local/lib/python3.11/site-packages (from datasets->syncode) (19.0.1)\n",
      "Requirement already satisfied: dill<0.3.9,>=0.3.0 in /fp/homes01/u01/ec-sindrre/.local/lib/python3.11/site-packages (from datasets->syncode) (0.3.8)\n",
      "Requirement already satisfied: pandas in /fp/homes01/u01/ec-sindrre/.local/lib/python3.11/site-packages (from datasets->syncode) (2.2.3)\n",
      "Collecting requests (from transformers==4.44.0->syncode)\n",
      "  Using cached requests-2.32.3-py3-none-any.whl.metadata (4.6 kB)\n",
      "Requirement already satisfied: xxhash in /fp/homes01/u01/ec-sindrre/.local/lib/python3.11/site-packages (from datasets->syncode) (3.5.0)\n",
      "Requirement already satisfied: multiprocess<0.70.17 in /fp/homes01/u01/ec-sindrre/.local/lib/python3.11/site-packages (from datasets->syncode) (0.70.16)\n",
      "Requirement already satisfied: fsspec<=2024.12.0,>=2023.1.0 in /cluster/software/EL9/easybuild/software/Python-bundle-PyPI/2023.10-GCCcore-13.2.0/lib/python3.11/site-packages (from fsspec[http]<=2024.12.0,>=2023.1.0->datasets->syncode) (2023.10.0)\n",
      "Requirement already satisfied: aiohttp in /fp/homes01/u01/ec-sindrre/.local/lib/python3.11/site-packages (from datasets->syncode) (3.11.13)\n",
      "Requirement already satisfied: termcolor in /fp/homes01/u01/ec-sindrre/.local/lib/python3.11/site-packages (from fire->syncode) (2.5.0)\n",
      "Requirement already satisfied: attrs>=22.2.0 in /cluster/software/EL9/easybuild/software/Python-bundle-PyPI/2023.10-GCCcore-13.2.0/lib/python3.11/site-packages (from jsonschema->syncode) (23.1.0)\n",
      "Requirement already satisfied: jsonschema-specifications>=2023.03.6 in /cluster/software/EL9/easybuild/software/jupyter-server/2.14.0-GCCcore-13.2.0/lib/python3.11/site-packages (from jsonschema->syncode) (2023.12.1)\n",
      "Requirement already satisfied: referencing>=0.28.4 in /cluster/software/EL9/easybuild/software/jupyter-server/2.14.0-GCCcore-13.2.0/lib/python3.11/site-packages (from jsonschema->syncode) (0.35.1)\n",
      "Requirement already satisfied: rpds-py>=0.7.1 in /cluster/software/EL9/easybuild/software/jupyter-server/2.14.0-GCCcore-13.2.0/lib/python3.11/site-packages (from jsonschema->syncode) (0.18.1)\n",
      "Requirement already satisfied: typing-extensions>=4.8.0 in /cluster/software/EL9/easybuild/software/Python/3.11.5-GCCcore-13.2.0/lib/python3.11/site-packages (from torch->syncode) (4.8.0)\n",
      "Requirement already satisfied: networkx in /fp/homes01/u01/ec-sindrre/.local/lib/python3.11/site-packages (from torch->syncode) (3.4.2)\n",
      "Requirement already satisfied: jinja2 in /cluster/software/EL9/easybuild/software/Python-bundle-PyPI/2023.10-GCCcore-13.2.0/lib/python3.11/site-packages (from torch->syncode) (3.1.2)\n",
      "Requirement already satisfied: nvidia-cuda-nvrtc-cu12==12.4.127 in /fp/homes01/u01/ec-sindrre/.local/lib/python3.11/site-packages (from torch->syncode) (12.4.127)\n",
      "Requirement already satisfied: nvidia-cuda-runtime-cu12==12.4.127 in /fp/homes01/u01/ec-sindrre/.local/lib/python3.11/site-packages (from torch->syncode) (12.4.127)\n",
      "Requirement already satisfied: nvidia-cuda-cupti-cu12==12.4.127 in /fp/homes01/u01/ec-sindrre/.local/lib/python3.11/site-packages (from torch->syncode) (12.4.127)\n",
      "Requirement already satisfied: nvidia-cudnn-cu12==9.1.0.70 in /fp/homes01/u01/ec-sindrre/.local/lib/python3.11/site-packages (from torch->syncode) (9.1.0.70)\n",
      "Requirement already satisfied: nvidia-cublas-cu12==12.4.5.8 in /fp/homes01/u01/ec-sindrre/.local/lib/python3.11/site-packages (from torch->syncode) (12.4.5.8)\n",
      "Requirement already satisfied: nvidia-cufft-cu12==11.2.1.3 in /fp/homes01/u01/ec-sindrre/.local/lib/python3.11/site-packages (from torch->syncode) (11.2.1.3)\n",
      "Requirement already satisfied: nvidia-curand-cu12==10.3.5.147 in /fp/homes01/u01/ec-sindrre/.local/lib/python3.11/site-packages (from torch->syncode) (10.3.5.147)\n",
      "Requirement already satisfied: nvidia-cusolver-cu12==11.6.1.9 in /fp/homes01/u01/ec-sindrre/.local/lib/python3.11/site-packages (from torch->syncode) (11.6.1.9)\n",
      "Requirement already satisfied: nvidia-cusparse-cu12==12.3.1.170 in /fp/homes01/u01/ec-sindrre/.local/lib/python3.11/site-packages (from torch->syncode) (12.3.1.170)\n",
      "Requirement already satisfied: nvidia-nccl-cu12==2.21.5 in /fp/homes01/u01/ec-sindrre/.local/lib/python3.11/site-packages (from torch->syncode) (2.21.5)\n",
      "Requirement already satisfied: nvidia-nvtx-cu12==12.4.127 in /fp/homes01/u01/ec-sindrre/.local/lib/python3.11/site-packages (from torch->syncode) (12.4.127)\n",
      "Requirement already satisfied: nvidia-nvjitlink-cu12==12.4.127 in /fp/homes01/u01/ec-sindrre/.local/lib/python3.11/site-packages (from torch->syncode) (12.4.127)\n",
      "Requirement already satisfied: triton==3.1.0 in /fp/homes01/u01/ec-sindrre/.local/lib/python3.11/site-packages (from torch->syncode) (3.1.0)\n",
      "Requirement already satisfied: sympy==1.13.1 in /fp/homes01/u01/ec-sindrre/.local/lib/python3.11/site-packages (from torch->syncode) (1.13.1)\n",
      "Requirement already satisfied: mpmath<1.4,>=1.1.0 in /fp/homes01/u01/ec-sindrre/.local/lib/python3.11/site-packages (from sympy==1.13.1->torch->syncode) (1.3.0)\n",
      "Requirement already satisfied: aiohappyeyeballs>=2.3.0 in /fp/homes01/u01/ec-sindrre/.local/lib/python3.11/site-packages (from aiohttp->datasets->syncode) (2.4.8)\n",
      "Requirement already satisfied: aiosignal>=1.1.2 in /fp/homes01/u01/ec-sindrre/.local/lib/python3.11/site-packages (from aiohttp->datasets->syncode) (1.3.2)\n",
      "Requirement already satisfied: frozenlist>=1.1.1 in /fp/homes01/u01/ec-sindrre/.local/lib/python3.11/site-packages (from aiohttp->datasets->syncode) (1.5.0)\n",
      "Requirement already satisfied: multidict<7.0,>=4.5 in /fp/homes01/u01/ec-sindrre/.local/lib/python3.11/site-packages (from aiohttp->datasets->syncode) (6.1.0)\n",
      "Requirement already satisfied: propcache>=0.2.0 in /fp/homes01/u01/ec-sindrre/.local/lib/python3.11/site-packages (from aiohttp->datasets->syncode) (0.3.0)\n",
      "Requirement already satisfied: yarl<2.0,>=1.17.0 in /fp/homes01/u01/ec-sindrre/.local/lib/python3.11/site-packages (from aiohttp->datasets->syncode) (1.18.3)\n",
      "Requirement already satisfied: charset-normalizer<4,>=2 in /cluster/software/EL9/easybuild/software/Python-bundle-PyPI/2023.10-GCCcore-13.2.0/lib/python3.11/site-packages (from requests->transformers==4.44.0->syncode) (3.3.1)\n",
      "Requirement already satisfied: idna<4,>=2.5 in /cluster/software/EL9/easybuild/software/Python-bundle-PyPI/2023.10-GCCcore-13.2.0/lib/python3.11/site-packages (from requests->transformers==4.44.0->syncode) (3.4)\n",
      "Requirement already satisfied: urllib3<3,>=1.21.1 in /cluster/software/EL9/easybuild/software/Python-bundle-PyPI/2023.10-GCCcore-13.2.0/lib/python3.11/site-packages (from requests->transformers==4.44.0->syncode) (2.0.7)\n",
      "Requirement already satisfied: certifi>=2017.4.17 in /cluster/software/EL9/easybuild/software/Python-bundle-PyPI/2023.10-GCCcore-13.2.0/lib/python3.11/site-packages (from requests->transformers==4.44.0->syncode) (2023.7.22)\n",
      "Requirement already satisfied: MarkupSafe>=2.0 in /cluster/software/EL9/easybuild/software/Python-bundle-PyPI/2023.10-GCCcore-13.2.0/lib/python3.11/site-packages (from jinja2->torch->syncode) (2.1.3)\n",
      "Requirement already satisfied: python-dateutil>=2.8.2 in /cluster/software/EL9/easybuild/software/Python-bundle-PyPI/2023.10-GCCcore-13.2.0/lib/python3.11/site-packages (from pandas->datasets->syncode) (2.8.2)\n",
      "Requirement already satisfied: pytz>=2020.1 in /cluster/software/EL9/easybuild/software/Python-bundle-PyPI/2023.10-GCCcore-13.2.0/lib/python3.11/site-packages (from pandas->datasets->syncode) (2023.3.post1)\n",
      "Requirement already satisfied: tzdata>=2022.7 in /fp/homes01/u01/ec-sindrre/.local/lib/python3.11/site-packages (from pandas->datasets->syncode) (2024.2)\n",
      "Requirement already satisfied: six>=1.5 in /cluster/software/EL9/easybuild/software/Python-bundle-PyPI/2023.10-GCCcore-13.2.0/lib/python3.11/site-packages (from python-dateutil>=2.8.2->pandas->datasets->syncode) (1.16.0)\n",
      "Using cached regex-2023.8.8-cp311-cp311-manylinux_2_17_x86_64.manylinux2014_x86_64.whl (782 kB)\n",
      "Using cached requests-2.32.3-py3-none-any.whl (64 kB)\n",
      "Installing collected packages: requests, regex\n",
      "Successfully installed regex-2023.8.8 requests-2.32.3\n",
      "\n",
      "\u001b[1m[\u001b[0m\u001b[34;49mnotice\u001b[0m\u001b[1;39;49m]\u001b[0m\u001b[39;49m A new release of pip is available: \u001b[0m\u001b[31;49m24.3.1\u001b[0m\u001b[39;49m -> \u001b[0m\u001b[32;49m25.0.1\u001b[0m\n",
      "\u001b[1m[\u001b[0m\u001b[34;49mnotice\u001b[0m\u001b[1;39;49m]\u001b[0m\u001b[39;49m To update, run: \u001b[0m\u001b[32;49mpip install --upgrade pip\u001b[0m\n",
      "Note: you may need to restart the kernel to use updated packages.\n"
     ]
    }
   ],
   "source": [
    "%pip install syncode"
   ]
  },
  {
   "cell_type": "code",
   "execution_count": 2,
   "metadata": {},
   "outputs": [
    {
     "data": {
      "application/vnd.jupyter.widget-view+json": {
       "model_id": "cec0335c0d6f4870b4e934159675f905",
       "version_major": 2,
       "version_minor": 0
      },
      "text/plain": [
       "Loading checkpoint shards:   0%|          | 0/2 [00:00<?, ?it/s]"
      ]
     },
     "metadata": {},
     "output_type": "display_data"
    }
   ],
   "source": [
    "import os\n",
    "from syncode import Syncode\n",
    "# from syncode.infer import Syncode\n",
    "# Pass in a grammar as a string of rules in EBNF format\n",
    "grammar_file = os.path.abspath(os.path.join(os.getcwd(), '../../../data/midio_grammar.lark'))\n",
    "\n",
    "model_name = \"microsoft/phi-2\"\n",
    "model_kwargs = {\n",
    "    \"seed\": 42,\n",
    "    \"max_length\": 2000,\n",
    "    \"temperature\": 0.7,\n",
    "    \"top_k\": 50,\n",
    "    \"top_p\": 0.9\n",
    "}\n",
    "# Load the Syncode augmented model\n",
    "syn_llm = Syncode(\n",
    "    model=model_name, \n",
    "    grammar=grammar_file, \n",
    "    parse_output_only=True, \n",
    "    **model_kwargs\n",
    ")"
   ]
  },
  {
   "cell_type": "code",
   "execution_count": 3,
   "metadata": {},
   "outputs": [
    {
     "name": "stderr",
     "output_type": "stream",
     "text": [
      "/fp/homes01/u01/ec-sindrre/.local/lib/python3.11/site-packages/transformers/generation/configuration_utils.py:567: UserWarning: `do_sample` is set to `False`. However, `temperature` is set to `0.7` -- this flag is only used in sample-based generation modes. You should set `do_sample=True` or unset `temperature`.\n",
      "  warnings.warn(\n",
      "/fp/homes01/u01/ec-sindrre/.local/lib/python3.11/site-packages/transformers/generation/configuration_utils.py:572: UserWarning: `do_sample` is set to `False`. However, `top_p` is set to `0.9` -- this flag is only used in sample-based generation modes. You should set `do_sample=True` or unset `top_p`.\n",
      "  warnings.warn(\n",
      "The attention mask and the pad token id were not set. As a consequence, you may observe unexpected behavior. Please pass your input's `attention_mask` to obtain reliable results.\n",
      "Setting `pad_token_id` to `eos_token_id`:50256 for open-end generation.\n",
      "The attention mask is not set and cannot be inferred from input because pad token is same as eos token. As a consequence, you may observe unexpected behavior. Please pass your input's `attention_mask` to obtain reliable results.\n",
      "We detected that you are passing `past_key_values` as a tuple and this is deprecated and will be removed in v4.43. Please use an appropriate `Cache` class (https://huggingface.co/docs/transformers/v4.41.3/en/internal/generation_utils#transformers.Cache)\n"
     ]
    },
    {
     "name": "stdout",
     "output_type": "stream",
     "text": [
      "Syncode augmented LLM output:\n",
      "    module() main {\n",
      "        func(doc: \"finds whether a number is divisible by 11.\") is_diff {\n",
      "            in(x: 5, y: -25, name: \"n\") property(Number) n_27f29c\n",
      "\n",
      "            out(x: 668, y: 2, name: \"output\") property(Bool) output_f2630f\n",
      "\n",
      "            data_instance(x: 0, y: 64) data_1e2ff2  = 11\n",
      "            instance(x: 190, y: 0) modulo_629f32 root.Std_k98ojb.Math.Modulo {}\n",
      "            instance(x: 408, y: -4) expression_a794a5 root.Std_k98ojb.Math.Expression {\n",
      "                expression: \"n == 0\"\n",
      "            }\n",
      "            data_1e2ff2 -> modulo_\n"
     ]
    }
   ],
   "source": [
    "input = \"\"\"\n",
    "Here is a simple example of a midio function:\n",
    "import(\"std\", Std_k98ojb)\n",
    "import(\"http\", Http_q7o96c)\n",
    "\n",
    "module() main {\n",
    "    func(doc: \"finds whether a number is divisible by 11.\") is_diff {\n",
    "        in(x: 5, y: -25, name: \"n\") property(Number) n_27f29c\n",
    "\n",
    "        out(x: 668, y: 2, name: \"output\") property(Bool) output_f2630f\n",
    "\n",
    "        data_instance(x: 0, y: 64) data_1e2ff2  = 11\n",
    "        instance(x: 190, y: 0) modulo_629f32 root.Std_k98ojb.Math.Modulo {}\n",
    "        instance(x: 408, y: -4) expression_a794a5 root.Std_k98ojb.Math.Expression {\n",
    "            expression: \"n == 0\"\n",
    "        }\n",
    "        data_1e2ff2 -> modulo_629f32.divisor\n",
    "        n_27f29c -> modulo_629f32.value\n",
    "        modulo_629f32.result -> expression_a794a5.gen_0\n",
    "        expression_a794a5.result -> output_f2630f\n",
    "    }\n",
    "    \n",
    "\n",
    "    instance(x: 98, y: -87) is_diff_586588 root.main.is_diff {}\n",
    "\n",
    "}\n",
    "\n",
    "Create another simple Midio function.\n",
    "\n",
    "\"\"\"\n",
    "\n",
    "output = syn_llm.infer(input, stop_words=None)[0]\n",
    "print(f\"Syncode augmented LLM output:\\n{output}\")"
   ]
  }
 ],
 "metadata": {
  "kernelspec": {
   "display_name": "Python 3 (ipykernel)",
   "language": "python",
   "name": "python3"
  },
  "language_info": {
   "codemirror_mode": {
    "name": "ipython",
    "version": 3
   },
   "file_extension": ".py",
   "mimetype": "text/x-python",
   "name": "python",
   "nbconvert_exporter": "python",
   "pygments_lexer": "ipython3",
   "version": "3.11.5"
  }
 },
 "nbformat": 4,
 "nbformat_minor": 4
}
