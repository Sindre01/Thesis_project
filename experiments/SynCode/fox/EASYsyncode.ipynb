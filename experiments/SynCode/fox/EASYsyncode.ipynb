{
 "cells": [
  {
   "cell_type": "code",
   "execution_count": 1,
   "metadata": {},
   "outputs": [
    {
     "name": "stdout",
     "output_type": "stream",
     "text": [
      "Defaulting to user installation because normal site-packages is not writeable\n",
      "Requirement already satisfied: syncode in /fp/homes01/u01/ec-sindrre/.local/lib/python3.11/site-packages (0.4.9)\n",
      "Requirement already satisfied: fire in /fp/homes01/u01/ec-sindrre/.local/lib/python3.11/site-packages (from syncode) (0.7.0)\n",
      "Requirement already satisfied: interegular in /fp/homes01/u01/ec-sindrre/.local/lib/python3.11/site-packages (from syncode) (0.3.3)\n",
      "Collecting regex==2023.8.8 (from syncode)\n",
      "  Using cached regex-2023.8.8-cp311-cp311-manylinux_2_17_x86_64.manylinux2014_x86_64.whl.metadata (40 kB)\n",
      "Requirement already satisfied: torch in /fp/homes01/u01/ec-sindrre/.local/lib/python3.11/site-packages (from syncode) (2.5.1)\n",
      "Requirement already satisfied: tqdm in /fp/homes01/u01/ec-sindrre/.local/lib/python3.11/site-packages (from syncode) (4.67.1)\n",
      "Requirement already satisfied: transformers==4.44.0 in /fp/homes01/u01/ec-sindrre/.local/lib/python3.11/site-packages (from syncode) (4.44.0)\n",
      "Requirement already satisfied: datasets in /fp/homes01/u01/ec-sindrre/.local/lib/python3.11/site-packages (from syncode) (3.3.2)\n",
      "Requirement already satisfied: jsonschema in /cluster/software/EL9/easybuild/software/jupyter-server/2.14.0-GCCcore-13.2.0/lib/python3.11/site-packages (from syncode) (4.22.0)\n",
      "Requirement already satisfied: filelock in /cluster/software/EL9/easybuild/software/Python-bundle-PyPI/2023.10-GCCcore-13.2.0/lib/python3.11/site-packages (from transformers==4.44.0->syncode) (3.13.0)\n",
      "Requirement already satisfied: huggingface-hub<1.0,>=0.23.2 in /fp/homes01/u01/ec-sindrre/.local/lib/python3.11/site-packages (from transformers==4.44.0->syncode) (0.26.5)\n",
      "Requirement already satisfied: numpy>=1.17 in /fp/homes01/u01/ec-sindrre/.local/lib/python3.11/site-packages (from transformers==4.44.0->syncode) (1.26.4)\n",
      "Requirement already satisfied: packaging>=20.0 in /cluster/software/EL9/easybuild/software/Python-bundle-PyPI/2023.10-GCCcore-13.2.0/lib/python3.11/site-packages (from transformers==4.44.0->syncode) (23.2)\n",
      "Requirement already satisfied: pyyaml>=5.1 in /cluster/software/EL9/easybuild/software/PyYAML/6.0.1-GCCcore-13.2.0/lib/python3.11/site-packages (from transformers==4.44.0->syncode) (6.0.1)\n",
      "Requirement already satisfied: requests in /cluster/software/EL9/easybuild/software/Python-bundle-PyPI/2023.10-GCCcore-13.2.0/lib/python3.11/site-packages (from transformers==4.44.0->syncode) (2.31.0)\n",
      "Requirement already satisfied: safetensors>=0.4.1 in /fp/homes01/u01/ec-sindrre/.local/lib/python3.11/site-packages (from transformers==4.44.0->syncode) (0.4.5)\n",
      "Requirement already satisfied: tokenizers<0.20,>=0.19 in /fp/homes01/u01/ec-sindrre/.local/lib/python3.11/site-packages (from transformers==4.44.0->syncode) (0.19.1)\n",
      "Requirement already satisfied: pyarrow>=15.0.0 in /fp/homes01/u01/ec-sindrre/.local/lib/python3.11/site-packages (from datasets->syncode) (19.0.1)\n",
      "Requirement already satisfied: dill<0.3.9,>=0.3.0 in /fp/homes01/u01/ec-sindrre/.local/lib/python3.11/site-packages (from datasets->syncode) (0.3.8)\n",
      "Requirement already satisfied: pandas in /fp/homes01/u01/ec-sindrre/.local/lib/python3.11/site-packages (from datasets->syncode) (2.2.3)\n",
      "Collecting requests (from transformers==4.44.0->syncode)\n",
      "  Using cached requests-2.32.3-py3-none-any.whl.metadata (4.6 kB)\n",
      "Requirement already satisfied: xxhash in /fp/homes01/u01/ec-sindrre/.local/lib/python3.11/site-packages (from datasets->syncode) (3.5.0)\n",
      "Requirement already satisfied: multiprocess<0.70.17 in /fp/homes01/u01/ec-sindrre/.local/lib/python3.11/site-packages (from datasets->syncode) (0.70.16)\n",
      "Requirement already satisfied: fsspec<=2024.12.0,>=2023.1.0 in /cluster/software/EL9/easybuild/software/Python-bundle-PyPI/2023.10-GCCcore-13.2.0/lib/python3.11/site-packages (from fsspec[http]<=2024.12.0,>=2023.1.0->datasets->syncode) (2023.10.0)\n",
      "Requirement already satisfied: aiohttp in /fp/homes01/u01/ec-sindrre/.local/lib/python3.11/site-packages (from datasets->syncode) (3.11.13)\n",
      "Requirement already satisfied: termcolor in /fp/homes01/u01/ec-sindrre/.local/lib/python3.11/site-packages (from fire->syncode) (2.5.0)\n",
      "Requirement already satisfied: attrs>=22.2.0 in /cluster/software/EL9/easybuild/software/Python-bundle-PyPI/2023.10-GCCcore-13.2.0/lib/python3.11/site-packages (from jsonschema->syncode) (23.1.0)\n",
      "Requirement already satisfied: jsonschema-specifications>=2023.03.6 in /cluster/software/EL9/easybuild/software/jupyter-server/2.14.0-GCCcore-13.2.0/lib/python3.11/site-packages (from jsonschema->syncode) (2023.12.1)\n",
      "Requirement already satisfied: referencing>=0.28.4 in /cluster/software/EL9/easybuild/software/jupyter-server/2.14.0-GCCcore-13.2.0/lib/python3.11/site-packages (from jsonschema->syncode) (0.35.1)\n",
      "Requirement already satisfied: rpds-py>=0.7.1 in /cluster/software/EL9/easybuild/software/jupyter-server/2.14.0-GCCcore-13.2.0/lib/python3.11/site-packages (from jsonschema->syncode) (0.18.1)\n",
      "Requirement already satisfied: typing-extensions>=4.8.0 in /fp/homes01/u01/ec-sindrre/.local/lib/python3.11/site-packages (from torch->syncode) (4.13.0)\n",
      "Requirement already satisfied: networkx in /fp/homes01/u01/ec-sindrre/.local/lib/python3.11/site-packages (from torch->syncode) (3.4.2)\n",
      "Requirement already satisfied: jinja2 in /cluster/software/EL9/easybuild/software/Python-bundle-PyPI/2023.10-GCCcore-13.2.0/lib/python3.11/site-packages (from torch->syncode) (3.1.2)\n",
      "Requirement already satisfied: nvidia-cuda-nvrtc-cu12==12.4.127 in /fp/homes01/u01/ec-sindrre/.local/lib/python3.11/site-packages (from torch->syncode) (12.4.127)\n",
      "Requirement already satisfied: nvidia-cuda-runtime-cu12==12.4.127 in /fp/homes01/u01/ec-sindrre/.local/lib/python3.11/site-packages (from torch->syncode) (12.4.127)\n",
      "Requirement already satisfied: nvidia-cuda-cupti-cu12==12.4.127 in /fp/homes01/u01/ec-sindrre/.local/lib/python3.11/site-packages (from torch->syncode) (12.4.127)\n",
      "Requirement already satisfied: nvidia-cudnn-cu12==9.1.0.70 in /fp/homes01/u01/ec-sindrre/.local/lib/python3.11/site-packages (from torch->syncode) (9.1.0.70)\n",
      "Requirement already satisfied: nvidia-cublas-cu12==12.4.5.8 in /fp/homes01/u01/ec-sindrre/.local/lib/python3.11/site-packages (from torch->syncode) (12.4.5.8)\n",
      "Requirement already satisfied: nvidia-cufft-cu12==11.2.1.3 in /fp/homes01/u01/ec-sindrre/.local/lib/python3.11/site-packages (from torch->syncode) (11.2.1.3)\n",
      "Requirement already satisfied: nvidia-curand-cu12==10.3.5.147 in /fp/homes01/u01/ec-sindrre/.local/lib/python3.11/site-packages (from torch->syncode) (10.3.5.147)\n",
      "Requirement already satisfied: nvidia-cusolver-cu12==11.6.1.9 in /fp/homes01/u01/ec-sindrre/.local/lib/python3.11/site-packages (from torch->syncode) (11.6.1.9)\n",
      "Requirement already satisfied: nvidia-cusparse-cu12==12.3.1.170 in /fp/homes01/u01/ec-sindrre/.local/lib/python3.11/site-packages (from torch->syncode) (12.3.1.170)\n",
      "Requirement already satisfied: nvidia-nccl-cu12==2.21.5 in /fp/homes01/u01/ec-sindrre/.local/lib/python3.11/site-packages (from torch->syncode) (2.21.5)\n",
      "Requirement already satisfied: nvidia-nvtx-cu12==12.4.127 in /fp/homes01/u01/ec-sindrre/.local/lib/python3.11/site-packages (from torch->syncode) (12.4.127)\n",
      "Requirement already satisfied: nvidia-nvjitlink-cu12==12.4.127 in /fp/homes01/u01/ec-sindrre/.local/lib/python3.11/site-packages (from torch->syncode) (12.4.127)\n",
      "Requirement already satisfied: triton==3.1.0 in /fp/homes01/u01/ec-sindrre/.local/lib/python3.11/site-packages (from torch->syncode) (3.1.0)\n",
      "Requirement already satisfied: sympy==1.13.1 in /fp/homes01/u01/ec-sindrre/.local/lib/python3.11/site-packages (from torch->syncode) (1.13.1)\n",
      "Requirement already satisfied: mpmath<1.4,>=1.1.0 in /fp/homes01/u01/ec-sindrre/.local/lib/python3.11/site-packages (from sympy==1.13.1->torch->syncode) (1.3.0)\n",
      "Requirement already satisfied: aiohappyeyeballs>=2.3.0 in /fp/homes01/u01/ec-sindrre/.local/lib/python3.11/site-packages (from aiohttp->datasets->syncode) (2.4.8)\n",
      "Requirement already satisfied: aiosignal>=1.1.2 in /fp/homes01/u01/ec-sindrre/.local/lib/python3.11/site-packages (from aiohttp->datasets->syncode) (1.3.2)\n",
      "Requirement already satisfied: frozenlist>=1.1.1 in /fp/homes01/u01/ec-sindrre/.local/lib/python3.11/site-packages (from aiohttp->datasets->syncode) (1.5.0)\n",
      "Requirement already satisfied: multidict<7.0,>=4.5 in /fp/homes01/u01/ec-sindrre/.local/lib/python3.11/site-packages (from aiohttp->datasets->syncode) (6.1.0)\n",
      "Requirement already satisfied: propcache>=0.2.0 in /fp/homes01/u01/ec-sindrre/.local/lib/python3.11/site-packages (from aiohttp->datasets->syncode) (0.3.0)\n",
      "Requirement already satisfied: yarl<2.0,>=1.17.0 in /fp/homes01/u01/ec-sindrre/.local/lib/python3.11/site-packages (from aiohttp->datasets->syncode) (1.18.3)\n",
      "Requirement already satisfied: charset-normalizer<4,>=2 in /cluster/software/EL9/easybuild/software/Python-bundle-PyPI/2023.10-GCCcore-13.2.0/lib/python3.11/site-packages (from requests->transformers==4.44.0->syncode) (3.3.1)\n",
      "Requirement already satisfied: idna<4,>=2.5 in /cluster/software/EL9/easybuild/software/Python-bundle-PyPI/2023.10-GCCcore-13.2.0/lib/python3.11/site-packages (from requests->transformers==4.44.0->syncode) (3.4)\n",
      "Requirement already satisfied: urllib3<3,>=1.21.1 in /cluster/software/EL9/easybuild/software/Python-bundle-PyPI/2023.10-GCCcore-13.2.0/lib/python3.11/site-packages (from requests->transformers==4.44.0->syncode) (2.0.7)\n",
      "Requirement already satisfied: certifi>=2017.4.17 in /cluster/software/EL9/easybuild/software/Python-bundle-PyPI/2023.10-GCCcore-13.2.0/lib/python3.11/site-packages (from requests->transformers==4.44.0->syncode) (2023.7.22)\n",
      "Requirement already satisfied: MarkupSafe>=2.0 in /cluster/software/EL9/easybuild/software/Python-bundle-PyPI/2023.10-GCCcore-13.2.0/lib/python3.11/site-packages (from jinja2->torch->syncode) (2.1.3)\n",
      "Requirement already satisfied: python-dateutil>=2.8.2 in /cluster/software/EL9/easybuild/software/Python-bundle-PyPI/2023.10-GCCcore-13.2.0/lib/python3.11/site-packages (from pandas->datasets->syncode) (2.8.2)\n",
      "Requirement already satisfied: pytz>=2020.1 in /cluster/software/EL9/easybuild/software/Python-bundle-PyPI/2023.10-GCCcore-13.2.0/lib/python3.11/site-packages (from pandas->datasets->syncode) (2023.3.post1)\n",
      "Requirement already satisfied: tzdata>=2022.7 in /fp/homes01/u01/ec-sindrre/.local/lib/python3.11/site-packages (from pandas->datasets->syncode) (2024.2)\n",
      "Requirement already satisfied: six>=1.5 in /cluster/software/EL9/easybuild/software/Python-bundle-PyPI/2023.10-GCCcore-13.2.0/lib/python3.11/site-packages (from python-dateutil>=2.8.2->pandas->datasets->syncode) (1.16.0)\n",
      "Using cached regex-2023.8.8-cp311-cp311-manylinux_2_17_x86_64.manylinux2014_x86_64.whl (782 kB)\n",
      "Using cached requests-2.32.3-py3-none-any.whl (64 kB)\n",
      "Installing collected packages: requests, regex\n",
      "Successfully installed regex-2023.8.8 requests-2.32.3\n",
      "\n",
      "\u001b[1m[\u001b[0m\u001b[34;49mnotice\u001b[0m\u001b[1;39;49m]\u001b[0m\u001b[39;49m A new release of pip is available: \u001b[0m\u001b[31;49m24.3.1\u001b[0m\u001b[39;49m -> \u001b[0m\u001b[32;49m25.0.1\u001b[0m\n",
      "\u001b[1m[\u001b[0m\u001b[34;49mnotice\u001b[0m\u001b[1;39;49m]\u001b[0m\u001b[39;49m To update, run: \u001b[0m\u001b[32;49mpip install --upgrade pip\u001b[0m\n",
      "Note: you may need to restart the kernel to use updated packages.\n"
     ]
    }
   ],
   "source": [
    "%pip install syncode"
   ]
  },
  {
   "cell_type": "code",
   "execution_count": 2,
   "metadata": {},
   "outputs": [],
   "source": [
    "input=\"\"\"\n",
    "System: You are a Midio code generator and are going to solve some programming tasks for the node-based programming language Midio. \n",
    "You will get prompted with a task and you will respond with the code that might be used to solve the given task.\n",
    "\n",
    "You must return the code inside a code block, in the following form:\n",
    "\n",
    "```midio\n",
    "\n",
    "    Midio code is placed here, without any comments.\n",
    "\n",
    "```\n",
    "Important that you generate only the code, so that it can be directly executed in a compiler.\n",
    "Only the external functions that is provided can be used. If you need to create a new function, that does something different than the external functions provided, you can do so by creating a new function in the code.\n",
    "\n",
    "Bellow is the some of the most used external functions:\n",
    "Function node name: Std.If\n",
    " Documentation: If `input` is true, the `then` trigger is executed, otherwise the `else` trigger is executed. `value` contains the value of `input`.\n",
    "\n",
    "Function node name: Std.IfExpression\n",
    " Documentation: IfExpression is a function that allows you to create a conditional expression using a simple expression language provided through the `expression` parameter. Example: `a > b ? a : b` creates two inputs, `a` and `b`. The expression is executed using the provided inputs, and the result is available on the `value` output.\n",
    "\n",
    "Function node name: Std.Count\n",
    " Documentation: Count can be used to make sure a loop in a flow only runs for a certain number of iteartions. The `reset` input trigger resets the count, and the `count` trigger is used to increment it.\n",
    "\n",
    "Function node name: Std.For\n",
    " Documentation: For is a loop construct that can be used to iterate over a list of items. The `trigger` input is used to start the loop, the `reset` input is used to reset the loop, and the `next` input is used to move to the next item in the list. The `items` input is used to provide the list of items to iterate over. The `on item` output trigger is used to signal that an item has been processed, the `done` output trigger is used to signal that the loop has finished, the `item` output property is used to provide the current item, and the `index` output property is used to provide the current index.\n",
    "\n",
    "Function node name: Strings.Replace\n",
    " Documentation: Returns the string `input` with all occurrences of `search` replaced with `replace`.\n",
    "\n",
    "Function node name: Strings.ToLower\n",
    " Documentation: Returns the string `input` with all characters converted to lowercase.\n",
    "\n",
    "Function node name: Strings.ToUpper\n",
    " Documentation: Returns the string `input` with all characters converted to uppercase.\n",
    "\n",
    "Function node name: Strings.IsNumeric\n",
    " Documentation: Returns true if `input` is a numeric string.\n",
    "\n",
    "Function node name: Strings.Characters\n",
    " Documentation: Returns a list of characters in `input`, though the output 'characters' list.\n",
    "\n",
    "Function node name: Strings.Contains\n",
    " Documentation: Returns true if `input` contains `contains` as a substring.\n",
    "\n",
    "Function node name: List.Empty\n",
    " Documentation: Creates an empty list\n",
    "\n",
    "Function node name: List.GetAt\n",
    " Documentation: Gets the item at `index` from `list`, returning Null if the index is out of bounds.\n",
    "\n",
    "Function node name: List.Add\n",
    " Documentation: Adds `item` to the `list` by creating a new list with the item added, available on the `listWithItem` output.\n",
    "\n",
    "Function node name: List.Remove\n",
    " Documentation: Removes the item at `index` from `list` by creating a new list with the item removed, available on the `listWithoutItem` output.\n",
    "\n",
    "Function node name: List.Length\n",
    " Documentation: Returns the number of items in `list`.\n",
    "\n",
    "Function node name: List.Contains\n",
    " Documentation: Returns true if `item` is contained in `list`.\n",
    "\n",
    "Function node name: List.Sort\n",
    " Documentation: Returns a sorted version of `list`\n",
    "\n",
    "Function node name: List.GenerateRange\n",
    " Documentation: A list containing number from `from` to `to`.\n",
    "\n",
    "Function node name: List.Max\n",
    " Documentation: Finds the largest item in a list of numbers\n",
    "\n",
    "Function node name: List.Min\n",
    " Documentation: Finds the smallest item in a list of numbers\n",
    "\n",
    "Function node name: List.Slice\n",
    " Documentation: Gets a slice of the list from `start` to, but not including, `end`. Gets the rest of the list if end == -1\n",
    "\n",
    "Function node name: List.Reversed\n",
    " Documentation: Reverses the order of the items in `list`\n",
    "\n",
    "Function node name: List.FirstItem\n",
    " Documentation: Returns the first item in 'list', through the `item` output.\n",
    "\n",
    "Function node name: List.LastItem\n",
    " Documentation: Returns the last item in 'list', through the `item` output.\n",
    "\n",
    "Function node name: List.IsEmpty\n",
    " Documentation: Returns true if `list` is empty, through the 'isEmpty' output\n",
    "\n",
    "Function node name: List.NotEmpty\n",
    " Documentation: Returns true if `list` is not empty, through the 'isEmpty' output\n",
    "\n",
    "Function node name: List.Flatten\n",
    " Documentation: Converts a list of lists into a flattened list.\n",
    "\n",
    "Function node name: List.Concat\n",
    " Documentation: Concatenates two lists\n",
    "\n",
    "Function node name: Query.Filter\n",
    " Documentation: Filters a list of items with the `where` expression is true. If the list items are objects, fields on the object can be accessed using the field names directly. If the values are primitives, like number of bool, the value can be accessed using the variable name 'it'.\n",
    "\n",
    "Function node name: Iteration.Map\n",
    " Documentation: Calls the given function instance (`handler`) once for each item in `items` returning a new list with the mapped values (`output_list`). Handle is expected to be a function which takes in at least one input (the item), and returns a single item, the mapped value. It can also take a second input, which is the index of the value, and a third value, an optional context value passed from the outside.\n",
    "\n",
    "Function node name: Iteration.Zip\n",
    " Documentation: Call the given function instance ('handler') on corresponding pairs of elements from 'left' and 'right' lists. The function applies 'handler(left[i], right[i])' for each index 'i', up to the length of the shorter list. The results are collected into the output property 'zipped'.\n",
    "\n",
    "Function node name: Iteration.Filter\n",
    " Documentation: Filters the input list 'items' using the provided 'handler' function, which is expected to return a boolean value. The filtered list is available on the 'output_list' output.\n",
    "\n",
    "Function node name: Iteration.Reduce\n",
    " Documentation: Reduces the list `item` using the provided reducer function, which is expected to accept 2-4 inputs, the first being the accumulated value, and the second the value being accumulated. A third optional input will contain the current index, while the fourth optional input will contain the context input.\n",
    "\n",
    "Function node name: Iteration.Find\n",
    " Documentation: Finds an item in the list `items` that satisfies the `predicate` function, and returns the item through the `item` output.\n",
    "\n",
    "Function node name: Math.Floor\n",
    " Documentation: Returns the largest integer less than or equal `input`\n",
    "\n",
    "Function node name: Math.Add\n",
    " Documentation: Adds `first` and `second` making the result avilable on the `result` output.\n",
    "\n",
    "Function node name: Math.Sub\n",
    " Documentation: Subtracts `first` and `second` making the result avilable on the `result` output.\n",
    "\n",
    "Function node name: Math.Mul\n",
    " Documentation: Multiplies `first` and `second` making the result avilable on the `result` output.\n",
    "\n",
    "Function node name: Math.Div\n",
    " Documentation: Divides `first` by `second` making the result avilable on the `result` output.\n",
    "\n",
    "Function node name: Math.GreaterThan\n",
    " Documentation: Checks if `left` is greater than `right`\n",
    "\n",
    "Function node name: Math.LessThanOrEqual\n",
    " Documentation: Checks if 'left' is les than or eqaul to the 'right'\n",
    "\n",
    "Function node name: Math.Expression\n",
    " Documentation: Creates a mathematical expression using a simple expression language provided through the `expression` parameter. Example: `a + b / 10` creates two inputs, `a` and `b`. The expression is executed using the provided inputs, and the result is available on the `result` output.\n",
    "\n",
    "Function node name: Math.Pow\n",
    " Documentation: Returns `x` raised to the power of `y`.\n",
    "\n",
    "Function node name: Math.Modulo\n",
    " Documentation: Calculates the modulo of `value` and `divisor`, and returns the modulo through the `result` output.\n",
    "\n",
    "Function node name: Math.Min\n",
    " Documentation: Returns the smallest of the input numbers.\n",
    "\n",
    "Function node name: Logic.Equal\n",
    " Documentation: Checks if `left` and `right` are equal by performing a deep scan of the objects.\n",
    "\n",
    "Function node name: Logic.NotEqual\n",
    " Documentation: Checks if `left` and `right` are not equal by performing a deep scan of the objects.\n",
    "\n",
    "Function node name: Logic.Not\n",
    " Documentation: The logic not operator\n",
    "\n",
    "Function node name: Logic.And\n",
    " Documentation: The logic and operator\n",
    "\n",
    "Function node name: Sets.Intersection\n",
    " Documentation: Returns the intersection of the two input lists, `left` and `right`, through the `intersect` output.\n",
    "\n",
    "Function node name: Sets.Difference\n",
    " Documentation: Returns the difference of the two input lists, `left` and `right`, through the `difference` output.\n",
    "\n",
    "\n",
    "\n",
    "Human: Generate the code that might be used to solve the given task.\n",
    "You must return the code inside a code block, in the following form:\n",
    "\n",
    "```midio\n",
    "\n",
    "    Midio code is placed here, without any comments.\n",
    "\n",
    "```\n",
    "Here is your task:\n",
    "\"Create a function to check whether the given number is even or not.\"\n",
    "\n",
    "The created Midio function should adhere to this signature:\n",
    "```midio\n",
    "\n",
    "    \"func(doc: \"checks whether the given number is even or not.\") is_Even {\n",
    "\tin(x: -389, y: -3, name: \"num\") property(Number) num_1a1743\n",
    "\tout(x: 197, y: -8, name: \"output\") property(Bool) output_4ff980\n",
    "}\"\n",
    "\n",
    "```\n",
    "\n",
    "\n",
    "\n",
    "\n",
    "AI: ```midio\n",
    "\n",
    "    import(\"std\", Std_k98ojb)\n",
    "import(\"http\", Http_q7o96c)\n",
    "\n",
    "module() main { \n",
    "    func(doc: \"checks whether the given number is even or not.\") is_Even {\n",
    "        in(x: -389, y: -3, name: \"num\") property(Number) num_1a1743\n",
    "\n",
    "        out(x: 197, y: -8, name: \"output\") property(Bool) output_4ff980\n",
    "\n",
    "        instance(x: -203, y: -7,) modulo_0e15bd root.Std_k98ojb.Math.Modulo {}\n",
    "        instance(x: -2, y: -7,) equal_f3c0cb root.Std_k98ojb.Logic.Equal {}\n",
    "        num_1a1743 -> modulo_0e15bd.value\n",
    "        2 -> modulo_0e15bd.divisor\n",
    "        modulo_0e15bd.result -> equal_f3c0cb.left\n",
    "        0 -> equal_f3c0cb.right\n",
    "        equal_f3c0cb.result -> output_4ff980\n",
    "    }\n",
    "\n",
    "    \n",
    "\n",
    "    instance(x: 80, y: 103) is_even_db84c5 root.main.is_Even {}\n",
    "\n",
    "}\n",
    "\n",
    "```\n",
    "Human: Generate the code that might be used to solve the given task.\n",
    "You must return the code inside a code block, in the following form:\n",
    "\n",
    "```midio\n",
    "\n",
    "    Midio code is placed here, without any comments.\n",
    "\n",
    "```\n",
    "Here is your task:\n",
    "\"Create a function to check whether the given number is a perfect square or not.\"\n",
    "\n",
    "The created Midio function should adhere to this signature:\n",
    "```midio\n",
    "\n",
    "    \"func(doc: \"checks whether the given number is a perfect square or not.\") is_perfect_square {\n",
    "\tin(x: 354, y: -53, name: \"input\") property(Number) input_f5c03d\n",
    "\tin(x: 161, y: -211, name: \"execute\") trigger() execute_27b8c3\n",
    "\tout(x: 1748, y: -10, name: \"out\") property(Bool) out_f3db9f\n",
    "\tout(x: 1894, y: 120, name: \"continue\") trigger() continue_8ba06b\n",
    "}\"\n",
    "\n",
    "```\n",
    "\n",
    "\n",
    "\n",
    "\n",
    "AI: ```midio\n",
    "\n",
    "    import(\"std\", Std_k98ojb)\n",
    "import(\"http\", Http_q7o96c)\n",
    "\n",
    "module() main {\n",
    "    func(doc: \"checks whether the given number is a perfect square or not.\") is_perfect_square {\n",
    "        in(x: 354, y: -53, name: \"input\") property(Number) input_f5c03d\n",
    "        in(x: 161, y: -211, name: \"execute\") trigger() execute_27b8c3\n",
    "\n",
    "        out(x: 1748, y: -10, name: \"out\") property(Bool) out_f3db9f\n",
    "        out(x: 1894, y: 120, name: \"continue\") trigger() continue_8ba06b\n",
    "\n",
    "        instance(x: 352, y: -493) map_6030c9 root.Std_k98ojb.Iteration.Map {}\n",
    "        instance(x: 591, y: 74) generaterange_038fce root.Std_k98ojb.List.GenerateRange {}\n",
    "        instance(x: 933, y: 25) lessthanorequal_f11fda root.Std_k98ojb.Math.LessThanOrEqual {}\n",
    "        instance(x: 714, y: -155) for_8cb3f6 root.Std_k98ojb.Std.For {}\n",
    "        instance(x: 1812, y: -319) and_80a119 root.Std_k98ojb.Logic.And {}\n",
    "        instance(x: 1121, y: -54) if_07b8c7 root.Std_k98ojb.Std.If {}\n",
    "        instance(x: 1504, y: -400) expression_b720d7 root.Std_k98ojb.Math.Expression {\n",
    "            expression: \"(n % i == 0)\"\n",
    "        }\n",
    "        instance(x: 1496, y: -187) expression_9fba8c root.Std_k98ojb.Math.Expression {\n",
    "            expression: \"(n / i == i)\"\n",
    "        }\n",
    "        instance(x: 2136, y: -356) if_e19a62 root.Std_k98ojb.Std.If {}\n",
    "        instance(x: 1088, y: -256) add_b4554f root.Std_k98ojb.Math.Add {}\n",
    "        1 -> generaterange_038fce.from\n",
    "        input_f5c03d -> generaterange_038fce.to\n",
    "        generaterange_038fce.list -> map_6030c9.items\n",
    "        func() {\n",
    "            in(x: -76, y: 46, name: \"element\") property(Number) element_5f51f7\n",
    "\n",
    "            out(x: 382, y: 19, name: \"out\") property(Number) out_d0fd24\n",
    "\n",
    "            instance(x: 106, y: 17) mul_2f9d09 root.Std_k98ojb.Math.Mul {}\n",
    "            element_5f51f7 -> mul_2f9d09.first\n",
    "            element_5f51f7 -> mul_2f9d09.second\n",
    "            mul_2f9d09.result -> out_d0fd24\n",
    "        } -> map_6030c9.handler\n",
    "        map_6030c9.output_list -> for_8cb3f6.items\n",
    "        for_8cb3f6.item -> lessthanorequal_f11fda.left\n",
    "        input_f5c03d -> lessthanorequal_f11fda.right\n",
    "        lessthanorequal_f11fda.result -> if_07b8c7.predicate\n",
    "        for_8cb3f6.onItem -> if_07b8c7.execute\n",
    "        if_07b8c7.else -> continue_8ba06b\n",
    "        expression_b720d7.result -> and_80a119.left\n",
    "        expression_9fba8c.result -> and_80a119.right\n",
    "        and_80a119.result -> if_e19a62.predicate\n",
    "        if_07b8c7.then -> if_e19a62.execute\n",
    "        for_8cb3f6.index -> add_b4554f.first\n",
    "        1 -> add_b4554f.second\n",
    "        add_b4554f.result -> expression_b720d7.gen_1\n",
    "        add_b4554f.result -> expression_9fba8c.gen_1\n",
    "        input_f5c03d -> expression_9fba8c.gen_0\n",
    "        input_f5c03d -> expression_b720d7.gen_0\n",
    "        if_07b8c7.value -> out_f3db9f\n",
    "        if_e19a62.then -> continue_8ba06b\n",
    "        for_8cb3f6.done -> continue_8ba06b\n",
    "        execute_27b8c3 -> for_8cb3f6.reset\n",
    "        if_e19a62.else -> for_8cb3f6.next\n",
    "    }\n",
    "\n",
    "    \n",
    "\n",
    "    instance(x: -189, y: 222) is_perfect_square_f0be66 root.main.is_perfect_square {}\n",
    "}\n",
    "\n",
    "```\n",
    "Human: Generate the code that might be used to solve the given task.\n",
    "You must return the code inside a code block, in the following form:\n",
    "\n",
    "```midio\n",
    "\n",
    "    Midio code is placed here, without any comments.\n",
    "\n",
    "```\n",
    "Here is your task:\n",
    "\"Create a function to find the difference between largest and smallest value in a given list.\"\n",
    "\n",
    "The created Midio function should adhere to this signature:\n",
    "```midio\n",
    "\n",
    "    \"func(doc: \"finds the difference between largest and smallest value in a given list.\") big_diff {\n",
    "\tin(x: -266, y: 82, name: \"list\") property(List) list_9abc1d\n",
    "\tout(x: 533, y: 70, name: \"difference\") property(Number) difference_27806e\n",
    "}\"\n",
    "\n",
    "```\n",
    "\n",
    "\n",
    "\n",
    "\n",
    "AI: ```midio\n",
    "\n",
    "    import(\"std\", Std_k98ojb)\n",
    "import(\"http\", Http_q7o96c)\n",
    "\n",
    "module() main { \n",
    "    func(doc: \"finds the difference between largest and smallest value in a given list.\") big_diff {\n",
    "        in(x: -266, y: 82, name: \"list\") property(List) list_9abc1d\n",
    "\n",
    "        out(x: 533, y: 70, name: \"difference\") property(Number) difference_27806e\n",
    "\n",
    "        instance(x: 15, y: 7) max_891a25 root.Std_k98ojb.List.Max {}\n",
    "        instance(x: 18, y: 149) min_89fe87 root.Std_k98ojb.List.Min {}\n",
    "        instance(x: 285, y: 69) sub_a433f3 root.Std_k98ojb.Math.Sub {}\n",
    "        list_9abc1d -> max_891a25.items\n",
    "        list_9abc1d -> min_89fe87.items\n",
    "        max_891a25.max -> sub_a433f3.first\n",
    "        min_89fe87.min -> sub_a433f3.second\n",
    "        sub_a433f3.result -> difference_27806e\n",
    "    }\n",
    "\n",
    "    \n",
    "\n",
    "    instance(x: -121, y: 41) big_diff_1dfbf1 root.main.big_diff {}\n",
    "}\n",
    "\n",
    "```\n",
    "Human: Generate the code that might be used to solve the given task.\n",
    "You must return the code inside a code block, in the following form:\n",
    "\n",
    "```midio\n",
    "\n",
    "    Midio code is placed here, without any comments.\n",
    "\n",
    "```\n",
    "Here is your task:\n",
    "\"Create a function to find the kth element in the given array using 1-based indexing.\"\n",
    "\n",
    "The created Midio function should adhere to this signature:\n",
    "```midio\n",
    "\n",
    "    \"func(doc: \"finds the kth element in the given array using 1-based indexing.\") kth_element {\n",
    "\tin(x: -286, y: -119, name: \"execute\") trigger() execute_1e159f\n",
    "\tin(x: 153, y: 446, name: \"list\") property(List) list_b5d10a\n",
    "\tin(x: -289, y: 126, name: \"k\") property(Number) k_1e19fb\n",
    "\tout(x: 844, y: 53, name: \"continue\") trigger() continue_c95bcb\n",
    "\tout(x: 692, y: 553, name: \"element\") property(Number) element_fd7945\n",
    "}\"\n",
    "\n",
    "```\n",
    "\n",
    "\n",
    "\n",
    "\n",
    "AI: ```midio\n",
    "\n",
    "    import(\"std\", Std_k98ojb)\n",
    "import(\"http\", Http_q7o96c)\n",
    "\n",
    "module() main { \n",
    "    func(doc: \"finds the kth element in the given array using 1-based indexing.\") kth_element {\n",
    "        in(x: -286, y: -119, name: \"execute\") trigger() execute_1e159f\n",
    "        in(x: 153, y: 446, name: \"list\") property(List) list_b5d10a\n",
    "        in(x: -289, y: 126, name: \"k\") property(Number) k_1e19fb\n",
    "\n",
    "        out(x: 844, y: 53, name: \"continue\") trigger() continue_c95bcb\n",
    "        out(x: 692, y: 553, name: \"element\") property(Number) element_fd7945\n",
    "\n",
    "        instance(x: 406, y: 546) getat_8eae56 root.Std_k98ojb.List.GetAt {}\n",
    "        instance(x: 215, y: 100) ifexpression_a2fa90 root.Std_k98ojb.Std.IfExpression {\n",
    "            expression: \"a == 0\"\n",
    "        }\n",
    "        instance(x: 196, y: 256) sub_9ff257 root.Std_k98ojb.Math.Sub {}\n",
    "        setter(x: -37, y: -48, name: \"setter_d09207\") setter_d09207 = local_k\n",
    "        getter(x: -130, y: 211, name: \"getter_7f13b7\") getter_7f13b7 = local_k\n",
    "        getter(x: 118, y: 540, name: \"getter_44a047\") getter_44a047 = local_k\n",
    "        setter(x: 491, y: 194, name: \"setter_29a5c8\") setter_29a5c8 = local_k\n",
    "        list_b5d10a -> getat_8eae56.list\n",
    "        1 -> sub_9ff257.second\n",
    "        execute_1e159f -> setter_d09207.execute\n",
    "        k_1e19fb -> setter_d09207.new_value\n",
    "        setter_d09207.continue -> ifexpression_a2fa90.execute\n",
    "        getter_7f13b7.value -> sub_9ff257.first\n",
    "        ifexpression_a2fa90.then -> continue_c95bcb\n",
    "        getter_44a047.value -> getat_8eae56.index\n",
    "        getat_8eae56.itemAtIndex -> element_fd7945\n",
    "        ifexpression_a2fa90.else -> setter_29a5c8.execute\n",
    "        sub_9ff257.result -> setter_29a5c8.new_value\n",
    "        k_1e19fb -> ifexpression_a2fa90.gen_0\n",
    "        setter_29a5c8.continue -> continue_c95bcb\n",
    "    }\n",
    "\n",
    "    \n",
    "\n",
    "    instance(x: -97, y: -68) kth_element_49c6ac root.main.kth_element {}\n",
    "}\n",
    "\n",
    "```\n",
    "Human: Generate the code that might be used to solve the given task.\n",
    "You must return the code inside a code block, in the following form:\n",
    "\n",
    "```midio\n",
    "\n",
    "    Midio code is placed here, without any comments.\n",
    "\n",
    "```\n",
    "Here is your task:\n",
    "\"Create a function to check whether all the characters are same or not.\"\n",
    "\n",
    "The created Midio function should adhere to this signature:\n",
    "```midio\n",
    "\n",
    "    \"func(doc: \"Checks whether all the characters are same or not.\") all_Characters_Same {\n",
    "\tin(x: -862, y: 188, name: \"string\") property(String) string_db4ddf\n",
    "\tin(x: -878, y: 9, name: \"execute\") trigger() execute_f1c7e0\n",
    "\tout(x: 588, y: 123, name: \"continue\") trigger() continue_67430e\n",
    "\tout(x: 600, y: 270, name: \"output\") property(Bool) output_e9fa68\n",
    "}\"\n",
    "\n",
    "```\n",
    "\n",
    "\n",
    "\n",
    "\n",
    "AI: ```midio\n",
    "\n",
    "    import(\"std\", Std_k98ojb)\n",
    "import(\"http\", Http_q7o96c)\n",
    "\n",
    "module() main { \n",
    "    func(doc: \"Checks whether all the characters are same or not.\") all_Characters_Same {\n",
    "        in(x: -862, y: 188, name: \"string\") property(String) string_db4ddf\n",
    "        in(x: -878, y: 9, name: \"execute\") trigger() execute_f1c7e0\n",
    "\n",
    "        out(x: 588, y: 123, name: \"continue\") trigger() continue_67430e\n",
    "        out(x: 600, y: 270, name: \"output\") property(Bool) output_e9fa68\n",
    "\n",
    "        instance(x: -483, y: 192) characters_97fc24 root.Std_k98ojb.Strings.Characters {}\n",
    "        instance(x: -704, y: 191) tolower_0caf71 root.Std_k98ojb.Strings.ToLower {}\n",
    "        instance(x: -178, y: 331) firstitem_532c77 root.Std_k98ojb.List.FirstItem {}\n",
    "        instance(x: -181, y: 102) for_942609 root.Std_k98ojb.Std.For {}\n",
    "        instance(x: 50, y: 183) equal_e1ecef root.Std_k98ojb.Logic.Equal {}\n",
    "        instance(x: 258, y: 107) if_75369f root.Std_k98ojb.Std.If {}\n",
    "        tolower_0caf71.output -> characters_97fc24.input\n",
    "        string_db4ddf -> tolower_0caf71.input\n",
    "        characters_97fc24.characters -> firstitem_532c77.list\n",
    "        characters_97fc24.characters -> for_942609.items\n",
    "        for_942609.item -> equal_e1ecef.left\n",
    "        firstitem_532c77.item -> equal_e1ecef.right\n",
    "        equal_e1ecef.result -> if_75369f.predicate\n",
    "        for_942609.onItem -> if_75369f.execute\n",
    "        if_75369f.then -> for_942609.next\n",
    "        if_75369f.else -> continue_67430e\n",
    "        for_942609.done -> continue_67430e\n",
    "        if_75369f.value -> output_e9fa68\n",
    "        execute_f1c7e0 -> for_942609.reset\n",
    "    }\n",
    "\n",
    "    \n",
    "\n",
    "    instance(x: -192, y: 139) all_characters_same_935476 root.main.all_Characters_Same {}\n",
    "}\n",
    "\n",
    "```\n",
    "Human: Generate the code that might be used to solve the given task.\n",
    "You must return the code inside a code block, in the following form:\n",
    "\n",
    "```midio\n",
    "\n",
    "    Midio code is placed here, without any comments.\n",
    "\n",
    "```\n",
    "Here is your task:\n",
    "\"Create a function to check whether the given list contains consecutive numbers or not.\"\n",
    "\n",
    "The created Midio function should adhere to this signature:\n",
    "```midio\n",
    "\n",
    "    \"func(doc: \\\"check whether the given list contains consecutive numbers or not.\\\") check_consecutive {\\n\\tin(x: -425, y: 209, name: \\\"list\\\") property(List) list_faf6c2\\n\\tout(x: 866, y: 132, name: \\\"output\\\") property(Bool) output_a2b59d\\n}\"\n",
    "\n",
    "```\n",
    "\n",
    "AI: \n",
    "\"\"\""
   ]
  },
  {
   "cell_type": "code",
   "execution_count": 10,
   "metadata": {},
   "outputs": [
    {
     "data": {
      "application/vnd.jupyter.widget-view+json": {
       "model_id": "d90cd54a31ac456eae84afab088c8de5",
       "version_major": 2,
       "version_minor": 0
      },
      "text/plain": [
       "config.json:   0%|          | 0.00/879 [00:00<?, ?B/s]"
      ]
     },
     "metadata": {},
     "output_type": "display_data"
    },
    {
     "data": {
      "application/vnd.jupyter.widget-view+json": {
       "model_id": "969aefb16a9848bd9182d089d8cfc987",
       "version_major": 2,
       "version_minor": 0
      },
      "text/plain": [
       "model.safetensors.index.json:   0%|          | 0.00/59.6k [00:00<?, ?B/s]"
      ]
     },
     "metadata": {},
     "output_type": "display_data"
    },
    {
     "data": {
      "application/vnd.jupyter.widget-view+json": {
       "model_id": "41933c9425a04d50993262bf28ae3d1b",
       "version_major": 2,
       "version_minor": 0
      },
      "text/plain": [
       "Downloading shards:   0%|          | 0/30 [00:00<?, ?it/s]"
      ]
     },
     "metadata": {},
     "output_type": "display_data"
    },
    {
     "data": {
      "application/vnd.jupyter.widget-view+json": {
       "model_id": "4a7728fbc44942afae0bded3669fee30",
       "version_major": 2,
       "version_minor": 0
      },
      "text/plain": [
       "model-00001-of-00030.safetensors:   0%|          | 0.00/4.58G [00:00<?, ?B/s]"
      ]
     },
     "metadata": {},
     "output_type": "display_data"
    },
    {
     "data": {
      "application/vnd.jupyter.widget-view+json": {
       "model_id": "79ae6b77cdd94d48a55cf1d448084299",
       "version_major": 2,
       "version_minor": 0
      },
      "text/plain": [
       "model-00002-of-00030.safetensors:   0%|          | 0.00/4.66G [00:00<?, ?B/s]"
      ]
     },
     "metadata": {},
     "output_type": "display_data"
    },
    {
     "data": {
      "application/vnd.jupyter.widget-view+json": {
       "model_id": "fe4b3d27ede842258871efd1d9d269f2",
       "version_major": 2,
       "version_minor": 0
      },
      "text/plain": [
       "model-00003-of-00030.safetensors:   0%|          | 0.00/5.00G [00:00<?, ?B/s]"
      ]
     },
     "metadata": {},
     "output_type": "display_data"
    },
    {
     "data": {
      "application/vnd.jupyter.widget-view+json": {
       "model_id": "bd46dbfa05c646848cadc580d24b0e9e",
       "version_major": 2,
       "version_minor": 0
      },
      "text/plain": [
       "model-00004-of-00030.safetensors:   0%|          | 0.00/4.97G [00:00<?, ?B/s]"
      ]
     },
     "metadata": {},
     "output_type": "display_data"
    },
    {
     "data": {
      "application/vnd.jupyter.widget-view+json": {
       "model_id": "a5ce77d6e92d4c22ae946e425b638cd7",
       "version_major": 2,
       "version_minor": 0
      },
      "text/plain": [
       "model-00005-of-00030.safetensors:   0%|          | 0.00/4.66G [00:00<?, ?B/s]"
      ]
     },
     "metadata": {},
     "output_type": "display_data"
    },
    {
     "data": {
      "application/vnd.jupyter.widget-view+json": {
       "model_id": "9e4acc2577d94c3b931a158ab46ba41e",
       "version_major": 2,
       "version_minor": 0
      },
      "text/plain": [
       "model-00006-of-00030.safetensors:   0%|          | 0.00/4.66G [00:00<?, ?B/s]"
      ]
     },
     "metadata": {},
     "output_type": "display_data"
    },
    {
     "data": {
      "application/vnd.jupyter.widget-view+json": {
       "model_id": "7c1604dfe5924161bf7eba96d3c0bf74",
       "version_major": 2,
       "version_minor": 0
      },
      "text/plain": [
       "model-00007-of-00030.safetensors:   0%|          | 0.00/4.66G [00:00<?, ?B/s]"
      ]
     },
     "metadata": {},
     "output_type": "display_data"
    },
    {
     "data": {
      "application/vnd.jupyter.widget-view+json": {
       "model_id": "02747cb08aac48b4ab3d76cb34975af3",
       "version_major": 2,
       "version_minor": 0
      },
      "text/plain": [
       "model-00008-of-00030.safetensors:   0%|          | 0.00/5.00G [00:00<?, ?B/s]"
      ]
     },
     "metadata": {},
     "output_type": "display_data"
    },
    {
     "data": {
      "application/vnd.jupyter.widget-view+json": {
       "model_id": "c714759fa3ba42b6b82b88e12a43b390",
       "version_major": 2,
       "version_minor": 0
      },
      "text/plain": [
       "model-00009-of-00030.safetensors:   0%|          | 0.00/4.97G [00:00<?, ?B/s]"
      ]
     },
     "metadata": {},
     "output_type": "display_data"
    },
    {
     "data": {
      "application/vnd.jupyter.widget-view+json": {
       "model_id": "ef680e77f4ba4ff1856b84ca3a6189d2",
       "version_major": 2,
       "version_minor": 0
      },
      "text/plain": [
       "model-00010-of-00030.safetensors:   0%|          | 0.00/4.66G [00:00<?, ?B/s]"
      ]
     },
     "metadata": {},
     "output_type": "display_data"
    },
    {
     "data": {
      "application/vnd.jupyter.widget-view+json": {
       "model_id": "e8ddaa1113f94182ba95986f61461c70",
       "version_major": 2,
       "version_minor": 0
      },
      "text/plain": [
       "model-00011-of-00030.safetensors:   0%|          | 0.00/4.66G [00:00<?, ?B/s]"
      ]
     },
     "metadata": {},
     "output_type": "display_data"
    },
    {
     "data": {
      "application/vnd.jupyter.widget-view+json": {
       "model_id": "731c4b4438c346df88bcfecdd1d4cb51",
       "version_major": 2,
       "version_minor": 0
      },
      "text/plain": [
       "model-00012-of-00030.safetensors:   0%|          | 0.00/4.66G [00:00<?, ?B/s]"
      ]
     },
     "metadata": {},
     "output_type": "display_data"
    },
    {
     "data": {
      "application/vnd.jupyter.widget-view+json": {
       "model_id": "08d98fdf5daf484894123a3508648f92",
       "version_major": 2,
       "version_minor": 0
      },
      "text/plain": [
       "model-00013-of-00030.safetensors:   0%|          | 0.00/5.00G [00:00<?, ?B/s]"
      ]
     },
     "metadata": {},
     "output_type": "display_data"
    },
    {
     "data": {
      "application/vnd.jupyter.widget-view+json": {
       "model_id": "80082eac835b45abb116ff1c0b2c5be3",
       "version_major": 2,
       "version_minor": 0
      },
      "text/plain": [
       "model-00014-of-00030.safetensors:   0%|          | 0.00/4.97G [00:00<?, ?B/s]"
      ]
     },
     "metadata": {},
     "output_type": "display_data"
    },
    {
     "data": {
      "application/vnd.jupyter.widget-view+json": {
       "model_id": "7fecd5c4c5d443769bcd828fde98a01d",
       "version_major": 2,
       "version_minor": 0
      },
      "text/plain": [
       "model-00015-of-00030.safetensors:   0%|          | 0.00/4.66G [00:00<?, ?B/s]"
      ]
     },
     "metadata": {},
     "output_type": "display_data"
    },
    {
     "data": {
      "application/vnd.jupyter.widget-view+json": {
       "model_id": "dfc9ceeec74a4302b3ced5f0cc535bd2",
       "version_major": 2,
       "version_minor": 0
      },
      "text/plain": [
       "model-00016-of-00030.safetensors:   0%|          | 0.00/4.66G [00:00<?, ?B/s]"
      ]
     },
     "metadata": {},
     "output_type": "display_data"
    },
    {
     "data": {
      "application/vnd.jupyter.widget-view+json": {
       "model_id": "fe0f4c13eea440ceb7b80847e98504b2",
       "version_major": 2,
       "version_minor": 0
      },
      "text/plain": [
       "model-00017-of-00030.safetensors:   0%|          | 0.00/4.66G [00:00<?, ?B/s]"
      ]
     },
     "metadata": {},
     "output_type": "display_data"
    },
    {
     "data": {
      "application/vnd.jupyter.widget-view+json": {
       "model_id": "558e49a3a6c642648bc28c4851dea2c7",
       "version_major": 2,
       "version_minor": 0
      },
      "text/plain": [
       "model-00018-of-00030.safetensors:   0%|          | 0.00/5.00G [00:00<?, ?B/s]"
      ]
     },
     "metadata": {},
     "output_type": "display_data"
    },
    {
     "data": {
      "application/vnd.jupyter.widget-view+json": {
       "model_id": "4813f52749524892b7fcd8ba4959ccab",
       "version_major": 2,
       "version_minor": 0
      },
      "text/plain": [
       "model-00019-of-00030.safetensors:   0%|          | 0.00/4.97G [00:00<?, ?B/s]"
      ]
     },
     "metadata": {},
     "output_type": "display_data"
    },
    {
     "data": {
      "application/vnd.jupyter.widget-view+json": {
       "model_id": "72ca722f85454857b920b2d1c44b79f7",
       "version_major": 2,
       "version_minor": 0
      },
      "text/plain": [
       "model-00020-of-00030.safetensors:   0%|          | 0.00/4.66G [00:00<?, ?B/s]"
      ]
     },
     "metadata": {},
     "output_type": "display_data"
    },
    {
     "data": {
      "application/vnd.jupyter.widget-view+json": {
       "model_id": "96840cb3538d448299583019e6cd5312",
       "version_major": 2,
       "version_minor": 0
      },
      "text/plain": [
       "model-00021-of-00030.safetensors:   0%|          | 0.00/4.66G [00:00<?, ?B/s]"
      ]
     },
     "metadata": {},
     "output_type": "display_data"
    },
    {
     "data": {
      "application/vnd.jupyter.widget-view+json": {
       "model_id": "71640ef15eb34253b3c5948822539d13",
       "version_major": 2,
       "version_minor": 0
      },
      "text/plain": [
       "model-00022-of-00030.safetensors:   0%|          | 0.00/4.66G [00:00<?, ?B/s]"
      ]
     },
     "metadata": {},
     "output_type": "display_data"
    },
    {
     "data": {
      "application/vnd.jupyter.widget-view+json": {
       "model_id": "8c030c102a1243a0a0686b19d01d9207",
       "version_major": 2,
       "version_minor": 0
      },
      "text/plain": [
       "model-00023-of-00030.safetensors:   0%|          | 0.00/5.00G [00:00<?, ?B/s]"
      ]
     },
     "metadata": {},
     "output_type": "display_data"
    },
    {
     "data": {
      "application/vnd.jupyter.widget-view+json": {
       "model_id": "fd70a964070c4e31bdfe9270ca528472",
       "version_major": 2,
       "version_minor": 0
      },
      "text/plain": [
       "model-00024-of-00030.safetensors:   0%|          | 0.00/4.97G [00:00<?, ?B/s]"
      ]
     },
     "metadata": {},
     "output_type": "display_data"
    },
    {
     "data": {
      "application/vnd.jupyter.widget-view+json": {
       "model_id": "a2c8274f8cdd471289fbc1ccfc8803cc",
       "version_major": 2,
       "version_minor": 0
      },
      "text/plain": [
       "model-00025-of-00030.safetensors:   0%|          | 0.00/4.66G [00:00<?, ?B/s]"
      ]
     },
     "metadata": {},
     "output_type": "display_data"
    },
    {
     "data": {
      "application/vnd.jupyter.widget-view+json": {
       "model_id": "eb566f129a2d4549b9d2a3d2a15c038a",
       "version_major": 2,
       "version_minor": 0
      },
      "text/plain": [
       "model-00026-of-00030.safetensors:   0%|          | 0.00/4.66G [00:00<?, ?B/s]"
      ]
     },
     "metadata": {},
     "output_type": "display_data"
    },
    {
     "data": {
      "application/vnd.jupyter.widget-view+json": {
       "model_id": "119c4346363942ba99d910b8f739718d",
       "version_major": 2,
       "version_minor": 0
      },
      "text/plain": [
       "model-00027-of-00030.safetensors:   0%|          | 0.00/4.66G [00:00<?, ?B/s]"
      ]
     },
     "metadata": {},
     "output_type": "display_data"
    },
    {
     "data": {
      "application/vnd.jupyter.widget-view+json": {
       "model_id": "4c64834bcd5a45bcb5b2c935584a40d8",
       "version_major": 2,
       "version_minor": 0
      },
      "text/plain": [
       "model-00028-of-00030.safetensors:   0%|          | 0.00/5.00G [00:00<?, ?B/s]"
      ]
     },
     "metadata": {},
     "output_type": "display_data"
    },
    {
     "data": {
      "application/vnd.jupyter.widget-view+json": {
       "model_id": "eda2f7b0ed144510a3afc46a609ab538",
       "version_major": 2,
       "version_minor": 0
      },
      "text/plain": [
       "model-00029-of-00030.safetensors:   0%|          | 0.00/4.97G [00:00<?, ?B/s]"
      ]
     },
     "metadata": {},
     "output_type": "display_data"
    },
    {
     "data": {
      "application/vnd.jupyter.widget-view+json": {
       "model_id": "d370284d8adc4ba58db98490842aeb16",
       "version_major": 2,
       "version_minor": 0
      },
      "text/plain": [
       "model-00030-of-00030.safetensors:   0%|          | 0.00/2.10G [00:00<?, ?B/s]"
      ]
     },
     "metadata": {},
     "output_type": "display_data"
    },
    {
     "data": {
      "application/vnd.jupyter.widget-view+json": {
       "model_id": "0553f4f3bb324a7da796f3bbd965aeea",
       "version_major": 2,
       "version_minor": 0
      },
      "text/plain": [
       "Loading checkpoint shards:   0%|          | 0/30 [00:00<?, ?it/s]"
      ]
     },
     "metadata": {},
     "output_type": "display_data"
    },
    {
     "data": {
      "application/vnd.jupyter.widget-view+json": {
       "model_id": "640ed87749cb43a5a8849540cfdbf8c0",
       "version_major": 2,
       "version_minor": 0
      },
      "text/plain": [
       "generation_config.json:   0%|          | 0.00/189 [00:00<?, ?B/s]"
      ]
     },
     "metadata": {},
     "output_type": "display_data"
    },
    {
     "ename": "OutOfMemoryError",
     "evalue": "CUDA out of memory. Tried to allocate 448.00 MiB. GPU 0 has a total capacity of 79.25 GiB of which 364.75 MiB is free. Including non-PyTorch memory, this process has 78.89 GiB memory in use. Of the allocated memory 78.32 GiB is allocated by PyTorch, and 74.11 MiB is reserved by PyTorch but unallocated. If reserved but unallocated memory is large try setting PYTORCH_CUDA_ALLOC_CONF=expandable_segments:True to avoid fragmentation.  See documentation for Memory Management  (https://pytorch.org/docs/stable/notes/cuda.html#environment-variables)",
     "output_type": "error",
     "traceback": [
      "\u001b[0;31m---------------------------------------------------------------------------\u001b[0m",
      "\u001b[0;31mOutOfMemoryError\u001b[0m                          Traceback (most recent call last)",
      "Cell \u001b[0;32mIn[10], line 33\u001b[0m\n\u001b[1;32m     19\u001b[0m model_kwargs \u001b[38;5;241m=\u001b[39m {\n\u001b[1;32m     20\u001b[0m     \u001b[38;5;124m\"\u001b[39m\u001b[38;5;124mseed\u001b[39m\u001b[38;5;124m\"\u001b[39m: \u001b[38;5;241m346\u001b[39m,\n\u001b[1;32m     21\u001b[0m     \u001b[38;5;124m\"\u001b[39m\u001b[38;5;124mmax_length\u001b[39m\u001b[38;5;124m\"\u001b[39m: \u001b[38;5;241m16000\u001b[39m,\n\u001b[0;32m   (...)\u001b[0m\n\u001b[1;32m     30\u001b[0m \n\u001b[1;32m     31\u001b[0m }\n\u001b[1;32m     32\u001b[0m \u001b[38;5;66;03m# Load the Syncode augmented model\u001b[39;00m\n\u001b[0;32m---> 33\u001b[0m syn_llm \u001b[38;5;241m=\u001b[39m \u001b[43mSyncode\u001b[49m\u001b[43m(\u001b[49m\n\u001b[1;32m     34\u001b[0m \u001b[43m    \u001b[49m\u001b[43mmodel\u001b[49m\u001b[38;5;241;43m=\u001b[39;49m\u001b[43mmodel_name\u001b[49m\u001b[43m,\u001b[49m\u001b[43m \u001b[49m\n\u001b[1;32m     35\u001b[0m \u001b[43m    \u001b[49m\u001b[43mgrammar\u001b[49m\u001b[38;5;241;43m=\u001b[39;49m\u001b[43mgrammar_file\u001b[49m\u001b[43m,\u001b[49m\n\u001b[1;32m     36\u001b[0m \u001b[43m    \u001b[49m\u001b[43mparse_output_only\u001b[49m\u001b[38;5;241;43m=\u001b[39;49m\u001b[38;5;28;43;01mTrue\u001b[39;49;00m\u001b[43m,\u001b[49m\u001b[43m \u001b[49m\n\u001b[1;32m     37\u001b[0m \u001b[43m    \u001b[49m\u001b[38;5;241;43m*\u001b[39;49m\u001b[38;5;241;43m*\u001b[39;49m\u001b[43mmodel_kwargs\u001b[49m\n\u001b[1;32m     38\u001b[0m \u001b[43m)\u001b[49m\n",
      "File \u001b[0;32m~/.local/lib/python3.11/site-packages/syncode/infer.py:88\u001b[0m, in \u001b[0;36mSyncode.__init__\u001b[0;34m(self, model, mode, quantize, device, grammar, parse_output_only, dev_mode, new_mask_store, parser, seed, opp, **kwargs)\u001b[0m\n\u001b[1;32m     85\u001b[0m \u001b[38;5;28mself\u001b[39m\u001b[38;5;241m.\u001b[39mgrammar \u001b[38;5;241m=\u001b[39m Grammar(grammar) \u001b[38;5;28;01mif\u001b[39;00m \u001b[38;5;28mself\u001b[39m\u001b[38;5;241m.\u001b[39m_is_grammar_mode() \u001b[38;5;28;01melse\u001b[39;00m \u001b[38;5;28;01mNone\u001b[39;00m\n\u001b[1;32m     87\u001b[0m \u001b[38;5;66;03m# Load model and tokenizer\u001b[39;00m\n\u001b[0;32m---> 88\u001b[0m model \u001b[38;5;241m=\u001b[39m \u001b[43mcommon\u001b[49m\u001b[38;5;241;43m.\u001b[39;49m\u001b[43mload_model\u001b[49m\u001b[43m(\u001b[49m\u001b[38;5;28;43mself\u001b[39;49m\u001b[38;5;241;43m.\u001b[39;49m\u001b[43mmodel_name\u001b[49m\u001b[43m,\u001b[49m\u001b[43m \u001b[49m\u001b[43mdevice\u001b[49m\u001b[43m,\u001b[49m\u001b[43m \u001b[49m\u001b[43mquantize\u001b[49m\u001b[43m)\u001b[49m\n\u001b[1;32m     89\u001b[0m tokenizer \u001b[38;5;241m=\u001b[39m common\u001b[38;5;241m.\u001b[39mload_tokenizer(\u001b[38;5;28mself\u001b[39m\u001b[38;5;241m.\u001b[39mmodel_name)\n\u001b[1;32m     91\u001b[0m \u001b[38;5;66;03m# Initialize grammar decoder if needed\u001b[39;00m\n",
      "File \u001b[0;32m~/.local/lib/python3.11/site-packages/syncode/common.py:21\u001b[0m, in \u001b[0;36mload_model\u001b[0;34m(model_name, device, quantize)\u001b[0m\n\u001b[1;32m     19\u001b[0m \u001b[38;5;28;01melse\u001b[39;00m:\n\u001b[1;32m     20\u001b[0m     \u001b[38;5;28;01mif\u001b[39;00m (quantize):\n\u001b[0;32m---> 21\u001b[0m         model \u001b[38;5;241m=\u001b[39m \u001b[43mAutoModelForCausalLM\u001b[49m\u001b[38;5;241;43m.\u001b[39;49m\u001b[43mfrom_pretrained\u001b[49m\u001b[43m(\u001b[49m\u001b[43mmodel_name\u001b[49m\u001b[43m,\u001b[49m\u001b[43m \u001b[49m\u001b[43mtorch_dtype\u001b[49m\u001b[38;5;241;43m=\u001b[39;49m\u001b[43mtorch\u001b[49m\u001b[38;5;241;43m.\u001b[39;49m\u001b[43mbfloat16\u001b[49m\u001b[43m,\u001b[49m\u001b[43m \u001b[49m\u001b[43mcache_dir\u001b[49m\u001b[38;5;241;43m=\u001b[39;49m\u001b[43mHF_CACHE\u001b[49m\u001b[43m,\u001b[49m\u001b[43m \u001b[49m\u001b[43mtoken\u001b[49m\u001b[38;5;241;43m=\u001b[39;49m\u001b[43mHF_ACCESS_TOKEN\u001b[49m\u001b[43m,\u001b[49m\u001b[43m \u001b[49m\u001b[43mtrust_remote_code\u001b[49m\u001b[38;5;241;43m=\u001b[39;49m\u001b[38;5;28;43;01mTrue\u001b[39;49;00m\u001b[43m)\u001b[49m\u001b[38;5;241;43m.\u001b[39;49m\u001b[43meval\u001b[49m\u001b[43m(\u001b[49m\u001b[43m)\u001b[49m\u001b[38;5;241;43m.\u001b[39;49m\u001b[43mto\u001b[49m\u001b[43m(\u001b[49m\u001b[43mdevice\u001b[49m\u001b[43m)\u001b[49m\n\u001b[1;32m     22\u001b[0m     \u001b[38;5;28;01melse\u001b[39;00m:\n\u001b[1;32m     23\u001b[0m         model \u001b[38;5;241m=\u001b[39m AutoModelForCausalLM\u001b[38;5;241m.\u001b[39mfrom_pretrained(model_name, cache_dir\u001b[38;5;241m=\u001b[39mHF_CACHE, token\u001b[38;5;241m=\u001b[39mHF_ACCESS_TOKEN, trust_remote_code\u001b[38;5;241m=\u001b[39m\u001b[38;5;28;01mTrue\u001b[39;00m)\u001b[38;5;241m.\u001b[39meval()\u001b[38;5;241m.\u001b[39mto(device)\n",
      "File \u001b[0;32m~/.local/lib/python3.11/site-packages/transformers/modeling_utils.py:2883\u001b[0m, in \u001b[0;36mPreTrainedModel.to\u001b[0;34m(self, *args, **kwargs)\u001b[0m\n\u001b[1;32m   2878\u001b[0m     \u001b[38;5;28;01mif\u001b[39;00m dtype_present_in_args:\n\u001b[1;32m   2879\u001b[0m         \u001b[38;5;28;01mraise\u001b[39;00m \u001b[38;5;167;01mValueError\u001b[39;00m(\n\u001b[1;32m   2880\u001b[0m             \u001b[38;5;124m\"\u001b[39m\u001b[38;5;124mYou cannot cast a GPTQ model in a new `dtype`. Make sure to load the model using `from_pretrained` using the desired\u001b[39m\u001b[38;5;124m\"\u001b[39m\n\u001b[1;32m   2881\u001b[0m             \u001b[38;5;124m\"\u001b[39m\u001b[38;5;124m `dtype` by passing the correct `torch_dtype` argument.\u001b[39m\u001b[38;5;124m\"\u001b[39m\n\u001b[1;32m   2882\u001b[0m         )\n\u001b[0;32m-> 2883\u001b[0m \u001b[38;5;28;01mreturn\u001b[39;00m \u001b[38;5;28;43msuper\u001b[39;49m\u001b[43m(\u001b[49m\u001b[43m)\u001b[49m\u001b[38;5;241;43m.\u001b[39;49m\u001b[43mto\u001b[49m\u001b[43m(\u001b[49m\u001b[38;5;241;43m*\u001b[39;49m\u001b[43margs\u001b[49m\u001b[43m,\u001b[49m\u001b[43m \u001b[49m\u001b[38;5;241;43m*\u001b[39;49m\u001b[38;5;241;43m*\u001b[39;49m\u001b[43mkwargs\u001b[49m\u001b[43m)\u001b[49m\n",
      "File \u001b[0;32m~/.local/lib/python3.11/site-packages/torch/nn/modules/module.py:1340\u001b[0m, in \u001b[0;36mModule.to\u001b[0;34m(self, *args, **kwargs)\u001b[0m\n\u001b[1;32m   1337\u001b[0m         \u001b[38;5;28;01melse\u001b[39;00m:\n\u001b[1;32m   1338\u001b[0m             \u001b[38;5;28;01mraise\u001b[39;00m\n\u001b[0;32m-> 1340\u001b[0m \u001b[38;5;28;01mreturn\u001b[39;00m \u001b[38;5;28;43mself\u001b[39;49m\u001b[38;5;241;43m.\u001b[39;49m\u001b[43m_apply\u001b[49m\u001b[43m(\u001b[49m\u001b[43mconvert\u001b[49m\u001b[43m)\u001b[49m\n",
      "File \u001b[0;32m~/.local/lib/python3.11/site-packages/torch/nn/modules/module.py:900\u001b[0m, in \u001b[0;36mModule._apply\u001b[0;34m(self, fn, recurse)\u001b[0m\n\u001b[1;32m    898\u001b[0m \u001b[38;5;28;01mif\u001b[39;00m recurse:\n\u001b[1;32m    899\u001b[0m     \u001b[38;5;28;01mfor\u001b[39;00m module \u001b[38;5;129;01min\u001b[39;00m \u001b[38;5;28mself\u001b[39m\u001b[38;5;241m.\u001b[39mchildren():\n\u001b[0;32m--> 900\u001b[0m         \u001b[43mmodule\u001b[49m\u001b[38;5;241;43m.\u001b[39;49m\u001b[43m_apply\u001b[49m\u001b[43m(\u001b[49m\u001b[43mfn\u001b[49m\u001b[43m)\u001b[49m\n\u001b[1;32m    902\u001b[0m \u001b[38;5;28;01mdef\u001b[39;00m \u001b[38;5;21mcompute_should_use_set_data\u001b[39m(tensor, tensor_applied):\n\u001b[1;32m    903\u001b[0m     \u001b[38;5;28;01mif\u001b[39;00m torch\u001b[38;5;241m.\u001b[39m_has_compatible_shallow_copy_type(tensor, tensor_applied):\n\u001b[1;32m    904\u001b[0m         \u001b[38;5;66;03m# If the new tensor has compatible tensor type as the existing tensor,\u001b[39;00m\n\u001b[1;32m    905\u001b[0m         \u001b[38;5;66;03m# the current behavior is to change the tensor in-place using `.data =`,\u001b[39;00m\n\u001b[0;32m   (...)\u001b[0m\n\u001b[1;32m    910\u001b[0m         \u001b[38;5;66;03m# global flag to let the user control whether they want the future\u001b[39;00m\n\u001b[1;32m    911\u001b[0m         \u001b[38;5;66;03m# behavior of overwriting the existing tensor or not.\u001b[39;00m\n",
      "File \u001b[0;32m~/.local/lib/python3.11/site-packages/torch/nn/modules/module.py:900\u001b[0m, in \u001b[0;36mModule._apply\u001b[0;34m(self, fn, recurse)\u001b[0m\n\u001b[1;32m    898\u001b[0m \u001b[38;5;28;01mif\u001b[39;00m recurse:\n\u001b[1;32m    899\u001b[0m     \u001b[38;5;28;01mfor\u001b[39;00m module \u001b[38;5;129;01min\u001b[39;00m \u001b[38;5;28mself\u001b[39m\u001b[38;5;241m.\u001b[39mchildren():\n\u001b[0;32m--> 900\u001b[0m         \u001b[43mmodule\u001b[49m\u001b[38;5;241;43m.\u001b[39;49m\u001b[43m_apply\u001b[49m\u001b[43m(\u001b[49m\u001b[43mfn\u001b[49m\u001b[43m)\u001b[49m\n\u001b[1;32m    902\u001b[0m \u001b[38;5;28;01mdef\u001b[39;00m \u001b[38;5;21mcompute_should_use_set_data\u001b[39m(tensor, tensor_applied):\n\u001b[1;32m    903\u001b[0m     \u001b[38;5;28;01mif\u001b[39;00m torch\u001b[38;5;241m.\u001b[39m_has_compatible_shallow_copy_type(tensor, tensor_applied):\n\u001b[1;32m    904\u001b[0m         \u001b[38;5;66;03m# If the new tensor has compatible tensor type as the existing tensor,\u001b[39;00m\n\u001b[1;32m    905\u001b[0m         \u001b[38;5;66;03m# the current behavior is to change the tensor in-place using `.data =`,\u001b[39;00m\n\u001b[0;32m   (...)\u001b[0m\n\u001b[1;32m    910\u001b[0m         \u001b[38;5;66;03m# global flag to let the user control whether they want the future\u001b[39;00m\n\u001b[1;32m    911\u001b[0m         \u001b[38;5;66;03m# behavior of overwriting the existing tensor or not.\u001b[39;00m\n",
      "    \u001b[0;31m[... skipping similar frames: Module._apply at line 900 (2 times)]\u001b[0m\n",
      "File \u001b[0;32m~/.local/lib/python3.11/site-packages/torch/nn/modules/module.py:900\u001b[0m, in \u001b[0;36mModule._apply\u001b[0;34m(self, fn, recurse)\u001b[0m\n\u001b[1;32m    898\u001b[0m \u001b[38;5;28;01mif\u001b[39;00m recurse:\n\u001b[1;32m    899\u001b[0m     \u001b[38;5;28;01mfor\u001b[39;00m module \u001b[38;5;129;01min\u001b[39;00m \u001b[38;5;28mself\u001b[39m\u001b[38;5;241m.\u001b[39mchildren():\n\u001b[0;32m--> 900\u001b[0m         \u001b[43mmodule\u001b[49m\u001b[38;5;241;43m.\u001b[39;49m\u001b[43m_apply\u001b[49m\u001b[43m(\u001b[49m\u001b[43mfn\u001b[49m\u001b[43m)\u001b[49m\n\u001b[1;32m    902\u001b[0m \u001b[38;5;28;01mdef\u001b[39;00m \u001b[38;5;21mcompute_should_use_set_data\u001b[39m(tensor, tensor_applied):\n\u001b[1;32m    903\u001b[0m     \u001b[38;5;28;01mif\u001b[39;00m torch\u001b[38;5;241m.\u001b[39m_has_compatible_shallow_copy_type(tensor, tensor_applied):\n\u001b[1;32m    904\u001b[0m         \u001b[38;5;66;03m# If the new tensor has compatible tensor type as the existing tensor,\u001b[39;00m\n\u001b[1;32m    905\u001b[0m         \u001b[38;5;66;03m# the current behavior is to change the tensor in-place using `.data =`,\u001b[39;00m\n\u001b[0;32m   (...)\u001b[0m\n\u001b[1;32m    910\u001b[0m         \u001b[38;5;66;03m# global flag to let the user control whether they want the future\u001b[39;00m\n\u001b[1;32m    911\u001b[0m         \u001b[38;5;66;03m# behavior of overwriting the existing tensor or not.\u001b[39;00m\n",
      "File \u001b[0;32m~/.local/lib/python3.11/site-packages/torch/nn/modules/module.py:927\u001b[0m, in \u001b[0;36mModule._apply\u001b[0;34m(self, fn, recurse)\u001b[0m\n\u001b[1;32m    923\u001b[0m \u001b[38;5;66;03m# Tensors stored in modules are graph leaves, and we don't want to\u001b[39;00m\n\u001b[1;32m    924\u001b[0m \u001b[38;5;66;03m# track autograd history of `param_applied`, so we have to use\u001b[39;00m\n\u001b[1;32m    925\u001b[0m \u001b[38;5;66;03m# `with torch.no_grad():`\u001b[39;00m\n\u001b[1;32m    926\u001b[0m \u001b[38;5;28;01mwith\u001b[39;00m torch\u001b[38;5;241m.\u001b[39mno_grad():\n\u001b[0;32m--> 927\u001b[0m     param_applied \u001b[38;5;241m=\u001b[39m \u001b[43mfn\u001b[49m\u001b[43m(\u001b[49m\u001b[43mparam\u001b[49m\u001b[43m)\u001b[49m\n\u001b[1;32m    928\u001b[0m p_should_use_set_data \u001b[38;5;241m=\u001b[39m compute_should_use_set_data(param, param_applied)\n\u001b[1;32m    930\u001b[0m \u001b[38;5;66;03m# subclasses may have multiple child tensors so we need to use swap_tensors\u001b[39;00m\n",
      "File \u001b[0;32m~/.local/lib/python3.11/site-packages/torch/nn/modules/module.py:1326\u001b[0m, in \u001b[0;36mModule.to.<locals>.convert\u001b[0;34m(t)\u001b[0m\n\u001b[1;32m   1319\u001b[0m     \u001b[38;5;28;01mif\u001b[39;00m convert_to_format \u001b[38;5;129;01mis\u001b[39;00m \u001b[38;5;129;01mnot\u001b[39;00m \u001b[38;5;28;01mNone\u001b[39;00m \u001b[38;5;129;01mand\u001b[39;00m t\u001b[38;5;241m.\u001b[39mdim() \u001b[38;5;129;01min\u001b[39;00m (\u001b[38;5;241m4\u001b[39m, \u001b[38;5;241m5\u001b[39m):\n\u001b[1;32m   1320\u001b[0m         \u001b[38;5;28;01mreturn\u001b[39;00m t\u001b[38;5;241m.\u001b[39mto(\n\u001b[1;32m   1321\u001b[0m             device,\n\u001b[1;32m   1322\u001b[0m             dtype \u001b[38;5;28;01mif\u001b[39;00m t\u001b[38;5;241m.\u001b[39mis_floating_point() \u001b[38;5;129;01mor\u001b[39;00m t\u001b[38;5;241m.\u001b[39mis_complex() \u001b[38;5;28;01melse\u001b[39;00m \u001b[38;5;28;01mNone\u001b[39;00m,\n\u001b[1;32m   1323\u001b[0m             non_blocking,\n\u001b[1;32m   1324\u001b[0m             memory_format\u001b[38;5;241m=\u001b[39mconvert_to_format,\n\u001b[1;32m   1325\u001b[0m         )\n\u001b[0;32m-> 1326\u001b[0m     \u001b[38;5;28;01mreturn\u001b[39;00m \u001b[43mt\u001b[49m\u001b[38;5;241;43m.\u001b[39;49m\u001b[43mto\u001b[49m\u001b[43m(\u001b[49m\n\u001b[1;32m   1327\u001b[0m \u001b[43m        \u001b[49m\u001b[43mdevice\u001b[49m\u001b[43m,\u001b[49m\n\u001b[1;32m   1328\u001b[0m \u001b[43m        \u001b[49m\u001b[43mdtype\u001b[49m\u001b[43m \u001b[49m\u001b[38;5;28;43;01mif\u001b[39;49;00m\u001b[43m \u001b[49m\u001b[43mt\u001b[49m\u001b[38;5;241;43m.\u001b[39;49m\u001b[43mis_floating_point\u001b[49m\u001b[43m(\u001b[49m\u001b[43m)\u001b[49m\u001b[43m \u001b[49m\u001b[38;5;129;43;01mor\u001b[39;49;00m\u001b[43m \u001b[49m\u001b[43mt\u001b[49m\u001b[38;5;241;43m.\u001b[39;49m\u001b[43mis_complex\u001b[49m\u001b[43m(\u001b[49m\u001b[43m)\u001b[49m\u001b[43m \u001b[49m\u001b[38;5;28;43;01melse\u001b[39;49;00m\u001b[43m \u001b[49m\u001b[38;5;28;43;01mNone\u001b[39;49;00m\u001b[43m,\u001b[49m\n\u001b[1;32m   1329\u001b[0m \u001b[43m        \u001b[49m\u001b[43mnon_blocking\u001b[49m\u001b[43m,\u001b[49m\n\u001b[1;32m   1330\u001b[0m \u001b[43m    \u001b[49m\u001b[43m)\u001b[49m\n\u001b[1;32m   1331\u001b[0m \u001b[38;5;28;01mexcept\u001b[39;00m \u001b[38;5;167;01mNotImplementedError\u001b[39;00m \u001b[38;5;28;01mas\u001b[39;00m e:\n\u001b[1;32m   1332\u001b[0m     \u001b[38;5;28;01mif\u001b[39;00m \u001b[38;5;28mstr\u001b[39m(e) \u001b[38;5;241m==\u001b[39m \u001b[38;5;124m\"\u001b[39m\u001b[38;5;124mCannot copy out of meta tensor; no data!\u001b[39m\u001b[38;5;124m\"\u001b[39m:\n",
      "\u001b[0;31mOutOfMemoryError\u001b[0m: CUDA out of memory. Tried to allocate 448.00 MiB. GPU 0 has a total capacity of 79.25 GiB of which 364.75 MiB is free. Including non-PyTorch memory, this process has 78.89 GiB memory in use. Of the allocated memory 78.32 GiB is allocated by PyTorch, and 74.11 MiB is reserved by PyTorch but unallocated. If reserved but unallocated memory is large try setting PYTORCH_CUDA_ALLOC_CONF=expandable_segments:True to avoid fragmentation.  See documentation for Memory Management  (https://pytorch.org/docs/stable/notes/cuda.html#environment-variables)"
     ]
    }
   ],
   "source": [
    "\n",
    "import os\n",
    "os.environ['HF_CACHE'] = \"/cluster/work/projects/ec12/ec-sindrre/hf-models\"\n",
    "os.environ['SYNCODE_CACHE'] = \"/cluster/work/projects/ec12/ec-sindrre/syncode\"\n",
    "from huggingface_hub import login\n",
    "from dotenv import load_dotenv\n",
    "script_dir = os.getcwd() \n",
    "project_dir = os.path.abspath(f\"{script_dir}/../../..\")\n",
    "env_path = os.path.abspath(f\"{project_dir}/../.env\")\n",
    "load_dotenv(env_path)\n",
    "# Replace with your real token from https://huggingface.co/settings/tokens\n",
    "login(token=os.environ['HF_ACCESS_TOKEN'])\n",
    "from syncode import Syncode\n",
    "# from syncode.infer import Syncode\n",
    "# Pass in a grammar as a string of rules in EBNF format\n",
    "\n",
    "grammar_file = os.path.abspath(os.path.join(os.getcwd(), '../../../data/midio_grammar.lark'))\n",
    "\n",
    "model_name = \"meta-llama/Llama-3.3-70B-Instruct\"\n",
    "model_kwargs = {\n",
    "    \"seed\": 346,\n",
    "    \"max_length\": 16000,\n",
    "    \"max_new_tokens\": 2000,\n",
    "    \"temperature\": 0.9,\n",
    "    \"top_k\": 100,\n",
    "    \"top_p\": 0.9,\n",
    "    \"do_sample\": True,\n",
    "    \"quantize\": True, # Sets to torch.float16\n",
    "    # \"early_stopping\": True,            # <- Stop if EOS is reached early\n",
    "    \"use_cache\": True,                 # <- Speeds things up (standard)\n",
    "\n",
    "}\n",
    "# Load the Syncode augmented model\n",
    "syn_llm = Syncode(\n",
    "    model=model_name, \n",
    "    grammar=grammar_file,\n",
    "    parse_output_only=True, \n",
    "    **model_kwargs\n",
    ")"
   ]
  },
  {
   "cell_type": "code",
   "execution_count": 7,
   "metadata": {},
   "outputs": [
    {
     "name": "stdout",
     "output_type": "stream",
     "text": [
      "Syncode augmented LLM output:\n",
      "```midio\n",
      "\n",
      "    import(\"std\", Std_k98ojb)\n",
      "import(\"http\", Http_q7o96c)\n",
      "\n",
      "module() main { \n",
      "    func(doc: \"check whether the given list contains consecutive numbers or not.\") check_consecutive {\n",
      "        in(x: -425, y: 209, name: \"list\") property(List) list_faf6c2\n",
      "\n",
      "        out(x: 866, y: 132, name: \"output\") property(Bool) output_a2b59d\n",
      "\n",
      "        instance(x: -126, y: 161) map_9d9e8e root.Std_k98ojb.Iteration.Map {}\n",
      "        instance(x: 78, y: -45) filter_65be71 root.Std_k98ojb.Iteration.Filter {}\n",
      "        instance(x: 242, y: -11) for_9a97ea root.Std_k98ojb.Std.For {}\n",
      "        instance(x: 492, y: -48) if_3b8fe6 root.Std_k98ojb.Std.If {}\n",
      "        instance(x: 634, y: -24) lessthan_0e9da4 root.Std_k98ojb.Math.LessThan {}\n",
      "        instance(x: 739, y: 15) not_4fba46 root.Std_k98ojb.Logic.Not {}\n",
      "        instance(x: 903, y: 20) and_30b2a5 root.Std_k98ojb.Logic.And {}\n",
      "        instance(x: 1078, y: 28) sub_4d8b49 root.Std_k98ojb.Math.Sub {}\n",
      "        instance(x: 1297, y: 30) expression_d8b5c4 root.Std_k98ojb.Math.Expression {\n",
      "            expression: \"(n + 1)\"\n",
      "        }\n",
      "        list_faf6c2 -> map_9d9e8e.items\n",
      "        func() {\n",
      "            in(x: -26, y: -9, name: \"element\") property(Number) element_ae6b76\n",
      "\n",
      "            out(x: 310, y: -9, name: \"out\") property(Number) out_dcd60c\n",
      "\n",
      "            instance(x: 112, y: -11) add_9c5dc7 root.Std_k98ojb.Math.Add {}\n",
      "            element_ae6b76 -> add_9c5dc7.first\n",
      "            1 -> add_9c5dc7.second\n",
      "            add_9c5dc7.result -> out_dcd60c\n",
      "        } -> map_9d9e8e.handler\n",
      "        map_9d9e8e.output_list -> for_9a97ea.items\n",
      "        for_9a97ea.item -> expression_d8b5c4.gen_0\n",
      "        for_9a97ea.item -> sub_4d8b49.first\n",
      "        expression_d8b5c4.result -> sub_4d8b49.second\n",
      "        sub_4d8b49.result -> for_9a97ea.index\n",
      "        for_9a97ea.item -> lessthan_0e9da4.left\n",
      "        expression_d8b5c4.result -> lessthan_0e9da4.right\n",
      "        lessthan_0e9da4.result -> not_4fba46.input\n",
      "        for_9a97ea.onItem -> not_4fba46.execute\n",
      "        not_4fba46.output -> and_30b2a5.left\n",
      "        for_9a97ea.index -> filter_65be71.handler\n",
      "        not_4fba46.output -> and_30b2a5.right\n",
      "        and_30b2a5.result -> if_3b8fe6.predicate\n",
      "        for_9a97ea.onItem -> if_3b8fe6.execute\n",
      "        if_3b8fe6.else -> output_a2b59d\n",
      "        for_9a97ea.done -> output_a2b59d\n",
      "        if_3b8fe6.value -> output_a2b59d\n",
      "    }\n",
      "\n",
      "    \n",
      "\n",
      "    instance(x: -197, y: 178) check_consecutive_e5ef6d root.main.check_consecutive {}\n",
      "}\n",
      "\n",
      "```\n",
      "\n"
     ]
    }
   ],
   "source": [
    "import sys\n",
    "import os\n",
    "sys.path.append('../../../')  # Add the path to the my_packages module\n",
    "from my_packages.evaluation.models import extract_response\n",
    "\n",
    "output = syn_llm.infer(input, stop_words=[\"}\\n\\n```\\n\", \"Human:\"])[0]\n",
    "# response= extract_response(output)\n",
    "print(f\"Syncode augmented LLM output:\\n{output}\")"
   ]
  }
 ],
 "metadata": {
  "kernelspec": {
   "display_name": "Python 3 (ipykernel)",
   "language": "python",
   "name": "python3"
  },
  "language_info": {
   "codemirror_mode": {
    "name": "ipython",
    "version": 3
   },
   "file_extension": ".py",
   "mimetype": "text/x-python",
   "name": "python",
   "nbconvert_exporter": "python",
   "pygments_lexer": "ipython3",
   "version": "3.11.5"
  }
 },
 "nbformat": 4,
 "nbformat_minor": 4
}
