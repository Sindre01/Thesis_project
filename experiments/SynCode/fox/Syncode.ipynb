{
 "cells": [
  {
   "cell_type": "markdown",
   "id": "605d132a-e3b2-42ee-82a2-50ccefbc9139",
   "metadata": {},
   "source": [
    "<!-- ## Install dependencies -->"
   ]
  },
  {
   "cell_type": "code",
   "execution_count": 1,
   "id": "6cf93b4f-f9b0-4929-bd2c-4bb7688d8576",
   "metadata": {},
   "outputs": [],
   "source": [
    "\n",
    "\n",
    "# For Notebook:\n",
    "# %pip install ollama\n",
    "# %pip install openai\n",
    "# %pip install anthropic\n",
    "# %pip install transformers\n",
    "# %pip install tiktoken\n",
    "# %pip install python-dotenv\n",
    "# %pip install colorama\n",
    "\n",
    "# For packages: \n",
    "# %pip install scikit-learn\n",
    "# %pip install matplotlib\n",
    "# %pip install numpy\n",
    "# %pip install pandas\n",
    "# %pip install iterative-stratification\n",
    "# %pip install langchain\n",
    "# %pip install \"langsmith<0.2.0\"\n",
    "\n",
    "# For WebUI testing:\n",
    "# %pip install open-webui\n",
    "\n",
    "%load_ext autoreload\n"
   ]
  },
  {
   "cell_type": "markdown",
   "id": "9d1a1f6f",
   "metadata": {},
   "source": [
    "# Static splits"
   ]
  },
  {
   "cell_type": "code",
   "execution_count": 2,
   "id": "1510069e",
   "metadata": {},
   "outputs": [
    {
     "name": "stdout",
     "output_type": "stream",
     "text": [
      "Script is located in: /fp/homes01/u01/ec-sindrre/Thesis_project/my_packages/common\n",
      "Project is located in: /fp/homes01/u01/ec-sindrre/Thesis_project\n",
      "Train data: 32\n",
      "Val data: 9\n",
      "Test data: 9\n"
     ]
    }
   ],
   "source": [
    "import sys\n",
    "import os\n",
    "sys.path.append('../../../')  # Add the path to the my_packages module\n",
    "os.environ['EXPERIMENT_DB_NAME'] = \"syncode_experiments\"\n",
    "os.environ['HF_CACHE'] = \"/cluster/work/projects/ec12/ec-sindrre/hf-models\"\n",
    "os.environ['SYNCODE_CACHE'] = \"/cluster/work/projects/ec12/ec-sindrre/syncode\"\n",
    "\n",
    "from my_packages.prompting.prompt_building import transform_code_data\n",
    "from my_packages.utils.file_utils import read_dataset_to_json\n",
    "\n",
    "main_dataset_folder = '../../../data/MBPP_Midio_50/'\n",
    "\n",
    "def get_hold_out_splits(main_dataset_folder):\n",
    "    train_data = transform_code_data(read_dataset_to_json(main_dataset_folder + 'splits/hold_out/train_dataset.json'))\n",
    "    val_data = transform_code_data(read_dataset_to_json(main_dataset_folder + 'splits/hold_out/validation_dataset.json'))\n",
    "    test_data = transform_code_data(read_dataset_to_json(main_dataset_folder + 'splits/hold_out/test_dataset.json'))\n",
    "\n",
    "    print(f\"Train data: {len(train_data)}\")\n",
    "    print(f\"Val data: {len(val_data)}\")\n",
    "    print(f\"Test data: {len(test_data)}\")\n",
    "    return train_data, val_data, test_data\n",
    "\n",
    "# Use the static validation split for hyperparmeter tuning:\n",
    "_, val_data, _ = get_hold_out_splits(main_dataset_folder=main_dataset_folder)\n"
   ]
  },
  {
   "cell_type": "markdown",
   "id": "87924b94",
   "metadata": {},
   "source": [
    "# 3_fold splits"
   ]
  },
  {
   "cell_type": "code",
   "execution_count": 3,
   "id": "8369e11b",
   "metadata": {},
   "outputs": [
    {
     "name": "stdout",
     "output_type": "stream",
     "text": [
      "Using existing 3-fold splits\n",
      "Train data: 27\n",
      "Test data: 14\n",
      "Chosen fold: 0\n"
     ]
    }
   ],
   "source": [
    "\n",
    "import os\n",
    "from my_packages.data_processing.split_dataset import create_kfold_splits\n",
    "\n",
    "main_dataset_folder = '../../../data/MBPP_Midio_50/'\n",
    "run_k_fold = 0 # 0-2, because we have 3 folds\n",
    "\n",
    "def get_k_fold_splits(main_dataset_folder, k, k_folds=3):\n",
    "\n",
    "    if os.path.exists(main_dataset_folder + f'splits/{k_folds}_fold'):\n",
    "        print(f\"Using existing {k_folds}-fold splits\")\n",
    "    else:\n",
    "        print(f\"Creating {k_folds}-fold splits\")\n",
    "        train, _ ,test = get_hold_out_splits(main_dataset_folder)\n",
    "        # Only use train+train for k-fold splits\n",
    "        create_kfold_splits((train+test), k_folds=k_folds, write_to_file=True)\n",
    "\n",
    "    train_data = read_dataset_to_json(main_dataset_folder + f'splits/{k_folds}_fold/train_dataset_{k}.json')\n",
    "    test_data = read_dataset_to_json(main_dataset_folder + f'splits/{k_folds}_fold/test_dataset_{k}.json')\n",
    "\n",
    "    print(f\"Train data: {len(train_data)}\")\n",
    "    print(f\"Test data: {len(test_data)}\")\n",
    "    return train_data, test_data\n",
    "\n",
    "# Use the K_fold split for testing:\n",
    "train_data, test_data = get_k_fold_splits(\n",
    "    main_dataset_folder=main_dataset_folder, \n",
    "    k=run_k_fold, \n",
    "    k_folds=3\n",
    ")\n",
    "print(f\"Chosen fold: {run_k_fold}\")\n",
    "\n"
   ]
  },
  {
   "cell_type": "markdown",
   "id": "1aeea479",
   "metadata": {},
   "source": [
    "# Model configurations"
   ]
  },
  {
   "cell_type": "code",
   "execution_count": 4,
   "id": "5330f865",
   "metadata": {},
   "outputs": [
    {
     "name": "stdout",
     "output_type": "stream",
     "text": [
      "Script is located in: /fp/homes01/u01/ec-sindrre/Thesis_project/experiments/SynCode/fox\n",
      "Project is located in: /fp/homes01/u01/ec-sindrre/Thesis_project\n",
      "Env is located in: /fp/homes01/u01/ec-sindrre/.env\n",
      "Script is located in: /fp/homes01/u01/ec-sindrre/Thesis_project/my_packages/common\n",
      "Project is located in: /fp/homes01/u01/ec-sindrre/Thesis_project\n",
      "Env is located in: /fp/homes01/u01/ec-sindrre/Thesis_project/.env\n",
      "Number of all responses: 50\n",
      "Url: http://localhost:11434/api/tags\n",
      "Response: <Response [200]>\n",
      "Server is reachable.\n"
     ]
    }
   ],
   "source": [
    "import sys\n",
    "from dotenv import load_dotenv\n",
    "from langchain_ollama import OllamaEmbeddings\n",
    "script_dir = os.getcwd() \n",
    "project_dir = os.path.abspath(f\"{script_dir}/../../..\")\n",
    "experiment_dir = os.path.abspath(f\"{script_dir}/..\")\n",
    "env_path = os.path.abspath(f\"{project_dir}/../.env\")\n",
    "load_dotenv(env_path)\n",
    "\n",
    "sys.path.append(project_dir)\n",
    "print(\"Script is located in:\", script_dir)\n",
    "print(\"Project is located in:\", project_dir)\n",
    "print(\"Env is located in:\", env_path)\n",
    "\n",
    "from my_packages.common.config import model_configs\n",
    "\n",
    "model_provider = 'ollama'\n",
    "all_responses = [sample[\"response\"] for sample in train_data] + [sample[\"response\"] for sample in val_data] + [sample[\"response\"] for sample in test_data]\n",
    "print(f\"Number of all responses: {len(all_responses)}\")\n",
    "\n",
    "client, models = model_configs(\n",
    "    all_responses=all_responses,\n",
    "    model_provider=model_provider,\n",
    "    models=[\"phi4:14b-fp16\"],\n",
    "    ollama_port= \"11434\"\n",
    ")\n",
    "\n",
    "\n",
    "\n"
   ]
  },
  {
   "cell_type": "markdown",
   "id": "6b075a40",
   "metadata": {},
   "source": [
    "# Task configurations"
   ]
  },
  {
   "cell_type": "markdown",
   "id": "b02a6d5c",
   "metadata": {},
   "source": [
    "<!-- ## Experiments settings -->"
   ]
  },
  {
   "cell_type": "code",
   "execution_count": 5,
   "id": "8c44196a",
   "metadata": {},
   "outputs": [
    {
     "name": "stdout",
     "output_type": "stream",
     "text": [
      "[{'type': 'function', 'function_name': 'Std.If', 'module_path': 'Std', 'doc': 'If `input` is true, the `then` trigger is executed, otherwise the `else` trigger is executed. `value` contains the value of `input`.', 'body': 'extern func(doc: \"If `input` is true, the `then` trigger is executed, otherwise the `else` trigger is executed. `value` contains the value of `input`.\") If {\\n\\n        in(x: 0, y: 0, name: \"execute\") trigger() execute\\n\\n        in(x: 0, y: 0, name: \"input\") property(Bool) predicate\\n\\n        out(x: 0, y: 0, name: \"then\") trigger() then\\n\\n        out(x: 0, y: 0, name: \"else\") trigger() else\\n\\n        out(x: 0, y: 0, name: \"value\") property(Bool) value\\n\\n    }', 'types': 'type CountContext Number\\ntype AnyContext Any'}, {'type': 'function', 'function_name': 'Std.IfExpression', 'module_path': 'Std', 'doc': 'IfExpression is a function that allows you to create a conditional expression using a simple expression language provided through the `expression` parameter. Example: `a > b ? a : b` creates two inputs, `a` and `b`. The expression is executed using the provided inputs, and the result is available on the `value` output.', 'body': 'extern func(doc: \"IfExpression is a function that allows you to create a conditional expression using a simple expression language provided through the `expression` parameter. Example: `a > b ? a : b` creates two inputs, `a` and `b`. The expression is executed using the provided inputs, and the result is available on the `value` output.\") IfExpression {\\n\\n        parameter(\\n\\n            compilerPlugin: \"Expression\",\\n\\n            defaultValue: \"\",\\n\\n        ) expression\\n\\n\\n\\n        in trigger execute\\n\\n        out trigger then\\n\\n        out trigger else\\n\\n        out property(Bool) value\\n\\n    }', 'types': 'type CountContext Number\\ntype AnyContext Any'}, {'type': 'function', 'function_name': 'Std.Count', 'module_path': 'Std', 'doc': 'Count can be used to make sure a loop in a flow only runs for a certain number of iteartions. The `reset` input trigger resets the count, and the `count` trigger is used to increment it.', 'body': 'extern func(doc: \"Count can be used to make sure a loop in a flow only runs for a certain number of iteartions. The `reset` input trigger resets the count, and the `count` trigger is used to increment it.\") Count {\\n\\n        in(x: 0, y: 0, name: \"reset\") trigger() reset\\n\\n        in(x: 0, y: 0, name: \"count\") trigger(consumes: Std.CountContext, ) count\\n\\n        in(x: 0, y: 0, name: \"iterations\") property(Number) iterations\\n\\n        out(x: 0, y: 0, name: \"on count\") trigger(produces: Std.CountContext) onCount\\n\\n        out(x: 0, y: 0, name: \"done\") trigger() done\\n\\n        out(x: 0, y: 0, name: \"interation\") property(Number) interation\\n\\n    }', 'types': 'type CountContext Number\\ntype AnyContext Any'}, {'type': 'function', 'function_name': 'Std.For', 'module_path': 'Std', 'doc': 'For is a loop construct that can be used to iterate over a list of items. The `trigger` input is used to start the loop, the `reset` input is used to reset the loop, and the `next` input is used to move to the next item in the list. The `items` input is used to provide the list of items to iterate over. The `on item` output trigger is used to signal that an item has been processed, the `done` output trigger is used to signal that the loop has finished, the `item` output property is used to provide the current item, and the `index` output property is used to provide the current index.', 'body': 'extern func(doc: \"For is a loop construct that can be used to iterate over a list of items. The `trigger` input is used to start the loop, the `reset` input is used to reset the loop, and the `next` input is used to move to the next item in the list. The `items` input is used to provide the list of items to iterate over. The `on item` output trigger is used to signal that an item has been processed, the `done` output trigger is used to signal that the loop has finished, the `item` output property is used to provide the current item, and the `index` output property is used to provide the current index.\") For {\\n\\n        in trigger() reset\\n\\n        in trigger(consumes: Number) next\\n\\n        in property(List) items\\n\\n        out(name: \"on item\") trigger(produces: Number) onItem\\n\\n        out trigger done\\n\\n        out property(Any) item\\n\\n        out property(Number) index\\n\\n    }', 'types': 'type CountContext Number\\ntype AnyContext Any'}, {'type': 'function', 'function_name': 'Strings.Replace', 'module_path': 'Strings', 'doc': 'Returns the string `input` with all occurrences of `search` replaced with `replace`.', 'body': 'extern func(doc: \"Returns the string `input` with all occurrences of `search` replaced with `replace`.\") Replace {\\n\\n        in(x: 0, y: 0, name: \"input\") property(String) input\\n\\n        in(x: 0, y: 0, name: \"search\") property(String) search\\n\\n        in(x: 0, y: 0, name: \"replace\") property(String) replace\\n\\n        out(x: 0, y: 0, name: \"output\") property(String) output\\n\\n    }', 'types': ''}, {'type': 'function', 'function_name': 'Strings.ToLower', 'module_path': 'Strings', 'doc': 'Returns the string `input` with all characters converted to lowercase.', 'body': 'extern func(doc: \"Returns the string `input` with all characters converted to lowercase.\") ToLower {\\n\\n        in(x: 0, y: 0, name: \"input\") property(String) input\\n\\n        out(x: 0, y: 0, name: \"output\") property(String) output\\n\\n    }', 'types': ''}, {'type': 'function', 'function_name': 'Strings.ToUpper', 'module_path': 'Strings', 'doc': 'Returns the string `input` with all characters converted to uppercase.', 'body': 'extern func(doc: \"Returns the string `input` with all characters converted to uppercase.\") ToUpper {\\n\\n        in(x: 0, y: 0, name: \"input\") property(String) input\\n\\n        out(x: 0, y: 0, name: \"output\") property(String) output\\n\\n    }', 'types': ''}, {'type': 'function', 'function_name': 'Strings.IsNumeric', 'module_path': 'Strings', 'doc': 'Returns true if `input` is a numeric string.', 'body': 'extern func(doc: \"Returns true if `input` is a numeric string.\") IsNumeric {\\n\\n        in property(String) input\\n\\n        out(name: \"is numeric\") property(Bool) isNumeric\\n\\n    }', 'types': ''}, {'type': 'function', 'function_name': 'Strings.Characters', 'module_path': 'Strings', 'doc': \"Returns a list of characters in `input`, though the output 'characters' list.\", 'body': 'extern func(doc: \"Returns a list of characters in `input`, though the output \\'characters\\' list.\") Characters {\\n\\n        in property(String) input\\n\\n        out property(List) characters\\n\\n    }', 'types': ''}, {'type': 'function', 'function_name': 'Strings.Contains', 'module_path': 'Strings', 'doc': 'Returns true if `input` contains `contains` as a substring.', 'body': 'extern func(doc: \"Returns true if `input` contains `contains` as a substring.\") Contains {\\n\\n        in property(String) input\\n\\n        in property(String) contains\\n\\n        out property(Bool) result\\n\\n    }', 'types': ''}, {'type': 'function', 'function_name': 'List.Empty', 'module_path': 'List', 'doc': 'Creates an empty list', 'body': 'extern func(doc: \"Creates an empty list\") Empty {\\n\\n        out(x: 0, y: 0, name: \"empty list\") property(List) list\\n\\n    }', 'types': ''}, {'type': 'function', 'function_name': 'List.GetAt', 'module_path': 'List', 'doc': 'Gets the item at `index` from `list`, returning Null if the index is out of bounds.', 'body': 'extern func(doc: \"Gets the item at `index` from `list`, returning Null if the index is out of bounds.\") GetAt {\\n\\n        in(x: 0, y: 0, name: \"list\") property(List) list\\n\\n        in(x: 0, y: 0, name: \"index\") property(Number) index\\n\\n        out(x: 0, y: 0, name: \"itemAtIndex\") property(Any) itemAtIndex\\n\\n    }', 'types': ''}, {'type': 'function', 'function_name': 'List.Add', 'module_path': 'List', 'doc': 'Adds `item` to the `list` by creating a new list with the item added, available on the `listWithItem` output.', 'body': 'extern func(doc: \"Adds `item` to the `list` by creating a new list with the item added, available on the `listWithItem` output.\") Add {\\n\\n        in(x: 0, y: 0, name: \"list\") property list\\n\\n        in(x: 0, y: 0, name: \"item\") property item\\n\\n        out(x: 0, y: 0, name: \"listWithItem\") property listWithItem\\n\\n    }', 'types': ''}, {'type': 'function', 'function_name': 'List.Remove', 'module_path': 'List', 'doc': 'Removes the item at `index` from `list` by creating a new list with the item removed, available on the `listWithoutItem` output.', 'body': 'extern func(doc: \"Removes the item at `index` from `list` by creating a new list with the item removed, available on the `listWithoutItem` output.\") Remove {\\n\\n        in(x: 0, y: 0, name: \"list\") property list\\n\\n        in(x: 0, y: 0, name: \"index\") property index\\n\\n        out(x: 0, y: 0, name: \"listWithoutItem\") property listWithoutItem\\n\\n        out(x: 0, y: 0, name: \"removed item\") property removedItem\\n\\n    }', 'types': ''}, {'type': 'function', 'function_name': 'List.Length', 'module_path': 'List', 'doc': 'Returns the number of items in `list`.', 'body': 'extern func(doc: \"Returns the number of items in `list`.\") Length {\\n\\n        in(x: 0, y: 0, name: \"list\") property list\\n\\n        out(x: 0, y: 0, name: \"length\") property length\\n\\n    }', 'types': ''}, {'type': 'function', 'function_name': 'List.Contains', 'module_path': 'List', 'doc': 'Returns true if `item` is contained in `list`.', 'body': 'extern func(doc: \"Returns true if `item` is contained in `list`.\") Contains {\\n\\n        in(x: 0, y: 0, name: \"list\") property list\\n\\n        in(x: 0, y: 0, name: \"item\") property(Any) item\\n\\n        out(x: 0, y: 0, name: \"result\") property(Bool) is_contained\\n\\n    }', 'types': ''}, {'type': 'function', 'function_name': 'List.Sort', 'module_path': 'List', 'doc': 'Returns a sorted version of `list`', 'body': 'extern func(doc: \"Returns a sorted version of `list`\") Sort {\\n\\n        in(x: 0, y: 0, name: \"list\") property list\\n\\n        out(x: 0, y: 0, name: \"sorted list\") property sorted_list\\n\\n    }', 'types': ''}, {'type': 'function', 'function_name': 'List.GenerateRange', 'module_path': 'List', 'doc': 'A list containing number from `from` to `to`.', 'body': 'extern func(doc: \"A list containing number from `from` to `to`.\") GenerateRange {\\n\\n        in(x: 0, y: 0, name: \"from\") property from\\n\\n        in(x: 0, y: 0, name: \"to\") property to\\n\\n        out(x: 0, y: 0, name: \"list\") property list\\n\\n    }', 'types': ''}, {'type': 'function', 'function_name': 'List.Max', 'module_path': 'List', 'doc': 'Finds the largest item in a list of numbers', 'body': 'extern func(doc: \"Finds the largest item in a list of numbers\") Max {\\n\\n        in(x: 0, y: 0, name: \"items\") property(List) items\\n\\n        out property(Number) max\\n\\n    }', 'types': ''}, {'type': 'function', 'function_name': 'List.Min', 'module_path': 'List', 'doc': 'Finds the smallest item in a list of numbers', 'body': 'extern func(doc: \"Finds the smallest item in a list of numbers\") Min {\\n\\n        in(x: 0, y: 0, name: \"items\") property(List) items\\n\\n        out property(Number) min\\n\\n    }', 'types': ''}, {'type': 'function', 'function_name': 'List.Slice', 'module_path': 'List', 'doc': 'Gets a slice of the list from `start` to, but not including, `end`. Gets the rest of the list if end == -1', 'body': 'extern func(doc: \"Gets a slice of the list from `start` to, but not including, `end`. Gets the rest of the list if end == -1\") Slice {\\n\\n        in(x: 0, y: 0, name: \"items\") property(List) list\\n\\n        in property(Number) start\\n\\n        in property(Number) end\\n\\n        out property(List) slice\\n\\n    }', 'types': ''}, {'type': 'function', 'function_name': 'List.Reversed', 'module_path': 'List', 'doc': 'Reverses the order of the items in `list`', 'body': 'extern func(doc: \"Reverses the order of the items in `list`\") Reversed {\\n\\n        in(x: 0, y: 0, name: \"items\") property(List) list\\n\\n        out property(List) reversed\\n\\n    }', 'types': ''}, {'type': 'function', 'function_name': 'List.FirstItem', 'module_path': 'List', 'doc': \"Returns the first item in 'list', through the `item` output.\", 'body': 'extern func(doc: \"Returns the first item in \\'list\\', through the `item` output.\") FirstItem {\\n\\n        in property(List) list\\n\\n        out property(Any) item\\n\\n    }', 'types': ''}, {'type': 'function', 'function_name': 'List.LastItem', 'module_path': 'List', 'doc': \"Returns the last item in 'list', through the `item` output.\", 'body': 'extern func(doc: \"Returns the last item in \\'list\\', through the `item` output.\") LastItem {\\n\\n        in property(List) list\\n\\n        out property(Any) item\\n\\n    }', 'types': ''}, {'type': 'function', 'function_name': 'List.IsEmpty', 'module_path': 'List', 'doc': \"Returns true if `list` is empty, through the 'isEmpty' output\", 'body': 'extern func(doc: \"Returns true if `list` is empty, through the \\'isEmpty\\' output\") IsEmpty {\\n\\n        in property(List) list\\n\\n        out(name: \"is empty\") property(Bool) isEmpty\\n\\n    }', 'types': ''}, {'type': 'function', 'function_name': 'List.NotEmpty', 'module_path': 'List', 'doc': \"Returns true if `list` is not empty, through the 'isEmpty' output\", 'body': 'extern func(doc: \"Returns true if `list` is not empty, through the \\'isEmpty\\' output\") NotEmpty {\\n\\n        in property(List) list\\n\\n        out(name: \"is empty\") property(Bool) isEmpty\\n\\n    }', 'types': ''}, {'type': 'function', 'function_name': 'List.Flatten', 'module_path': 'List', 'doc': 'Converts a list of lists into a flattened list.', 'body': 'extern func(doc: \"Converts a list of lists into a flattened list.\") Flatten {\\n\\n        in property(List) items\\n\\n        out property(List) flattened\\n\\n    }', 'types': ''}, {'type': 'function', 'function_name': 'List.Concat', 'module_path': 'List', 'doc': 'Concatenates two lists', 'body': 'extern func(doc: \"Concatenates two lists\") Concat {\\n\\n        in property(List) left\\n\\n        in property(List) right\\n\\n        out property(List) result\\n\\n    }', 'types': ''}, {'type': 'function', 'function_name': 'Query.Filter', 'module_path': 'Query', 'doc': \"Filters a list of items with the `where` expression is true. If the list items are objects, fields on the object can be accessed using the field names directly. If the values are primitives, like number of bool, the value can be accessed using the variable name 'it'.\", 'body': 'extern func(doc: \"Filters a list of items with the `where` expression is true. If the list items are objects, fields on the object can be accessed using the field names directly. If the values are primitives, like number of bool, the value can be accessed using the variable name \\'it\\'.\") Filter {\\n\\n          parameter(defaultValue: \"it < 10\") where\\n\\n          in property(List) list\\n\\n          out property(List) result\\n\\n      }', 'types': ''}, {'type': 'function', 'function_name': 'Iteration.Map', 'module_path': 'Iteration', 'doc': 'Calls the given function instance (`handler`) once for each item in `items` returning a new list with the mapped values (`output_list`). Handle is expected to be a function which takes in at least one input (the item), and returns a single item, the mapped value. It can also take a second input, which is the index of the value, and a third value, an optional context value passed from the outside.', 'body': 'extern func(doc: \"Calls the given function instance (`handler`) once for each item in `items` returning a new list with the mapped values (`output_list`). Handle is expected to be a function which takes in at least one input (the item), and returns a single item, the mapped value. It can also take a second input, which is the index of the value, and a third value, an optional context value passed from the outside.\") Map {\\n\\n        in(x: 0, y: 0, name: \"items\") property items\\n\\n        in(x: 0, y: 0, name: \"handler\") property(Any) handler\\n\\n        in(x: 0, y: 0, name: \"context\") property(Any) context\\n\\n        out(x: 0, y: 0, name: \"output list\") property output_list\\n\\n    }', 'types': ''}, {'type': 'function', 'function_name': 'Iteration.Zip', 'module_path': 'Iteration', 'doc': \"Call the given function instance ('handler') on corresponding pairs of elements from 'left' and 'right' lists. The function applies 'handler(left[i], right[i])' for each index 'i', up to the length of the shorter list. The results are collected into the output property 'zipped'.\", 'body': 'extern func(doc: \"Call the given function instance (\\'handler\\') on corresponding pairs of elements from \\'left\\' and \\'right\\' lists. The function applies \\'handler(left[i], right[i])\\' for each index \\'i\\', up to the length of the shorter list. The results are collected into the output property \\'zipped\\'.\") Zip {\\n\\n        in property(List) left\\n\\n        in property(List) right\\n\\n        in property(Any) handler\\n\\n        out property zipped\\n\\n    }', 'types': ''}, {'type': 'function', 'function_name': 'Iteration.Filter', 'module_path': 'Iteration', 'doc': \"Filters the input list 'items' using the provided 'handler' function, which is expected to return a boolean value. The filtered list is available on the 'output_list' output.\", 'body': 'extern func(doc: \"Filters the input list \\'items\\' using the provided \\'handler\\' function, which is expected to return a boolean value. The filtered list is available on the \\'output_list\\' output.\") Filter {\\n\\n        in(x: 0, y: 0, name: \"items\") property items\\n\\n        in(x: 0, y: 0, name: \"handler\") property(Any) handler\\n\\n        in(x: 0, y: 0, name: \"context\") property(Any) context\\n\\n        out(x: 0, y: 0, name: \"output list\") property output_list\\n\\n    }', 'types': ''}, {'type': 'function', 'function_name': 'Iteration.Reduce', 'module_path': 'Iteration', 'doc': 'Reduces the list `item` using the provided reducer function, which is expected to accept 2-4 inputs, the first being the accumulated value, and the second the value being accumulated. A third optional input will contain the current index, while the fourth optional input will contain the context input.', 'body': 'extern func(doc: \"Reduces the list `item` using the provided reducer function, which is expected to accept 2-4 inputs, the first being the accumulated value, and the second the value being accumulated. A third optional input will contain the current index, while the fourth optional input will contain the context input.\") Reduce {\\n\\n        in(x: 0, y: 0, name: \"items\") property items\\n\\n        in(name: \"initial value\") property initialValue\\n\\n        in(x: 0, y: 0, name: \"reducer\") property(Any) reducer\\n\\n        in(x: 0, y: 0, name: \"context\") property(Any) context\\n\\n        out(x: 0, y: 0, name: \"output\") property output\\n\\n    }', 'types': ''}, {'type': 'function', 'function_name': 'Iteration.Find', 'module_path': 'Iteration', 'doc': 'Finds an item in the list `items` that satisfies the `predicate` function, and returns the item through the `item` output.', 'body': 'extern func(doc: \"Finds an item in the list `items` that satisfies the `predicate` function, and returns the item through the `item` output.\") Find {\\n\\n        in property(List) items\\n\\n        in property predicate\\n\\n        in property context\\n\\n        out property item\\n\\n    }', 'types': ''}, {'type': 'function', 'function_name': 'Math.Floor', 'module_path': 'Math', 'doc': 'Returns the largest integer less than or equal `input`', 'body': 'extern func(doc: \"Returns the largest integer less than or equal `input`\") Floor {\\n\\n        in(x: 0, y: 0, name: \"input\") property input\\n\\n        out(x: 0, y: 0, name: \"output\") property output\\n\\n    }', 'types': ''}, {'type': 'function', 'function_name': 'Math.Add', 'module_path': 'Math', 'doc': 'Adds `first` and `second` making the result avilable on the `result` output.', 'body': 'extern func(doc: \"Adds `first` and `second` making the result avilable on the `result` output.\") Add {\\n\\n        in(x: 0, y: 0, name: \"first\") property(Number) first\\n\\n        in(x: 0, y: 0, name: \"second\") property(Number) second\\n\\n        out(x: 0, y: 0, name: \"result\") property(Number) result\\n\\n    }', 'types': ''}, {'type': 'function', 'function_name': 'Math.Sub', 'module_path': 'Math', 'doc': 'Subtracts `first` and `second` making the result avilable on the `result` output.', 'body': 'extern func(doc: \"Subtracts `first` and `second` making the result avilable on the `result` output.\") Sub {\\n\\n        in(x: 0, y: 0, name: \"first\") property(Number) first\\n\\n        in(x: 0, y: 0, name: \"second\") property(Number) second\\n\\n        out(x: 0, y: 0, name: \"result\") property(Number) result\\n\\n    }', 'types': ''}, {'type': 'function', 'function_name': 'Math.Mul', 'module_path': 'Math', 'doc': 'Multiplies `first` and `second` making the result avilable on the `result` output.', 'body': 'extern func(doc: \"Multiplies `first` and `second` making the result avilable on the `result` output.\") Mul {\\n\\n        in(x: 0, y: 0, name: \"first\") property(Number) first\\n\\n        in(x: 0, y: 0, name: \"second\") property(Number) second\\n\\n        out(x: 0, y: 0, name: \"result\") property(Number) result\\n\\n    }', 'types': ''}, {'type': 'function', 'function_name': 'Math.Div', 'module_path': 'Math', 'doc': 'Divides `first` by `second` making the result avilable on the `result` output.', 'body': 'extern func(doc: \"Divides `first` by `second` making the result avilable on the `result` output.\") Div {\\n\\n        in(x: 0, y: 0, name: \"first\") property(Number) first\\n\\n        in(x: 0, y: 0, name: \"second\") property(Number) second\\n\\n        out(x: 0, y: 0, name: \"result\") property(Number) result\\n\\n    }', 'types': ''}, {'type': 'function', 'function_name': 'Math.GreaterThan', 'module_path': 'Math', 'doc': 'Checks if `left` is greater than `right`', 'body': 'extern func(doc: \"Checks if `left` is greater than `right`\") GreaterThan {\\n\\n        in(x: 0, y: 0, name: \"left\") property(Number) left\\n\\n        in(x: 0, y: 0, name: \"right\") property(Number) right\\n\\n        out(x: 0, y: 0, name: \"result\") property(Bool) result\\n\\n    }', 'types': ''}, {'type': 'function', 'function_name': 'Math.LessThanOrEqual', 'module_path': 'Math', 'doc': \"Checks if 'left' is les than or eqaul to the 'right'\", 'body': 'extern func(doc: \"Checks if \\'left\\' is les than or eqaul to the \\'right\\'\") LessThanOrEqual {\\n\\n        in(x: 0, y: 0, name: \"left\") property(Number) left\\n\\n        in(x: 0, y: 0, name: \"right\") property(Number) right\\n\\n        out(x: 0, y: 0, name: \"result\") property(Bool) result\\n\\n    }', 'types': ''}, {'type': 'function', 'function_name': 'Math.Expression', 'module_path': 'Math', 'doc': 'Creates a mathematical expression using a simple expression language provided through the `expression` parameter. Example: `a + b / 10` creates two inputs, `a` and `b`. The expression is executed using the provided inputs, and the result is available on the `result` output.', 'body': 'extern func(doc: \"Creates a mathematical expression using a simple expression language provided through the `expression` parameter. Example: `a + b / 10` creates two inputs, `a` and `b`. The expression is executed using the provided inputs, and the result is available on the `result` output.\") Expression {\\n\\n        parameter(\\n\\n            compilerPlugin: \"Expression\",\\n\\n            defaultValue: \"\",\\n\\n            aiSystemPrompt: \"You will generate math expressions based on a user prompt. The expression you generate will consist only of the following operators:\\n\\n                            - + (plus)\\n\\n                            - - (minus)\\n\\n                            - * (multiply)\\n\\n                            - / (divide)\\n\\n                            - % (modulo)\\n\\n\\n\\n                            Inputs that must be provided by the user are represented by valid C identifiers, and should prefer to be as short as possible, without confusing the user about what the input represents.\\n\\n\\n\\n                            Here are a few examples:\\n\\n\\n\\n                            Prompt: Calcualte the average of three number\\n\\n                            Response: (a + b + c) / 3\\n\\n\\n\\n                            Prompt: Calculate the area of a circle of radius r\\n\\n                            Response: 3.14 * r * r\\n\\n\\n\\n                            Prompt: Calculate the area of a rectangle\\n\\n                            Response: a * b\\n\\n                            \",\\n\\n        ) expression\\n\\n        out(x: 0, y: 0, name: \"result\") property result\\n\\n    }', 'types': ''}, {'type': 'function', 'function_name': 'Math.Pow', 'module_path': 'Math', 'doc': 'Returns `x` raised to the power of `y`.', 'body': 'extern func(doc: \"Returns `x` raised to the power of `y`.\") Pow {\\n\\n        in(x: 0, y: 0, name: \"x\") property x\\n\\n        in(x: 0, y: 0, name: \"y\") property y\\n\\n        out(x: 0, y: 0, name: \"result\") property result\\n\\n    }', 'types': ''}, {'type': 'function', 'function_name': 'Math.Modulo', 'module_path': 'Math', 'doc': 'Calculates the modulo of `value` and `divisor`, and returns the modulo through the `result` output.', 'body': 'extern func(doc: \"Calculates the modulo of `value` and `divisor`, and returns the modulo through the `result` output.\") Modulo {\\n\\n        in(x: 0, y: 0, name: \"value\") property value\\n\\n        in(x: 0, y: 0, name: \"divisor\") property divisor\\n\\n        out(x: 0, y: 0, name: \"result\") property result\\n\\n    }', 'types': ''}, {'type': 'function', 'function_name': 'Math.Min', 'module_path': 'Math', 'doc': 'Returns the smallest of the input numbers.', 'body': 'extern func(doc: \"Returns the smallest of the input numbers.\") Min {\\n\\n        in(x: 0, y: 0, name: \"values\") property values\\n\\n        out(x: 0, y: 0, name: \"result\") property result\\n\\n    }', 'types': ''}, {'type': 'function', 'function_name': 'Logic.Equal', 'module_path': 'Logic', 'doc': 'Checks if `left` and `right` are equal by performing a deep scan of the objects.', 'body': 'extern func(doc: \"Checks if `left` and `right` are equal by performing a deep scan of the objects.\") Equal {\\n\\n        in(x: 0, y: 0, name: \"left\") property(Any) left\\n\\n        in(x: 0, y: 0, name: \"right\") property(Any) right\\n\\n        out(x: 0, y: 0, name: \"result\") property(Bool) result\\n\\n    }', 'types': ''}, {'type': 'function', 'function_name': 'Logic.NotEqual', 'module_path': 'Logic', 'doc': 'Checks if `left` and `right` are not equal by performing a deep scan of the objects.', 'body': 'extern func(doc: \"Checks if `left` and `right` are not equal by performing a deep scan of the objects.\") NotEqual {\\n\\n        in(x: 0, y: 0, name: \"left\") property(Any) left\\n\\n        in(x: 0, y: 0, name: \"right\") property(Any) right\\n\\n        out(x: 0, y: 0, name: \"result\") property(Bool) result\\n\\n    }', 'types': ''}, {'type': 'function', 'function_name': 'Logic.Not', 'module_path': 'Logic', 'doc': 'The logic not operator', 'body': 'extern func(doc: \"The logic not operator\") Not {\\n\\n        in property(Bool) input\\n\\n        out property(Bool) result\\n\\n    }', 'types': ''}, {'type': 'function', 'function_name': 'Logic.And', 'module_path': 'Logic', 'doc': 'The logic and operator', 'body': 'extern func(doc: \"The logic and operator\") And {\\n\\n        in property(Bool) left\\n\\n        in property(Bool) right\\n\\n        out property(Bool) result\\n\\n    }', 'types': ''}, {'type': 'function', 'function_name': 'Sets.Intersection', 'module_path': 'Sets', 'doc': 'Returns the intersection of the two input lists, `left` and `right`, through the `intersect` output.', 'body': 'extern func(doc: \"Returns the intersection of the two input lists, `left` and `right`, through the `intersect` output.\") Intersection {\\n\\n        in property(List) left\\n\\n        in property(List) right\\n\\n        out property(List) intersect\\n\\n    }', 'types': ''}, {'type': 'function', 'function_name': 'Sets.Difference', 'module_path': 'Sets', 'doc': 'Returns the difference of the two input lists, `left` and `right`, through the `difference` output.', 'body': 'extern func(doc: \"Returns the difference of the two input lists, `left` and `right`, through the `difference` output.\") Difference {\\n\\n        in property(List) left\\n\\n        in property(List) right\\n\\n        out property(List) difference\\n\\n    }', 'types': ''}]\n"
     ]
    }
   ],
   "source": [
    "import json\n",
    "import sys\n",
    "sys.path.append('../../')  # Add the path to the my_packages module\n",
    "from my_packages.common.classes import PromptType\n",
    "from my_packages.data_processing.attributes_processing import used_functions_to_string\n",
    "from my_packages.utils.file_utils import read_dataset_to_json\n",
    "\n",
    "\n",
    "# prompt_prefix = \"Create a function\" # \"e.g., \"Create a flow\"\n",
    "NUM_SHOTS = 5\n",
    "semantic_selector = False\n",
    "\n",
    "dataset = read_dataset_to_json(main_dataset_folder + \"MBPP-Midio-50.json\")\n",
    "used_functions_json = read_dataset_to_json(main_dataset_folder + \"/metadata/used_external_functions.json\")\n",
    "available_nodes = used_functions_to_string(used_functions_json)\n",
    "print(used_functions_json)\n"
   ]
  },
  {
   "cell_type": "markdown",
   "id": "6d4a530b",
   "metadata": {},
   "source": [
    "# Init Example selector"
   ]
  },
  {
   "cell_type": "code",
   "execution_count": 6,
   "id": "9c9f228b",
   "metadata": {},
   "outputs": [
    {
     "name": "stdout",
     "output_type": "stream",
     "text": [
      "Number of examples in the pool: 27\n",
      "Task: Create a function to find the smallest number in a list.\n",
      "Task: Create a function to find the kth element in the given array using 1-based indexing.\n",
      "Task: Create a function to multiply two numbers.\n",
      "Task: Create a function to find the minimum of three numbers.\n",
      "Task: Create a function that takes two lists and returns true if they have at least one common element.\n",
      "Task: Create a function to find the last digit of a given number.\n",
      "Task: Create a function to check whether the given list contains consecutive numbers or not.\n",
      "Task: Create a function to check whether a list is a sublist of another list.\n",
      "Task: Create a function to find the difference between largest and smallest value in a given list.\n",
      "Task: Create a function to find the difference of the first even and first odd number of a given list.\n",
      "Task: Create a function to find sum and average of first n natural numbers.\n",
      "Task: Create a function to check whether the given number is even or not.\n",
      "Task: Create a function to find the first repeated character in a given string.\n",
      "Task: Create a function which takes a list and returns a list with the same elements, but the k'th element removed.\n",
      "Task: Create a function to find the smallest missing number from a sorted list of natural numbers.\n",
      "Task: Create a function to find even numbers from a list of numbers.\n",
      "Task: Create a function to move all zeroes to the end of the given list.\n",
      "Task: Create a function to replace all occurrences of spaces, commas, or dots with a colon.\n",
      "Task: Create a function to check whether all the characters are same or not.\n",
      "Task: Create a function to find the second smallest number in a list.\n",
      "Task: Write a python function to check whether a list of numbers contains only one distinct element or not.\n",
      "Task: Create a function to count number of digits in a given string.\n",
      "Task: Create a function to find the sum of fourth power of first n odd natural numbers.\n",
      "Task: Create a function that finds the minimum of two numbers.\n",
      "Task: Create a function to find the surface area of a cube of a given size.\n",
      "Task: Create a function to interchange the first and last element in a given list.\n",
      "Task: Create a function to check whether the given number is a perfect square or not.\n"
     ]
    }
   ],
   "source": [
    "import sys\n",
    "sys.path.append('../../')  # Add the path to the my_packages module\n",
    "from my_packages.prompting.example_selectors import get_coverage_example_selector, get_semantic_similarity_example_selector\n",
    "\n",
    "example_pool = train_data\n",
    "example_pool.sort(key=lambda x: int(x['task_id']))\n",
    "print(f\"Number of examples in the pool: {len(example_pool)}\")\n",
    "\n",
    "if semantic_selector:\n",
    "    selector = get_semantic_similarity_example_selector(\n",
    "        example_pool, \n",
    "        OllamaEmbeddings(model=\"nomic-embed-text\"),\n",
    "        shots=NUM_SHOTS,\n",
    "        input_keys=[\"task\"],\n",
    "    )\n",
    "else:\n",
    "    selector = get_coverage_example_selector(\n",
    "        example_pool, \n",
    "        label = \"external_functions\",\n",
    "        shots=NUM_SHOTS,\n",
    "        seed=9\n",
    "    )\n",
    "used_ids = []\n",
    "for task in train_data:\n",
    "    examples = selector.select_examples({\"task\": task[\"task\"]})\n",
    "    used_ids += [e['task_id'] for e in examples]\n",
    "    print(f\"Task: {task['task']}\")\n"
   ]
  },
  {
   "cell_type": "markdown",
   "id": "8d30fcb4",
   "metadata": {},
   "source": [
    "## Evaluation"
   ]
  },
  {
   "cell_type": "code",
   "execution_count": 7,
   "id": "4ce8f017",
   "metadata": {},
   "outputs": [
    {
     "name": "stdout",
     "output_type": "stream",
     "text": [
      "Script is located in: /fp/homes01/u01/ec-sindrre/Thesis_project/experiments/SynCode/fox\n",
      "Project is located in: /fp/homes01/u01/ec-sindrre/Thesis_project\n",
      "\n",
      "\n",
      "\n",
      "Constrained output is set to True.\n"
     ]
    },
    {
     "data": {
      "application/vnd.jupyter.widget-view+json": {
       "model_id": "3661f073644e41469850a02755ea0f60",
       "version_major": 2,
       "version_minor": 0
      },
      "text/plain": [
       "Loading checkpoint shards:   0%|          | 0/6 [00:00<?, ?it/s]"
      ]
     },
     "metadata": {},
     "output_type": "display_data"
    },
    {
     "ename": "TypeError",
     "evalue": "run_prompt_step() got an unexpected keyword argument 'available_nodes'",
     "output_type": "error",
     "traceback": [
      "\u001b[0;31m---------------------------------------------------------------------------\u001b[0m",
      "\u001b[0;31mTypeError\u001b[0m                                 Traceback (most recent call last)",
      "Cell \u001b[0;32mIn[7], line 31\u001b[0m\n\u001b[1;32m     28\u001b[0m model \u001b[38;5;241m=\u001b[39m get_model_code_tokens_from_file(model_name, \u001b[38;5;124mf\u001b[39m\u001b[38;5;124m'\u001b[39m\u001b[38;5;132;01m{\u001b[39;00mproject_dir\u001b[38;5;132;01m}\u001b[39;00m\u001b[38;5;124m/data/max_tokens.json\u001b[39m\u001b[38;5;124m'\u001b[39m)\n\u001b[1;32m     29\u001b[0m results[model_name] \u001b[38;5;241m=\u001b[39m (\u001b[38;5;28;01mNone\u001b[39;00m, \u001b[38;5;28;01mNone\u001b[39;00m)\n\u001b[0;32m---> 31\u001b[0m model_result, largest_context \u001b[38;5;241m=\u001b[39m \u001b[43mrun_model\u001b[49m\u001b[43m(\u001b[49m\n\u001b[1;32m     32\u001b[0m \u001b[43m    \u001b[49m\u001b[43mclient\u001b[49m\u001b[43m,\u001b[49m\n\u001b[1;32m     33\u001b[0m \u001b[43m    \u001b[49m\u001b[43mmodel_name\u001b[49m\u001b[43m,\u001b[49m\n\u001b[1;32m     34\u001b[0m \u001b[43m    \u001b[49m\u001b[43mavailable_nodes\u001b[49m\u001b[38;5;241;43m=\u001b[39;49m\u001b[43mavailable_nodes\u001b[49m\u001b[43m,\u001b[49m\n\u001b[1;32m     35\u001b[0m \u001b[43m    \u001b[49m\u001b[43mdata\u001b[49m\u001b[38;5;241;43m=\u001b[39;49m\u001b[43mval_data\u001b[49m\u001b[43m[\u001b[49m\u001b[43m:\u001b[49m\u001b[38;5;241;43m2\u001b[39;49m\u001b[43m]\u001b[49m\u001b[43m,\u001b[49m\n\u001b[1;32m     36\u001b[0m \u001b[43m    \u001b[49m\u001b[43mexample_pool\u001b[49m\u001b[38;5;241;43m=\u001b[39;49m\u001b[43mselector\u001b[49m\u001b[43m,\u001b[49m\n\u001b[1;32m     37\u001b[0m \u001b[43m    \u001b[49m\u001b[43mmax_new_tokens\u001b[49m\u001b[43m \u001b[49m\u001b[38;5;241;43m=\u001b[39;49m\u001b[43m \u001b[49m\u001b[43mmodel\u001b[49m\u001b[43m[\u001b[49m\u001b[38;5;124;43m\"\u001b[39;49m\u001b[38;5;124;43mmax_tokens\u001b[39;49m\u001b[38;5;124;43m\"\u001b[39;49m\u001b[43m]\u001b[49m\u001b[43m,\u001b[49m\n\u001b[1;32m     38\u001b[0m \u001b[43m    \u001b[49m\u001b[43mtemperature\u001b[49m\u001b[43m \u001b[49m\u001b[38;5;241;43m=\u001b[39;49m\u001b[43m \u001b[49m\u001b[38;5;241;43m0.2\u001b[39;49m\u001b[43m,\u001b[49m\n\u001b[1;32m     39\u001b[0m \u001b[43m    \u001b[49m\u001b[43mtop_p\u001b[49m\u001b[43m \u001b[49m\u001b[38;5;241;43m=\u001b[39;49m\u001b[43m \u001b[49m\u001b[38;5;241;43m0.2\u001b[39;49m\u001b[43m,\u001b[49m\n\u001b[1;32m     40\u001b[0m \u001b[43m    \u001b[49m\u001b[43mtop_k\u001b[49m\u001b[43m \u001b[49m\u001b[38;5;241;43m=\u001b[39;49m\u001b[43m \u001b[49m\u001b[38;5;241;43m50\u001b[39;49m\u001b[43m,\u001b[49m\n\u001b[1;32m     41\u001b[0m \u001b[43m    \u001b[49m\u001b[43mn\u001b[49m\u001b[43m \u001b[49m\u001b[38;5;241;43m=\u001b[39;49m\u001b[43m \u001b[49m\u001b[38;5;241;43m1\u001b[39;49m\u001b[43m,\u001b[49m\n\u001b[1;32m     42\u001b[0m \u001b[43m    \u001b[49m\u001b[43mseed\u001b[49m\u001b[43m \u001b[49m\u001b[38;5;241;43m=\u001b[39;49m\u001b[43m \u001b[49m\u001b[38;5;241;43m9\u001b[39;49m\u001b[43m,\u001b[49m\n\u001b[1;32m     43\u001b[0m \u001b[43m    \u001b[49m\u001b[43mdebug\u001b[49m\u001b[43m \u001b[49m\u001b[38;5;241;43m=\u001b[39;49m\u001b[38;5;28;43;01mTrue\u001b[39;49;00m\u001b[43m,\u001b[49m\u001b[43m \u001b[49m\n\u001b[1;32m     44\u001b[0m \u001b[43m    \u001b[49m\u001b[43mprompt_type\u001b[49m\u001b[38;5;241;43m=\u001b[39;49m\u001b[43mprompt_type\u001b[49m\u001b[43m,\u001b[49m\n\u001b[1;32m     45\u001b[0m \u001b[43m    \u001b[49m\u001b[43mrag_data\u001b[49m\u001b[38;5;241;43m=\u001b[39;49m\u001b[38;5;28;43;01mNone\u001b[39;49;00m\u001b[43m,\u001b[49m\n\u001b[1;32m     46\u001b[0m \u001b[43m    \u001b[49m\u001b[43mmax_ctx\u001b[49m\u001b[38;5;241;43m=\u001b[39;49m\u001b[38;5;241;43m16000\u001b[39;49m\u001b[43m,\u001b[49m\n\u001b[1;32m     47\u001b[0m \u001b[43m    \u001b[49m\u001b[43mconstrained_output\u001b[49m\u001b[38;5;241;43m=\u001b[39;49m\u001b[38;5;28;43;01mTrue\u001b[39;49;00m\n\u001b[1;32m     48\u001b[0m \u001b[43m\u001b[49m\u001b[43m)\u001b[49m\n\u001b[1;32m     50\u001b[0m metric_results_lists \u001b[38;5;241m=\u001b[39m evaluate_code (\n\u001b[1;32m     51\u001b[0m     model_result,\n\u001b[1;32m     52\u001b[0m     ks\u001b[38;5;241m=\u001b[39m[\u001b[38;5;241m1\u001b[39m],\n\u001b[0;32m   (...)\u001b[0m\n\u001b[1;32m     58\u001b[0m     phase\u001b[38;5;241m=\u001b[39m\u001b[38;5;124m\"\u001b[39m\u001b[38;5;124mvalidation\u001b[39m\u001b[38;5;124m\"\u001b[39m\n\u001b[1;32m     59\u001b[0m )\n\u001b[1;32m     60\u001b[0m \u001b[38;5;66;03m## Optimizing for the first k in the ks list\u001b[39;00m\n",
      "File \u001b[0;32m~/Thesis_project/my_packages/evaluation/code_evaluation.py:359\u001b[0m, in \u001b[0;36mrun_model\u001b[0;34m(client, model, available_nodes, data, example_pool, max_new_tokens, temperature, top_p, top_k, n, seed, debug, prompt_type, ollama_port, rag_data, max_ctx, constrained_output)\u001b[0m\n\u001b[1;32m    356\u001b[0m largest_ctx_size \u001b[38;5;241m=\u001b[39m \u001b[38;5;241m0\u001b[39m\n\u001b[1;32m    357\u001b[0m \u001b[38;5;28;01mfor\u001b[39;00m index, sample \u001b[38;5;129;01min\u001b[39;00m \u001b[38;5;28menumerate\u001b[39m(data):\n\u001b[0;32m--> 359\u001b[0m     generated_candidates, prompt_size \u001b[38;5;241m=\u001b[39m \u001b[43mrun_prompt_step\u001b[49m\u001b[43m(\u001b[49m\n\u001b[1;32m    360\u001b[0m \u001b[43m        \u001b[49m\u001b[43mresponse_type\u001b[49m\u001b[38;5;241;43m=\u001b[39;49m\u001b[38;5;124;43m\"\u001b[39;49m\u001b[38;5;124;43mCODE\u001b[39;49m\u001b[38;5;124;43m\"\u001b[39;49m\u001b[43m,\u001b[49m\n\u001b[1;32m    361\u001b[0m \u001b[43m        \u001b[49m\u001b[43msample\u001b[49m\u001b[38;5;241;43m=\u001b[39;49m\u001b[43msample\u001b[49m\u001b[43m,\u001b[49m\n\u001b[1;32m    362\u001b[0m \u001b[43m        \u001b[49m\u001b[43mexample_pool\u001b[49m\u001b[38;5;241;43m=\u001b[39;49m\u001b[43mexample_pool\u001b[49m\u001b[43m,\u001b[49m\n\u001b[1;32m    363\u001b[0m \u001b[43m        \u001b[49m\u001b[43mprompt_type\u001b[49m\u001b[38;5;241;43m=\u001b[39;49m\u001b[43mprompt_type\u001b[49m\u001b[43m,\u001b[49m\n\u001b[1;32m    364\u001b[0m \u001b[43m        \u001b[49m\u001b[43mavailable_nodes\u001b[49m\u001b[38;5;241;43m=\u001b[39;49m\u001b[43mavailable_nodes\u001b[49m\u001b[43m,\u001b[49m\n\u001b[1;32m    365\u001b[0m \u001b[43m        \u001b[49m\u001b[43mclient\u001b[49m\u001b[38;5;241;43m=\u001b[39;49m\u001b[43mclient\u001b[49m\u001b[43m,\u001b[49m\n\u001b[1;32m    366\u001b[0m \u001b[43m        \u001b[49m\u001b[43mmodel\u001b[49m\u001b[38;5;241;43m=\u001b[39;49m\u001b[43mmodel\u001b[49m\u001b[43m,\u001b[49m\n\u001b[1;32m    367\u001b[0m \u001b[43m        \u001b[49m\u001b[43mmax_ctx\u001b[49m\u001b[38;5;241;43m=\u001b[39;49m\u001b[43mmax_ctx\u001b[49m\u001b[43m,\u001b[49m\n\u001b[1;32m    368\u001b[0m \u001b[43m        \u001b[49m\u001b[43mmax_new_tokens\u001b[49m\u001b[38;5;241;43m=\u001b[39;49m\u001b[43mmax_new_tokens\u001b[49m\u001b[43m,\u001b[49m\n\u001b[1;32m    369\u001b[0m \u001b[43m        \u001b[49m\u001b[43mgeneration_kwargs\u001b[49m\u001b[38;5;241;43m=\u001b[39;49m\u001b[43m{\u001b[49m\n\u001b[1;32m    370\u001b[0m \u001b[43m            \u001b[49m\u001b[38;5;124;43m\"\u001b[39;49m\u001b[38;5;124;43mclient\u001b[39;49m\u001b[38;5;124;43m\"\u001b[39;49m\u001b[43m:\u001b[49m\u001b[43m \u001b[49m\u001b[43mclient\u001b[49m\u001b[43m,\u001b[49m\n\u001b[1;32m    371\u001b[0m \u001b[43m            \u001b[49m\u001b[38;5;124;43m\"\u001b[39;49m\u001b[38;5;124;43mmodel\u001b[39;49m\u001b[38;5;124;43m\"\u001b[39;49m\u001b[43m:\u001b[49m\u001b[43m \u001b[49m\u001b[43mmodel\u001b[49m\u001b[43m,\u001b[49m\n\u001b[1;32m    372\u001b[0m \u001b[43m            \u001b[49m\u001b[38;5;124;43m\"\u001b[39;49m\u001b[38;5;124;43mtemperature\u001b[39;49m\u001b[38;5;124;43m\"\u001b[39;49m\u001b[43m:\u001b[49m\u001b[43m \u001b[49m\u001b[43mtemperature\u001b[49m\u001b[43m,\u001b[49m\n\u001b[1;32m    373\u001b[0m \u001b[43m            \u001b[49m\u001b[38;5;124;43m\"\u001b[39;49m\u001b[38;5;124;43mtop_p\u001b[39;49m\u001b[38;5;124;43m\"\u001b[39;49m\u001b[43m:\u001b[49m\u001b[43m \u001b[49m\u001b[43mtop_p\u001b[49m\u001b[43m,\u001b[49m\n\u001b[1;32m    374\u001b[0m \u001b[43m            \u001b[49m\u001b[38;5;124;43m\"\u001b[39;49m\u001b[38;5;124;43mtop_k\u001b[39;49m\u001b[38;5;124;43m\"\u001b[39;49m\u001b[43m:\u001b[49m\u001b[43m \u001b[49m\u001b[43mtop_k\u001b[49m\u001b[43m,\u001b[49m\n\u001b[1;32m    375\u001b[0m \u001b[43m            \u001b[49m\u001b[38;5;124;43m\"\u001b[39;49m\u001b[38;5;124;43mn\u001b[39;49m\u001b[38;5;124;43m\"\u001b[39;49m\u001b[43m:\u001b[49m\u001b[43m \u001b[49m\u001b[43mn\u001b[49m\u001b[43m,\u001b[49m\n\u001b[1;32m    376\u001b[0m \u001b[43m            \u001b[49m\u001b[38;5;124;43m\"\u001b[39;49m\u001b[38;5;124;43mseed\u001b[39;49m\u001b[38;5;124;43m\"\u001b[39;49m\u001b[43m:\u001b[49m\u001b[43m \u001b[49m\u001b[43mseed\u001b[49m\u001b[43m,\u001b[49m\n\u001b[1;32m    377\u001b[0m \u001b[43m            \u001b[49m\u001b[38;5;124;43m\"\u001b[39;49m\u001b[38;5;124;43mdebug\u001b[39;49m\u001b[38;5;124;43m\"\u001b[39;49m\u001b[43m:\u001b[49m\u001b[43m \u001b[49m\u001b[43mdebug\u001b[49m\u001b[43m,\u001b[49m\n\u001b[1;32m    378\u001b[0m \u001b[43m            \u001b[49m\u001b[38;5;124;43m\"\u001b[39;49m\u001b[38;5;124;43mconstrained_llm\u001b[39;49m\u001b[38;5;124;43m\"\u001b[39;49m\u001b[43m:\u001b[49m\u001b[43m \u001b[49m\u001b[43mconstrained_llm\u001b[49m\n\u001b[1;32m    379\u001b[0m \u001b[43m        \u001b[49m\u001b[43m}\u001b[49m\u001b[43m,\u001b[49m\n\u001b[1;32m    380\u001b[0m \u001b[43m        \u001b[49m\u001b[43mrag_data\u001b[49m\u001b[38;5;241;43m=\u001b[39;49m\u001b[43mrag_data\u001b[49m\u001b[43m,\u001b[49m\n\u001b[1;32m    381\u001b[0m \u001b[43m        \u001b[49m\u001b[43mdebug\u001b[49m\u001b[38;5;241;43m=\u001b[39;49m\u001b[43mdebug\u001b[49m\u001b[43m,\u001b[49m\n\u001b[1;32m    382\u001b[0m \u001b[43m        \u001b[49m\u001b[43mollama_port\u001b[49m\u001b[38;5;241;43m=\u001b[39;49m\u001b[43mollama_port\u001b[49m\u001b[43m,\u001b[49m\n\u001b[1;32m    383\u001b[0m \u001b[43m    \u001b[49m\u001b[43m)\u001b[49m\n\u001b[1;32m    384\u001b[0m     \u001b[38;5;28;01mif\u001b[39;00m constrained_llm:\n\u001b[1;32m    385\u001b[0m         torch\u001b[38;5;241m.\u001b[39mcuda\u001b[38;5;241m.\u001b[39mempty_cache()\n",
      "\u001b[0;31mTypeError\u001b[0m: run_prompt_step() got an unexpected keyword argument 'available_nodes'"
     ]
    }
   ],
   "source": [
    "import sys\n",
    "sys.path.append('../../')  # Add the path to the my_packages module\n",
    "%autoreload 2\n",
    "%reload_ext autoreload\n",
    "\n",
    "\n",
    "from my_packages.evaluation.code_evaluation import evaluate_code, run_model, run_validation, run_testing\n",
    "from my_packages.utils.tokens_utils import get_model_code_tokens_from_file\n",
    "from colorama import Fore, Back, Style\n",
    "import os\n",
    "\n",
    "script_dir = os.getcwd()\n",
    "project_dir = os.path.abspath(f\"{script_dir}/../../..\")\n",
    "\n",
    "sys.path.append(project_dir)\n",
    "print(\"Script is located in:\", script_dir)\n",
    "print(\"Project is located in:\", project_dir)\n",
    "\n",
    "metrics = ['syntax', 'semantic'] #['syntax', 'semantic', 'tests'] OR ['syntax', 'semantic']\n",
    "prompt_type = PromptType.SIGNATURE\n",
    "example_selector = f\"{'semantic' if semantic_selector else 'coverage'}\"\n",
    "experiment_name = f\"{prompt_type.value}_syncode_{NUM_SHOTS}_shot\"\n",
    "\n",
    "results = {}\n",
    "\n",
    "for model_name in models:\n",
    "    print(\"\\n\\n\")\n",
    "    model = get_model_code_tokens_from_file(model_name, f'{project_dir}/data/max_tokens.json')\n",
    "    results[model_name] = (None, None)\n",
    "\n",
    "    model_result, largest_context = run_model(\n",
    "        client,\n",
    "        model_name,\n",
    "        available_nodes=available_nodes,\n",
    "        data=val_data[:2],\n",
    "        example_pool=selector,\n",
    "        max_new_tokens = model[\"max_tokens\"],\n",
    "        temperature = 0.2,\n",
    "        top_p = 0.2,\n",
    "        top_k = 50,\n",
    "        n = 1,\n",
    "        seed = 9,\n",
    "        debug =True, \n",
    "        prompt_type=prompt_type,\n",
    "        rag_data=None,\n",
    "        max_ctx=16000,\n",
    "        constrained_output=True\n",
    "    )\n",
    "\n",
    "    metric_results_lists = evaluate_code (\n",
    "        model_result,\n",
    "        ks=[1],\n",
    "        evaluation_metrics=[\"syntax\"],\n",
    "        experiment_name=experiment_name,\n",
    "        model_name=model_name,\n",
    "        env=\"no\",\n",
    "        hyperparams={\"seed\": 9, \"temperature\": 0.2, \"top_p\": 0.2, \"top_k\": 10},\n",
    "        phase=\"validation\"\n",
    "    )\n",
    "    ## Optimizing for the first k in the ks list\n",
    "    pass_at_k_dict = metric_results_lists[0]\n",
    "    val_metric = pass_at_k_dict[f\"pass@1\"]\n",
    "    print(f\"Validation with temp={0.2}, top_k={50} and top_p={0.9}. Gave pass@1={val_metric} and pass@ks={pass_at_k_dict}\")\n",
    "        \n",
    "    print(f\"======\\n{model_name} FINAL RESULTS: ===============================\")\n",
    "    print(f\"{Style.BRIGHT}{Fore.CYAN} Model: {model_name} {Style.RESET_ALL}\")\n",
    "    test_runs = results[model_name][0]\n",
    "    final_result = results[model_name][1]\n",
    "    if test_runs:\n",
    "        for run in test_runs:\n",
    "            run.print()\n",
    "    if final_result:\n",
    "        final_result.print()\n",
    "\n",
    "      \n",
    "# Print the final results\n",
    "print(\"\\nALL MODELS FINAL RESULTS:\")\n",
    "for model_name, (test_runs, final_result) in results.items():\n",
    "    print(f\"{Style.BRIGHT}{Fore.CYAN} Model: {model_name} {Style.RESET_ALL}\")\n",
    "    for test_run in test_runs:\n",
    "        test_run.print()\n",
    "    final_result.print()\n",
    "\n"
   ]
  },
  {
   "cell_type": "markdown",
   "id": "29c4307f",
   "metadata": {},
   "source": [
    "<!-- ## Langsmith evaluate -->"
   ]
  }
 ],
 "metadata": {
  "kernelspec": {
   "display_name": "Python (thesis_venv)",
   "language": "python",
   "name": "thesis_venv"
  },
  "language_info": {
   "codemirror_mode": {
    "name": "ipython",
    "version": 3
   },
   "file_extension": ".py",
   "mimetype": "text/x-python",
   "name": "python",
   "nbconvert_exporter": "python",
   "pygments_lexer": "ipython3",
   "version": "3.11.5"
  }
 },
 "nbformat": 4,
 "nbformat_minor": 5
}
