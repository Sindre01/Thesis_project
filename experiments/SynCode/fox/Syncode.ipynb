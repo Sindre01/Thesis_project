{
 "cells": [
  {
   "cell_type": "markdown",
   "id": "605d132a-e3b2-42ee-82a2-50ccefbc9139",
   "metadata": {},
   "source": [
    "<!-- ## Install dependencies -->"
   ]
  },
  {
   "cell_type": "code",
   "execution_count": null,
   "id": "6cf93b4f-f9b0-4929-bd2c-4bb7688d8576",
   "metadata": {},
   "outputs": [],
   "source": [
    "\n",
    "\n",
    "# For Notebook:\n",
    "# %pip install ollama\n",
    "# %pip install openai\n",
    "# %pip install anthropic\n",
    "# %pip install transformers\n",
    "# %pip install tiktoken\n",
    "# %pip install python-dotenv\n",
    "# %pip install colorama\n",
    "\n",
    "# For packages: \n",
    "# %pip install scikit-learn\n",
    "# %pip install matplotlib\n",
    "# %pip install numpy\n",
    "# %pip install pandas\n",
    "# %pip install iterative-stratification\n",
    "# %pip install langchain\n",
    "# %pip install \"langsmith<0.2.0\"\n",
    "\n",
    "# For WebUI testing:\n",
    "# %pip install open-webui\n",
    "\n",
    "%load_ext autoreload\n"
   ]
  },
  {
   "cell_type": "markdown",
   "id": "9d1a1f6f",
   "metadata": {},
   "source": [
    "# Static splits"
   ]
  },
  {
   "cell_type": "code",
   "execution_count": null,
   "id": "1510069e",
   "metadata": {},
   "outputs": [],
   "source": [
    "import sys\n",
    "import os\n",
    "sys.path.append('../../../')  # Add the path to the my_packages module\n",
    "os.environ['EXPERIMENT_DB_NAME'] = \"syncode_experiments\"\n",
    "os.environ['HF_CACHE'] = \"/cluster/work/projects/ec12/ec-sindrre/hf-models\"\n",
    "os.environ['SYNCODE_CACHE'] = \"/cluster/work/projects/ec12/ec-sindrre/syncode\"\n",
    "\n",
    "from my_packages.prompting.prompt_building import transform_code_data\n",
    "from my_packages.utils.file_utils import read_dataset_to_json\n",
    "\n",
    "main_dataset_folder = '../../../data/MBPP_Midio_50/'\n",
    "\n",
    "def get_hold_out_splits(main_dataset_folder):\n",
    "    train_data = transform_code_data(read_dataset_to_json(main_dataset_folder + 'splits/hold_out/train_dataset.json'))\n",
    "    val_data = transform_code_data(read_dataset_to_json(main_dataset_folder + 'splits/hold_out/validation_dataset.json'))\n",
    "    test_data = transform_code_data(read_dataset_to_json(main_dataset_folder + 'splits/hold_out/test_dataset.json'))\n",
    "\n",
    "    print(f\"Train data: {len(train_data)}\")\n",
    "    print(f\"Val data: {len(val_data)}\")\n",
    "    print(f\"Test data: {len(test_data)}\")\n",
    "    return train_data, val_data, test_data\n",
    "\n",
    "# Use the static validation split for hyperparmeter tuning:\n",
    "_, val_data, _ = get_hold_out_splits(main_dataset_folder=main_dataset_folder)\n"
   ]
  },
  {
   "cell_type": "markdown",
   "id": "87924b94",
   "metadata": {},
   "source": [
    "# 3_fold splits"
   ]
  },
  {
   "cell_type": "code",
   "execution_count": null,
   "id": "8369e11b",
   "metadata": {},
   "outputs": [],
   "source": [
    "\n",
    "import os\n",
    "from my_packages.data_processing.split_dataset import create_kfold_splits\n",
    "\n",
    "main_dataset_folder = '../../../data/MBPP_Midio_50/'\n",
    "run_k_fold = 0 # 0-2, because we have 3 folds\n",
    "\n",
    "def get_k_fold_splits(main_dataset_folder, k, k_folds=3):\n",
    "\n",
    "    if os.path.exists(main_dataset_folder + f'splits/{k_folds}_fold'):\n",
    "        print(f\"Using existing {k_folds}-fold splits\")\n",
    "    else:\n",
    "        print(f\"Creating {k_folds}-fold splits\")\n",
    "        train, _ ,test = get_hold_out_splits(main_dataset_folder)\n",
    "        # Only use train+train for k-fold splits\n",
    "        create_kfold_splits((train+test), k_folds=k_folds, write_to_file=True)\n",
    "\n",
    "    train_data = read_dataset_to_json(main_dataset_folder + f'splits/{k_folds}_fold/train_dataset_{k}.json')\n",
    "    test_data = read_dataset_to_json(main_dataset_folder + f'splits/{k_folds}_fold/test_dataset_{k}.json')\n",
    "\n",
    "    print(f\"Train data: {len(train_data)}\")\n",
    "    print(f\"Test data: {len(test_data)}\")\n",
    "    return train_data, test_data\n",
    "\n",
    "# Use the K_fold split for testing:\n",
    "train_data, test_data = get_k_fold_splits(\n",
    "    main_dataset_folder=main_dataset_folder, \n",
    "    k=run_k_fold, \n",
    "    k_folds=3\n",
    ")\n",
    "print(f\"Chosen fold: {run_k_fold}\")\n",
    "\n"
   ]
  },
  {
   "cell_type": "markdown",
   "id": "1aeea479",
   "metadata": {},
   "source": [
    "# Model configurations"
   ]
  },
  {
   "cell_type": "code",
   "execution_count": null,
   "id": "5330f865",
   "metadata": {},
   "outputs": [],
   "source": [
    "import sys\n",
    "from dotenv import load_dotenv\n",
    "from langchain_ollama import OllamaEmbeddings\n",
    "script_dir = os.getcwd() \n",
    "project_dir = os.path.abspath(f\"{script_dir}/../../..\")\n",
    "experiment_dir = os.path.abspath(f\"{script_dir}/..\")\n",
    "env_path = os.path.abspath(f\"{project_dir}/../.env\")\n",
    "load_dotenv(env_path)\n",
    "\n",
    "sys.path.append(project_dir)\n",
    "print(\"Script is located in:\", script_dir)\n",
    "print(\"Project is located in:\", project_dir)\n",
    "print(\"Env is located in:\", env_path)\n",
    "\n",
    "from my_packages.common.config import model_configs\n",
    "\n",
    "model_provider = 'ollama'\n",
    "all_responses = [sample[\"response\"] for sample in train_data] + [sample[\"response\"] for sample in val_data] + [sample[\"response\"] for sample in test_data]\n",
    "print(f\"Number of all responses: {len(all_responses)}\")\n",
    "\n",
    "client, models = model_configs(\n",
    "    all_responses=all_responses,\n",
    "    model_provider=model_provider,\n",
    "    models=[\"phi4:14b-fp16\"],\n",
    "    ollama_port= \"11434\"\n",
    ")\n",
    "\n",
    "\n",
    "\n"
   ]
  },
  {
   "cell_type": "markdown",
   "id": "6b075a40",
   "metadata": {},
   "source": [
    "# Task configurations"
   ]
  },
  {
   "cell_type": "markdown",
   "id": "b02a6d5c",
   "metadata": {},
   "source": [
    "<!-- ## Experiments settings -->"
   ]
  },
  {
   "cell_type": "code",
   "execution_count": 5,
   "id": "8c44196a",
   "metadata": {},
   "outputs": [
    {
     "name": "stdout",
     "output_type": "stream",
     "text": [
      "Number of nodes in datset: 51\n",
      "Number all nodes: 290\n"
     ]
    }
   ],
   "source": [
    "import json\n",
    "import sys\n",
    "sys.path.append('../../')  # Add the path to the my_packages module\n",
    "from my_packages.common.classes import PromptType\n",
    "from my_packages.data_processing.attributes_processing import used_functions_to_string\n",
    "from my_packages.utils.file_utils import read_dataset_to_json\n",
    "\n",
    "\n",
    "# prompt_prefix = \"Create a function\" # \"e.g., \"Create a flow\"\n",
    "NUM_SHOTS = 5\n",
    "semantic_selector = False\n",
    "\n",
    "dataset = read_dataset_to_json(main_dataset_folder + \"MBPP-Midio-50.json\")\n",
    "script_dir = os.getcwd()\n",
    "project_dir = os.path.abspath(f\"{script_dir}/../../../\")\n",
    "dataset_nodes = read_dataset_to_json(main_dataset_folder + \"/metadata/used_external_functions.json\")\n",
    "print(f\"Number of nodes in datset: {len(dataset_nodes)}\")\n",
    "\n",
    "all_nodes = read_dataset_to_json( f\"{project_dir}/data/all_library_nodes.json\") # All nodes\n",
    "print(f\"Number all nodes: {len(all_nodes)}\")\n"
   ]
  },
  {
   "cell_type": "markdown",
   "id": "6d4a530b",
   "metadata": {},
   "source": [
    "# Init Example selector"
   ]
  },
  {
   "cell_type": "code",
   "execution_count": null,
   "id": "9c9f228b",
   "metadata": {},
   "outputs": [],
   "source": [
    "import sys\n",
    "sys.path.append('../../')  # Add the path to the my_packages module\n",
    "from my_packages.prompting.example_selectors import get_coverage_example_selector, get_semantic_similarity_example_selector\n",
    "\n",
    "example_pool = train_data\n",
    "example_pool.sort(key=lambda x: int(x['task_id']))\n",
    "print(f\"Number of examples in the pool: {len(example_pool)}\")\n",
    "\n",
    "if semantic_selector:\n",
    "    selector = get_semantic_similarity_example_selector(\n",
    "        example_pool, \n",
    "        OllamaEmbeddings(model=\"nomic-embed-text\"),\n",
    "        shots=NUM_SHOTS,\n",
    "        input_keys=[\"task\"],\n",
    "    )\n",
    "else:\n",
    "    selector = get_coverage_example_selector(\n",
    "        example_pool, \n",
    "        label = \"external_functions\",\n",
    "        shots=NUM_SHOTS,\n",
    "        seed=9\n",
    "    )\n",
    "used_ids = []\n",
    "for task in train_data:\n",
    "    examples = selector.select_examples({\"task\": task[\"task\"]})\n",
    "    used_ids += [e['task_id'] for e in examples]\n",
    "    print(f\"Task: {task['task']}\")\n"
   ]
  },
  {
   "cell_type": "markdown",
   "id": "8d30fcb4",
   "metadata": {},
   "source": [
    "## Evaluation"
   ]
  },
  {
   "cell_type": "code",
   "execution_count": null,
   "id": "4ce8f017",
   "metadata": {},
   "outputs": [
    {
     "name": "stdout",
     "output_type": "stream",
     "text": [
      "Script is located in: /fp/homes01/u01/ec-sindrre/Thesis_project/experiments/SynCode/fox\n",
      "Project is located in: /fp/homes01/u01/ec-sindrre/Thesis_project\n",
      "\n",
      "\n",
      "\n",
      "Constrained output is set to True.\n",
      "Model kwargs: {'max_length': 16000, 'max_new_tokens': 2012, 'temperature': 0.2, 'top_k': 50, 'top_p': 0.2, 'do_sample': True, 'quantize': True, 'use_cache': True}\n",
      "Using device_map=auto\n",
      "[2025-04-01 20:28:01,877-accelerate.utils.modeling] - We will use 90% of the memory on device 0 for storing the model, and 10% for the buffer to avoid OOM. You can set `max_memory` in to a higher value to use more memory (at your own risk).\n"
     ]
    },
    {
     "data": {
      "application/vnd.jupyter.widget-view+json": {
       "model_id": "8f56dc960f274cfbb187d066438c7774",
       "version_major": 2,
       "version_minor": 0
      },
      "text/plain": [
       "Loading checkpoint shards:   0%|          | 0/6 [00:00<?, ?it/s]"
      ]
     },
     "metadata": {},
     "output_type": "display_data"
    },
    {
     "name": "stdout",
     "output_type": "stream",
     "text": [
      "[2025-04-01 20:28:44,113-accelerate.big_modeling] - Some parameters are on the meta device because they were offloaded to the cpu.\n"
     ]
    }
   ],
   "source": [
    "import sys\n",
    "sys.path.append('../../')  # Add the path to the my_packages module\n",
    "%autoreload 2\n",
    "%reload_ext autoreload\n",
    "\n",
    "\n",
    "from my_packages.evaluation.code_evaluation import evaluate_code, run_model, run_validation, run_testing\n",
    "from my_packages.utils.tokens_utils import get_model_code_tokens_from_file\n",
    "from colorama import Fore, Back, Style\n",
    "import os\n",
    "\n",
    "script_dir = os.getcwd()\n",
    "project_dir = os.path.abspath(f\"{script_dir}/../../..\")\n",
    "\n",
    "sys.path.append(project_dir)\n",
    "print(\"Script is located in:\", script_dir)\n",
    "print(\"Project is located in:\", project_dir)\n",
    "\n",
    "metrics = ['syntax', 'semantic'] #['syntax', 'semantic', 'tests'] OR ['syntax', 'semantic']\n",
    "prompt_type = PromptType.SIGNATURE\n",
    "example_selector = f\"{'semantic' if semantic_selector else 'coverage'}\"\n",
    "experiment_name = f\"{prompt_type.value}_syncode_{NUM_SHOTS}_shot\"\n",
    "\n",
    "results = {}\n",
    "\n",
    "for model_name in models:\n",
    "    print(\"\\n\\n\")\n",
    "    model = get_model_code_tokens_from_file(model_name, f'{project_dir}/data/max_tokens.json')\n",
    "    results[model_name] = (None, None)\n",
    "\n",
    "    model_result, largest_context = run_model(\n",
    "        client,\n",
    "        model_name,\n",
    "        dataset_nodes=dataset_nodes,\n",
    "        all_nodes=all_nodes,\n",
    "        data=val_data[:2],\n",
    "        example_pool=selector,\n",
    "        max_new_tokens = model[\"max_tokens\"],\n",
    "        temperature = 0.2,\n",
    "        top_p = 0.2,\n",
    "        top_k = 50,\n",
    "        n = 1,\n",
    "        seed = 9,\n",
    "        debug =True, \n",
    "        prompt_type=prompt_type,\n",
    "        rag_data=None,\n",
    "        max_ctx=16000,\n",
    "        constrained_output=True\n",
    "    )\n",
    "\n",
    "    metric_results_lists = evaluate_code (\n",
    "        model_result,\n",
    "        ks=[1],\n",
    "        evaluation_metrics=[\"syntax\"],\n",
    "        experiment_name=experiment_name,\n",
    "        model_name=model_name,\n",
    "        env=\"no\",\n",
    "        hyperparams={\"seed\": 9, \"temperature\": 0.2, \"top_p\": 0.2, \"top_k\": 10},\n",
    "        phase=\"validation\"\n",
    "    )\n",
    "    ## Optimizing for the first k in the ks list\n",
    "    pass_at_k_dict = metric_results_lists[0]\n",
    "    val_metric = pass_at_k_dict[f\"pass@1\"]\n",
    "    print(f\"Validation with temp={0.2}, top_k={50} and top_p={0.9}. Gave pass@1={val_metric} and pass@ks={pass_at_k_dict}\")\n",
    "        \n",
    "    print(f\"======\\n{model_name} FINAL RESULTS: ===============================\")\n",
    "    print(f\"{Style.BRIGHT}{Fore.CYAN} Model: {model_name} {Style.RESET_ALL}\")\n",
    "    test_runs = results[model_name][0]\n",
    "    final_result = results[model_name][1]\n",
    "    if test_runs:\n",
    "        for run in test_runs:\n",
    "            run.print()\n",
    "    if final_result:\n",
    "        final_result.print()\n",
    "\n",
    "      \n",
    "# Print the final results\n",
    "print(\"\\nALL MODELS FINAL RESULTS:\")\n",
    "for model_name, (test_runs, final_result) in results.items():\n",
    "    print(f\"{Style.BRIGHT}{Fore.CYAN} Model: {model_name} {Style.RESET_ALL}\")\n",
    "    for test_run in test_runs:\n",
    "        test_run.print()\n",
    "    final_result.print()\n",
    "\n"
   ]
  },
  {
   "cell_type": "markdown",
   "id": "29c4307f",
   "metadata": {},
   "source": [
    "<!-- ## Langsmith evaluate -->"
   ]
  }
 ],
 "metadata": {
  "kernelspec": {
   "display_name": ".venv_Master",
   "language": "python",
   "name": "python3"
  },
  "language_info": {
   "codemirror_mode": {
    "name": "ipython",
    "version": 3
   },
   "file_extension": ".py",
   "mimetype": "text/x-python",
   "name": "python",
   "nbconvert_exporter": "python",
   "pygments_lexer": "ipython3",
   "version": "3.10.12"
  }
 },
 "nbformat": 4,
 "nbformat_minor": 5
}
