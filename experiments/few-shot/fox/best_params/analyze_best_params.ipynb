{
 "cells": [
  {
   "cell_type": "code",
   "execution_count": 6,
   "metadata": {},
   "outputs": [
    {
     "name": "stdout",
     "output_type": "stream",
     "text": [
      "signature_coverage_1_shot\n",
      "   model_name optimizer_metric  temperature  top_p  top_k  seed              created_at eval_method\n",
      "phi4:14b-fp16           syntax          0.2    0.2     50     9 2025-03-05 08:15:50.893    hold_out\n",
      "phi4:14b-fp16         semantic          0.2    0.2    100     9 2025-03-05 08:18:03.964    hold_out\n",
      "phi4:14b-fp16            tests          0.9    0.2     50     9 2025-03-05 08:21:19.644    hold_out\n",
      "...\n",
      "Total documents/rows: 24      \n",
      "--------------------------------------------------\n",
      "signature_coverage_5_shot\n",
      "   model_name optimizer_metric  temperature  top_p  top_k  seed              created_at eval_method\n",
      "phi4:14b-fp16           syntax          0.2    0.2     50     9 2025-03-05 08:23:48.817    hold_out\n",
      "phi4:14b-fp16         semantic          0.2    0.2     50     9 2025-03-05 08:25:18.899    hold_out\n",
      "phi4:14b-fp16            tests          0.2    0.9     50     9 2025-03-05 08:28:00.800    hold_out\n",
      "...\n",
      "Total documents/rows: 24      \n",
      "--------------------------------------------------\n",
      "signature_coverage_10_shot\n",
      "   model_name optimizer_metric  temperature  top_p  top_k  seed              created_at eval_method\n",
      "phi4:14b-fp16           syntax          0.2    0.6    100     9 2025-03-05 08:42:35.875    hold_out\n",
      "phi4:14b-fp16         semantic          0.2    0.9    100     9 2025-03-05 08:43:56.942    hold_out\n",
      "phi4:14b-fp16            tests          0.2    0.9     10     9 2025-03-05 08:46:09.302    hold_out\n",
      "...\n",
      "Total documents/rows: 24      \n",
      "--------------------------------------------------\n"
     ]
    }
   ],
   "source": [
    "import sys\n",
    "sys.path.append(\"../../../..\")\n",
    "from my_packages.db_service.best_params_service import pretty_print_best_params\n",
    "\n",
    "\n",
    "for shot in [1, 5, 10]:\n",
    "    experiment_name = f\"signature_coverage_{shot}_shot\"\n",
    "        \n",
    "    print(experiment_name)\n",
    "    # results_to_df(f\"{experiment_name}_5_shot\")\n",
    "\n",
    "    pretty_print_best_params(\n",
    "        experiment_name, \n",
    "        filter= {\"eval_method\": \"hold_out\", \"model_name\": {\"$in\": [\"phi4:14b-fp16\"]}},\n",
    "        exclude_columns=[\n",
    "            \"syntax@1\",\n",
    "            \"semantic@1\",\n",
    "            \"tests@1\"\n",
    "        ]\n",
    "    )\n",
    "\n",
    "\n"
   ]
  },
  {
   "cell_type": "markdown",
   "metadata": {},
   "source": []
  }
 ],
 "metadata": {
  "kernelspec": {
   "display_name": ".venv_Master",
   "language": "python",
   "name": "python3"
  },
  "language_info": {
   "codemirror_mode": {
    "name": "ipython",
    "version": 3
   },
   "file_extension": ".py",
   "mimetype": "text/x-python",
   "name": "python",
   "nbconvert_exporter": "python",
   "pygments_lexer": "ipython3",
   "version": "3.10.12"
  }
 },
 "nbformat": 4,
 "nbformat_minor": 2
}
