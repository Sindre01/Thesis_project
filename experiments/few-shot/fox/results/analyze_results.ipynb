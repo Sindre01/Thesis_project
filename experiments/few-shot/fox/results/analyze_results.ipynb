{
 "cells": [
  {
   "cell_type": "code",
   "execution_count": 7,
   "metadata": {},
   "outputs": [
    {
     "name": "stdout",
     "output_type": "stream",
     "text": [
      "regular_similarity_1_shot\n",
      "               model_name         seed              created_at eval_method                   syntax@1                    syntax@3                  semantic@1                  semantic@3                   tests@1                   tests@3\n",
      "llama3.2:3b-instruct-fp16 [3, 346, 75] 2025-04-04 16:20:28.306      3_fold {'mean': 0.4, 'std': 0.04} {'mean': 0.46, 'std': 0.09} {'mean': 0.36, 'std': 0.03} {'mean': 0.42, 'std': 0.06} {'mean': 0.0, 'std': 0.0} {'mean': 0.0, 'std': 0.0}\n",
      "...\n",
      "Total documents/rows: 10      \n",
      "--------------------------------------------------\n",
      "regular_similarity_5_shot\n",
      "               model_name         seed              created_at eval_method                    syntax@1                    syntax@3                  semantic@1                 semantic@3                   tests@1                   tests@3\n",
      "llama3.2:3b-instruct-fp16 [3, 346, 75] 2025-04-04 16:20:36.469      3_fold {'mean': 0.69, 'std': 0.02} {'mean': 0.92, 'std': 0.03} {'mean': 0.53, 'std': 0.02} {'mean': 0.8, 'std': 0.03} {'mean': 0.0, 'std': 0.0} {'mean': 0.0, 'std': 0.0}\n",
      "...\n",
      "Total documents/rows: 10      \n",
      "--------------------------------------------------\n",
      "regular_similarity_10_shot\n",
      "               model_name         seed              created_at eval_method                    syntax@1                    syntax@3                  semantic@1                 semantic@3                   tests@1                   tests@3\n",
      "llama3.2:3b-instruct-fp16 [3, 346, 75] 2025-04-04 16:20:35.673      3_fold {'mean': 0.64, 'std': 0.06} {'mean': 0.91, 'std': 0.05} {'mean': 0.49, 'std': 0.02} {'mean': 0.8, 'std': 0.03} {'mean': 0.0, 'std': 0.0} {'mean': 0.0, 'std': 0.0}\n",
      "...\n",
      "Total documents/rows: 10      \n",
      "--------------------------------------------------\n"
     ]
    }
   ],
   "source": [
    "import sys\n",
    "import os\n",
    "sys.path.append(\"../../../..\")\n",
    "os.environ['EXPERIMENT_DB_NAME'] = \"few_shot_experiments\"\n",
    "from my_packages.db_service.results_service import pretty_print_results, results_to_df\n",
    "\n",
    "\n",
    "for shot in [1, 5, 10]:\n",
    "    experiment_name = f\"regular_similarity_{shot}_shot\"\n",
    "        \n",
    "    print(experiment_name)\n",
    "    # results_to_df(f\"{experiment_name}_5_shot\")\n",
    "\n",
    "    pretty_print_results(\n",
    "        experiment_name, \n",
    "        filter= {\"model_name\": {\"$in\": [\"llama3.2:3b-instruct-fp16\"]}},\n",
    "        exclude_columns=[\n",
    "            \"ks\", \"temperature\", \"top_p\", \"top_k\", \"metrics\",\n",
    "            \"syntax@10\",\n",
    "            \"semantic@10\",\n",
    "            \"tests@10\",\n",
    "            \"syntax@5\",\n",
    "            \"semantic@5\",\n",
    "            \"tests@5\",\n",
    "            \"syntax@2\",\n",
    "            \"semantic@2\",\n",
    "            \"tests@2\",\n",
    "        ]\n",
    "    )\n",
    "\n",
    "\n"
   ]
  }
 ],
 "metadata": {
  "kernelspec": {
   "display_name": ".venv_Master",
   "language": "python",
   "name": "python3"
  },
  "language_info": {
   "codemirror_mode": {
    "name": "ipython",
    "version": 3
   },
   "file_extension": ".py",
   "mimetype": "text/x-python",
   "name": "python",
   "nbconvert_exporter": "python",
   "pygments_lexer": "ipython3",
   "version": "3.11.5"
  }
 },
 "nbformat": 4,
 "nbformat_minor": 2
}
