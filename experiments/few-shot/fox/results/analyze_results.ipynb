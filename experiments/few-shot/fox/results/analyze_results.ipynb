{
 "cells": [
  {
   "cell_type": "code",
   "execution_count": 5,
   "metadata": {},
   "outputs": [
    {
     "name": "stdout",
     "output_type": "stream",
     "text": [
      "signature_similarity_1_shot\n",
      "   model_name         seed              created_at      eval_method                    syntax@1                    syntax@3                  semantic@1                  semantic@3                     tests@1                     tests@3\n",
      "phi4:14b-fp16 [3, 346, 75] 2025-03-14 11:20:41.620           3_fold {'mean': 0.56, 'std': 0.13} {'mean': 0.75, 'std': 0.12} {'mean': 0.46, 'std': 0.12} {'mean': 0.63, 'std': 0.14} {'mean': 0.36, 'std': 0.12} {'mean': 0.49, 'std': 0.12}\n",
      "phi4:14b-fp16 [75, 3, 346] 2025-03-14 12:46:57.059         hold_out {'mean': 0.59, 'std': 0.02} {'mean': 0.72, 'std': 0.04} {'mean': 0.38, 'std': 0.02} {'mean': 0.51, 'std': 0.05} {'mean': 0.31, 'std': 0.01} {'mean': 0.37, 'std': 0.04}\n",
      "phi4:14b-fp16 [3, 346, 75] 2025-03-27 14:07:14.748 3_fold/ALL_NODES  {'mean': 0.6, 'std': 0.12} {'mean': 0.79, 'std': 0.11} {'mean': 0.51, 'std': 0.09} {'mean': 0.64, 'std': 0.11} {'mean': 0.36, 'std': 0.07} {'mean': 0.49, 'std': 0.09}\n",
      "...\n",
      "Total documents/rows: 9      \n",
      "--------------------------------------------------\n",
      "signature_similarity_5_shot\n",
      "   model_name         seed              created_at      eval_method                    syntax@1                    syntax@3                  semantic@1                  semantic@3                     tests@1                     tests@3\n",
      "phi4:14b-fp16 [3, 346, 75] 2025-03-14 11:21:52.209           3_fold {'mean': 0.74, 'std': 0.08} {'mean': 0.88, 'std': 0.08} {'mean': 0.61, 'std': 0.04} {'mean': 0.77, 'std': 0.06} {'mean': 0.45, 'std': 0.07} {'mean': 0.61, 'std': 0.08}\n",
      "phi4:14b-fp16 [75, 3, 346] 2025-03-14 12:47:16.138         hold_out {'mean': 0.79, 'std': 0.03} {'mean': 0.89, 'std': 0.01} {'mean': 0.71, 'std': 0.01} {'mean': 0.87, 'std': 0.02} {'mean': 0.51, 'std': 0.01} {'mean': 0.73, 'std': 0.02}\n",
      "phi4:14b-fp16 [3, 346, 75] 2025-03-27 14:07:59.467 3_fold/ALL_NODES {'mean': 0.74, 'std': 0.08} {'mean': 0.88, 'std': 0.09} {'mean': 0.65, 'std': 0.08}  {'mean': 0.8, 'std': 0.11} {'mean': 0.44, 'std': 0.02}  {'mean': 0.6, 'std': 0.04}\n",
      "...\n",
      "Total documents/rows: 8      \n",
      "--------------------------------------------------\n",
      "signature_similarity_10_shot\n",
      "   model_name         seed              created_at      eval_method                    syntax@1                    syntax@3                  semantic@1                  semantic@3                     tests@1                     tests@3\n",
      "phi4:14b-fp16 [3, 346, 75] 2025-03-14 11:22:40.055           3_fold {'mean': 0.79, 'std': 0.05} {'mean': 0.94, 'std': 0.05} {'mean': 0.69, 'std': 0.02} {'mean': 0.89, 'std': 0.05} {'mean': 0.48, 'std': 0.02} {'mean': 0.71, 'std': 0.03}\n",
      "phi4:14b-fp16 [75, 3, 346] 2025-03-14 12:48:15.896         hold_out {'mean': 0.84, 'std': 0.02} {'mean': 0.99, 'std': 0.01} {'mean': 0.72, 'std': 0.05} {'mean': 0.94, 'std': 0.02} {'mean': 0.41, 'std': 0.01} {'mean': 0.67, 'std': 0.03}\n",
      "phi4:14b-fp16 [3, 346, 75] 2025-03-27 14:08:09.741 3_fold/ALL_NODES {'mean': 0.83, 'std': 0.04} {'mean': 0.98, 'std': 0.02}  {'mean': 0.7, 'std': 0.05} {'mean': 0.92, 'std': 0.03}  {'mean': 0.5, 'std': 0.04} {'mean': 0.75, 'std': 0.04}\n",
      "...\n",
      "Total documents/rows: 9      \n",
      "--------------------------------------------------\n"
     ]
    }
   ],
   "source": [
    "import sys\n",
    "import os\n",
    "sys.path.append(\"../../../..\")\n",
    "os.environ['EXPERIMENT_DB_NAME'] = \"few_shot_experiments\"\n",
    "from my_packages.db_service.results_service import pretty_print_results, results_to_df\n",
    "\n",
    "\n",
    "for shot in [1, 5, 10]:\n",
    "    experiment_name = f\"signature_similarity_{shot}_shot\"\n",
    "        \n",
    "    print(experiment_name)\n",
    "    # results_to_df(f\"{experiment_name}_5_shot\")\n",
    "\n",
    "    pretty_print_results(\n",
    "        experiment_name, \n",
    "        filter= {\"model_name\": {\"$in\": [\"phi4:14b-fp16\"]}},\n",
    "        exclude_columns=[\n",
    "            \"ks\", \"temperature\", \"top_p\", \"top_k\", \"metrics\",\n",
    "            \"syntax@10\",\n",
    "            \"semantic@10\",\n",
    "            \"tests@10\",\n",
    "            \"syntax@5\",\n",
    "            \"semantic@5\",\n",
    "            \"tests@5\",\n",
    "            \"syntax@2\",\n",
    "            \"semantic@2\",\n",
    "            \"tests@2\",\n",
    "        ]\n",
    "    )\n",
    "\n",
    "\n"
   ]
  }
 ],
 "metadata": {
  "kernelspec": {
   "display_name": ".venv_Master",
   "language": "python",
   "name": "python3"
  },
  "language_info": {
   "codemirror_mode": {
    "name": "ipython",
    "version": 3
   },
   "file_extension": ".py",
   "mimetype": "text/x-python",
   "name": "python",
   "nbconvert_exporter": "python",
   "pygments_lexer": "ipython3",
   "version": "3.11.5"
  }
 },
 "nbformat": 4,
 "nbformat_minor": 2
}
