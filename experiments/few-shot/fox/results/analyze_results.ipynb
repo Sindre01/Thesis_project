{
 "cells": [
  {
   "cell_type": "code",
   "execution_count": 10,
   "metadata": {},
   "outputs": [
    {
     "name": "stdout",
     "output_type": "stream",
     "text": [
      "signature_coverage_5_shot\n",
      "                model_name              created_at eval_method                  nodes@flow\n",
      "             phi4:14b-fp16 2025-05-02 15:39:41.198      3_fold {'mean': 0.63, 'std': 0.04}\n",
      " llama3.2:3b-instruct-fp16 2025-05-02 15:37:38.818      3_fold {'mean': 0.74, 'std': 0.14}\n",
      "llama3.3:70b-instruct-fp16 2025-05-02 15:38:58.732      3_fold {'mean': 0.71, 'std': 0.04}\n",
      "...\n",
      "Total documents/rows: 10      \n",
      "--------------------------------------------------\n",
      "signature_coverage_10_shot\n",
      "                model_name              created_at eval_method                  nodes@flow\n",
      "             phi4:14b-fp16 2025-05-02 15:39:51.912      3_fold {'mean': 0.65, 'std': 0.05}\n",
      " llama3.2:3b-instruct-fp16 2025-05-02 15:38:20.286      3_fold {'mean': 0.65, 'std': 0.04}\n",
      "llama3.3:70b-instruct-fp16 2025-05-02 15:39:31.317      3_fold {'mean': 0.75, 'std': 0.03}\n",
      "...\n",
      "Total documents/rows: 9      \n",
      "--------------------------------------------------\n"
     ]
    }
   ],
   "source": [
    "import sys\n",
    "import os\n",
    "sys.path.append(\"../../../..\")\n",
    "os.environ['EXPERIMENT_DB_NAME'] = \"few_shot_experiments\"\n",
    "from my_packages.db_service.results_service import pretty_print_results, results_to_df\n",
    "\n",
    "\n",
    "for shot in [5, 10]:\n",
    "    experiment_name = f\"signature_coverage_{shot}_shot\"\n",
    "        \n",
    "    print(experiment_name)\n",
    "    # results_to_df(f\"{experiment_name}_5_shot\")\n",
    "\n",
    "    pretty_print_results(\n",
    "        experiment_name, \n",
    "        filter= {\"eval_method\": \"3_fold\", \"model_name\": {\"$in\": [\"llama3.2:3b-instruct-fp16\", \"phi4:14b-fp16\", \"llama3.3:70b-instruct-fp16\"]}},\n",
    "        exclude_columns=[\n",
    "            \"ks\", \"temperature\", \"top_p\", \"top_k\", \"metrics\", \"seed\",\n",
    "            \"syntax@10\",\n",
    "            \"semantic@10\",\n",
    "            \"tests@10\",\n",
    "            \"syntax@5\",\n",
    "            \"semantic@5\",\n",
    "            \"tests@5\",\n",
    "            \"syntax@2\",\n",
    "            \"semantic@2\",\n",
    "            \"tests@2\",\n",
    "            \"syntax@1\",\n",
    "            \"semantic@1\",\n",
    "            \"tests@1\",\n",
    "            \"syntax@3\",\n",
    "            \"semantic@3\",\n",
    "            \"tests@3\",\n",
    "  \n",
    "        ]\n",
    "    )\n",
    "\n",
    "\n"
   ]
  }
 ],
 "metadata": {
  "kernelspec": {
   "display_name": ".venv_Master",
   "language": "python",
   "name": "python3"
  },
  "language_info": {
   "codemirror_mode": {
    "name": "ipython",
    "version": 3
   },
   "file_extension": ".py",
   "mimetype": "text/x-python",
   "name": "python",
   "nbconvert_exporter": "python",
   "pygments_lexer": "ipython3",
   "version": "3.11.0rc1"
  }
 },
 "nbformat": 4,
 "nbformat_minor": 2
}
