{
 "cells": [
  {
   "cell_type": "code",
   "execution_count": 3,
   "metadata": {},
   "outputs": [
    {
     "name": "stdout",
     "output_type": "stream",
     "text": [
      "signature_similarity_1_shot\n",
      "                model_name              created_at eval_method                    syntax@1                    syntax@3                  semantic@1                  semantic@3                     tests@1                     tests@3\n",
      "             phi4:14b-fp16 2025-04-08 08:06:55.054      3_fold {'mean': 0.58, 'std': 0.14} {'mean': 0.77, 'std': 0.12} {'mean': 0.47, 'std': 0.13} {'mean': 0.64, 'std': 0.14} {'mean': 0.36, 'std': 0.12} {'mean': 0.49, 'std': 0.12}\n",
      " llama3.2:3b-instruct-fp16 2025-04-08 08:06:07.188      3_fold {'mean': 0.31, 'std': 0.03} {'mean': 0.48, 'std': 0.02} {'mean': 0.23, 'std': 0.07} {'mean': 0.38, 'std': 0.06}  {'mean': 0.1, 'std': 0.07} {'mean': 0.16, 'std': 0.06}\n",
      "llama3.3:70b-instruct-fp16 2025-04-08 08:06:03.785      3_fold {'mean': 0.55, 'std': 0.15}  {'mean': 0.7, 'std': 0.17}  {'mean': 0.18, 'std': 0.0} {'mean': 0.26, 'std': 0.01} {'mean': 0.12, 'std': 0.05}  {'mean': 0.2, 'std': 0.05}\n",
      "...\n",
      "Total documents/rows: 10      \n",
      "--------------------------------------------------\n",
      "signature_similarity_5_shot\n",
      "                model_name              created_at eval_method                    syntax@1                    syntax@3                  semantic@1                  semantic@3                     tests@1                     tests@3\n",
      "             phi4:14b-fp16 2025-04-07 22:00:41.800      3_fold  {'mean': 0.8, 'std': 0.08} {'mean': 0.91, 'std': 0.06} {'mean': 0.61, 'std': 0.03} {'mean': 0.77, 'std': 0.06} {'mean': 0.45, 'std': 0.07} {'mean': 0.61, 'std': 0.08}\n",
      " llama3.2:3b-instruct-fp16 2025-04-07 21:58:30.400      3_fold  {'mean': 0.6, 'std': 0.03} {'mean': 0.81, 'std': 0.02} {'mean': 0.42, 'std': 0.04} {'mean': 0.66, 'std': 0.09} {'mean': 0.24, 'std': 0.02}  {'mean': 0.4, 'std': 0.02}\n",
      "llama3.3:70b-instruct-fp16 2025-04-07 22:00:15.121      3_fold {'mean': 0.69, 'std': 0.09} {'mean': 0.86, 'std': 0.11}  {'mean': 0.6, 'std': 0.03} {'mean': 0.75, 'std': 0.05} {'mean': 0.47, 'std': 0.02} {'mean': 0.59, 'std': 0.02}\n",
      "...\n",
      "Total documents/rows: 10      \n",
      "--------------------------------------------------\n",
      "signature_similarity_10_shot\n",
      "                model_name              created_at eval_method                    syntax@1                    syntax@3                  semantic@1                  semantic@3                     tests@1                     tests@3\n",
      "             phi4:14b-fp16 2025-04-07 22:01:33.104      3_fold {'mean': 0.83, 'std': 0.04} {'mean': 0.96, 'std': 0.03} {'mean': 0.69, 'std': 0.02}  {'mean': 0.9, 'std': 0.05} {'mean': 0.48, 'std': 0.02} {'mean': 0.71, 'std': 0.03}\n",
      " llama3.2:3b-instruct-fp16 2025-04-07 21:59:40.642      3_fold {'mean': 0.79, 'std': 0.03} {'mean': 0.95, 'std': 0.06} {'mean': 0.53, 'std': 0.09} {'mean': 0.79, 'std': 0.09} {'mean': 0.26, 'std': 0.07} {'mean': 0.47, 'std': 0.09}\n",
      "llama3.3:70b-instruct-fp16 2025-04-07 22:00:43.893      3_fold {'mean': 0.79, 'std': 0.01} {'mean': 0.97, 'std': 0.02} {'mean': 0.67, 'std': 0.06} {'mean': 0.87, 'std': 0.06} {'mean': 0.52, 'std': 0.03} {'mean': 0.68, 'std': 0.05}\n",
      "...\n",
      "Total documents/rows: 11      \n",
      "--------------------------------------------------\n"
     ]
    }
   ],
   "source": [
    "import sys\n",
    "import os\n",
    "sys.path.append(\"../../../..\")\n",
    "os.environ['EXPERIMENT_DB_NAME'] = \"few_shot_experiments\"\n",
    "from my_packages.db_service.results_service import pretty_print_results, results_to_df\n",
    "\n",
    "\n",
    "for shot in [1, 5, 10]:\n",
    "    experiment_name = f\"signature_similarity_{shot}_shot\"\n",
    "        \n",
    "    print(experiment_name)\n",
    "    # results_to_df(f\"{experiment_name}_5_shot\")\n",
    "\n",
    "    pretty_print_results(\n",
    "        experiment_name, \n",
    "        filter= {\"eval_method\": \"3_fold\", \"model_name\": {\"$in\": [\"llama3.2:3b-instruct-fp16\", \"phi4:14b-fp16\", \"llama3.3:70b-instruct-fp16\"]}},\n",
    "        exclude_columns=[\n",
    "            \"ks\", \"temperature\", \"top_p\", \"top_k\", \"metrics\", \"seed\",\n",
    "            \"syntax@10\",\n",
    "            \"semantic@10\",\n",
    "            \"tests@10\",\n",
    "            \"syntax@5\",\n",
    "            \"semantic@5\",\n",
    "            \"tests@5\",\n",
    "            \"syntax@2\",\n",
    "            \"semantic@2\",\n",
    "            \"tests@2\",\n",
    "        ]\n",
    "    )\n",
    "\n",
    "\n"
   ]
  }
 ],
 "metadata": {
  "kernelspec": {
   "display_name": ".venv_Master",
   "language": "python",
   "name": "python3"
  },
  "language_info": {
   "codemirror_mode": {
    "name": "ipython",
    "version": 3
   },
   "file_extension": ".py",
   "mimetype": "text/x-python",
   "name": "python",
   "nbconvert_exporter": "python",
   "pygments_lexer": "ipython3",
   "version": "3.11.0rc1"
  }
 },
 "nbformat": 4,
 "nbformat_minor": 2
}
