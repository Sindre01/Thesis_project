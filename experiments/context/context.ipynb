{
 "cells": [
  {
   "cell_type": "markdown",
   "id": "605d132a-e3b2-42ee-82a2-50ccefbc9139",
   "metadata": {},
   "source": [
    "<!-- ## Install dependencies -->"
   ]
  },
  {
   "cell_type": "code",
   "execution_count": 1,
   "id": "6cf93b4f-f9b0-4929-bd2c-4bb7688d8576",
   "metadata": {},
   "outputs": [],
   "source": [
    "\n",
    "\n",
    "# For Notebook:\n",
    "# %pip install ollama\n",
    "# %pip install openai\n",
    "# %pip install anthropic\n",
    "# %pip install transformers\n",
    "# %pip install tiktoken\n",
    "# %pip install python-dotenv\n",
    "# %pip install colorama\n",
    "\n",
    "# For packages: \n",
    "# %pip install scikit-learn\n",
    "# %pip install matplotlib\n",
    "# %pip install numpy\n",
    "# %pip install pandas\n",
    "# %pip install iterative-stratification\n",
    "# %pip install langchain\n",
    "# %pip install \"langsmith<0.2.0\"\n",
    "\n",
    "# For WebUI testing:\n",
    "# %pip install open-webui\n",
    "import os\n",
    "os.environ['EXPERIMENT_DB_NAME'] = \"context_experiments\"\n",
    "\n",
    "%load_ext autoreload"
   ]
  },
  {
   "cell_type": "markdown",
   "id": "9d1a1f6f",
   "metadata": {},
   "source": [
    "# Static splits"
   ]
  },
  {
   "cell_type": "code",
   "execution_count": 2,
   "id": "1510069e",
   "metadata": {},
   "outputs": [
    {
     "name": "stdout",
     "output_type": "stream",
     "text": [
      "Script is located in: /root/Thesis_project/my_packages/common\n",
      "Project is located in: /root/Thesis_project\n",
      "Train data: 32\n",
      "Val data: 9\n",
      "Test data: 9\n",
      "[{'type': 'function', 'function_name': 'Std.If', 'module_path': 'Std', 'doc': 'If `input` is true, the `then` trigger is executed, otherwise the `else` trigger is executed. `value` contains the value of `input`.', 'body': 'extern func(doc: \"If `input` is true, the `then` trigger is executed, otherwise the `else` trigger is executed. `value` contains the value of `input`.\") If {\\n\\n        in(x: 0, y: 0, name: \"execute\") trigger() execute\\n\\n        in(x: 0, y: 0, name: \"input\") property(Bool) predicate\\n\\n        out(x: 0, y: 0, name: \"then\") trigger() then\\n\\n        out(x: 0, y: 0, name: \"else\") trigger() else\\n\\n        out(x: 0, y: 0, name: \"value\") property(Bool) value\\n\\n    }', 'types': 'type CountContext Number\\ntype AnyContext Any'}, {'type': 'function', 'function_name': 'Std.IfExpression', 'module_path': 'Std', 'doc': 'IfExpression is a function that allows you to create a conditional expression using a simple expression language provided through the `expression` parameter. Example: `a > b ? a : b` creates two inputs, `a` and `b`. The expression is executed using the provided inputs, and the result is available on the `value` output.', 'body': 'extern func(doc: \"IfExpression is a function that allows you to create a conditional expression using a simple expression language provided through the `expression` parameter. Example: `a > b ? a : b` creates two inputs, `a` and `b`. The expression is executed using the provided inputs, and the result is available on the `value` output.\") IfExpression {\\n\\n        parameter(\\n\\n            compilerPlugin: \"Expression\",\\n\\n            defaultValue: \"\",\\n\\n        ) expression\\n\\n\\n\\n        in trigger execute\\n\\n        out trigger then\\n\\n        out trigger else\\n\\n        out property(Bool) value\\n\\n    }', 'types': 'type CountContext Number\\ntype AnyContext Any'}, {'type': 'function', 'function_name': 'Std.Count', 'module_path': 'Std', 'doc': 'Count can be used to make sure a loop in a flow only runs for a certain number of iteartions. The `reset` input trigger resets the count, and the `count` trigger is used to increment it.', 'body': 'extern func(doc: \"Count can be used to make sure a loop in a flow only runs for a certain number of iteartions. The `reset` input trigger resets the count, and the `count` trigger is used to increment it.\") Count {\\n\\n        in(x: 0, y: 0, name: \"reset\") trigger() reset\\n\\n        in(x: 0, y: 0, name: \"count\") trigger(consumes: Std.CountContext, ) count\\n\\n        in(x: 0, y: 0, name: \"iterations\") property(Number) iterations\\n\\n        out(x: 0, y: 0, name: \"on count\") trigger(produces: Std.CountContext) onCount\\n\\n        out(x: 0, y: 0, name: \"done\") trigger() done\\n\\n        out(x: 0, y: 0, name: \"interation\") property(Number) interation\\n\\n    }', 'types': 'type CountContext Number\\ntype AnyContext Any'}, {'type': 'function', 'function_name': 'Std.For', 'module_path': 'Std', 'doc': 'For is a loop construct that can be used to iterate over a list of items. The `trigger` input is used to start the loop, the `reset` input is used to reset the loop, and the `next` input is used to move to the next item in the list. The `items` input is used to provide the list of items to iterate over. The `on item` output trigger is used to signal that an item has been processed, the `done` output trigger is used to signal that the loop has finished, the `item` output property is used to provide the current item, and the `index` output property is used to provide the current index.', 'body': 'extern func(doc: \"For is a loop construct that can be used to iterate over a list of items. The `trigger` input is used to start the loop, the `reset` input is used to reset the loop, and the `next` input is used to move to the next item in the list. The `items` input is used to provide the list of items to iterate over. The `on item` output trigger is used to signal that an item has been processed, the `done` output trigger is used to signal that the loop has finished, the `item` output property is used to provide the current item, and the `index` output property is used to provide the current index.\") For {\\n\\n        in trigger() reset\\n\\n        in trigger(consumes: Number) next\\n\\n        in property(List) items\\n\\n        out(name: \"on item\") trigger(produces: Number) onItem\\n\\n        out trigger done\\n\\n        out property(Any) item\\n\\n        out property(Number) index\\n\\n    }', 'types': 'type CountContext Number\\ntype AnyContext Any'}, {'type': 'function', 'function_name': 'Strings.Replace', 'module_path': 'Strings', 'doc': 'Returns the string `input` with all occurrences of `search` replaced with `replace`.', 'body': 'extern func(doc: \"Returns the string `input` with all occurrences of `search` replaced with `replace`.\") Replace {\\n\\n        in(x: 0, y: 0, name: \"input\") property(String) input\\n\\n        in(x: 0, y: 0, name: \"search\") property(String) search\\n\\n        in(x: 0, y: 0, name: \"replace\") property(String) replace\\n\\n        out(x: 0, y: 0, name: \"output\") property(String) output\\n\\n    }', 'types': ''}, {'type': 'function', 'function_name': 'Strings.ToLower', 'module_path': 'Strings', 'doc': 'Returns the string `input` with all characters converted to lowercase.', 'body': 'extern func(doc: \"Returns the string `input` with all characters converted to lowercase.\") ToLower {\\n\\n        in(x: 0, y: 0, name: \"input\") property(String) input\\n\\n        out(x: 0, y: 0, name: \"output\") property(String) output\\n\\n    }', 'types': ''}, {'type': 'function', 'function_name': 'Strings.ToUpper', 'module_path': 'Strings', 'doc': 'Returns the string `input` with all characters converted to uppercase.', 'body': 'extern func(doc: \"Returns the string `input` with all characters converted to uppercase.\") ToUpper {\\n\\n        in(x: 0, y: 0, name: \"input\") property(String) input\\n\\n        out(x: 0, y: 0, name: \"output\") property(String) output\\n\\n    }', 'types': ''}, {'type': 'function', 'function_name': 'Strings.IsNumeric', 'module_path': 'Strings', 'doc': 'Returns true if `input` is a numeric string.', 'body': 'extern func(doc: \"Returns true if `input` is a numeric string.\") IsNumeric {\\n\\n        in property(String) input\\n\\n        out(name: \"is numeric\") property(Bool) isNumeric\\n\\n    }', 'types': ''}, {'type': 'function', 'function_name': 'Strings.Characters', 'module_path': 'Strings', 'doc': \"Returns a list of characters in `input`, though the output 'characters' list.\", 'body': 'extern func(doc: \"Returns a list of characters in `input`, though the output \\'characters\\' list.\") Characters {\\n\\n        in property(String) input\\n\\n        out property(List) characters\\n\\n    }', 'types': ''}, {'type': 'function', 'function_name': 'Strings.Contains', 'module_path': 'Strings', 'doc': 'Returns true if `input` contains `contains` as a substring.', 'body': 'extern func(doc: \"Returns true if `input` contains `contains` as a substring.\") Contains {\\n\\n        in property(String) input\\n\\n        in property(String) contains\\n\\n        out property(Bool) result\\n\\n    }', 'types': ''}, {'type': 'function', 'function_name': 'List.Empty', 'module_path': 'List', 'doc': 'Creates an empty list', 'body': 'extern func(doc: \"Creates an empty list\") Empty {\\n\\n        out(x: 0, y: 0, name: \"empty list\") property(List) list\\n\\n    }', 'types': ''}, {'type': 'function', 'function_name': 'List.GetAt', 'module_path': 'List', 'doc': 'Gets the item at `index` from `list`, returning Null if the index is out of bounds.', 'body': 'extern func(doc: \"Gets the item at `index` from `list`, returning Null if the index is out of bounds.\") GetAt {\\n\\n        in(x: 0, y: 0, name: \"list\") property(List) list\\n\\n        in(x: 0, y: 0, name: \"index\") property(Number) index\\n\\n        out(x: 0, y: 0, name: \"itemAtIndex\") property(Any) itemAtIndex\\n\\n    }', 'types': ''}, {'type': 'function', 'function_name': 'List.Add', 'module_path': 'List', 'doc': 'Adds `item` to the `list` by creating a new list with the item added, available on the `listWithItem` output.', 'body': 'extern func(doc: \"Adds `item` to the `list` by creating a new list with the item added, available on the `listWithItem` output.\") Add {\\n\\n        in(x: 0, y: 0, name: \"list\") property list\\n\\n        in(x: 0, y: 0, name: \"item\") property item\\n\\n        out(x: 0, y: 0, name: \"listWithItem\") property listWithItem\\n\\n    }', 'types': ''}, {'type': 'function', 'function_name': 'List.Remove', 'module_path': 'List', 'doc': 'Removes the item at `index` from `list` by creating a new list with the item removed, available on the `listWithoutItem` output.', 'body': 'extern func(doc: \"Removes the item at `index` from `list` by creating a new list with the item removed, available on the `listWithoutItem` output.\") Remove {\\n\\n        in(x: 0, y: 0, name: \"list\") property list\\n\\n        in(x: 0, y: 0, name: \"index\") property index\\n\\n        out(x: 0, y: 0, name: \"listWithoutItem\") property listWithoutItem\\n\\n        out(x: 0, y: 0, name: \"removed item\") property removedItem\\n\\n    }', 'types': ''}, {'type': 'function', 'function_name': 'List.Length', 'module_path': 'List', 'doc': 'Returns the number of items in `list`.', 'body': 'extern func(doc: \"Returns the number of items in `list`.\") Length {\\n\\n        in(x: 0, y: 0, name: \"list\") property list\\n\\n        out(x: 0, y: 0, name: \"length\") property length\\n\\n    }', 'types': ''}, {'type': 'function', 'function_name': 'List.Contains', 'module_path': 'List', 'doc': 'Returns true if `item` is contained in `list`.', 'body': 'extern func(doc: \"Returns true if `item` is contained in `list`.\") Contains {\\n\\n        in(x: 0, y: 0, name: \"list\") property list\\n\\n        in(x: 0, y: 0, name: \"item\") property(Any) item\\n\\n        out(x: 0, y: 0, name: \"result\") property(Bool) is_contained\\n\\n    }', 'types': ''}, {'type': 'function', 'function_name': 'List.Sort', 'module_path': 'List', 'doc': 'Returns a sorted version of `list`', 'body': 'extern func(doc: \"Returns a sorted version of `list`\") Sort {\\n\\n        in(x: 0, y: 0, name: \"list\") property list\\n\\n        out(x: 0, y: 0, name: \"sorted list\") property sorted_list\\n\\n    }', 'types': ''}, {'type': 'function', 'function_name': 'List.GenerateRange', 'module_path': 'List', 'doc': 'A list containing number from `from` to `to`.', 'body': 'extern func(doc: \"A list containing number from `from` to `to`.\") GenerateRange {\\n\\n        in(x: 0, y: 0, name: \"from\") property from\\n\\n        in(x: 0, y: 0, name: \"to\") property to\\n\\n        out(x: 0, y: 0, name: \"list\") property list\\n\\n    }', 'types': ''}, {'type': 'function', 'function_name': 'List.Max', 'module_path': 'List', 'doc': 'Finds the largest item in a list of numbers', 'body': 'extern func(doc: \"Finds the largest item in a list of numbers\") Max {\\n\\n        in(x: 0, y: 0, name: \"items\") property(List) items\\n\\n        out property(Number) max\\n\\n    }', 'types': ''}, {'type': 'function', 'function_name': 'List.Min', 'module_path': 'List', 'doc': 'Finds the smallest item in a list of numbers', 'body': 'extern func(doc: \"Finds the smallest item in a list of numbers\") Min {\\n\\n        in(x: 0, y: 0, name: \"items\") property(List) items\\n\\n        out property(Number) min\\n\\n    }', 'types': ''}, {'type': 'function', 'function_name': 'List.Slice', 'module_path': 'List', 'doc': 'Gets a slice of the list from `start` to, but not including, `end`. Gets the rest of the list if end == -1', 'body': 'extern func(doc: \"Gets a slice of the list from `start` to, but not including, `end`. Gets the rest of the list if end == -1\") Slice {\\n\\n        in(x: 0, y: 0, name: \"items\") property(List) list\\n\\n        in property(Number) start\\n\\n        in property(Number) end\\n\\n        out property(List) slice\\n\\n    }', 'types': ''}, {'type': 'function', 'function_name': 'List.Reversed', 'module_path': 'List', 'doc': 'Reverses the order of the items in `list`', 'body': 'extern func(doc: \"Reverses the order of the items in `list`\") Reversed {\\n\\n        in(x: 0, y: 0, name: \"items\") property(List) list\\n\\n        out property(List) reversed\\n\\n    }', 'types': ''}, {'type': 'function', 'function_name': 'List.FirstItem', 'module_path': 'List', 'doc': \"Returns the first item in 'list', through the `item` output.\", 'body': 'extern func(doc: \"Returns the first item in \\'list\\', through the `item` output.\") FirstItem {\\n\\n        in property(List) list\\n\\n        out property(Any) item\\n\\n    }', 'types': ''}, {'type': 'function', 'function_name': 'List.LastItem', 'module_path': 'List', 'doc': \"Returns the last item in 'list', through the `item` output.\", 'body': 'extern func(doc: \"Returns the last item in \\'list\\', through the `item` output.\") LastItem {\\n\\n        in property(List) list\\n\\n        out property(Any) item\\n\\n    }', 'types': ''}, {'type': 'function', 'function_name': 'List.IsEmpty', 'module_path': 'List', 'doc': \"Returns true if `list` is empty, through the 'isEmpty' output\", 'body': 'extern func(doc: \"Returns true if `list` is empty, through the \\'isEmpty\\' output\") IsEmpty {\\n\\n        in property(List) list\\n\\n        out(name: \"is empty\") property(Bool) isEmpty\\n\\n    }', 'types': ''}, {'type': 'function', 'function_name': 'List.NotEmpty', 'module_path': 'List', 'doc': \"Returns true if `list` is not empty, through the 'isEmpty' output\", 'body': 'extern func(doc: \"Returns true if `list` is not empty, through the \\'isEmpty\\' output\") NotEmpty {\\n\\n        in property(List) list\\n\\n        out(name: \"is empty\") property(Bool) isEmpty\\n\\n    }', 'types': ''}, {'type': 'function', 'function_name': 'List.Flatten', 'module_path': 'List', 'doc': 'Converts a list of lists into a flattened list.', 'body': 'extern func(doc: \"Converts a list of lists into a flattened list.\") Flatten {\\n\\n        in property(List) items\\n\\n        out property(List) flattened\\n\\n    }', 'types': ''}, {'type': 'function', 'function_name': 'List.Concat', 'module_path': 'List', 'doc': 'Concatenates two lists', 'body': 'extern func(doc: \"Concatenates two lists\") Concat {\\n\\n        in property(List) left\\n\\n        in property(List) right\\n\\n        out property(List) result\\n\\n    }', 'types': ''}, {'type': 'function', 'function_name': 'Query.Filter', 'module_path': 'Query', 'doc': \"Filters a list of items with the `where` expression is true. If the list items are objects, fields on the object can be accessed using the field names directly. If the values are primitives, like number of bool, the value can be accessed using the variable name 'it'.\", 'body': 'extern func(doc: \"Filters a list of items with the `where` expression is true. If the list items are objects, fields on the object can be accessed using the field names directly. If the values are primitives, like number of bool, the value can be accessed using the variable name \\'it\\'.\") Filter {\\n\\n          parameter(defaultValue: \"it < 10\") where\\n\\n          in property(List) list\\n\\n          out property(List) result\\n\\n      }', 'types': ''}, {'type': 'function', 'function_name': 'Iteration.Map', 'module_path': 'Iteration', 'doc': 'Calls the given function instance (`handler`) once for each item in `items` returning a new list with the mapped values (`output_list`). Handle is expected to be a function which takes in at least one input (the item), and returns a single item, the mapped value. It can also take a second input, which is the index of the value, and a third value, an optional context value passed from the outside.', 'body': 'extern func(doc: \"Calls the given function instance (`handler`) once for each item in `items` returning a new list with the mapped values (`output_list`). Handle is expected to be a function which takes in at least one input (the item), and returns a single item, the mapped value. It can also take a second input, which is the index of the value, and a third value, an optional context value passed from the outside.\") Map {\\n\\n        in(x: 0, y: 0, name: \"items\") property items\\n\\n        in(x: 0, y: 0, name: \"handler\") property(Any) handler\\n\\n        in(x: 0, y: 0, name: \"context\") property(Any) context\\n\\n        out(x: 0, y: 0, name: \"output list\") property output_list\\n\\n    }', 'types': ''}, {'type': 'function', 'function_name': 'Iteration.Zip', 'module_path': 'Iteration', 'doc': \"Call the given function instance ('handler') on corresponding pairs of elements from 'left' and 'right' lists. The function applies 'handler(left[i], right[i])' for each index 'i', up to the length of the shorter list. The results are collected into the output property 'zipped'.\", 'body': 'extern func(doc: \"Call the given function instance (\\'handler\\') on corresponding pairs of elements from \\'left\\' and \\'right\\' lists. The function applies \\'handler(left[i], right[i])\\' for each index \\'i\\', up to the length of the shorter list. The results are collected into the output property \\'zipped\\'.\") Zip {\\n\\n        in property(List) left\\n\\n        in property(List) right\\n\\n        in property(Any) handler\\n\\n        out property zipped\\n\\n    }', 'types': ''}, {'type': 'function', 'function_name': 'Iteration.Filter', 'module_path': 'Iteration', 'doc': \"Filters the input list 'items' using the provided 'handler' function, which is expected to return a boolean value. The filtered list is available on the 'output_list' output.\", 'body': 'extern func(doc: \"Filters the input list \\'items\\' using the provided \\'handler\\' function, which is expected to return a boolean value. The filtered list is available on the \\'output_list\\' output.\") Filter {\\n\\n        in(x: 0, y: 0, name: \"items\") property items\\n\\n        in(x: 0, y: 0, name: \"handler\") property(Any) handler\\n\\n        in(x: 0, y: 0, name: \"context\") property(Any) context\\n\\n        out(x: 0, y: 0, name: \"output list\") property output_list\\n\\n    }', 'types': ''}, {'type': 'function', 'function_name': 'Iteration.Reduce', 'module_path': 'Iteration', 'doc': 'Reduces the list `item` using the provided reducer function, which is expected to accept 2-4 inputs, the first being the accumulated value, and the second the value being accumulated. A third optional input will contain the current index, while the fourth optional input will contain the context input.', 'body': 'extern func(doc: \"Reduces the list `item` using the provided reducer function, which is expected to accept 2-4 inputs, the first being the accumulated value, and the second the value being accumulated. A third optional input will contain the current index, while the fourth optional input will contain the context input.\") Reduce {\\n\\n        in(x: 0, y: 0, name: \"items\") property items\\n\\n        in(name: \"initial value\") property initialValue\\n\\n        in(x: 0, y: 0, name: \"reducer\") property(Any) reducer\\n\\n        in(x: 0, y: 0, name: \"context\") property(Any) context\\n\\n        out(x: 0, y: 0, name: \"output\") property output\\n\\n    }', 'types': ''}, {'type': 'function', 'function_name': 'Iteration.Find', 'module_path': 'Iteration', 'doc': 'Finds an item in the list `items` that satisfies the `predicate` function, and returns the item through the `item` output.', 'body': 'extern func(doc: \"Finds an item in the list `items` that satisfies the `predicate` function, and returns the item through the `item` output.\") Find {\\n\\n        in property(List) items\\n\\n        in property predicate\\n\\n        in property context\\n\\n        out property item\\n\\n    }', 'types': ''}, {'type': 'function', 'function_name': 'Math.Floor', 'module_path': 'Math', 'doc': 'Returns the largest integer less than or equal `input`', 'body': 'extern func(doc: \"Returns the largest integer less than or equal `input`\") Floor {\\n\\n        in(x: 0, y: 0, name: \"input\") property input\\n\\n        out(x: 0, y: 0, name: \"output\") property output\\n\\n    }', 'types': ''}, {'type': 'function', 'function_name': 'Math.Add', 'module_path': 'Math', 'doc': 'Adds `first` and `second` making the result avilable on the `result` output.', 'body': 'extern func(doc: \"Adds `first` and `second` making the result avilable on the `result` output.\") Add {\\n\\n        in(x: 0, y: 0, name: \"first\") property(Number) first\\n\\n        in(x: 0, y: 0, name: \"second\") property(Number) second\\n\\n        out(x: 0, y: 0, name: \"result\") property(Number) result\\n\\n    }', 'types': ''}, {'type': 'function', 'function_name': 'Math.Sub', 'module_path': 'Math', 'doc': 'Subtracts `first` and `second` making the result avilable on the `result` output.', 'body': 'extern func(doc: \"Subtracts `first` and `second` making the result avilable on the `result` output.\") Sub {\\n\\n        in(x: 0, y: 0, name: \"first\") property(Number) first\\n\\n        in(x: 0, y: 0, name: \"second\") property(Number) second\\n\\n        out(x: 0, y: 0, name: \"result\") property(Number) result\\n\\n    }', 'types': ''}, {'type': 'function', 'function_name': 'Math.Mul', 'module_path': 'Math', 'doc': 'Multiplies `first` and `second` making the result avilable on the `result` output.', 'body': 'extern func(doc: \"Multiplies `first` and `second` making the result avilable on the `result` output.\") Mul {\\n\\n        in(x: 0, y: 0, name: \"first\") property(Number) first\\n\\n        in(x: 0, y: 0, name: \"second\") property(Number) second\\n\\n        out(x: 0, y: 0, name: \"result\") property(Number) result\\n\\n    }', 'types': ''}, {'type': 'function', 'function_name': 'Math.Div', 'module_path': 'Math', 'doc': 'Divides `first` by `second` making the result avilable on the `result` output.', 'body': 'extern func(doc: \"Divides `first` by `second` making the result avilable on the `result` output.\") Div {\\n\\n        in(x: 0, y: 0, name: \"first\") property(Number) first\\n\\n        in(x: 0, y: 0, name: \"second\") property(Number) second\\n\\n        out(x: 0, y: 0, name: \"result\") property(Number) result\\n\\n    }', 'types': ''}, {'type': 'function', 'function_name': 'Math.GreaterThan', 'module_path': 'Math', 'doc': 'Checks if `left` is greater than `right`', 'body': 'extern func(doc: \"Checks if `left` is greater than `right`\") GreaterThan {\\n\\n        in(x: 0, y: 0, name: \"left\") property(Number) left\\n\\n        in(x: 0, y: 0, name: \"right\") property(Number) right\\n\\n        out(x: 0, y: 0, name: \"result\") property(Bool) result\\n\\n    }', 'types': ''}, {'type': 'function', 'function_name': 'Math.LessThanOrEqual', 'module_path': 'Math', 'doc': \"Checks if 'left' is les than or eqaul to the 'right'\", 'body': 'extern func(doc: \"Checks if \\'left\\' is les than or eqaul to the \\'right\\'\") LessThanOrEqual {\\n\\n        in(x: 0, y: 0, name: \"left\") property(Number) left\\n\\n        in(x: 0, y: 0, name: \"right\") property(Number) right\\n\\n        out(x: 0, y: 0, name: \"result\") property(Bool) result\\n\\n    }', 'types': ''}, {'type': 'function', 'function_name': 'Math.Expression', 'module_path': 'Math', 'doc': 'Creates a mathematical expression using a simple expression language provided through the `expression` parameter. Example: `a + b / 10` creates two inputs, `a` and `b`. The expression is executed using the provided inputs, and the result is available on the `result` output.', 'body': 'extern func(doc: \"Creates a mathematical expression using a simple expression language provided through the `expression` parameter. Example: `a + b / 10` creates two inputs, `a` and `b`. The expression is executed using the provided inputs, and the result is available on the `result` output.\") Expression {\\n\\n        parameter(\\n\\n            compilerPlugin: \"Expression\",\\n\\n            defaultValue: \"\",\\n\\n            aiSystemPrompt: \"You will generate math expressions based on a user prompt. The expression you generate will consist only of the following operators:\\n\\n                            - + (plus)\\n\\n                            - - (minus)\\n\\n                            - * (multiply)\\n\\n                            - / (divide)\\n\\n                            - % (modulo)\\n\\n\\n\\n                            Inputs that must be provided by the user are represented by valid C identifiers, and should prefer to be as short as possible, without confusing the user about what the input represents.\\n\\n\\n\\n                            Here are a few examples:\\n\\n\\n\\n                            Prompt: Calcualte the average of three number\\n\\n                            Response: (a + b + c) / 3\\n\\n\\n\\n                            Prompt: Calculate the area of a circle of radius r\\n\\n                            Response: 3.14 * r * r\\n\\n\\n\\n                            Prompt: Calculate the area of a rectangle\\n\\n                            Response: a * b\\n\\n                            \",\\n\\n        ) expression\\n\\n        out(x: 0, y: 0, name: \"result\") property result\\n\\n    }', 'types': ''}, {'type': 'function', 'function_name': 'Math.Pow', 'module_path': 'Math', 'doc': 'Returns `x` raised to the power of `y`.', 'body': 'extern func(doc: \"Returns `x` raised to the power of `y`.\") Pow {\\n\\n        in(x: 0, y: 0, name: \"x\") property x\\n\\n        in(x: 0, y: 0, name: \"y\") property y\\n\\n        out(x: 0, y: 0, name: \"result\") property result\\n\\n    }', 'types': ''}, {'type': 'function', 'function_name': 'Math.Modulo', 'module_path': 'Math', 'doc': 'Calculates the modulo of `value` and `divisor`, and returns the modulo through the `result` output.', 'body': 'extern func(doc: \"Calculates the modulo of `value` and `divisor`, and returns the modulo through the `result` output.\") Modulo {\\n\\n        in(x: 0, y: 0, name: \"value\") property value\\n\\n        in(x: 0, y: 0, name: \"divisor\") property divisor\\n\\n        out(x: 0, y: 0, name: \"result\") property result\\n\\n    }', 'types': ''}, {'type': 'function', 'function_name': 'Math.Min', 'module_path': 'Math', 'doc': 'Returns the smallest of the input numbers.', 'body': 'extern func(doc: \"Returns the smallest of the input numbers.\") Min {\\n\\n        in(x: 0, y: 0, name: \"values\") property values\\n\\n        out(x: 0, y: 0, name: \"result\") property result\\n\\n    }', 'types': ''}, {'type': 'function', 'function_name': 'Logic.Equal', 'module_path': 'Logic', 'doc': 'Checks if `left` and `right` are equal by performing a deep scan of the objects.', 'body': 'extern func(doc: \"Checks if `left` and `right` are equal by performing a deep scan of the objects.\") Equal {\\n\\n        in(x: 0, y: 0, name: \"left\") property(Any) left\\n\\n        in(x: 0, y: 0, name: \"right\") property(Any) right\\n\\n        out(x: 0, y: 0, name: \"result\") property(Bool) result\\n\\n    }', 'types': ''}, {'type': 'function', 'function_name': 'Logic.NotEqual', 'module_path': 'Logic', 'doc': 'Checks if `left` and `right` are not equal by performing a deep scan of the objects.', 'body': 'extern func(doc: \"Checks if `left` and `right` are not equal by performing a deep scan of the objects.\") NotEqual {\\n\\n        in(x: 0, y: 0, name: \"left\") property(Any) left\\n\\n        in(x: 0, y: 0, name: \"right\") property(Any) right\\n\\n        out(x: 0, y: 0, name: \"result\") property(Bool) result\\n\\n    }', 'types': ''}, {'type': 'function', 'function_name': 'Logic.Not', 'module_path': 'Logic', 'doc': 'The logic not operator', 'body': 'extern func(doc: \"The logic not operator\") Not {\\n\\n        in property(Bool) input\\n\\n        out property(Bool) result\\n\\n    }', 'types': ''}, {'type': 'function', 'function_name': 'Logic.And', 'module_path': 'Logic', 'doc': 'The logic and operator', 'body': 'extern func(doc: \"The logic and operator\") And {\\n\\n        in property(Bool) left\\n\\n        in property(Bool) right\\n\\n        out property(Bool) result\\n\\n    }', 'types': ''}, {'type': 'function', 'function_name': 'Sets.Intersection', 'module_path': 'Sets', 'doc': 'Returns the intersection of the two input lists, `left` and `right`, through the `intersect` output.', 'body': 'extern func(doc: \"Returns the intersection of the two input lists, `left` and `right`, through the `intersect` output.\") Intersection {\\n\\n        in property(List) left\\n\\n        in property(List) right\\n\\n        out property(List) intersect\\n\\n    }', 'types': ''}, {'type': 'function', 'function_name': 'Sets.Difference', 'module_path': 'Sets', 'doc': 'Returns the difference of the two input lists, `left` and `right`, through the `difference` output.', 'body': 'extern func(doc: \"Returns the difference of the two input lists, `left` and `right`, through the `difference` output.\") Difference {\\n\\n        in property(List) left\\n\\n        in property(List) right\\n\\n        out property(List) difference\\n\\n    }', 'types': ''}]\n"
     ]
    }
   ],
   "source": [
    "import sys\n",
    "sys.path.append('../../')  # Add the path to the my_packages module\n",
    "from my_packages.data_processing.attributes_processing import used_functions_to_string\n",
    "from my_packages.prompting.prompt_building import transform_code_data\n",
    "from my_packages.utils.file_utils import read_dataset_to_json\n",
    "\n",
    "main_dataset_folder = '../../data/MBPP_Midio_50/'\n",
    "\n",
    "\n",
    "def get_hold_out_splits(main_dataset_folder):\n",
    "    train_data = transform_code_data(read_dataset_to_json(main_dataset_folder + 'splits/hold_out/train_dataset.json'))\n",
    "    val_data = transform_code_data(read_dataset_to_json(main_dataset_folder + 'splits/hold_out/validation_dataset.json'))\n",
    "    test_data = transform_code_data(read_dataset_to_json(main_dataset_folder + 'splits/hold_out/test_dataset.json'))\n",
    "\n",
    "    print(f\"Train data: {len(train_data)}\")\n",
    "    print(f\"Val data: {len(val_data)}\")\n",
    "    print(f\"Test data: {len(test_data)}\")\n",
    "    return train_data, val_data, test_data\n",
    "\n",
    "# Use the static validation split for hyperparmeter tuning:\n",
    "_, val_data, _ = get_hold_out_splits(main_dataset_folder=main_dataset_folder)\n",
    "\n",
    "dataset = read_dataset_to_json(main_dataset_folder + \"MBPP-Midio-50.json\")\n",
    "used_functions_json = read_dataset_to_json(main_dataset_folder + \"/metadata/used_external_functions.json\")\n",
    "available_nodes = used_functions_to_string(used_functions_json)\n",
    "print(used_functions_json)\n",
    "\n",
    "\n"
   ]
  },
  {
   "cell_type": "markdown",
   "id": "87924b94",
   "metadata": {},
   "source": [
    "# 3_fold splits"
   ]
  },
  {
   "cell_type": "code",
   "execution_count": 3,
   "id": "8369e11b",
   "metadata": {},
   "outputs": [
    {
     "name": "stdout",
     "output_type": "stream",
     "text": [
      "Using existing 3-fold splits\n",
      "Train data: 27\n",
      "Test data: 14\n",
      "Chosen fold: 0\n"
     ]
    }
   ],
   "source": [
    "\n",
    "import os\n",
    "from my_packages.data_processing.split_dataset import create_kfold_splits\n",
    "\n",
    "main_dataset_folder = '../../data/MBPP_Midio_50/'\n",
    "run_k_fold = 0 # 0-2, because we have 3 folds\n",
    "\n",
    "def get_k_fold_splits(main_dataset_folder, k, k_folds=3):\n",
    "\n",
    "    if os.path.exists(main_dataset_folder + f'splits/{k_folds}_fold'):\n",
    "        print(f\"Using existing {k_folds}-fold splits\")\n",
    "    else:\n",
    "        print(f\"Creating {k_folds}-fold splits\")\n",
    "        train, _ ,test = get_hold_out_splits(main_dataset_folder)\n",
    "        # Only use train+train for k-fold splits\n",
    "        create_kfold_splits((train+test), k_folds=k_folds, write_to_file=True)\n",
    "\n",
    "    train_data = read_dataset_to_json(main_dataset_folder + f'splits/{k_folds}_fold/train_dataset_{k}.json')\n",
    "    test_data = read_dataset_to_json(main_dataset_folder + f'splits/{k_folds}_fold/test_dataset_{k}.json')\n",
    "\n",
    "    print(f\"Train data: {len(train_data)}\")\n",
    "    print(f\"Test data: {len(test_data)}\")\n",
    "    return train_data, test_data\n",
    "\n",
    "# Use the K_fold split for testing:\n",
    "train_data, test_data = get_k_fold_splits(\n",
    "    main_dataset_folder=main_dataset_folder, \n",
    "    k=run_k_fold, \n",
    "    k_folds=3\n",
    ")\n",
    "print(f\"Chosen fold: {run_k_fold}\")\n",
    "\n"
   ]
  },
  {
   "cell_type": "markdown",
   "id": "6b075a40",
   "metadata": {},
   "source": [
    "# Init client and selected models"
   ]
  },
  {
   "cell_type": "markdown",
   "id": "b02a6d5c",
   "metadata": {},
   "source": [
    "<!-- ## Experiments settings -->"
   ]
  },
  {
   "cell_type": "code",
   "execution_count": 4,
   "id": "8c44196a",
   "metadata": {},
   "outputs": [
    {
     "name": "stdout",
     "output_type": "stream",
     "text": [
      "Script is located in: /root/Thesis_project/my_packages/common\n",
      "Project is located in: /root/Thesis_project\n",
      "Env is located in: /root/Thesis_project/.env\n",
      "Number of all responses: 50\n",
      "Url: http://localhost:11434/api/tags\n",
      "Response: <Response [200]>\n",
      "Server is reachable.\n"
     ]
    }
   ],
   "source": [
    "\n",
    "import sys\n",
    "sys.path.append('../../')  # Add the path to the my_packages module\n",
    "import sys\n",
    "from dotenv import load_dotenv\n",
    "sys.path.append('../../')  # Add the path to the my_packages module\n",
    "from my_packages.common.config import model_configs\n",
    "from langchain_ollama import OllamaEmbeddings\n",
    "\n",
    "model_provider = 'ollama'\n",
    "\n",
    "load_dotenv(\"../../.env\")\n",
    "all_responses = [sample[\"response\"] for sample in train_data] + [sample[\"response\"] for sample in val_data] + [sample[\"response\"] for sample in test_data]\n",
    "print(f\"Number of all responses: {len(all_responses)}\")\n",
    "\n",
    "client, models = model_configs(\n",
    "    all_responses=all_responses,\n",
    "    model_provider=model_provider,\n",
    "    models=[\"qwq:32b-fp16\"],\n",
    ")"
   ]
  },
  {
   "cell_type": "markdown",
   "id": "6d4a530b",
   "metadata": {},
   "source": [
    "# Init Example selector"
   ]
  },
  {
   "cell_type": "code",
   "execution_count": 5,
   "id": "9c9f228b",
   "metadata": {},
   "outputs": [
    {
     "name": "stdout",
     "output_type": "stream",
     "text": [
      "Number of examples in the pool: 27\n"
     ]
    }
   ],
   "source": [
    "import sys\n",
    "sys.path.append('../../')  # Add the path to the my_packages module\n",
    "from my_packages.prompting.example_selectors import get_coverage_example_selector, get_semantic_similarity_example_selector\n",
    "\n",
    "# prompt_prefix = \"Create a function\" # \"e.g., \"Create a flow\"\n",
    "NUM_SHOTS = 1\n",
    "semantic_selector = True\n",
    "\n",
    "example_pool = train_data\n",
    "example_pool.sort(key=lambda x: int(x['task_id']))\n",
    "print(f\"Number of examples in the pool: {len(example_pool)}\")\n",
    "\n",
    "if semantic_selector:\n",
    "    selector = get_semantic_similarity_example_selector(\n",
    "        example_pool, \n",
    "        OllamaEmbeddings(model=\"nomic-embed-text\"),\n",
    "        shots=NUM_SHOTS,\n",
    "        input_keys=[\"task\"],\n",
    "    )\n",
    "else:\n",
    "    selector = get_coverage_example_selector(\n",
    "        example_pool, \n",
    "        label = \"external_functions\",\n",
    "        shots=NUM_SHOTS,\n",
    "        seed=9\n",
    "    )\n",
    "used_ids = []\n",
    "# for task in train_data:\n",
    "#     examples = selector.select_examples({\"task\": task[\"task\"]})\n",
    "#     used_ids += [e['task_id'] for e in examples]\n",
    "#     print(f\"Task: {task['task']}\")\n"
   ]
  },
  {
   "cell_type": "markdown",
   "id": "8d30fcb4",
   "metadata": {},
   "source": [
    "## Evaluation"
   ]
  },
  {
   "cell_type": "code",
   "execution_count": 6,
   "id": "4ce8f017",
   "metadata": {},
   "outputs": [
    {
     "name": "stdout",
     "output_type": "stream",
     "text": [
      "Script is located in: /root/Thesis_project/experiments/context\n",
      "Project is located in: /root/Thesis_project\n",
      "Number of language docs: 20\n",
      "Number of node docs: 290\n",
      "✅ FAISS index saved successfully.\n",
      "✅ FAISS index saved successfully.\n",
      "regular_RAG_1_shot\n",
      "📂 Experiemnt 'regular_RAG_1_shot' already exists.\n",
      "\n",
      "🔍 Existing collections for regular_RAG_1_shot: \n",
      "==================================================\n",
      "\n",
      "📂 Collection: regular_RAG_1_shot_errors \n",
      "--------------------------------------------------\n",
      "⚠️ No data found in this collection.\n",
      "\n",
      "📂 Collection: regular_RAG_1_shot_results \n",
      "--------------------------------------------------\n",
      "⚠️ No data found in this collection.\n",
      "\n",
      "📂 Collection: regular_RAG_1_shot_best_params \n",
      "--------------------------------------------------\n",
      "⚠️ No data found in this collection.\n",
      "\n",
      "=== Running quality checks for hold_out experiment: regular_RAG_1_shot ===\n",
      "No models found for hold_out experiment 'regular_RAG_1_shot'.\n",
      "✅ All models passed quality checks successfully.\n",
      "=== End of quality checks ===\n",
      "\n",
      "\n",
      "\n",
      "\n",
      "✅ Existing hold_out best parameters for model 'qwq:32b-fp16' optimized on metric 'semantic@1': temperature=0.2, top_p=0.6, top_k=10, seed=9\n",
      "⚠️ No results found for model 'qwq:32b-fp16' in 3_fold experiment 'regular_RAG_1_shot_results'.\n",
      "\n",
      "Starting testing phase..\n",
      "\u001b[36m\u001b[1mTesting Phase:\u001b[0m\n",
      "\n",
      "Building CODE prompt...\n"
     ]
    },
    {
     "name": "stderr",
     "output_type": "stream",
     "text": [
      "Token indices sequence length is longer than the specified maximum sequence length for this model (2718 > 1024). Running this sequence through the model will result in indexing errors\n"
     ]
    },
    {
     "name": "stdout",
     "output_type": "stream",
     "text": [
      "Using 16000 for context window\n",
      "\n",
      "Prompt size = 2718, leaving 8282 tokens for RAG + buffer.\n",
      "Total available tokens after prompt:  8282\n",
      "allocating remaining 5632  tokens to node context\n",
      "Estimated to extract k = 55 documents.\n",
      "Initial docs contain 8195 tokens of availbale 5632 tokens\n",
      "Removed 19 documents to fit within 5632 tokens. From 55 docs to 36 docs\n",
      "Final prompt size: 10935 (plus 5000 for output).\n",
      "    > Generating n response..  (1/10)\r"
     ]
    },
    {
     "ename": "KeyboardInterrupt",
     "evalue": "",
     "output_type": "error",
     "traceback": [
      "\u001b[0;31m---------------------------------------------------------------------------\u001b[0m",
      "\u001b[0;31mKeyboardInterrupt\u001b[0m                         Traceback (most recent call last)",
      "Cell \u001b[0;32mIn[6], line 67\u001b[0m\n\u001b[1;32m     56\u001b[0m validation_result \u001b[38;5;241m=\u001b[39m get_db_best_params( \n\u001b[1;32m     57\u001b[0m     best_params_experiment_name, \n\u001b[1;32m     58\u001b[0m     model[\u001b[38;5;124m\"\u001b[39m\u001b[38;5;124mname\u001b[39m\u001b[38;5;124m\"\u001b[39m], \n\u001b[0;32m   (...)\u001b[0m\n\u001b[1;32m     62\u001b[0m     db_connection\u001b[38;5;241m=\u001b[39mget_db_connection(\u001b[38;5;124m\"\u001b[39m\u001b[38;5;124mfew_shot_experiments\u001b[39m\u001b[38;5;124m\"\u001b[39m) \u001b[38;5;66;03m# Use the few_shot_experiments database to get best params\u001b[39;00m\n\u001b[1;32m     63\u001b[0m )[\u001b[38;5;241m0\u001b[39m]\n\u001b[1;32m     66\u001b[0m \u001b[38;5;28;01mif\u001b[39;00m confirm_rerun(experiment_name, model_name, eval_method\u001b[38;5;241m=\u001b[39m\u001b[38;5;124m\"\u001b[39m\u001b[38;5;124m3_fold\u001b[39m\u001b[38;5;124m\"\u001b[39m, phase\u001b[38;5;241m=\u001b[39m\u001b[38;5;124m\"\u001b[39m\u001b[38;5;124mtesting\u001b[39m\u001b[38;5;124m\"\u001b[39m): \u001b[38;5;66;03m# If results exists for model, prompt user to rerun testing. If not exists, return true to run testing first time.\u001b[39;00m\n\u001b[0;32m---> 67\u001b[0m         test_results, final_result \u001b[38;5;241m=\u001b[39m \u001b[43mrun_testing\u001b[49m\u001b[43m(\u001b[49m\n\u001b[1;32m     68\u001b[0m \u001b[43m            \u001b[49m\u001b[43mclient\u001b[49m\u001b[43m,\u001b[49m\n\u001b[1;32m     69\u001b[0m \u001b[43m            \u001b[49m\u001b[43mmodel\u001b[49m\u001b[43m,\u001b[49m\n\u001b[1;32m     70\u001b[0m \u001b[43m            \u001b[49m\u001b[43mavailable_nodes\u001b[49m\u001b[43m,\u001b[49m\n\u001b[1;32m     71\u001b[0m \u001b[43m            \u001b[49m\u001b[43mtest_data\u001b[49m\u001b[43m,\u001b[49m\n\u001b[1;32m     72\u001b[0m \u001b[43m            \u001b[49m\u001b[43mselector\u001b[49m\u001b[43m,\u001b[49m\n\u001b[1;32m     73\u001b[0m \u001b[43m            \u001b[49m\u001b[43mtemperature\u001b[49m\u001b[38;5;241;43m=\u001b[39;49m\u001b[43mvalidation_result\u001b[49m\u001b[43m[\u001b[49m\u001b[38;5;124;43m\"\u001b[39;49m\u001b[38;5;124;43mtemperature\u001b[39;49m\u001b[38;5;124;43m\"\u001b[39;49m\u001b[43m]\u001b[49m\u001b[43m,\u001b[49m\n\u001b[1;32m     74\u001b[0m \u001b[43m            \u001b[49m\u001b[43mtop_p\u001b[49m\u001b[38;5;241;43m=\u001b[39;49m\u001b[43mvalidation_result\u001b[49m\u001b[43m[\u001b[49m\u001b[38;5;124;43m\"\u001b[39;49m\u001b[38;5;124;43mtop_p\u001b[39;49m\u001b[38;5;124;43m\"\u001b[39;49m\u001b[43m]\u001b[49m\u001b[43m,\u001b[49m\n\u001b[1;32m     75\u001b[0m \u001b[43m            \u001b[49m\u001b[43mtop_k\u001b[49m\u001b[38;5;241;43m=\u001b[39;49m\u001b[43mvalidation_result\u001b[49m\u001b[43m[\u001b[49m\u001b[38;5;124;43m\"\u001b[39;49m\u001b[38;5;124;43mtop_k\u001b[39;49m\u001b[38;5;124;43m\"\u001b[39;49m\u001b[43m]\u001b[49m\u001b[43m,\u001b[49m\n\u001b[1;32m     76\u001b[0m \u001b[43m            \u001b[49m\u001b[43mks\u001b[49m\u001b[38;5;241;43m=\u001b[39;49m\u001b[43m[\u001b[49m\u001b[38;5;241;43m1\u001b[39;49m\u001b[43m,\u001b[49m\u001b[43m \u001b[49m\u001b[38;5;241;43m2\u001b[39;49m\u001b[43m,\u001b[49m\u001b[43m \u001b[49m\u001b[38;5;241;43m5\u001b[39;49m\u001b[43m,\u001b[49m\u001b[43m \u001b[49m\u001b[38;5;241;43m10\u001b[39;49m\u001b[43m]\u001b[49m\u001b[43m,\u001b[49m\u001b[43m \u001b[49m\u001b[38;5;66;43;03m# max(ks) generations per task. Thus, 10 generations per task.\u001b[39;49;00m\n\u001b[1;32m     77\u001b[0m \u001b[43m            \u001b[49m\u001b[43mseeds\u001b[49m\u001b[38;5;241;43m=\u001b[39;49m\u001b[43m[\u001b[49m\u001b[38;5;241;43m3\u001b[39;49m\u001b[43m,\u001b[49m\u001b[43m \u001b[49m\u001b[38;5;241;43m75\u001b[39;49m\u001b[43m,\u001b[49m\u001b[43m \u001b[49m\u001b[38;5;241;43m346\u001b[39;49m\u001b[43m]\u001b[49m\u001b[43m,\u001b[49m\n\u001b[1;32m     78\u001b[0m \u001b[43m            \u001b[49m\u001b[43mdebug\u001b[49m\u001b[38;5;241;43m=\u001b[39;49m\u001b[38;5;28;43;01mTrue\u001b[39;49;00m\u001b[43m,\u001b[49m\n\u001b[1;32m     79\u001b[0m \u001b[43m            \u001b[49m\u001b[43mmetrics\u001b[49m\u001b[38;5;241;43m=\u001b[39;49m\u001b[43mmetrics\u001b[49m\u001b[43m,\u001b[49m\u001b[43m \u001b[49m\u001b[38;5;66;43;03m# current metrics: [\"syntax\", \"semantic\"] OR [\"syntax\", \"semantic\", \"tests\"]\u001b[39;49;00m\n\u001b[1;32m     80\u001b[0m \u001b[43m            \u001b[49m\u001b[43mexperiment_name\u001b[49m\u001b[38;5;241;43m=\u001b[39;49m\u001b[43mexperiment_name\u001b[49m\u001b[43m,\u001b[49m\n\u001b[1;32m     81\u001b[0m \u001b[43m            \u001b[49m\u001b[43menv\u001b[49m\u001b[38;5;241;43m=\u001b[39;49m\u001b[38;5;124;43m\"\u001b[39;49m\u001b[38;5;124;43mDEV\u001b[39;49m\u001b[38;5;124;43m\"\u001b[39;49m\u001b[43m,\u001b[49m\u001b[43m \u001b[49m\u001b[38;5;66;43;03m#'dev' for file storage and 'prod' for database storage, for errors and final result\u001b[39;49;00m\n\u001b[1;32m     82\u001b[0m \u001b[43m            \u001b[49m\u001b[43mprompt_type\u001b[49m\u001b[43m \u001b[49m\u001b[38;5;241;43m=\u001b[39;49m\u001b[43m \u001b[49m\u001b[43mprompt_type\u001b[49m\u001b[43m,\u001b[49m\n\u001b[1;32m     83\u001b[0m \u001b[43m            \u001b[49m\u001b[43mrag_data\u001b[49m\u001b[38;5;241;43m=\u001b[39;49m\u001b[43mcontext_data\u001b[49m\u001b[43m,\u001b[49m\n\u001b[1;32m     84\u001b[0m \u001b[43m            \u001b[49m\u001b[43mmax_ctx\u001b[49m\u001b[38;5;241;43m=\u001b[39;49m\u001b[43mmax_ctx\u001b[49m\n\u001b[1;32m     85\u001b[0m \u001b[43m        \u001b[49m\u001b[43m)\u001b[49m\n\u001b[1;32m     86\u001b[0m         results[model_name] \u001b[38;5;241m=\u001b[39m (test_results, final_result)\n\u001b[1;32m     89\u001b[0m \u001b[38;5;28mprint\u001b[39m(\u001b[38;5;124mf\u001b[39m\u001b[38;5;124m\"\u001b[39m\u001b[38;5;124m======\u001b[39m\u001b[38;5;130;01m\\n\u001b[39;00m\u001b[38;5;132;01m{\u001b[39;00mmodel_name\u001b[38;5;132;01m}\u001b[39;00m\u001b[38;5;124m FINAL RESULTS: ===============================\u001b[39m\u001b[38;5;124m\"\u001b[39m)\n",
      "File \u001b[0;32m~/Thesis_project/experiments/context/../../my_packages/evaluation/code_evaluation.py:560\u001b[0m, in \u001b[0;36mrun_testing\u001b[0;34m(client, model, available_nodes, test_data, example_pool, temperature, top_p, top_k, ks, seeds, debug, metrics, experiment_name, env, prompt_type, two_step, rag_data, max_ctx)\u001b[0m\n\u001b[1;32m    539\u001b[0m     model_result, largest_context \u001b[38;5;241m=\u001b[39m two_step_run(\n\u001b[1;32m    540\u001b[0m         client,\n\u001b[1;32m    541\u001b[0m         model\u001b[38;5;241m=\u001b[39mmodel[\u001b[38;5;124m\"\u001b[39m\u001b[38;5;124mname\u001b[39m\u001b[38;5;124m\"\u001b[39m],\n\u001b[0;32m   (...)\u001b[0m\n\u001b[1;32m    556\u001b[0m         max_ctx\u001b[38;5;241m=\u001b[39mmax_ctx\n\u001b[1;32m    557\u001b[0m     )\n\u001b[1;32m    559\u001b[0m \u001b[38;5;28;01melse\u001b[39;00m:\n\u001b[0;32m--> 560\u001b[0m     model_result, largest_context \u001b[38;5;241m=\u001b[39m \u001b[43mrun_model\u001b[49m\u001b[43m(\u001b[49m\n\u001b[1;32m    561\u001b[0m \u001b[43m        \u001b[49m\u001b[43mclient\u001b[49m\u001b[43m,\u001b[49m\n\u001b[1;32m    562\u001b[0m \u001b[43m        \u001b[49m\u001b[43mmodel\u001b[49m\u001b[43m[\u001b[49m\u001b[38;5;124;43m\"\u001b[39;49m\u001b[38;5;124;43mname\u001b[39;49m\u001b[38;5;124;43m\"\u001b[39;49m\u001b[43m]\u001b[49m\u001b[43m,\u001b[49m\n\u001b[1;32m    563\u001b[0m \u001b[43m        \u001b[49m\u001b[43mavailable_nodes\u001b[49m\u001b[43m,\u001b[49m\n\u001b[1;32m    564\u001b[0m \u001b[43m        \u001b[49m\u001b[43mtest_data\u001b[49m\u001b[43m,\u001b[49m\n\u001b[1;32m    565\u001b[0m \u001b[43m        \u001b[49m\u001b[43mexample_pool\u001b[49m\u001b[43m,\u001b[49m\n\u001b[1;32m    566\u001b[0m \u001b[43m        \u001b[49m\u001b[43mmodel\u001b[49m\u001b[43m[\u001b[49m\u001b[38;5;124;43m\"\u001b[39;49m\u001b[38;5;124;43mmax_tokens\u001b[39;49m\u001b[38;5;124;43m\"\u001b[39;49m\u001b[43m]\u001b[49m\u001b[43m,\u001b[49m\n\u001b[1;32m    567\u001b[0m \u001b[43m        \u001b[49m\u001b[43mtemperature\u001b[49m\u001b[43m,\u001b[49m\n\u001b[1;32m    568\u001b[0m \u001b[43m        \u001b[49m\u001b[43mtop_p\u001b[49m\u001b[43m,\u001b[49m\n\u001b[1;32m    569\u001b[0m \u001b[43m        \u001b[49m\u001b[43mtop_k\u001b[49m\u001b[43m,\u001b[49m\n\u001b[1;32m    570\u001b[0m \u001b[43m        \u001b[49m\u001b[43mn\u001b[49m\u001b[43m,\u001b[49m\n\u001b[1;32m    571\u001b[0m \u001b[43m        \u001b[49m\u001b[43mseed\u001b[49m\u001b[43m,\u001b[49m\n\u001b[1;32m    572\u001b[0m \u001b[43m        \u001b[49m\u001b[43mdebug\u001b[49m\u001b[43m,\u001b[49m\u001b[43m \u001b[49m\n\u001b[1;32m    573\u001b[0m \u001b[43m        \u001b[49m\u001b[43mprompt_type\u001b[49m\u001b[43m,\u001b[49m\n\u001b[1;32m    574\u001b[0m \u001b[43m        \u001b[49m\u001b[43mrag_data\u001b[49m\u001b[38;5;241;43m=\u001b[39;49m\u001b[43mrag_data\u001b[49m\u001b[43m,\u001b[49m\n\u001b[1;32m    575\u001b[0m \u001b[43m        \u001b[49m\u001b[43mmax_ctx\u001b[49m\u001b[38;5;241;43m=\u001b[39;49m\u001b[43mmax_ctx\u001b[49m\n\u001b[1;32m    576\u001b[0m \u001b[43m    \u001b[49m\u001b[43m)\u001b[49m\n\u001b[1;32m    578\u001b[0m metric_results_lists \u001b[38;5;241m=\u001b[39m evaluate_code (\n\u001b[1;32m    579\u001b[0m     model_result,\n\u001b[1;32m    580\u001b[0m     ks\u001b[38;5;241m=\u001b[39mks,\n\u001b[0;32m   (...)\u001b[0m\n\u001b[1;32m    586\u001b[0m     phase\u001b[38;5;241m=\u001b[39m\u001b[38;5;124m\"\u001b[39m\u001b[38;5;124mtesting\u001b[39m\u001b[38;5;124m\"\u001b[39m\n\u001b[1;32m    587\u001b[0m )\n\u001b[1;32m    588\u001b[0m \u001b[38;5;28mprint\u001b[39m(\u001b[38;5;124mf\u001b[39m\u001b[38;5;124m\"\u001b[39m\u001b[38;5;124mTesting with seed=\u001b[39m\u001b[38;5;132;01m{\u001b[39;00mseed\u001b[38;5;132;01m}\u001b[39;00m\u001b[38;5;124m, Gave pass@ks=\u001b[39m\u001b[38;5;132;01m{\u001b[39;00mmetric_results_lists\u001b[38;5;132;01m}\u001b[39;00m\u001b[38;5;124m\"\u001b[39m)\n",
      "File \u001b[0;32m~/Thesis_project/experiments/context/../../my_packages/evaluation/code_evaluation.py:319\u001b[0m, in \u001b[0;36mrun_model\u001b[0;34m(client, model, available_nodes, data, example_pool, max_new_tokens, temperature, top_p, top_k, n, seed, debug, prompt_type, ollama_port, rag_data, max_ctx)\u001b[0m\n\u001b[1;32m    316\u001b[0m largest_ctx_size \u001b[38;5;241m=\u001b[39m \u001b[38;5;241m0\u001b[39m\n\u001b[1;32m    317\u001b[0m \u001b[38;5;28;01mfor\u001b[39;00m index, sample \u001b[38;5;129;01min\u001b[39;00m \u001b[38;5;28menumerate\u001b[39m(data):\n\u001b[0;32m--> 319\u001b[0m     generated_candidates \u001b[38;5;241m=\u001b[39m \u001b[43mrun_prompt_step\u001b[49m\u001b[43m(\u001b[49m\n\u001b[1;32m    320\u001b[0m \u001b[43m        \u001b[49m\u001b[43mresponse_type\u001b[49m\u001b[38;5;241;43m=\u001b[39;49m\u001b[38;5;124;43m\"\u001b[39;49m\u001b[38;5;124;43mCODE\u001b[39;49m\u001b[38;5;124;43m\"\u001b[39;49m\u001b[43m,\u001b[49m\n\u001b[1;32m    321\u001b[0m \u001b[43m        \u001b[49m\u001b[43msample\u001b[49m\u001b[38;5;241;43m=\u001b[39;49m\u001b[43msample\u001b[49m\u001b[43m,\u001b[49m\n\u001b[1;32m    322\u001b[0m \u001b[43m        \u001b[49m\u001b[43mexample_pool\u001b[49m\u001b[38;5;241;43m=\u001b[39;49m\u001b[43mexample_pool\u001b[49m\u001b[43m,\u001b[49m\n\u001b[1;32m    323\u001b[0m \u001b[43m        \u001b[49m\u001b[43mprompt_type\u001b[49m\u001b[38;5;241;43m=\u001b[39;49m\u001b[43mprompt_type\u001b[49m\u001b[43m,\u001b[49m\n\u001b[1;32m    324\u001b[0m \u001b[43m        \u001b[49m\u001b[43mavailable_nodes\u001b[49m\u001b[38;5;241;43m=\u001b[39;49m\u001b[43mavailable_nodes\u001b[49m\u001b[43m,\u001b[49m\n\u001b[1;32m    325\u001b[0m \u001b[43m        \u001b[49m\u001b[43mclient\u001b[49m\u001b[38;5;241;43m=\u001b[39;49m\u001b[43mclient\u001b[49m\u001b[43m,\u001b[49m\n\u001b[1;32m    326\u001b[0m \u001b[43m        \u001b[49m\u001b[43mmodel\u001b[49m\u001b[38;5;241;43m=\u001b[39;49m\u001b[43mmodel\u001b[49m\u001b[43m,\u001b[49m\n\u001b[1;32m    327\u001b[0m \u001b[43m        \u001b[49m\u001b[43mmax_ctx\u001b[49m\u001b[38;5;241;43m=\u001b[39;49m\u001b[43mmax_ctx\u001b[49m\u001b[43m,\u001b[49m\n\u001b[1;32m    328\u001b[0m \u001b[43m        \u001b[49m\u001b[43mmax_new_tokens\u001b[49m\u001b[38;5;241;43m=\u001b[39;49m\u001b[43mmax_new_tokens\u001b[49m\u001b[43m,\u001b[49m\n\u001b[1;32m    329\u001b[0m \u001b[43m        \u001b[49m\u001b[43mgeneration_kwargs\u001b[49m\u001b[38;5;241;43m=\u001b[39;49m\u001b[43m{\u001b[49m\n\u001b[1;32m    330\u001b[0m \u001b[43m            \u001b[49m\u001b[38;5;124;43m\"\u001b[39;49m\u001b[38;5;124;43mclient\u001b[39;49m\u001b[38;5;124;43m\"\u001b[39;49m\u001b[43m:\u001b[49m\u001b[43m \u001b[49m\u001b[43mclient\u001b[49m\u001b[43m,\u001b[49m\n\u001b[1;32m    331\u001b[0m \u001b[43m            \u001b[49m\u001b[38;5;124;43m\"\u001b[39;49m\u001b[38;5;124;43mmodel\u001b[39;49m\u001b[38;5;124;43m\"\u001b[39;49m\u001b[43m:\u001b[49m\u001b[43m \u001b[49m\u001b[43mmodel\u001b[49m\u001b[43m,\u001b[49m\n\u001b[1;32m    332\u001b[0m \u001b[43m            \u001b[49m\u001b[38;5;124;43m\"\u001b[39;49m\u001b[38;5;124;43mtemperature\u001b[39;49m\u001b[38;5;124;43m\"\u001b[39;49m\u001b[43m:\u001b[49m\u001b[43m \u001b[49m\u001b[43mtemperature\u001b[49m\u001b[43m,\u001b[49m\n\u001b[1;32m    333\u001b[0m \u001b[43m            \u001b[49m\u001b[38;5;124;43m\"\u001b[39;49m\u001b[38;5;124;43mtop_p\u001b[39;49m\u001b[38;5;124;43m\"\u001b[39;49m\u001b[43m:\u001b[49m\u001b[43m \u001b[49m\u001b[43mtop_p\u001b[49m\u001b[43m,\u001b[49m\n\u001b[1;32m    334\u001b[0m \u001b[43m            \u001b[49m\u001b[38;5;124;43m\"\u001b[39;49m\u001b[38;5;124;43mtop_k\u001b[39;49m\u001b[38;5;124;43m\"\u001b[39;49m\u001b[43m:\u001b[49m\u001b[43m \u001b[49m\u001b[43mtop_k\u001b[49m\u001b[43m,\u001b[49m\n\u001b[1;32m    335\u001b[0m \u001b[43m            \u001b[49m\u001b[38;5;124;43m\"\u001b[39;49m\u001b[38;5;124;43mn\u001b[39;49m\u001b[38;5;124;43m\"\u001b[39;49m\u001b[43m:\u001b[49m\u001b[43m \u001b[49m\u001b[43mn\u001b[49m\u001b[43m,\u001b[49m\n\u001b[1;32m    336\u001b[0m \u001b[43m            \u001b[49m\u001b[38;5;124;43m\"\u001b[39;49m\u001b[38;5;124;43mseed\u001b[39;49m\u001b[38;5;124;43m\"\u001b[39;49m\u001b[43m:\u001b[49m\u001b[43m \u001b[49m\u001b[43mseed\u001b[49m\u001b[43m,\u001b[49m\n\u001b[1;32m    337\u001b[0m \u001b[43m            \u001b[49m\u001b[38;5;124;43m\"\u001b[39;49m\u001b[38;5;124;43mdebug\u001b[39;49m\u001b[38;5;124;43m\"\u001b[39;49m\u001b[43m:\u001b[49m\u001b[43m \u001b[49m\u001b[43mdebug\u001b[49m\u001b[43m,\u001b[49m\n\u001b[1;32m    338\u001b[0m \u001b[43m        \u001b[49m\u001b[43m}\u001b[49m\u001b[43m,\u001b[49m\n\u001b[1;32m    339\u001b[0m \u001b[43m        \u001b[49m\u001b[43mrag_data\u001b[49m\u001b[38;5;241;43m=\u001b[39;49m\u001b[43mrag_data\u001b[49m\u001b[43m,\u001b[49m\n\u001b[1;32m    340\u001b[0m \u001b[43m        \u001b[49m\u001b[43mdebug\u001b[49m\u001b[38;5;241;43m=\u001b[39;49m\u001b[43mdebug\u001b[49m\n\u001b[1;32m    341\u001b[0m \u001b[43m    \u001b[49m\u001b[43m)\u001b[49m\n\u001b[1;32m    342\u001b[0m     task_id \u001b[38;5;241m=\u001b[39m \u001b[38;5;28mint\u001b[39m(sample[\u001b[38;5;124m\"\u001b[39m\u001b[38;5;124mtask_id\u001b[39m\u001b[38;5;124m\"\u001b[39m])\n\u001b[1;32m    343\u001b[0m     results[task_id] \u001b[38;5;241m=\u001b[39m generated_candidates\n",
      "File \u001b[0;32m~/Thesis_project/experiments/context/../../my_packages/evaluation/code_evaluation.py:273\u001b[0m, in \u001b[0;36mrun_prompt_step\u001b[0;34m(response_type, sample, example_pool, prompt_type, available_nodes, client, model, max_ctx, max_new_tokens, generation_kwargs, rag_data, debug, candidate_nodes, ollama_port)\u001b[0m\n\u001b[1;32m    270\u001b[0m     \u001b[38;5;28mprint\u001b[39m(\u001b[38;5;124mf\u001b[39m\u001b[38;5;124m\"\u001b[39m\u001b[38;5;124mFinal prompt size: \u001b[39m\u001b[38;5;132;01m{\u001b[39;00mprompt_size\u001b[38;5;132;01m}\u001b[39;00m\u001b[38;5;124m (plus \u001b[39m\u001b[38;5;132;01m{\u001b[39;00mmax_new_tokens\u001b[38;5;132;01m}\u001b[39;00m\u001b[38;5;124m for output).\u001b[39m\u001b[38;5;124m\"\u001b[39m)\n\u001b[1;32m    272\u001b[0m \u001b[38;5;66;03m# Generate responses\u001b[39;00m\n\u001b[0;32m--> 273\u001b[0m generated_candidates \u001b[38;5;241m=\u001b[39m \u001b[43mgenerate_n_responses\u001b[49m\u001b[43m(\u001b[49m\n\u001b[1;32m    274\u001b[0m \u001b[43m    \u001b[49m\u001b[38;5;241;43m*\u001b[39;49m\u001b[38;5;241;43m*\u001b[39;49m\u001b[43mgeneration_kwargs\u001b[49m\u001b[43m,\u001b[49m\n\u001b[1;32m    275\u001b[0m \u001b[43m    \u001b[49m\u001b[43mmax_new_tokens\u001b[49m\u001b[38;5;241;43m=\u001b[39;49m\u001b[43mmax_new_tokens\u001b[49m\u001b[43m,\u001b[49m\n\u001b[1;32m    276\u001b[0m \u001b[43m    \u001b[49m\u001b[43mfinal_prompt_template\u001b[49m\u001b[38;5;241;43m=\u001b[39;49m\u001b[43mfinal_prompt_template\u001b[49m\u001b[43m,\u001b[49m\n\u001b[1;32m    277\u001b[0m \u001b[43m    \u001b[49m\u001b[43mprompt_variables_dict\u001b[49m\u001b[38;5;241;43m=\u001b[39;49m\u001b[43mprompt_variables_dict\u001b[49m\u001b[43m,\u001b[49m\n\u001b[1;32m    278\u001b[0m \u001b[43m    \u001b[49m\u001b[43mcontext\u001b[49m\u001b[38;5;241;43m=\u001b[39;49m\u001b[43mprompt_size\u001b[49m\u001b[43m \u001b[49m\u001b[38;5;241;43m+\u001b[39;49m\u001b[43m \u001b[49m\u001b[43mmax_new_tokens\u001b[49m\u001b[43m,\u001b[49m\n\u001b[1;32m    279\u001b[0m \u001b[43m    \u001b[49m\u001b[43mollama_port\u001b[49m\u001b[38;5;241;43m=\u001b[39;49m\u001b[43mollama_port\u001b[49m\n\u001b[1;32m    280\u001b[0m \u001b[43m\u001b[49m\u001b[43m)\u001b[49m\n\u001b[1;32m    281\u001b[0m \u001b[38;5;28;01mif\u001b[39;00m debug:\n\u001b[1;32m    282\u001b[0m     \u001b[38;5;66;03m# print(f\"\\n\\n{Style.BRIGHT}=== Sample: {index+1} ===\")\u001b[39;00m\n\u001b[1;32m    283\u001b[0m     \u001b[38;5;28mprint\u001b[39m(\u001b[38;5;124mf\u001b[39m\u001b[38;5;124m\"\u001b[39m\u001b[38;5;132;01m{\u001b[39;00mFore\u001b[38;5;241m.\u001b[39mCYAN\u001b[38;5;132;01m}\u001b[39;00m\u001b[38;5;132;01m{\u001b[39;00mStyle\u001b[38;5;241m.\u001b[39mBRIGHT\u001b[38;5;132;01m}\u001b[39;00m\u001b[38;5;124m User prompt: \u001b[39m\u001b[38;5;132;01m{\u001b[39;00mStyle\u001b[38;5;241m.\u001b[39mRESET_ALL\u001b[38;5;132;01m}\u001b[39;00m\u001b[38;5;130;01m\\n\u001b[39;00m\u001b[38;5;132;01m{\u001b[39;00mprompt\u001b[38;5;132;01m}\u001b[39;00m\u001b[38;5;130;01m\\n\u001b[39;00m\u001b[38;5;124m\"\u001b[39m)\n",
      "File \u001b[0;32m~/Thesis_project/experiments/context/../../my_packages/evaluation/models.py:168\u001b[0m, in \u001b[0;36mgenerate_n_responses\u001b[0;34m(n, client, model, max_new_tokens, temperature, top_p, top_k, seed, final_prompt_template, prompt_variables_dict, context, debug, ollama_port)\u001b[0m\n\u001b[1;32m    152\u001b[0m     llm \u001b[38;5;241m=\u001b[39m client(\n\u001b[1;32m    153\u001b[0m         model\u001b[38;5;241m=\u001b[39mmodel,\n\u001b[1;32m    154\u001b[0m         temperature\u001b[38;5;241m=\u001b[39mtemperature,\n\u001b[0;32m   (...)\u001b[0m\n\u001b[1;32m    162\u001b[0m         base_url\u001b[38;5;241m=\u001b[39m\u001b[38;5;124mf\u001b[39m\u001b[38;5;124m\"\u001b[39m\u001b[38;5;124mhttp://localhost:\u001b[39m\u001b[38;5;132;01m{\u001b[39;00mollama_port\u001b[38;5;132;01m}\u001b[39;00m\u001b[38;5;124m\"\u001b[39m\n\u001b[1;32m    163\u001b[0m     )\n\u001b[1;32m    166\u001b[0m chain \u001b[38;5;241m=\u001b[39m (final_prompt_template \u001b[38;5;241m|\u001b[39m llm)\n\u001b[0;32m--> 168\u001b[0m response \u001b[38;5;241m=\u001b[39m \u001b[43mchain\u001b[49m\u001b[38;5;241;43m.\u001b[39;49m\u001b[43minvoke\u001b[49m\u001b[43m(\u001b[49m\n\u001b[1;32m    169\u001b[0m \u001b[43m    \u001b[49m\u001b[43mprompt_variables_dict\u001b[49m\u001b[43m,\u001b[49m\n\u001b[1;32m    170\u001b[0m \u001b[43m    \u001b[49m\u001b[43m{\u001b[49m\u001b[38;5;124;43m\"\u001b[39;49m\u001b[38;5;124;43mrun_name\u001b[39;49m\u001b[38;5;124;43m\"\u001b[39;49m\u001b[43m:\u001b[49m\u001b[43m \u001b[49m\u001b[38;5;124;43mf\u001b[39;49m\u001b[38;5;124;43m\"\u001b[39;49m\u001b[38;5;124;43mFew-shot code prediction\u001b[39;49m\u001b[38;5;124;43m\"\u001b[39;49m\u001b[43m}\u001b[49m\n\u001b[1;32m    171\u001b[0m \u001b[43m\u001b[49m\u001b[43m)\u001b[49m\n\u001b[1;32m    172\u001b[0m \u001b[38;5;28mprint\u001b[39m(generated)\n\u001b[1;32m    173\u001b[0m generated \u001b[38;5;241m=\u001b[39m response\u001b[38;5;241m.\u001b[39mcontent\n",
      "File \u001b[0;32m~/Thesis_project/.venv_Master/lib/python3.11/site-packages/langchain_core/runnables/base.py:3029\u001b[0m, in \u001b[0;36mRunnableSequence.invoke\u001b[0;34m(self, input, config, **kwargs)\u001b[0m\n\u001b[1;32m   3027\u001b[0m             \u001b[38;5;28minput\u001b[39m \u001b[38;5;241m=\u001b[39m context\u001b[38;5;241m.\u001b[39mrun(step\u001b[38;5;241m.\u001b[39minvoke, \u001b[38;5;28minput\u001b[39m, config, \u001b[38;5;241m*\u001b[39m\u001b[38;5;241m*\u001b[39mkwargs)\n\u001b[1;32m   3028\u001b[0m         \u001b[38;5;28;01melse\u001b[39;00m:\n\u001b[0;32m-> 3029\u001b[0m             \u001b[38;5;28minput\u001b[39m \u001b[38;5;241m=\u001b[39m \u001b[43mcontext\u001b[49m\u001b[38;5;241;43m.\u001b[39;49m\u001b[43mrun\u001b[49m\u001b[43m(\u001b[49m\u001b[43mstep\u001b[49m\u001b[38;5;241;43m.\u001b[39;49m\u001b[43minvoke\u001b[49m\u001b[43m,\u001b[49m\u001b[43m \u001b[49m\u001b[38;5;28;43minput\u001b[39;49m\u001b[43m,\u001b[49m\u001b[43m \u001b[49m\u001b[43mconfig\u001b[49m\u001b[43m)\u001b[49m\n\u001b[1;32m   3030\u001b[0m \u001b[38;5;66;03m# finish the root run\u001b[39;00m\n\u001b[1;32m   3031\u001b[0m \u001b[38;5;28;01mexcept\u001b[39;00m \u001b[38;5;167;01mBaseException\u001b[39;00m \u001b[38;5;28;01mas\u001b[39;00m e:\n",
      "File \u001b[0;32m~/Thesis_project/.venv_Master/lib/python3.11/site-packages/langchain_core/language_models/chat_models.py:285\u001b[0m, in \u001b[0;36mBaseChatModel.invoke\u001b[0;34m(self, input, config, stop, **kwargs)\u001b[0m\n\u001b[1;32m    274\u001b[0m \u001b[38;5;28;01mdef\u001b[39;00m\u001b[38;5;250m \u001b[39m\u001b[38;5;21minvoke\u001b[39m(\n\u001b[1;32m    275\u001b[0m     \u001b[38;5;28mself\u001b[39m,\n\u001b[1;32m    276\u001b[0m     \u001b[38;5;28minput\u001b[39m: LanguageModelInput,\n\u001b[0;32m   (...)\u001b[0m\n\u001b[1;32m    280\u001b[0m     \u001b[38;5;241m*\u001b[39m\u001b[38;5;241m*\u001b[39mkwargs: Any,\n\u001b[1;32m    281\u001b[0m ) \u001b[38;5;241m-\u001b[39m\u001b[38;5;241m>\u001b[39m BaseMessage:\n\u001b[1;32m    282\u001b[0m     config \u001b[38;5;241m=\u001b[39m ensure_config(config)\n\u001b[1;32m    283\u001b[0m     \u001b[38;5;28;01mreturn\u001b[39;00m cast(\n\u001b[1;32m    284\u001b[0m         ChatGeneration,\n\u001b[0;32m--> 285\u001b[0m         \u001b[38;5;28;43mself\u001b[39;49m\u001b[38;5;241;43m.\u001b[39;49m\u001b[43mgenerate_prompt\u001b[49m\u001b[43m(\u001b[49m\n\u001b[1;32m    286\u001b[0m \u001b[43m            \u001b[49m\u001b[43m[\u001b[49m\u001b[38;5;28;43mself\u001b[39;49m\u001b[38;5;241;43m.\u001b[39;49m\u001b[43m_convert_input\u001b[49m\u001b[43m(\u001b[49m\u001b[38;5;28;43minput\u001b[39;49m\u001b[43m)\u001b[49m\u001b[43m]\u001b[49m\u001b[43m,\u001b[49m\n\u001b[1;32m    287\u001b[0m \u001b[43m            \u001b[49m\u001b[43mstop\u001b[49m\u001b[38;5;241;43m=\u001b[39;49m\u001b[43mstop\u001b[49m\u001b[43m,\u001b[49m\n\u001b[1;32m    288\u001b[0m \u001b[43m            \u001b[49m\u001b[43mcallbacks\u001b[49m\u001b[38;5;241;43m=\u001b[39;49m\u001b[43mconfig\u001b[49m\u001b[38;5;241;43m.\u001b[39;49m\u001b[43mget\u001b[49m\u001b[43m(\u001b[49m\u001b[38;5;124;43m\"\u001b[39;49m\u001b[38;5;124;43mcallbacks\u001b[39;49m\u001b[38;5;124;43m\"\u001b[39;49m\u001b[43m)\u001b[49m\u001b[43m,\u001b[49m\n\u001b[1;32m    289\u001b[0m \u001b[43m            \u001b[49m\u001b[43mtags\u001b[49m\u001b[38;5;241;43m=\u001b[39;49m\u001b[43mconfig\u001b[49m\u001b[38;5;241;43m.\u001b[39;49m\u001b[43mget\u001b[49m\u001b[43m(\u001b[49m\u001b[38;5;124;43m\"\u001b[39;49m\u001b[38;5;124;43mtags\u001b[39;49m\u001b[38;5;124;43m\"\u001b[39;49m\u001b[43m)\u001b[49m\u001b[43m,\u001b[49m\n\u001b[1;32m    290\u001b[0m \u001b[43m            \u001b[49m\u001b[43mmetadata\u001b[49m\u001b[38;5;241;43m=\u001b[39;49m\u001b[43mconfig\u001b[49m\u001b[38;5;241;43m.\u001b[39;49m\u001b[43mget\u001b[49m\u001b[43m(\u001b[49m\u001b[38;5;124;43m\"\u001b[39;49m\u001b[38;5;124;43mmetadata\u001b[39;49m\u001b[38;5;124;43m\"\u001b[39;49m\u001b[43m)\u001b[49m\u001b[43m,\u001b[49m\n\u001b[1;32m    291\u001b[0m \u001b[43m            \u001b[49m\u001b[43mrun_name\u001b[49m\u001b[38;5;241;43m=\u001b[39;49m\u001b[43mconfig\u001b[49m\u001b[38;5;241;43m.\u001b[39;49m\u001b[43mget\u001b[49m\u001b[43m(\u001b[49m\u001b[38;5;124;43m\"\u001b[39;49m\u001b[38;5;124;43mrun_name\u001b[39;49m\u001b[38;5;124;43m\"\u001b[39;49m\u001b[43m)\u001b[49m\u001b[43m,\u001b[49m\n\u001b[1;32m    292\u001b[0m \u001b[43m            \u001b[49m\u001b[43mrun_id\u001b[49m\u001b[38;5;241;43m=\u001b[39;49m\u001b[43mconfig\u001b[49m\u001b[38;5;241;43m.\u001b[39;49m\u001b[43mpop\u001b[49m\u001b[43m(\u001b[49m\u001b[38;5;124;43m\"\u001b[39;49m\u001b[38;5;124;43mrun_id\u001b[39;49m\u001b[38;5;124;43m\"\u001b[39;49m\u001b[43m,\u001b[49m\u001b[43m \u001b[49m\u001b[38;5;28;43;01mNone\u001b[39;49;00m\u001b[43m)\u001b[49m\u001b[43m,\u001b[49m\n\u001b[1;32m    293\u001b[0m \u001b[43m            \u001b[49m\u001b[38;5;241;43m*\u001b[39;49m\u001b[38;5;241;43m*\u001b[39;49m\u001b[43mkwargs\u001b[49m\u001b[43m,\u001b[49m\n\u001b[1;32m    294\u001b[0m \u001b[43m        \u001b[49m\u001b[43m)\u001b[49m\u001b[38;5;241m.\u001b[39mgenerations[\u001b[38;5;241m0\u001b[39m][\u001b[38;5;241m0\u001b[39m],\n\u001b[1;32m    295\u001b[0m     )\u001b[38;5;241m.\u001b[39mmessage\n",
      "File \u001b[0;32m~/Thesis_project/.venv_Master/lib/python3.11/site-packages/langchain_core/language_models/chat_models.py:861\u001b[0m, in \u001b[0;36mBaseChatModel.generate_prompt\u001b[0;34m(self, prompts, stop, callbacks, **kwargs)\u001b[0m\n\u001b[1;32m    853\u001b[0m \u001b[38;5;28;01mdef\u001b[39;00m\u001b[38;5;250m \u001b[39m\u001b[38;5;21mgenerate_prompt\u001b[39m(\n\u001b[1;32m    854\u001b[0m     \u001b[38;5;28mself\u001b[39m,\n\u001b[1;32m    855\u001b[0m     prompts: \u001b[38;5;28mlist\u001b[39m[PromptValue],\n\u001b[0;32m   (...)\u001b[0m\n\u001b[1;32m    858\u001b[0m     \u001b[38;5;241m*\u001b[39m\u001b[38;5;241m*\u001b[39mkwargs: Any,\n\u001b[1;32m    859\u001b[0m ) \u001b[38;5;241m-\u001b[39m\u001b[38;5;241m>\u001b[39m LLMResult:\n\u001b[1;32m    860\u001b[0m     prompt_messages \u001b[38;5;241m=\u001b[39m [p\u001b[38;5;241m.\u001b[39mto_messages() \u001b[38;5;28;01mfor\u001b[39;00m p \u001b[38;5;129;01min\u001b[39;00m prompts]\n\u001b[0;32m--> 861\u001b[0m     \u001b[38;5;28;01mreturn\u001b[39;00m \u001b[38;5;28;43mself\u001b[39;49m\u001b[38;5;241;43m.\u001b[39;49m\u001b[43mgenerate\u001b[49m\u001b[43m(\u001b[49m\u001b[43mprompt_messages\u001b[49m\u001b[43m,\u001b[49m\u001b[43m \u001b[49m\u001b[43mstop\u001b[49m\u001b[38;5;241;43m=\u001b[39;49m\u001b[43mstop\u001b[49m\u001b[43m,\u001b[49m\u001b[43m \u001b[49m\u001b[43mcallbacks\u001b[49m\u001b[38;5;241;43m=\u001b[39;49m\u001b[43mcallbacks\u001b[49m\u001b[43m,\u001b[49m\u001b[43m \u001b[49m\u001b[38;5;241;43m*\u001b[39;49m\u001b[38;5;241;43m*\u001b[39;49m\u001b[43mkwargs\u001b[49m\u001b[43m)\u001b[49m\n",
      "File \u001b[0;32m~/Thesis_project/.venv_Master/lib/python3.11/site-packages/langchain_core/language_models/chat_models.py:691\u001b[0m, in \u001b[0;36mBaseChatModel.generate\u001b[0;34m(self, messages, stop, callbacks, tags, metadata, run_name, run_id, **kwargs)\u001b[0m\n\u001b[1;32m    688\u001b[0m \u001b[38;5;28;01mfor\u001b[39;00m i, m \u001b[38;5;129;01min\u001b[39;00m \u001b[38;5;28menumerate\u001b[39m(messages):\n\u001b[1;32m    689\u001b[0m     \u001b[38;5;28;01mtry\u001b[39;00m:\n\u001b[1;32m    690\u001b[0m         results\u001b[38;5;241m.\u001b[39mappend(\n\u001b[0;32m--> 691\u001b[0m             \u001b[38;5;28;43mself\u001b[39;49m\u001b[38;5;241;43m.\u001b[39;49m\u001b[43m_generate_with_cache\u001b[49m\u001b[43m(\u001b[49m\n\u001b[1;32m    692\u001b[0m \u001b[43m                \u001b[49m\u001b[43mm\u001b[49m\u001b[43m,\u001b[49m\n\u001b[1;32m    693\u001b[0m \u001b[43m                \u001b[49m\u001b[43mstop\u001b[49m\u001b[38;5;241;43m=\u001b[39;49m\u001b[43mstop\u001b[49m\u001b[43m,\u001b[49m\n\u001b[1;32m    694\u001b[0m \u001b[43m                \u001b[49m\u001b[43mrun_manager\u001b[49m\u001b[38;5;241;43m=\u001b[39;49m\u001b[43mrun_managers\u001b[49m\u001b[43m[\u001b[49m\u001b[43mi\u001b[49m\u001b[43m]\u001b[49m\u001b[43m \u001b[49m\u001b[38;5;28;43;01mif\u001b[39;49;00m\u001b[43m \u001b[49m\u001b[43mrun_managers\u001b[49m\u001b[43m \u001b[49m\u001b[38;5;28;43;01melse\u001b[39;49;00m\u001b[43m \u001b[49m\u001b[38;5;28;43;01mNone\u001b[39;49;00m\u001b[43m,\u001b[49m\n\u001b[1;32m    695\u001b[0m \u001b[43m                \u001b[49m\u001b[38;5;241;43m*\u001b[39;49m\u001b[38;5;241;43m*\u001b[39;49m\u001b[43mkwargs\u001b[49m\u001b[43m,\u001b[49m\n\u001b[1;32m    696\u001b[0m \u001b[43m            \u001b[49m\u001b[43m)\u001b[49m\n\u001b[1;32m    697\u001b[0m         )\n\u001b[1;32m    698\u001b[0m     \u001b[38;5;28;01mexcept\u001b[39;00m \u001b[38;5;167;01mBaseException\u001b[39;00m \u001b[38;5;28;01mas\u001b[39;00m e:\n\u001b[1;32m    699\u001b[0m         \u001b[38;5;28;01mif\u001b[39;00m run_managers:\n",
      "File \u001b[0;32m~/Thesis_project/.venv_Master/lib/python3.11/site-packages/langchain_core/language_models/chat_models.py:926\u001b[0m, in \u001b[0;36mBaseChatModel._generate_with_cache\u001b[0;34m(self, messages, stop, run_manager, **kwargs)\u001b[0m\n\u001b[1;32m    924\u001b[0m \u001b[38;5;28;01melse\u001b[39;00m:\n\u001b[1;32m    925\u001b[0m     \u001b[38;5;28;01mif\u001b[39;00m inspect\u001b[38;5;241m.\u001b[39msignature(\u001b[38;5;28mself\u001b[39m\u001b[38;5;241m.\u001b[39m_generate)\u001b[38;5;241m.\u001b[39mparameters\u001b[38;5;241m.\u001b[39mget(\u001b[38;5;124m\"\u001b[39m\u001b[38;5;124mrun_manager\u001b[39m\u001b[38;5;124m\"\u001b[39m):\n\u001b[0;32m--> 926\u001b[0m         result \u001b[38;5;241m=\u001b[39m \u001b[38;5;28;43mself\u001b[39;49m\u001b[38;5;241;43m.\u001b[39;49m\u001b[43m_generate\u001b[49m\u001b[43m(\u001b[49m\n\u001b[1;32m    927\u001b[0m \u001b[43m            \u001b[49m\u001b[43mmessages\u001b[49m\u001b[43m,\u001b[49m\u001b[43m \u001b[49m\u001b[43mstop\u001b[49m\u001b[38;5;241;43m=\u001b[39;49m\u001b[43mstop\u001b[49m\u001b[43m,\u001b[49m\u001b[43m \u001b[49m\u001b[43mrun_manager\u001b[49m\u001b[38;5;241;43m=\u001b[39;49m\u001b[43mrun_manager\u001b[49m\u001b[43m,\u001b[49m\u001b[43m \u001b[49m\u001b[38;5;241;43m*\u001b[39;49m\u001b[38;5;241;43m*\u001b[39;49m\u001b[43mkwargs\u001b[49m\n\u001b[1;32m    928\u001b[0m \u001b[43m        \u001b[49m\u001b[43m)\u001b[49m\n\u001b[1;32m    929\u001b[0m     \u001b[38;5;28;01melse\u001b[39;00m:\n\u001b[1;32m    930\u001b[0m         result \u001b[38;5;241m=\u001b[39m \u001b[38;5;28mself\u001b[39m\u001b[38;5;241m.\u001b[39m_generate(messages, stop\u001b[38;5;241m=\u001b[39mstop, \u001b[38;5;241m*\u001b[39m\u001b[38;5;241m*\u001b[39mkwargs)\n",
      "File \u001b[0;32m~/Thesis_project/.venv_Master/lib/python3.11/site-packages/langchain_ollama/chat_models.py:701\u001b[0m, in \u001b[0;36mChatOllama._generate\u001b[0;34m(self, messages, stop, run_manager, **kwargs)\u001b[0m\n\u001b[1;32m    694\u001b[0m \u001b[38;5;28;01mdef\u001b[39;00m\u001b[38;5;250m \u001b[39m\u001b[38;5;21m_generate\u001b[39m(\n\u001b[1;32m    695\u001b[0m     \u001b[38;5;28mself\u001b[39m,\n\u001b[1;32m    696\u001b[0m     messages: List[BaseMessage],\n\u001b[0;32m   (...)\u001b[0m\n\u001b[1;32m    699\u001b[0m     \u001b[38;5;241m*\u001b[39m\u001b[38;5;241m*\u001b[39mkwargs: Any,\n\u001b[1;32m    700\u001b[0m ) \u001b[38;5;241m-\u001b[39m\u001b[38;5;241m>\u001b[39m ChatResult:\n\u001b[0;32m--> 701\u001b[0m     final_chunk \u001b[38;5;241m=\u001b[39m \u001b[38;5;28;43mself\u001b[39;49m\u001b[38;5;241;43m.\u001b[39;49m\u001b[43m_chat_stream_with_aggregation\u001b[49m\u001b[43m(\u001b[49m\n\u001b[1;32m    702\u001b[0m \u001b[43m        \u001b[49m\u001b[43mmessages\u001b[49m\u001b[43m,\u001b[49m\u001b[43m \u001b[49m\u001b[43mstop\u001b[49m\u001b[43m,\u001b[49m\u001b[43m \u001b[49m\u001b[43mrun_manager\u001b[49m\u001b[43m,\u001b[49m\u001b[43m \u001b[49m\u001b[43mverbose\u001b[49m\u001b[38;5;241;43m=\u001b[39;49m\u001b[38;5;28;43mself\u001b[39;49m\u001b[38;5;241;43m.\u001b[39;49m\u001b[43mverbose\u001b[49m\u001b[43m,\u001b[49m\u001b[43m \u001b[49m\u001b[38;5;241;43m*\u001b[39;49m\u001b[38;5;241;43m*\u001b[39;49m\u001b[43mkwargs\u001b[49m\n\u001b[1;32m    703\u001b[0m \u001b[43m    \u001b[49m\u001b[43m)\u001b[49m\n\u001b[1;32m    704\u001b[0m     generation_info \u001b[38;5;241m=\u001b[39m final_chunk\u001b[38;5;241m.\u001b[39mgeneration_info\n\u001b[1;32m    705\u001b[0m     chat_generation \u001b[38;5;241m=\u001b[39m ChatGeneration(\n\u001b[1;32m    706\u001b[0m         message\u001b[38;5;241m=\u001b[39mAIMessage(\n\u001b[1;32m    707\u001b[0m             content\u001b[38;5;241m=\u001b[39mfinal_chunk\u001b[38;5;241m.\u001b[39mtext,\n\u001b[0;32m   (...)\u001b[0m\n\u001b[1;32m    711\u001b[0m         generation_info\u001b[38;5;241m=\u001b[39mgeneration_info,\n\u001b[1;32m    712\u001b[0m     )\n",
      "File \u001b[0;32m~/Thesis_project/.venv_Master/lib/python3.11/site-packages/langchain_ollama/chat_models.py:602\u001b[0m, in \u001b[0;36mChatOllama._chat_stream_with_aggregation\u001b[0;34m(self, messages, stop, run_manager, verbose, **kwargs)\u001b[0m\n\u001b[1;32m    593\u001b[0m \u001b[38;5;28;01mdef\u001b[39;00m\u001b[38;5;250m \u001b[39m\u001b[38;5;21m_chat_stream_with_aggregation\u001b[39m(\n\u001b[1;32m    594\u001b[0m     \u001b[38;5;28mself\u001b[39m,\n\u001b[1;32m    595\u001b[0m     messages: List[BaseMessage],\n\u001b[0;32m   (...)\u001b[0m\n\u001b[1;32m    599\u001b[0m     \u001b[38;5;241m*\u001b[39m\u001b[38;5;241m*\u001b[39mkwargs: Any,\n\u001b[1;32m    600\u001b[0m ) \u001b[38;5;241m-\u001b[39m\u001b[38;5;241m>\u001b[39m ChatGenerationChunk:\n\u001b[1;32m    601\u001b[0m     final_chunk \u001b[38;5;241m=\u001b[39m \u001b[38;5;28;01mNone\u001b[39;00m\n\u001b[0;32m--> 602\u001b[0m \u001b[43m    \u001b[49m\u001b[38;5;28;43;01mfor\u001b[39;49;00m\u001b[43m \u001b[49m\u001b[43mstream_resp\u001b[49m\u001b[43m \u001b[49m\u001b[38;5;129;43;01min\u001b[39;49;00m\u001b[43m \u001b[49m\u001b[38;5;28;43mself\u001b[39;49m\u001b[38;5;241;43m.\u001b[39;49m\u001b[43m_create_chat_stream\u001b[49m\u001b[43m(\u001b[49m\u001b[43mmessages\u001b[49m\u001b[43m,\u001b[49m\u001b[43m \u001b[49m\u001b[43mstop\u001b[49m\u001b[43m,\u001b[49m\u001b[43m \u001b[49m\u001b[38;5;241;43m*\u001b[39;49m\u001b[38;5;241;43m*\u001b[39;49m\u001b[43mkwargs\u001b[49m\u001b[43m)\u001b[49m\u001b[43m:\u001b[49m\n\u001b[1;32m    603\u001b[0m \u001b[43m        \u001b[49m\u001b[38;5;28;43;01mif\u001b[39;49;00m\u001b[43m \u001b[49m\u001b[38;5;129;43;01mnot\u001b[39;49;00m\u001b[43m \u001b[49m\u001b[38;5;28;43misinstance\u001b[39;49m\u001b[43m(\u001b[49m\u001b[43mstream_resp\u001b[49m\u001b[43m,\u001b[49m\u001b[43m \u001b[49m\u001b[38;5;28;43mstr\u001b[39;49m\u001b[43m)\u001b[49m\u001b[43m:\u001b[49m\n\u001b[1;32m    604\u001b[0m \u001b[43m            \u001b[49m\u001b[43mchunk\u001b[49m\u001b[43m \u001b[49m\u001b[38;5;241;43m=\u001b[39;49m\u001b[43m \u001b[49m\u001b[43mChatGenerationChunk\u001b[49m\u001b[43m(\u001b[49m\n\u001b[1;32m    605\u001b[0m \u001b[43m                \u001b[49m\u001b[43mmessage\u001b[49m\u001b[38;5;241;43m=\u001b[39;49m\u001b[43mAIMessageChunk\u001b[49m\u001b[43m(\u001b[49m\n\u001b[1;32m    606\u001b[0m \u001b[43m                    \u001b[49m\u001b[43mcontent\u001b[49m\u001b[38;5;241;43m=\u001b[39;49m\u001b[43m(\u001b[49m\n\u001b[0;32m   (...)\u001b[0m\n\u001b[1;32m    619\u001b[0m \u001b[43m                \u001b[49m\u001b[43m)\u001b[49m\u001b[43m,\u001b[49m\n\u001b[1;32m    620\u001b[0m \u001b[43m            \u001b[49m\u001b[43m)\u001b[49m\n",
      "File \u001b[0;32m~/Thesis_project/.venv_Master/lib/python3.11/site-packages/langchain_ollama/chat_models.py:589\u001b[0m, in \u001b[0;36mChatOllama._create_chat_stream\u001b[0;34m(self, messages, stop, **kwargs)\u001b[0m\n\u001b[1;32m    586\u001b[0m chat_params \u001b[38;5;241m=\u001b[39m \u001b[38;5;28mself\u001b[39m\u001b[38;5;241m.\u001b[39m_chat_params(messages, stop, \u001b[38;5;241m*\u001b[39m\u001b[38;5;241m*\u001b[39mkwargs)\n\u001b[1;32m    588\u001b[0m \u001b[38;5;28;01mif\u001b[39;00m chat_params[\u001b[38;5;124m\"\u001b[39m\u001b[38;5;124mstream\u001b[39m\u001b[38;5;124m\"\u001b[39m]:\n\u001b[0;32m--> 589\u001b[0m     \u001b[38;5;28;01myield from\u001b[39;00m \u001b[38;5;28mself\u001b[39m\u001b[38;5;241m.\u001b[39m_client\u001b[38;5;241m.\u001b[39mchat(\u001b[38;5;241m*\u001b[39m\u001b[38;5;241m*\u001b[39mchat_params)\n\u001b[1;32m    590\u001b[0m \u001b[38;5;28;01melse\u001b[39;00m:\n\u001b[1;32m    591\u001b[0m     \u001b[38;5;28;01myield\u001b[39;00m \u001b[38;5;28mself\u001b[39m\u001b[38;5;241m.\u001b[39m_client\u001b[38;5;241m.\u001b[39mchat(\u001b[38;5;241m*\u001b[39m\u001b[38;5;241m*\u001b[39mchat_params)\n",
      "File \u001b[0;32m~/Thesis_project/.venv_Master/lib/python3.11/site-packages/ollama/_client.py:162\u001b[0m, in \u001b[0;36mClient._request.<locals>.inner\u001b[0;34m()\u001b[0m\n\u001b[1;32m    161\u001b[0m \u001b[38;5;28;01mdef\u001b[39;00m\u001b[38;5;250m \u001b[39m\u001b[38;5;21minner\u001b[39m():\n\u001b[0;32m--> 162\u001b[0m \u001b[43m  \u001b[49m\u001b[38;5;28;43;01mwith\u001b[39;49;00m\u001b[43m \u001b[49m\u001b[38;5;28;43mself\u001b[39;49m\u001b[38;5;241;43m.\u001b[39;49m\u001b[43m_client\u001b[49m\u001b[38;5;241;43m.\u001b[39;49m\u001b[43mstream\u001b[49m\u001b[43m(\u001b[49m\u001b[38;5;241;43m*\u001b[39;49m\u001b[43margs\u001b[49m\u001b[43m,\u001b[49m\u001b[43m \u001b[49m\u001b[38;5;241;43m*\u001b[39;49m\u001b[38;5;241;43m*\u001b[39;49m\u001b[43mkwargs\u001b[49m\u001b[43m)\u001b[49m\u001b[43m \u001b[49m\u001b[38;5;28;43;01mas\u001b[39;49;00m\u001b[43m \u001b[49m\u001b[43mr\u001b[49m\u001b[43m:\u001b[49m\n\u001b[1;32m    163\u001b[0m \u001b[43m    \u001b[49m\u001b[38;5;28;43;01mtry\u001b[39;49;00m\u001b[43m:\u001b[49m\n\u001b[1;32m    164\u001b[0m \u001b[43m      \u001b[49m\u001b[43mr\u001b[49m\u001b[38;5;241;43m.\u001b[39;49m\u001b[43mraise_for_status\u001b[49m\u001b[43m(\u001b[49m\u001b[43m)\u001b[49m\n",
      "File \u001b[0;32m/usr/lib/python3.11/contextlib.py:137\u001b[0m, in \u001b[0;36m_GeneratorContextManager.__enter__\u001b[0;34m(self)\u001b[0m\n\u001b[1;32m    135\u001b[0m \u001b[38;5;28;01mdel\u001b[39;00m \u001b[38;5;28mself\u001b[39m\u001b[38;5;241m.\u001b[39margs, \u001b[38;5;28mself\u001b[39m\u001b[38;5;241m.\u001b[39mkwds, \u001b[38;5;28mself\u001b[39m\u001b[38;5;241m.\u001b[39mfunc\n\u001b[1;32m    136\u001b[0m \u001b[38;5;28;01mtry\u001b[39;00m:\n\u001b[0;32m--> 137\u001b[0m     \u001b[38;5;28;01mreturn\u001b[39;00m \u001b[38;5;28mnext\u001b[39m(\u001b[38;5;28mself\u001b[39m\u001b[38;5;241m.\u001b[39mgen)\n\u001b[1;32m    138\u001b[0m \u001b[38;5;28;01mexcept\u001b[39;00m \u001b[38;5;167;01mStopIteration\u001b[39;00m:\n\u001b[1;32m    139\u001b[0m     \u001b[38;5;28;01mraise\u001b[39;00m \u001b[38;5;167;01mRuntimeError\u001b[39;00m(\u001b[38;5;124m\"\u001b[39m\u001b[38;5;124mgenerator didn\u001b[39m\u001b[38;5;124m'\u001b[39m\u001b[38;5;124mt yield\u001b[39m\u001b[38;5;124m\"\u001b[39m) \u001b[38;5;28;01mfrom\u001b[39;00m\u001b[38;5;250m \u001b[39m\u001b[38;5;28;01mNone\u001b[39;00m\n",
      "File \u001b[0;32m~/Thesis_project/.venv_Master/lib/python3.11/site-packages/httpx/_client.py:880\u001b[0m, in \u001b[0;36mClient.stream\u001b[0;34m(self, method, url, content, data, files, json, params, headers, cookies, auth, follow_redirects, timeout, extensions)\u001b[0m\n\u001b[1;32m    857\u001b[0m \u001b[38;5;250m\u001b[39m\u001b[38;5;124;03m\"\"\"\u001b[39;00m\n\u001b[1;32m    858\u001b[0m \u001b[38;5;124;03mAlternative to `httpx.request()` that streams the response body\u001b[39;00m\n\u001b[1;32m    859\u001b[0m \u001b[38;5;124;03minstead of loading it into memory at once.\u001b[39;00m\n\u001b[0;32m   (...)\u001b[0m\n\u001b[1;32m    865\u001b[0m \u001b[38;5;124;03m[0]: /quickstart#streaming-responses\u001b[39;00m\n\u001b[1;32m    866\u001b[0m \u001b[38;5;124;03m\"\"\"\u001b[39;00m\n\u001b[1;32m    867\u001b[0m request \u001b[38;5;241m=\u001b[39m \u001b[38;5;28mself\u001b[39m\u001b[38;5;241m.\u001b[39mbuild_request(\n\u001b[1;32m    868\u001b[0m     method\u001b[38;5;241m=\u001b[39mmethod,\n\u001b[1;32m    869\u001b[0m     url\u001b[38;5;241m=\u001b[39murl,\n\u001b[0;32m   (...)\u001b[0m\n\u001b[1;32m    878\u001b[0m     extensions\u001b[38;5;241m=\u001b[39mextensions,\n\u001b[1;32m    879\u001b[0m )\n\u001b[0;32m--> 880\u001b[0m response \u001b[38;5;241m=\u001b[39m \u001b[38;5;28;43mself\u001b[39;49m\u001b[38;5;241;43m.\u001b[39;49m\u001b[43msend\u001b[49m\u001b[43m(\u001b[49m\n\u001b[1;32m    881\u001b[0m \u001b[43m    \u001b[49m\u001b[43mrequest\u001b[49m\u001b[38;5;241;43m=\u001b[39;49m\u001b[43mrequest\u001b[49m\u001b[43m,\u001b[49m\n\u001b[1;32m    882\u001b[0m \u001b[43m    \u001b[49m\u001b[43mauth\u001b[49m\u001b[38;5;241;43m=\u001b[39;49m\u001b[43mauth\u001b[49m\u001b[43m,\u001b[49m\n\u001b[1;32m    883\u001b[0m \u001b[43m    \u001b[49m\u001b[43mfollow_redirects\u001b[49m\u001b[38;5;241;43m=\u001b[39;49m\u001b[43mfollow_redirects\u001b[49m\u001b[43m,\u001b[49m\n\u001b[1;32m    884\u001b[0m \u001b[43m    \u001b[49m\u001b[43mstream\u001b[49m\u001b[38;5;241;43m=\u001b[39;49m\u001b[38;5;28;43;01mTrue\u001b[39;49;00m\u001b[43m,\u001b[49m\n\u001b[1;32m    885\u001b[0m \u001b[43m\u001b[49m\u001b[43m)\u001b[49m\n\u001b[1;32m    886\u001b[0m \u001b[38;5;28;01mtry\u001b[39;00m:\n\u001b[1;32m    887\u001b[0m     \u001b[38;5;28;01myield\u001b[39;00m response\n",
      "File \u001b[0;32m~/Thesis_project/.venv_Master/lib/python3.11/site-packages/httpx/_client.py:926\u001b[0m, in \u001b[0;36mClient.send\u001b[0;34m(self, request, stream, auth, follow_redirects)\u001b[0m\n\u001b[1;32m    922\u001b[0m \u001b[38;5;28mself\u001b[39m\u001b[38;5;241m.\u001b[39m_set_timeout(request)\n\u001b[1;32m    924\u001b[0m auth \u001b[38;5;241m=\u001b[39m \u001b[38;5;28mself\u001b[39m\u001b[38;5;241m.\u001b[39m_build_request_auth(request, auth)\n\u001b[0;32m--> 926\u001b[0m response \u001b[38;5;241m=\u001b[39m \u001b[38;5;28;43mself\u001b[39;49m\u001b[38;5;241;43m.\u001b[39;49m\u001b[43m_send_handling_auth\u001b[49m\u001b[43m(\u001b[49m\n\u001b[1;32m    927\u001b[0m \u001b[43m    \u001b[49m\u001b[43mrequest\u001b[49m\u001b[43m,\u001b[49m\n\u001b[1;32m    928\u001b[0m \u001b[43m    \u001b[49m\u001b[43mauth\u001b[49m\u001b[38;5;241;43m=\u001b[39;49m\u001b[43mauth\u001b[49m\u001b[43m,\u001b[49m\n\u001b[1;32m    929\u001b[0m \u001b[43m    \u001b[49m\u001b[43mfollow_redirects\u001b[49m\u001b[38;5;241;43m=\u001b[39;49m\u001b[43mfollow_redirects\u001b[49m\u001b[43m,\u001b[49m\n\u001b[1;32m    930\u001b[0m \u001b[43m    \u001b[49m\u001b[43mhistory\u001b[49m\u001b[38;5;241;43m=\u001b[39;49m\u001b[43m[\u001b[49m\u001b[43m]\u001b[49m\u001b[43m,\u001b[49m\n\u001b[1;32m    931\u001b[0m \u001b[43m\u001b[49m\u001b[43m)\u001b[49m\n\u001b[1;32m    932\u001b[0m \u001b[38;5;28;01mtry\u001b[39;00m:\n\u001b[1;32m    933\u001b[0m     \u001b[38;5;28;01mif\u001b[39;00m \u001b[38;5;129;01mnot\u001b[39;00m stream:\n",
      "File \u001b[0;32m~/Thesis_project/.venv_Master/lib/python3.11/site-packages/httpx/_client.py:954\u001b[0m, in \u001b[0;36mClient._send_handling_auth\u001b[0;34m(self, request, auth, follow_redirects, history)\u001b[0m\n\u001b[1;32m    951\u001b[0m request \u001b[38;5;241m=\u001b[39m \u001b[38;5;28mnext\u001b[39m(auth_flow)\n\u001b[1;32m    953\u001b[0m \u001b[38;5;28;01mwhile\u001b[39;00m \u001b[38;5;28;01mTrue\u001b[39;00m:\n\u001b[0;32m--> 954\u001b[0m     response \u001b[38;5;241m=\u001b[39m \u001b[38;5;28;43mself\u001b[39;49m\u001b[38;5;241;43m.\u001b[39;49m\u001b[43m_send_handling_redirects\u001b[49m\u001b[43m(\u001b[49m\n\u001b[1;32m    955\u001b[0m \u001b[43m        \u001b[49m\u001b[43mrequest\u001b[49m\u001b[43m,\u001b[49m\n\u001b[1;32m    956\u001b[0m \u001b[43m        \u001b[49m\u001b[43mfollow_redirects\u001b[49m\u001b[38;5;241;43m=\u001b[39;49m\u001b[43mfollow_redirects\u001b[49m\u001b[43m,\u001b[49m\n\u001b[1;32m    957\u001b[0m \u001b[43m        \u001b[49m\u001b[43mhistory\u001b[49m\u001b[38;5;241;43m=\u001b[39;49m\u001b[43mhistory\u001b[49m\u001b[43m,\u001b[49m\n\u001b[1;32m    958\u001b[0m \u001b[43m    \u001b[49m\u001b[43m)\u001b[49m\n\u001b[1;32m    959\u001b[0m     \u001b[38;5;28;01mtry\u001b[39;00m:\n\u001b[1;32m    960\u001b[0m         \u001b[38;5;28;01mtry\u001b[39;00m:\n",
      "File \u001b[0;32m~/Thesis_project/.venv_Master/lib/python3.11/site-packages/httpx/_client.py:991\u001b[0m, in \u001b[0;36mClient._send_handling_redirects\u001b[0;34m(self, request, follow_redirects, history)\u001b[0m\n\u001b[1;32m    988\u001b[0m \u001b[38;5;28;01mfor\u001b[39;00m hook \u001b[38;5;129;01min\u001b[39;00m \u001b[38;5;28mself\u001b[39m\u001b[38;5;241m.\u001b[39m_event_hooks[\u001b[38;5;124m\"\u001b[39m\u001b[38;5;124mrequest\u001b[39m\u001b[38;5;124m\"\u001b[39m]:\n\u001b[1;32m    989\u001b[0m     hook(request)\n\u001b[0;32m--> 991\u001b[0m response \u001b[38;5;241m=\u001b[39m \u001b[38;5;28;43mself\u001b[39;49m\u001b[38;5;241;43m.\u001b[39;49m\u001b[43m_send_single_request\u001b[49m\u001b[43m(\u001b[49m\u001b[43mrequest\u001b[49m\u001b[43m)\u001b[49m\n\u001b[1;32m    992\u001b[0m \u001b[38;5;28;01mtry\u001b[39;00m:\n\u001b[1;32m    993\u001b[0m     \u001b[38;5;28;01mfor\u001b[39;00m hook \u001b[38;5;129;01min\u001b[39;00m \u001b[38;5;28mself\u001b[39m\u001b[38;5;241m.\u001b[39m_event_hooks[\u001b[38;5;124m\"\u001b[39m\u001b[38;5;124mresponse\u001b[39m\u001b[38;5;124m\"\u001b[39m]:\n",
      "File \u001b[0;32m~/Thesis_project/.venv_Master/lib/python3.11/site-packages/httpx/_client.py:1027\u001b[0m, in \u001b[0;36mClient._send_single_request\u001b[0;34m(self, request)\u001b[0m\n\u001b[1;32m   1022\u001b[0m     \u001b[38;5;28;01mraise\u001b[39;00m \u001b[38;5;167;01mRuntimeError\u001b[39;00m(\n\u001b[1;32m   1023\u001b[0m         \u001b[38;5;124m\"\u001b[39m\u001b[38;5;124mAttempted to send an async request with a sync Client instance.\u001b[39m\u001b[38;5;124m\"\u001b[39m\n\u001b[1;32m   1024\u001b[0m     )\n\u001b[1;32m   1026\u001b[0m \u001b[38;5;28;01mwith\u001b[39;00m request_context(request\u001b[38;5;241m=\u001b[39mrequest):\n\u001b[0;32m-> 1027\u001b[0m     response \u001b[38;5;241m=\u001b[39m \u001b[43mtransport\u001b[49m\u001b[38;5;241;43m.\u001b[39;49m\u001b[43mhandle_request\u001b[49m\u001b[43m(\u001b[49m\u001b[43mrequest\u001b[49m\u001b[43m)\u001b[49m\n\u001b[1;32m   1029\u001b[0m \u001b[38;5;28;01massert\u001b[39;00m \u001b[38;5;28misinstance\u001b[39m(response\u001b[38;5;241m.\u001b[39mstream, SyncByteStream)\n\u001b[1;32m   1031\u001b[0m response\u001b[38;5;241m.\u001b[39mrequest \u001b[38;5;241m=\u001b[39m request\n",
      "File \u001b[0;32m~/Thesis_project/.venv_Master/lib/python3.11/site-packages/httpx/_transports/default.py:236\u001b[0m, in \u001b[0;36mHTTPTransport.handle_request\u001b[0;34m(self, request)\u001b[0m\n\u001b[1;32m    223\u001b[0m req \u001b[38;5;241m=\u001b[39m httpcore\u001b[38;5;241m.\u001b[39mRequest(\n\u001b[1;32m    224\u001b[0m     method\u001b[38;5;241m=\u001b[39mrequest\u001b[38;5;241m.\u001b[39mmethod,\n\u001b[1;32m    225\u001b[0m     url\u001b[38;5;241m=\u001b[39mhttpcore\u001b[38;5;241m.\u001b[39mURL(\n\u001b[0;32m   (...)\u001b[0m\n\u001b[1;32m    233\u001b[0m     extensions\u001b[38;5;241m=\u001b[39mrequest\u001b[38;5;241m.\u001b[39mextensions,\n\u001b[1;32m    234\u001b[0m )\n\u001b[1;32m    235\u001b[0m \u001b[38;5;28;01mwith\u001b[39;00m map_httpcore_exceptions():\n\u001b[0;32m--> 236\u001b[0m     resp \u001b[38;5;241m=\u001b[39m \u001b[38;5;28;43mself\u001b[39;49m\u001b[38;5;241;43m.\u001b[39;49m\u001b[43m_pool\u001b[49m\u001b[38;5;241;43m.\u001b[39;49m\u001b[43mhandle_request\u001b[49m\u001b[43m(\u001b[49m\u001b[43mreq\u001b[49m\u001b[43m)\u001b[49m\n\u001b[1;32m    238\u001b[0m \u001b[38;5;28;01massert\u001b[39;00m \u001b[38;5;28misinstance\u001b[39m(resp\u001b[38;5;241m.\u001b[39mstream, typing\u001b[38;5;241m.\u001b[39mIterable)\n\u001b[1;32m    240\u001b[0m \u001b[38;5;28;01mreturn\u001b[39;00m Response(\n\u001b[1;32m    241\u001b[0m     status_code\u001b[38;5;241m=\u001b[39mresp\u001b[38;5;241m.\u001b[39mstatus,\n\u001b[1;32m    242\u001b[0m     headers\u001b[38;5;241m=\u001b[39mresp\u001b[38;5;241m.\u001b[39mheaders,\n\u001b[1;32m    243\u001b[0m     stream\u001b[38;5;241m=\u001b[39mResponseStream(resp\u001b[38;5;241m.\u001b[39mstream),\n\u001b[1;32m    244\u001b[0m     extensions\u001b[38;5;241m=\u001b[39mresp\u001b[38;5;241m.\u001b[39mextensions,\n\u001b[1;32m    245\u001b[0m )\n",
      "File \u001b[0;32m~/Thesis_project/.venv_Master/lib/python3.11/site-packages/httpcore/_sync/connection_pool.py:256\u001b[0m, in \u001b[0;36mConnectionPool.handle_request\u001b[0;34m(self, request)\u001b[0m\n\u001b[1;32m    253\u001b[0m         closing \u001b[38;5;241m=\u001b[39m \u001b[38;5;28mself\u001b[39m\u001b[38;5;241m.\u001b[39m_assign_requests_to_connections()\n\u001b[1;32m    255\u001b[0m     \u001b[38;5;28mself\u001b[39m\u001b[38;5;241m.\u001b[39m_close_connections(closing)\n\u001b[0;32m--> 256\u001b[0m     \u001b[38;5;28;01mraise\u001b[39;00m exc \u001b[38;5;28;01mfrom\u001b[39;00m\u001b[38;5;250m \u001b[39m\u001b[38;5;28;01mNone\u001b[39;00m\n\u001b[1;32m    258\u001b[0m \u001b[38;5;66;03m# Return the response. Note that in this case we still have to manage\u001b[39;00m\n\u001b[1;32m    259\u001b[0m \u001b[38;5;66;03m# the point at which the response is closed.\u001b[39;00m\n\u001b[1;32m    260\u001b[0m \u001b[38;5;28;01massert\u001b[39;00m \u001b[38;5;28misinstance\u001b[39m(response\u001b[38;5;241m.\u001b[39mstream, typing\u001b[38;5;241m.\u001b[39mIterable)\n",
      "File \u001b[0;32m~/Thesis_project/.venv_Master/lib/python3.11/site-packages/httpcore/_sync/connection_pool.py:236\u001b[0m, in \u001b[0;36mConnectionPool.handle_request\u001b[0;34m(self, request)\u001b[0m\n\u001b[1;32m    232\u001b[0m connection \u001b[38;5;241m=\u001b[39m pool_request\u001b[38;5;241m.\u001b[39mwait_for_connection(timeout\u001b[38;5;241m=\u001b[39mtimeout)\n\u001b[1;32m    234\u001b[0m \u001b[38;5;28;01mtry\u001b[39;00m:\n\u001b[1;32m    235\u001b[0m     \u001b[38;5;66;03m# Send the request on the assigned connection.\u001b[39;00m\n\u001b[0;32m--> 236\u001b[0m     response \u001b[38;5;241m=\u001b[39m \u001b[43mconnection\u001b[49m\u001b[38;5;241;43m.\u001b[39;49m\u001b[43mhandle_request\u001b[49m\u001b[43m(\u001b[49m\n\u001b[1;32m    237\u001b[0m \u001b[43m        \u001b[49m\u001b[43mpool_request\u001b[49m\u001b[38;5;241;43m.\u001b[39;49m\u001b[43mrequest\u001b[49m\n\u001b[1;32m    238\u001b[0m \u001b[43m    \u001b[49m\u001b[43m)\u001b[49m\n\u001b[1;32m    239\u001b[0m \u001b[38;5;28;01mexcept\u001b[39;00m ConnectionNotAvailable:\n\u001b[1;32m    240\u001b[0m     \u001b[38;5;66;03m# In some cases a connection may initially be available to\u001b[39;00m\n\u001b[1;32m    241\u001b[0m     \u001b[38;5;66;03m# handle a request, but then become unavailable.\u001b[39;00m\n\u001b[1;32m    242\u001b[0m     \u001b[38;5;66;03m#\u001b[39;00m\n\u001b[1;32m    243\u001b[0m     \u001b[38;5;66;03m# In this case we clear the connection and try again.\u001b[39;00m\n\u001b[1;32m    244\u001b[0m     pool_request\u001b[38;5;241m.\u001b[39mclear_connection()\n",
      "File \u001b[0;32m~/Thesis_project/.venv_Master/lib/python3.11/site-packages/httpcore/_sync/connection.py:103\u001b[0m, in \u001b[0;36mHTTPConnection.handle_request\u001b[0;34m(self, request)\u001b[0m\n\u001b[1;32m    100\u001b[0m     \u001b[38;5;28mself\u001b[39m\u001b[38;5;241m.\u001b[39m_connect_failed \u001b[38;5;241m=\u001b[39m \u001b[38;5;28;01mTrue\u001b[39;00m\n\u001b[1;32m    101\u001b[0m     \u001b[38;5;28;01mraise\u001b[39;00m exc\n\u001b[0;32m--> 103\u001b[0m \u001b[38;5;28;01mreturn\u001b[39;00m \u001b[38;5;28;43mself\u001b[39;49m\u001b[38;5;241;43m.\u001b[39;49m\u001b[43m_connection\u001b[49m\u001b[38;5;241;43m.\u001b[39;49m\u001b[43mhandle_request\u001b[49m\u001b[43m(\u001b[49m\u001b[43mrequest\u001b[49m\u001b[43m)\u001b[49m\n",
      "File \u001b[0;32m~/Thesis_project/.venv_Master/lib/python3.11/site-packages/httpcore/_sync/http11.py:136\u001b[0m, in \u001b[0;36mHTTP11Connection.handle_request\u001b[0;34m(self, request)\u001b[0m\n\u001b[1;32m    134\u001b[0m     \u001b[38;5;28;01mwith\u001b[39;00m Trace(\u001b[38;5;124m\"\u001b[39m\u001b[38;5;124mresponse_closed\u001b[39m\u001b[38;5;124m\"\u001b[39m, logger, request) \u001b[38;5;28;01mas\u001b[39;00m trace:\n\u001b[1;32m    135\u001b[0m         \u001b[38;5;28mself\u001b[39m\u001b[38;5;241m.\u001b[39m_response_closed()\n\u001b[0;32m--> 136\u001b[0m \u001b[38;5;28;01mraise\u001b[39;00m exc\n",
      "File \u001b[0;32m~/Thesis_project/.venv_Master/lib/python3.11/site-packages/httpcore/_sync/http11.py:106\u001b[0m, in \u001b[0;36mHTTP11Connection.handle_request\u001b[0;34m(self, request)\u001b[0m\n\u001b[1;32m     95\u001b[0m     \u001b[38;5;28;01mpass\u001b[39;00m\n\u001b[1;32m     97\u001b[0m \u001b[38;5;28;01mwith\u001b[39;00m Trace(\n\u001b[1;32m     98\u001b[0m     \u001b[38;5;124m\"\u001b[39m\u001b[38;5;124mreceive_response_headers\u001b[39m\u001b[38;5;124m\"\u001b[39m, logger, request, kwargs\n\u001b[1;32m     99\u001b[0m ) \u001b[38;5;28;01mas\u001b[39;00m trace:\n\u001b[1;32m    100\u001b[0m     (\n\u001b[1;32m    101\u001b[0m         http_version,\n\u001b[1;32m    102\u001b[0m         status,\n\u001b[1;32m    103\u001b[0m         reason_phrase,\n\u001b[1;32m    104\u001b[0m         headers,\n\u001b[1;32m    105\u001b[0m         trailing_data,\n\u001b[0;32m--> 106\u001b[0m     ) \u001b[38;5;241m=\u001b[39m \u001b[38;5;28;43mself\u001b[39;49m\u001b[38;5;241;43m.\u001b[39;49m\u001b[43m_receive_response_headers\u001b[49m\u001b[43m(\u001b[49m\u001b[38;5;241;43m*\u001b[39;49m\u001b[38;5;241;43m*\u001b[39;49m\u001b[43mkwargs\u001b[49m\u001b[43m)\u001b[49m\n\u001b[1;32m    107\u001b[0m     trace\u001b[38;5;241m.\u001b[39mreturn_value \u001b[38;5;241m=\u001b[39m (\n\u001b[1;32m    108\u001b[0m         http_version,\n\u001b[1;32m    109\u001b[0m         status,\n\u001b[1;32m    110\u001b[0m         reason_phrase,\n\u001b[1;32m    111\u001b[0m         headers,\n\u001b[1;32m    112\u001b[0m     )\n\u001b[1;32m    114\u001b[0m network_stream \u001b[38;5;241m=\u001b[39m \u001b[38;5;28mself\u001b[39m\u001b[38;5;241m.\u001b[39m_network_stream\n",
      "File \u001b[0;32m~/Thesis_project/.venv_Master/lib/python3.11/site-packages/httpcore/_sync/http11.py:177\u001b[0m, in \u001b[0;36mHTTP11Connection._receive_response_headers\u001b[0;34m(self, request)\u001b[0m\n\u001b[1;32m    174\u001b[0m timeout \u001b[38;5;241m=\u001b[39m timeouts\u001b[38;5;241m.\u001b[39mget(\u001b[38;5;124m\"\u001b[39m\u001b[38;5;124mread\u001b[39m\u001b[38;5;124m\"\u001b[39m, \u001b[38;5;28;01mNone\u001b[39;00m)\n\u001b[1;32m    176\u001b[0m \u001b[38;5;28;01mwhile\u001b[39;00m \u001b[38;5;28;01mTrue\u001b[39;00m:\n\u001b[0;32m--> 177\u001b[0m     event \u001b[38;5;241m=\u001b[39m \u001b[38;5;28;43mself\u001b[39;49m\u001b[38;5;241;43m.\u001b[39;49m\u001b[43m_receive_event\u001b[49m\u001b[43m(\u001b[49m\u001b[43mtimeout\u001b[49m\u001b[38;5;241;43m=\u001b[39;49m\u001b[43mtimeout\u001b[49m\u001b[43m)\u001b[49m\n\u001b[1;32m    178\u001b[0m     \u001b[38;5;28;01mif\u001b[39;00m \u001b[38;5;28misinstance\u001b[39m(event, h11\u001b[38;5;241m.\u001b[39mResponse):\n\u001b[1;32m    179\u001b[0m         \u001b[38;5;28;01mbreak\u001b[39;00m\n",
      "File \u001b[0;32m~/Thesis_project/.venv_Master/lib/python3.11/site-packages/httpcore/_sync/http11.py:217\u001b[0m, in \u001b[0;36mHTTP11Connection._receive_event\u001b[0;34m(self, timeout)\u001b[0m\n\u001b[1;32m    214\u001b[0m     event \u001b[38;5;241m=\u001b[39m \u001b[38;5;28mself\u001b[39m\u001b[38;5;241m.\u001b[39m_h11_state\u001b[38;5;241m.\u001b[39mnext_event()\n\u001b[1;32m    216\u001b[0m \u001b[38;5;28;01mif\u001b[39;00m event \u001b[38;5;129;01mis\u001b[39;00m h11\u001b[38;5;241m.\u001b[39mNEED_DATA:\n\u001b[0;32m--> 217\u001b[0m     data \u001b[38;5;241m=\u001b[39m \u001b[38;5;28;43mself\u001b[39;49m\u001b[38;5;241;43m.\u001b[39;49m\u001b[43m_network_stream\u001b[49m\u001b[38;5;241;43m.\u001b[39;49m\u001b[43mread\u001b[49m\u001b[43m(\u001b[49m\n\u001b[1;32m    218\u001b[0m \u001b[43m        \u001b[49m\u001b[38;5;28;43mself\u001b[39;49m\u001b[38;5;241;43m.\u001b[39;49m\u001b[43mREAD_NUM_BYTES\u001b[49m\u001b[43m,\u001b[49m\u001b[43m \u001b[49m\u001b[43mtimeout\u001b[49m\u001b[38;5;241;43m=\u001b[39;49m\u001b[43mtimeout\u001b[49m\n\u001b[1;32m    219\u001b[0m \u001b[43m    \u001b[49m\u001b[43m)\u001b[49m\n\u001b[1;32m    221\u001b[0m     \u001b[38;5;66;03m# If we feed this case through h11 we'll raise an exception like:\u001b[39;00m\n\u001b[1;32m    222\u001b[0m     \u001b[38;5;66;03m#\u001b[39;00m\n\u001b[1;32m    223\u001b[0m     \u001b[38;5;66;03m#     httpcore.RemoteProtocolError: can't handle event type\u001b[39;00m\n\u001b[0;32m   (...)\u001b[0m\n\u001b[1;32m    227\u001b[0m     \u001b[38;5;66;03m# perspective. Instead we handle this case distinctly and treat\u001b[39;00m\n\u001b[1;32m    228\u001b[0m     \u001b[38;5;66;03m# it as a ConnectError.\u001b[39;00m\n\u001b[1;32m    229\u001b[0m     \u001b[38;5;28;01mif\u001b[39;00m data \u001b[38;5;241m==\u001b[39m \u001b[38;5;124mb\u001b[39m\u001b[38;5;124m\"\u001b[39m\u001b[38;5;124m\"\u001b[39m \u001b[38;5;129;01mand\u001b[39;00m \u001b[38;5;28mself\u001b[39m\u001b[38;5;241m.\u001b[39m_h11_state\u001b[38;5;241m.\u001b[39mtheir_state \u001b[38;5;241m==\u001b[39m h11\u001b[38;5;241m.\u001b[39mSEND_RESPONSE:\n",
      "File \u001b[0;32m~/Thesis_project/.venv_Master/lib/python3.11/site-packages/httpcore/_backends/sync.py:128\u001b[0m, in \u001b[0;36mSyncStream.read\u001b[0;34m(self, max_bytes, timeout)\u001b[0m\n\u001b[1;32m    126\u001b[0m \u001b[38;5;28;01mwith\u001b[39;00m map_exceptions(exc_map):\n\u001b[1;32m    127\u001b[0m     \u001b[38;5;28mself\u001b[39m\u001b[38;5;241m.\u001b[39m_sock\u001b[38;5;241m.\u001b[39msettimeout(timeout)\n\u001b[0;32m--> 128\u001b[0m     \u001b[38;5;28;01mreturn\u001b[39;00m \u001b[38;5;28;43mself\u001b[39;49m\u001b[38;5;241;43m.\u001b[39;49m\u001b[43m_sock\u001b[49m\u001b[38;5;241;43m.\u001b[39;49m\u001b[43mrecv\u001b[49m\u001b[43m(\u001b[49m\u001b[43mmax_bytes\u001b[49m\u001b[43m)\u001b[49m\n",
      "\u001b[0;31mKeyboardInterrupt\u001b[0m: "
     ]
    }
   ],
   "source": [
    "import os\n",
    "import sys\n",
    "sys.path.append('../../')  # Add the path to the my_packages module\n",
    "%autoreload 2\n",
    "%reload_ext autoreload\n",
    "os.environ['EXPERIMENT_DB_NAME'] = \"context_experiments\"\n",
    "from my_packages.common.classes import PromptType\n",
    "from my_packages.db_service import get_db_connection\n",
    "from my_packages.db_service.best_params_service import get_db_best_params\n",
    "from my_packages.db_service.experiment_service import confirm_rerun, experiment_exists, pretty_print_experiment_collections, run_experiment_quality_checks, setup_experiment_collection\n",
    "from my_packages.evaluation.code_evaluation import run_validation, run_testing\n",
    "from my_packages.utils.tokens_utils import get_model_code_tokens_from_file\n",
    "from my_packages.common.rag import init_rag_data\n",
    "from colorama import Fore, Back, Style\n",
    "\n",
    "\n",
    "script_dir = os.getcwd()\n",
    "project_dir = os.path.abspath(f\"{script_dir}/../..\")\n",
    "\n",
    "sys.path.append(project_dir)\n",
    "print(\"Script is located in:\", script_dir)\n",
    "print(\"Project is located in:\", project_dir)\n",
    "\n",
    "\n",
    "metrics = ['syntax', 'semantic'] #['syntax', 'semantic', 'tests'] OR ['syntax', 'semantic']\n",
    "prompt_type = PromptType.REGULAR\n",
    "example_selector = f\"{'similarity' if semantic_selector else 'coverage'}\"\n",
    "experiment_type = \"RAG\" # \"RAG\" or \"full-context\"\n",
    "max_ctx = 16000\n",
    "context_data = init_rag_data()\n",
    "experiment_name = f\"{prompt_type.value}_{experiment_type}_{NUM_SHOTS}_shot\"\n",
    "best_params_experiment_name = f\"{prompt_type.value}_{example_selector}_{NUM_SHOTS}_shot\"\n",
    "\n",
    "print(experiment_name)\n",
    "\n",
    "# Create separate database for this experiment\n",
    "if experiment_exists(experiment_name):\n",
    "    # delete_experiment(experiment_name)\n",
    "    print(f\"📂 Experiemnt '{experiment_name}' already exists.\")\n",
    "    pretty_print_experiment_collections(\n",
    "        experiment_name,\n",
    "        exclude_columns=[\"stderr\", \"stdout\", \"code_candidate\", \"test_result\", \"error_msg\"]\n",
    "    )\n",
    "    if not run_experiment_quality_checks(experiment_name, ignore_best_params=True):\n",
    "        print(\"\\n❌ Experiment quality checks failed. Exiting.\")\n",
    "        raise Exception(\"Experiment quality checks failed.\")\n",
    "else:\n",
    "    setup_experiment_collection(experiment_name)\n",
    "\n",
    "results = {}\n",
    "for model_name in models:\n",
    "    print(\"\\n\\n\")\n",
    "    model = get_model_code_tokens_from_file(model_name, f'{project_dir}/data/max_tokens.json')\n",
    "    results[model_name] = (None, None)\n",
    "\n",
    "    validation_result = get_db_best_params( \n",
    "        best_params_experiment_name, \n",
    "        model[\"name\"], \n",
    "        [metrics[-1]], # optimizer_metric\n",
    "        k = 1,\n",
    "        eval_method=\"hold_out\",\n",
    "        db_connection=get_db_connection(\"few_shot_experiments\") # Use the few_shot_experiments database to get best params\n",
    "    )[0]\n",
    "\n",
    "\n",
    "    if confirm_rerun(experiment_name, model_name, eval_method=\"3_fold\", phase=\"testing\"): # If results exists for model, prompt user to rerun testing. If not exists, return true to run testing first time.\n",
    "            test_results, final_result = run_testing(\n",
    "                client,\n",
    "                model,\n",
    "                available_nodes,\n",
    "                test_data,\n",
    "                selector,\n",
    "                temperature=validation_result[\"temperature\"],\n",
    "                top_p=validation_result[\"top_p\"],\n",
    "                top_k=validation_result[\"top_k\"],\n",
    "                ks=[1, 2, 5, 10], # max(ks) generations per task. Thus, 10 generations per task.\n",
    "                seeds=[3, 75, 346],\n",
    "                debug=True,\n",
    "                metrics=metrics, # current metrics: [\"syntax\", \"semantic\"] OR [\"syntax\", \"semantic\", \"tests\"]\n",
    "                experiment_name=experiment_name,\n",
    "                env=\"DEV\", #'dev' for file storage and 'prod' for database storage, for errors and final result\n",
    "                prompt_type = prompt_type,\n",
    "                rag_data=context_data,\n",
    "                max_ctx=max_ctx\n",
    "            )\n",
    "            results[model_name] = (test_results, final_result)\n",
    "\n",
    "        \n",
    "    print(f\"======\\n{model_name} FINAL RESULTS: ===============================\")\n",
    "    print(f\"{Style.BRIGHT}{Fore.CYAN} Model: {model_name} {Style.RESET_ALL}\")\n",
    "    test_runs = results[model_name][0]\n",
    "    final_result = results[model_name][1]\n",
    "    if test_runs:\n",
    "        for run in test_runs:\n",
    "            run.print()\n",
    "    if final_result:\n",
    "        final_result.print()\n",
    "\n",
    "      \n",
    "# Print the final results\n",
    "print(\"\\nALL MODELS FINAL RESULTS:\")\n",
    "for model_name, (test_runs, final_result) in results.items():\n",
    "    print(f\"{Style.BRIGHT}{Fore.CYAN} Model: {model_name} {Style.RESET_ALL}\")\n",
    "    for test_run in test_runs:\n",
    "        test_run.print()\n",
    "    final_result.print()\n",
    "\n"
   ]
  },
  {
   "cell_type": "markdown",
   "id": "29c4307f",
   "metadata": {},
   "source": [
    "<!-- ## Langsmith evaluate -->"
   ]
  },
  {
   "cell_type": "markdown",
   "id": "00dad6de",
   "metadata": {},
   "source": [
    "## Testing one run:"
   ]
  },
  {
   "cell_type": "code",
   "execution_count": null,
   "id": "1ed255c4",
   "metadata": {},
   "outputs": [
    {
     "name": "stdout",
     "output_type": "stream",
     "text": [
      "Number of language docs: 20\n",
      "Number of node docs: 290\n",
      "✅ FAISS index saved successfully.\n",
      "✅ FAISS index saved successfully.\n",
      "Number of tokens: 2612\n",
      "Number of language docs: 20\n",
      "Number of node docs: 290\n",
      "✅ FAISS index saved successfully.\n",
      "✅ FAISS index saved successfully.\n",
      "Total available tokens:  9282\n"
     ]
    },
    {
     "ename": "AttributeError",
     "evalue": "'RagData' object has no attribute 'language_docs'",
     "output_type": "error",
     "traceback": [
      "\u001b[0;31m---------------------------------------------------------------------------\u001b[0m",
      "\u001b[0;31mAttributeError\u001b[0m                            Traceback (most recent call last)",
      "Cell \u001b[0;32mIn[23], line 12\u001b[0m\n\u001b[1;32m      7\u001b[0m tokens \u001b[38;5;241m=\u001b[39m client(model\u001b[38;5;241m=\u001b[39mmodel[\u001b[38;5;124m\"\u001b[39m\u001b[38;5;124mname\u001b[39m\u001b[38;5;124m\"\u001b[39m], num_ctx\u001b[38;5;241m=\u001b[39m\u001b[38;5;241m4000\u001b[39m)\u001b[38;5;241m.\u001b[39mget_num_tokens(context\u001b[38;5;241m.\u001b[39mformatted_language_context) \n\u001b[1;32m      8\u001b[0m \u001b[38;5;28mprint\u001b[39m(\u001b[38;5;124mf\u001b[39m\u001b[38;5;124m\"\u001b[39m\u001b[38;5;124mNumber of tokens: \u001b[39m\u001b[38;5;132;01m{\u001b[39;00mtokens\u001b[38;5;132;01m}\u001b[39;00m\u001b[38;5;124m\"\u001b[39m)\n\u001b[0;32m---> 12\u001b[0m model_result, largest_context \u001b[38;5;241m=\u001b[39m \u001b[43mrun_model\u001b[49m\u001b[43m(\u001b[49m\n\u001b[1;32m     13\u001b[0m \u001b[43m    \u001b[49m\u001b[43mclient\u001b[49m\u001b[43m,\u001b[49m\n\u001b[1;32m     14\u001b[0m \u001b[43m    \u001b[49m\u001b[43mmodel_name\u001b[49m\u001b[43m,\u001b[49m\n\u001b[1;32m     15\u001b[0m \u001b[43m    \u001b[49m\u001b[43mavailable_nodes\u001b[49m\u001b[38;5;241;43m=\u001b[39;49m\u001b[43mavailable_nodes\u001b[49m\u001b[43m,\u001b[49m\n\u001b[1;32m     16\u001b[0m \u001b[43m    \u001b[49m\u001b[43mdata\u001b[49m\u001b[38;5;241;43m=\u001b[39;49m\u001b[43mval_data\u001b[49m\u001b[43m[\u001b[49m\u001b[43m:\u001b[49m\u001b[38;5;241;43m2\u001b[39;49m\u001b[43m]\u001b[49m\u001b[43m,\u001b[49m\n\u001b[1;32m     17\u001b[0m \u001b[43m    \u001b[49m\u001b[43mexample_pool\u001b[49m\u001b[38;5;241;43m=\u001b[39;49m\u001b[43mselector\u001b[49m\u001b[43m,\u001b[49m\n\u001b[1;32m     18\u001b[0m \u001b[43m    \u001b[49m\u001b[43mmax_new_tokens\u001b[49m\u001b[43m \u001b[49m\u001b[38;5;241;43m=\u001b[39;49m\u001b[43m \u001b[49m\u001b[38;5;241;43m1000\u001b[39;49m\u001b[43m,\u001b[49m\n\u001b[1;32m     19\u001b[0m \u001b[43m    \u001b[49m\u001b[43mtemperature\u001b[49m\u001b[43m \u001b[49m\u001b[38;5;241;43m=\u001b[39;49m\u001b[43m \u001b[49m\u001b[38;5;241;43m0.2\u001b[39;49m\u001b[43m,\u001b[49m\n\u001b[1;32m     20\u001b[0m \u001b[43m    \u001b[49m\u001b[43mtop_p\u001b[49m\u001b[43m \u001b[49m\u001b[38;5;241;43m=\u001b[39;49m\u001b[43m \u001b[49m\u001b[38;5;241;43m0.9\u001b[39;49m\u001b[43m,\u001b[49m\n\u001b[1;32m     21\u001b[0m \u001b[43m    \u001b[49m\u001b[43mtop_k\u001b[49m\u001b[43m \u001b[49m\u001b[38;5;241;43m=\u001b[39;49m\u001b[43m \u001b[49m\u001b[38;5;241;43m50\u001b[39;49m\u001b[43m,\u001b[49m\n\u001b[1;32m     22\u001b[0m \u001b[43m    \u001b[49m\u001b[43mn\u001b[49m\u001b[43m \u001b[49m\u001b[38;5;241;43m=\u001b[39;49m\u001b[43m \u001b[49m\u001b[38;5;241;43m1\u001b[39;49m\u001b[43m,\u001b[49m\n\u001b[1;32m     23\u001b[0m \u001b[43m    \u001b[49m\u001b[43mseed\u001b[49m\u001b[43m \u001b[49m\u001b[38;5;241;43m=\u001b[39;49m\u001b[43m \u001b[49m\u001b[38;5;241;43m9\u001b[39;49m\u001b[43m,\u001b[49m\n\u001b[1;32m     24\u001b[0m \u001b[43m    \u001b[49m\u001b[43mdebug\u001b[49m\u001b[43m \u001b[49m\u001b[38;5;241;43m=\u001b[39;49m\u001b[38;5;28;43;01mTrue\u001b[39;49;00m\u001b[43m,\u001b[49m\u001b[43m \u001b[49m\n\u001b[1;32m     25\u001b[0m \u001b[43m    \u001b[49m\u001b[43mprompt_type\u001b[49m\u001b[38;5;241;43m=\u001b[39;49m\u001b[43mPromptType\u001b[49m\u001b[38;5;241;43m.\u001b[39;49m\u001b[43mREGULAR\u001b[49m\u001b[43m,\u001b[49m\n\u001b[1;32m     26\u001b[0m \u001b[43m    \u001b[49m\u001b[43mrag_data\u001b[49m\u001b[38;5;241;43m=\u001b[39;49m\u001b[43minit_rag_data\u001b[49m\u001b[43m(\u001b[49m\u001b[43m)\u001b[49m\u001b[43m,\u001b[49m\n\u001b[1;32m     27\u001b[0m \u001b[43m    \u001b[49m\u001b[43mmax_ctx\u001b[49m\u001b[38;5;241;43m=\u001b[39;49m\u001b[38;5;241;43m16000\u001b[39;49m\n\u001b[1;32m     28\u001b[0m \u001b[43m)\u001b[49m\n\u001b[1;32m     30\u001b[0m metric_results_lists \u001b[38;5;241m=\u001b[39m evaluate_code (\n\u001b[1;32m     31\u001b[0m     model_result,\n\u001b[1;32m     32\u001b[0m     ks\u001b[38;5;241m=\u001b[39m[\u001b[38;5;241m1\u001b[39m],\n\u001b[0;32m   (...)\u001b[0m\n\u001b[1;32m     38\u001b[0m     phase\u001b[38;5;241m=\u001b[39m\u001b[38;5;124m\"\u001b[39m\u001b[38;5;124mvalidation\u001b[39m\u001b[38;5;124m\"\u001b[39m\n\u001b[1;32m     39\u001b[0m )\n\u001b[1;32m     40\u001b[0m \u001b[38;5;66;03m## Optimizing for the first k in the ks list\u001b[39;00m\n",
      "File \u001b[0;32m~/Thesis_project/experiments/context/../../my_packages/evaluation/code_evaluation.py:313\u001b[0m, in \u001b[0;36mrun_model\u001b[0;34m(client, model, available_nodes, data, example_pool, max_new_tokens, temperature, top_p, top_k, n, seed, debug, prompt_type, ollama_port, rag_data, max_ctx)\u001b[0m\n\u001b[1;32m    311\u001b[0m \u001b[38;5;66;03m# Add RAG context\u001b[39;00m\n\u001b[1;32m    312\u001b[0m \u001b[38;5;28;01mif\u001b[39;00m rag_data:\n\u001b[0;32m--> 313\u001b[0m     prompt, final_prompt_template, prompt_variables_dict \u001b[38;5;241m=\u001b[39m \u001b[43madd_RAG_to_prompt\u001b[49m\u001b[43m(\u001b[49m\n\u001b[1;32m    314\u001b[0m \u001b[43m        \u001b[49m\u001b[43mclient\u001b[49m\u001b[43m \u001b[49m\u001b[38;5;241;43m=\u001b[39;49m\u001b[43m \u001b[49m\u001b[43mclient\u001b[49m\u001b[43m,\u001b[49m\n\u001b[1;32m    315\u001b[0m \u001b[43m        \u001b[49m\u001b[43mmodel\u001b[49m\u001b[43m \u001b[49m\u001b[38;5;241;43m=\u001b[39;49m\u001b[43m \u001b[49m\u001b[43mmodel\u001b[49m\u001b[43m,\u001b[49m\n\u001b[1;32m    316\u001b[0m \u001b[43m        \u001b[49m\u001b[43mtask\u001b[49m\u001b[43m \u001b[49m\u001b[38;5;241;43m=\u001b[39;49m\u001b[43m \u001b[49m\u001b[43mtask\u001b[49m\u001b[43m,\u001b[49m\n\u001b[1;32m    317\u001b[0m \u001b[43m        \u001b[49m\u001b[43mavailable_ctx\u001b[49m\u001b[43m \u001b[49m\u001b[38;5;241;43m=\u001b[39;49m\u001b[43m \u001b[49m\u001b[43m(\u001b[49m\u001b[43mmax_ctx\u001b[49m\u001b[43m \u001b[49m\u001b[38;5;241;43m-\u001b[39;49m\u001b[43m \u001b[49m\u001b[43mprompt_size\u001b[49m\u001b[43m)\u001b[49m\u001b[43m,\u001b[49m\n\u001b[1;32m    318\u001b[0m \u001b[43m        \u001b[49m\u001b[43mrag_data\u001b[49m\u001b[43m \u001b[49m\u001b[38;5;241;43m=\u001b[39;49m\u001b[43m \u001b[49m\u001b[43mrag_data\u001b[49m\u001b[43m,\u001b[49m\n\u001b[1;32m    319\u001b[0m \u001b[43m        \u001b[49m\u001b[43mfinal_prompt_template\u001b[49m\u001b[43m \u001b[49m\u001b[38;5;241;43m=\u001b[39;49m\u001b[43m \u001b[49m\u001b[43mfinal_prompt_template\u001b[49m\u001b[43m,\u001b[49m\n\u001b[1;32m    320\u001b[0m \u001b[43m        \u001b[49m\u001b[43mprompt_variables_dict\u001b[49m\u001b[43m \u001b[49m\u001b[38;5;241;43m=\u001b[39;49m\u001b[43m \u001b[49m\u001b[43mprompt_variables_dict\u001b[49m\n\u001b[1;32m    321\u001b[0m \u001b[43m    \u001b[49m\u001b[43m)\u001b[49m\n\u001b[1;32m    322\u001b[0m     prompt_size \u001b[38;5;241m=\u001b[39m max_ctx \u001b[38;5;66;03m# Set prompt size to max_ctx. can be lower if all docs are used\u001b[39;00m\n\u001b[1;32m    324\u001b[0m \u001b[38;5;28mprint\u001b[39m(\u001b[38;5;124mf\u001b[39m\u001b[38;5;124m\"\u001b[39m\u001b[38;5;124mPrompt size: \u001b[39m\u001b[38;5;132;01m{\u001b[39;00mprompt_size\u001b[38;5;132;01m}\u001b[39;00m\u001b[38;5;124m\"\u001b[39m)\n",
      "File \u001b[0;32m~/Thesis_project/experiments/context/../../my_packages/evaluation/code_evaluation.py:198\u001b[0m, in \u001b[0;36madd_RAG_to_prompt\u001b[0;34m(client, model, task, available_ctx, rag_data, final_prompt_template, prompt_variables_dict)\u001b[0m\n\u001b[1;32m    187\u001b[0m \u001b[38;5;28mprint\u001b[39m(\u001b[38;5;124m\"\u001b[39m\u001b[38;5;124mTotal available tokens: \u001b[39m\u001b[38;5;124m\"\u001b[39m, available_ctx)\n\u001b[1;32m    188\u001b[0m \u001b[38;5;66;03m# Split token budget\u001b[39;00m\n\u001b[1;32m    189\u001b[0m \u001b[38;5;66;03m# max_lang_tokens = int(available_ctx * 0.5)\u001b[39;00m\n\u001b[1;32m    190\u001b[0m \u001b[38;5;66;03m# print(\"allocating \", max_lang_tokens, \" tokens to language context\")\u001b[39;00m\n\u001b[0;32m   (...)\u001b[0m\n\u001b[1;32m    196\u001b[0m \u001b[38;5;66;03m#     model=model\u001b[39;00m\n\u001b[1;32m    197\u001b[0m \u001b[38;5;66;03m# )\u001b[39;00m\n\u001b[0;32m--> 198\u001b[0m formatted_language_context \u001b[38;5;241m=\u001b[39m \u001b[38;5;124m\"\u001b[39m\u001b[38;5;130;01m\\n\u001b[39;00m\u001b[38;5;130;01m\\n\u001b[39;00m\u001b[38;5;124m\"\u001b[39m\u001b[38;5;241m.\u001b[39mjoin(\u001b[43mrag_data\u001b[49m\u001b[38;5;241;43m.\u001b[39;49m\u001b[43mlanguage_docs\u001b[49m)\n\u001b[1;32m    199\u001b[0m used_tokens \u001b[38;5;241m=\u001b[39m TOTAL_LANG_DOCS_TOKENS\n\u001b[1;32m    200\u001b[0m \u001b[38;5;28mprint\u001b[39m(\u001b[38;5;124mf\u001b[39m\u001b[38;5;124m\"\u001b[39m\u001b[38;5;124mUsed \u001b[39m\u001b[38;5;132;01m{\u001b[39;00mused_tokens\u001b[38;5;132;01m}\u001b[39;00m\u001b[38;5;124m tokens for language context\u001b[39m\u001b[38;5;130;01m\\n\u001b[39;00m\u001b[38;5;124m\"\u001b[39m)\n",
      "\u001b[0;31mAttributeError\u001b[0m: 'RagData' object has no attribute 'language_docs'"
     ]
    }
   ],
   "source": [
    "%autoreload 2\n",
    "%reload_ext autoreload\n",
    "from my_packages.common.rag import init_rag_data\n",
    "from my_packages.evaluation.code_evaluation import evaluate_code, run_model\n",
    "\n",
    "context = init_rag_data()\n",
    "tokens = client(model=model[\"name\"], num_ctx=4000).get_num_tokens(context.formatted_language_context) \n",
    "print(f\"Number of tokens: {tokens}\")\n",
    "\n",
    "\n",
    "\n",
    "model_result, largest_context = run_model(\n",
    "    client,\n",
    "    model_name,\n",
    "    available_nodes=available_nodes,\n",
    "    data=val_data[:2],\n",
    "    example_pool=selector,\n",
    "    max_new_tokens = 1000,\n",
    "    temperature = 0.2,\n",
    "    top_p = 0.9,\n",
    "    top_k = 50,\n",
    "    n = 1,\n",
    "    seed = 9,\n",
    "    debug =True, \n",
    "    prompt_type=PromptType.REGULAR,\n",
    "    rag_data=init_rag_data(),\n",
    "    max_ctx=16000\n",
    ")\n",
    "\n",
    "metric_results_lists = evaluate_code (\n",
    "    model_result,\n",
    "    ks=[1],\n",
    "    evaluation_metrics=[\"syntax\"],\n",
    "    experiment_name=\"test_RAG_5-shot\",\n",
    "    model_name=model_name,\n",
    "    env=\"dev\",\n",
    "    hyperparams={\"seed\": 9, \"temperature\": 0.2, \"top_p\": 0.9, \"top_k\": 50},\n",
    "    phase=\"validation\"\n",
    ")\n",
    "## Optimizing for the first k in the ks list\n",
    "pass_at_k_dict = metric_results_lists[0]\n",
    "val_metric = pass_at_k_dict[f\"pass@1\"]\n",
    "print(f\"Validation with temp={0.2}, top_k={50} and top_p={0.9}. Gave pass@1={val_metric} and pass@ks={pass_at_k_dict}\")\n"
   ]
  }
 ],
 "metadata": {
  "kernelspec": {
   "display_name": ".venv_Master",
   "language": "python",
   "name": "python3"
  },
  "language_info": {
   "codemirror_mode": {
    "name": "ipython",
    "version": 3
   },
   "file_extension": ".py",
   "mimetype": "text/x-python",
   "name": "python",
   "nbconvert_exporter": "python",
   "pygments_lexer": "ipython3",
   "version": "3.11.0rc1"
  }
 },
 "nbformat": 4,
 "nbformat_minor": 5
}
