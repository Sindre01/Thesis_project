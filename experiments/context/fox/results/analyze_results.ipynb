{
 "cells": [
  {
   "cell_type": "code",
   "execution_count": 4,
   "metadata": {},
   "outputs": [
    {
     "name": "stdout",
     "output_type": "stream",
     "text": [
      "signature_full-context_5_shot\n",
      "                model_name              created_at eval_method            visual@placement                    syntax@1                    syntax@3                  semantic@1                  semantic@3                     tests@1                     tests@3\n",
      " llama3.2:3b-instruct-fp16 2025-04-20 22:52:06.783      3_fold {'mean': 0.86, 'std': 0.06}                         NaN                         NaN                         NaN                         NaN                         NaN                         NaN\n",
      "llama3.3:70b-instruct-fp16 2025-04-08 09:08:47.458      3_fold                         NaN {'mean': 0.83, 'std': 0.07} {'mean': 0.94, 'std': 0.06} {'mean': 0.76, 'std': 0.07} {'mean': 0.89, 'std': 0.04} {'mean': 0.63, 'std': 0.05} {'mean': 0.77, 'std': 0.05}\n",
      "...\n",
      "Total documents/rows: 2      \n",
      "--------------------------------------------------\n",
      "signature_full-context_10_shot\n",
      "                model_name              created_at eval_method            visual@placement                   syntax@1                    syntax@3                  semantic@1                  semantic@3                    tests@1                     tests@3\n",
      " llama3.2:3b-instruct-fp16 2025-04-20 22:52:06.724      3_fold {'mean': 0.85, 'std': 0.07}                        NaN                         NaN                         NaN                         NaN                        NaN                         NaN\n",
      "llama3.3:70b-instruct-fp16 2025-04-20 07:02:45.986      3_fold                         NaN {'mean': 0.8, 'std': 0.02} {'mean': 0.98, 'std': 0.01} {'mean': 0.72, 'std': 0.07} {'mean': 0.91, 'std': 0.06} {'mean': 0.5, 'std': 0.07} {'mean': 0.73, 'std': 0.08}\n",
      "...\n",
      "Total documents/rows: 2      \n",
      "--------------------------------------------------\n"
     ]
    }
   ],
   "source": [
    "import os\n",
    "import sys\n",
    "sys.path.append(\"../../../..\")\n",
    "os.environ['EXPERIMENT_DB_NAME'] = \"context_experiments\"\n",
    "from my_packages.db_service.results_service import pretty_print_results\n",
    "\n",
    "\n",
    "for shot in [5, 10]:\n",
    "    experiment_name = f\"signature_full-context_{shot}_shot\"\n",
    "        \n",
    "    print(experiment_name)\n",
    "    # results_to_df(f\"{experiment_name}_5_shot\")\n",
    "\n",
    "    pretty_print_results(\n",
    "        experiment_name, \n",
    "        filter= {\"eval_method\": \"3_fold\", \"model_name\": {\"$in\": [\"llama3.2:3b-instruct-fp16\", \"phi4:14b-fp16\", \"llama3.3:70b-instruct-fp16\"]}},\n",
    "        exclude_columns=[\n",
    "            \"ks\", \"temperature\", \"top_p\", \"top_k\", \"metrics\", \"seed\",\n",
    "            \"syntax@10\",\n",
    "            \"semantic@10\",\n",
    "            \"tests@10\",\n",
    "            \"syntax@5\",\n",
    "            \"semantic@5\",\n",
    "            \"tests@5\",\n",
    "            \"syntax@2\",\n",
    "            \"semantic@2\",\n",
    "            \"tests@2\",\n",
    "        ]\n",
    "    )\n"
   ]
  }
 ],
 "metadata": {
  "kernelspec": {
   "display_name": ".venv_Master",
   "language": "python",
   "name": "python3"
  },
  "language_info": {
   "codemirror_mode": {
    "name": "ipython",
    "version": 3
   },
   "file_extension": ".py",
   "mimetype": "text/x-python",
   "name": "python",
   "nbconvert_exporter": "python",
   "pygments_lexer": "ipython3",
   "version": "3.11.0rc1"
  }
 },
 "nbformat": 4,
 "nbformat_minor": 2
}
