{
 "cells": [
  {
   "cell_type": "code",
   "execution_count": 17,
   "metadata": {},
   "outputs": [
    {
     "name": "stdout",
     "output_type": "stream",
     "text": [
      "signature_RAG_10_shot\n",
      "               model_name         seed              created_at eval_method                    syntax@1                    syntax@2                    syntax@3                    syntax@5                   syntax@10                 semantic@1                  semantic@2                  semantic@3                  semantic@5                 semantic@10                     tests@1                     tests@2                     tests@3                     tests@5                    tests@10\n",
      "llama3.2:3b-instruct-fp16 [3, 346, 75] 2025-04-06 07:04:35.067      3_fold {'mean': 0.75, 'std': 0.04} {'mean': 0.89, 'std': 0.04} {'mean': 0.93, 'std': 0.05} {'mean': 0.96, 'std': 0.04} {'mean': 0.98, 'std': 0.02} {'mean': 0.5, 'std': 0.15} {'mean': 0.66, 'std': 0.16} {'mean': 0.74, 'std': 0.15} {'mean': 0.81, 'std': 0.14} {'mean': 0.87, 'std': 0.11} {'mean': 0.26, 'std': 0.08} {'mean': 0.39, 'std': 0.11} {'mean': 0.48, 'std': 0.12} {'mean': 0.58, 'std': 0.14} {'mean': 0.69, 'std': 0.14}\n",
      "...\n",
      "Total documents/rows: 3      \n",
      "--------------------------------------------------\n"
     ]
    }
   ],
   "source": [
    "import os\n",
    "import sys\n",
    "sys.path.append(\"../../../..\")\n",
    "os.environ['EXPERIMENT_DB_NAME'] = \"context_experiments\"\n",
    "from my_packages.db_service.results_service import pretty_print_results, results_to_df\n",
    "\n",
    "\n",
    "for shot in [10]:\n",
    "    experiment_name = f\"signature_RAG_{shot}_shot\"\n",
    "        \n",
    "    print(experiment_name)\n",
    "    # results_to_df(f\"{experiment_name}_5_shot\")\n",
    "\n",
    "    pretty_print_results(\n",
    "        experiment_name, \n",
    "        filter= {\"eval_method\": \"3_fold\", \"model_name\": {\"$in\": [\"llama3.2:3b-instruct-fp16\"]}},\n",
    "        exclude_columns=[\n",
    "            \"ks\", \"temperature\", \"top_p\", \"top_k\", \"metrics\",\n",
    "            # \"syntax@10\",\n",
    "            # \"semantic@10\",\n",
    "            # \"tests@10\",\n",
    "            # \"syntax@5\",\n",
    "            # \"semantic@5\",\n",
    "            # \"tests@5\",\n",
    "            # \"syntax@2\",\n",
    "            # \"semantic@2\",\n",
    "            # \"tests@2\",\n",
    "        ]\n",
    "    )\n"
   ]
  }
 ],
 "metadata": {
  "kernelspec": {
   "display_name": ".venv_Master",
   "language": "python",
   "name": "python3"
  },
  "language_info": {
   "codemirror_mode": {
    "name": "ipython",
    "version": 3
   },
   "file_extension": ".py",
   "mimetype": "text/x-python",
   "name": "python",
   "nbconvert_exporter": "python",
   "pygments_lexer": "ipython3",
   "version": "3.11.5"
  }
 },
 "nbformat": 4,
 "nbformat_minor": 2
}
