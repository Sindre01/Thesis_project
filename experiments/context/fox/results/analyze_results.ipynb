{
 "cells": [
  {
   "cell_type": "code",
   "execution_count": 4,
   "metadata": {},
   "outputs": [
    {
     "name": "stdout",
     "output_type": "stream",
     "text": [
      "regular_RAG_5_shot\n",
      "                model_name              created_at eval_method            visual@placement                    syntax@1                    syntax@3                  semantic@1                  semantic@3                   tests@1                   tests@3\n",
      "             phi4:14b-fp16 2025-04-20 09:48:19.520      3_fold                         NaN  {'mean': 0.9, 'std': 0.03} {'mean': 0.98, 'std': 0.02} {'mean': 0.72, 'std': 0.02} {'mean': 0.89, 'std': 0.03} {'mean': 0.0, 'std': 0.0} {'mean': 0.0, 'std': 0.0}\n",
      " llama3.2:3b-instruct-fp16 2025-04-20 22:51:57.650      3_fold {'mean': 0.84, 'std': 0.02}                         NaN                         NaN                         NaN                         NaN                       NaN                       NaN\n",
      "llama3.3:70b-instruct-fp16 2025-04-08 06:31:37.343      3_fold                         NaN {'mean': 0.85, 'std': 0.08} {'mean': 0.88, 'std': 0.08} {'mean': 0.73, 'std': 0.11} {'mean': 0.76, 'std': 0.09} {'mean': 0.0, 'std': 0.0} {'mean': 0.0, 'std': 0.0}\n",
      "...\n",
      "Total documents/rows: 3      \n",
      "--------------------------------------------------\n",
      "regular_RAG_10_shot\n",
      "                model_name              created_at eval_method            visual@placement                    syntax@1                    syntax@3                  semantic@1                  semantic@3                   tests@1                   tests@3\n",
      "             phi4:14b-fp16 2025-04-20 09:48:22.483      3_fold                         NaN {'mean': 0.91, 'std': 0.04} {'mean': 0.99, 'std': 0.01} {'mean': 0.74, 'std': 0.04} {'mean': 0.93, 'std': 0.02} {'mean': 0.0, 'std': 0.0} {'mean': 0.0, 'std': 0.0}\n",
      " llama3.2:3b-instruct-fp16 2025-04-20 22:51:57.585      3_fold {'mean': 0.86, 'std': 0.03}                         NaN                         NaN                         NaN                         NaN                       NaN                       NaN\n",
      "llama3.3:70b-instruct-fp16 2025-04-08 06:31:39.118      3_fold                         NaN {'mean': 0.82, 'std': 0.03} {'mean': 0.98, 'std': 0.02} {'mean': 0.74, 'std': 0.04} {'mean': 0.94, 'std': 0.04} {'mean': 0.0, 'std': 0.0} {'mean': 0.0, 'std': 0.0}\n",
      "...\n",
      "Total documents/rows: 3      \n",
      "--------------------------------------------------\n"
     ]
    }
   ],
   "source": [
    "import os\n",
    "import sys\n",
    "sys.path.append(\"../../../..\")\n",
    "os.environ['EXPERIMENT_DB_NAME'] = \"context_experiments\"\n",
    "from my_packages.db_service.results_service import pretty_print_results\n",
    "\n",
    "\n",
    "for shot in [5, 10]:\n",
    "    experiment_name = f\"regular_RAG_{shot}_shot\"\n",
    "        \n",
    "    print(experiment_name)\n",
    "    # results_to_df(f\"{experiment_name}_5_shot\")\n",
    "\n",
    "    pretty_print_results(\n",
    "        experiment_name, \n",
    "        filter= {\"eval_method\": \"3_fold\", \"model_name\": {\"$in\": [\"llama3.2:3b-instruct-fp16\", \"phi4:14b-fp16\", \"llama3.3:70b-instruct-fp16\"]}},\n",
    "        exclude_columns=[\n",
    "            \"ks\", \"temperature\", \"top_p\", \"top_k\", \"metrics\", \"seed\",\n",
    "            \"syntax@10\",\n",
    "            \"semantic@10\",\n",
    "            \"tests@10\",\n",
    "            \"syntax@5\",\n",
    "            \"semantic@5\",\n",
    "            \"tests@5\",\n",
    "            \"syntax@2\",\n",
    "            \"semantic@2\",\n",
    "            \"tests@2\",\n",
    "        ]\n",
    "    )\n"
   ]
  }
 ],
 "metadata": {
  "kernelspec": {
   "display_name": ".venv_Master",
   "language": "python",
   "name": "python3"
  },
  "language_info": {
   "codemirror_mode": {
    "name": "ipython",
    "version": 3
   },
   "file_extension": ".py",
   "mimetype": "text/x-python",
   "name": "python",
   "nbconvert_exporter": "python",
   "pygments_lexer": "ipython3",
   "version": "3.11.0rc1"
  }
 },
 "nbformat": 4,
 "nbformat_minor": 2
}
