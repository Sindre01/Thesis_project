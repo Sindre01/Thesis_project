{
 "cells": [
  {
   "cell_type": "code",
   "execution_count": 1,
   "metadata": {},
   "outputs": [
    {
     "name": "stdout",
     "output_type": "stream",
     "text": [
      "regular_RAG_1_shot\n",
      "⚠️ No data found in this collection.\n",
      "regular_RAG_5_shot\n",
      "   model_name         seed              created_at eval_method                    syntax@1                    syntax@3                  semantic@1                  semantic@3\n",
      "phi4:14b-fp16 [3, 346, 75] 2025-03-21 08:52:52.438      3_fold {'mean': 0.72, 'std': 0.08} {'mean': 0.86, 'std': 0.07} {'mean': 0.61, 'std': 0.13} {'mean': 0.76, 'std': 0.14}\n",
      "phi4:14b-fp16 [3, 346, 75] 2025-03-21 16:05:35.087      3_fold {'mean': 0.82, 'std': 0.01} {'mean': 0.95, 'std': 0.01} {'mean': 0.71, 'std': 0.02} {'mean': 0.89, 'std': 0.04}\n",
      "...\n",
      "Total documents/rows: 2      \n",
      "--------------------------------------------------\n",
      "regular_RAG_10_shot\n",
      "⚠️ No data found in this collection.\n",
      "import(\"std\", Std_pvchbs)\n",
      "import(\"http\", Http_q7o96c)\n",
      "\n",
      "module() main { \n",
      "    func(doc: \"Finds the minimum of three numbers.\") min_of_three {\n",
      "        in(x: -300, y: 100, name: \"a\") property(Number) a_1f3d2e\n",
      "        in(x: -200, y: 50, name: \"b\") property(Number) b_4c5d6f\n",
      "        in(x: -100, y: 0, name: \"c\") property(Number) c_7e8f9a\n",
      "\n",
      "        out(x: 800, y: 150, name: \"minimum\") property(Number) minimum_3b2c1d\n",
      "\n",
      "        instance(x: 50, y: 75) min2_6a5b4c root.Std_pvchbs.Math.Min2 {}\n",
      "        instance(x: 350, y: 125) min2_9f8e7d root.Std_pvchbs.Math.Min2 {}\n",
      "\n",
      "        a_1f3d2e -> min2_6a5b4c.left\n",
      "        b_4c5d6f -> min2_6a5b4c.right\n",
      "        min2_6a5b4c.min -> min2_9f8e7d.left\n",
      "        c_7e8f9a -> min2_9f8e7d.right\n",
      "        min2_9f8e7d.min -> minimum_3b2c1d\n",
      "    }\n",
      "\n",
      "    \n",
      "\n",
      "    instance(x: -250, y: 50) min_of_three_5d4c3b root.main.min_of_three {}\n",
      "}\n"
     ]
    },
    {
     "data": {
      "text/plain": [
       "<function print(*args, sep=' ', end='\\n', file=None, flush=False)>"
      ]
     },
     "execution_count": 1,
     "metadata": {},
     "output_type": "execute_result"
    }
   ],
   "source": [
    "import os\n",
    "import sys\n",
    "sys.path.append(\"../../../..\")\n",
    "os.environ['EXPERIMENT_DB_NAME'] = \"context_experiments\"\n",
    "from my_packages.db_service.results_service import pretty_print_results, results_to_df\n",
    "\n",
    "\n",
    "for shot in [1, 5, 10]:\n",
    "    experiment_name = f\"regular_RAG_{shot}_shot\"\n",
    "        \n",
    "    print(experiment_name)\n",
    "    # results_to_df(f\"{experiment_name}_5_shot\")\n",
    "\n",
    "    pretty_print_results(\n",
    "        experiment_name, \n",
    "        filter= {\"eval_method\": \"3_fold\", \"model_name\": {\"$in\": [\"phi4:14b-fp16\"]}},\n",
    "        exclude_columns=[\n",
    "            \"ks\", \"temperature\", \"top_p\", \"top_k\", \"metrics\",\n",
    "            \"syntax@10\",\n",
    "            \"semantic@10\",\n",
    "            \"tests@10\",\n",
    "            \"syntax@5\",\n",
    "            \"semantic@5\",\n",
    "            \"tests@5\",\n",
    "            \"syntax@2\",\n",
    "            \"semantic@2\",\n",
    "            \"tests@2\",\n",
    "        ]\n",
    "    )\n",
    "\n",
    "print(\"import(\\\"std\\\", Std_pvchbs)\\nimport(\\\"http\\\", Http_q7o96c)\\n\\nmodule() main { \\n    func(doc: \\\"Finds the minimum of three numbers.\\\") min_of_three {\\n        in(x: -300, y: 100, name: \\\"a\\\") property(Number) a_1f3d2e\\n        in(x: -200, y: 50, name: \\\"b\\\") property(Number) b_4c5d6f\\n        in(x: -100, y: 0, name: \\\"c\\\") property(Number) c_7e8f9a\\n\\n        out(x: 800, y: 150, name: \\\"minimum\\\") property(Number) minimum_3b2c1d\\n\\n        instance(x: 50, y: 75) min2_6a5b4c root.Std_pvchbs.Math.Min2 {}\\n        instance(x: 350, y: 125) min2_9f8e7d root.Std_pvchbs.Math.Min2 {}\\n\\n        a_1f3d2e -> min2_6a5b4c.left\\n        b_4c5d6f -> min2_6a5b4c.right\\n        min2_6a5b4c.min -> min2_9f8e7d.left\\n        c_7e8f9a -> min2_9f8e7d.right\\n        min2_9f8e7d.min -> minimum_3b2c1d\\n    }\\n\\n    \\n\\n    instance(x: -250, y: 50) min_of_three_5d4c3b root.main.min_of_three {}\\n}\")\n",
    "print"
   ]
  },
  {
   "cell_type": "markdown",
   "metadata": {},
   "source": []
  }
 ],
 "metadata": {
  "kernelspec": {
   "display_name": ".venv_Master",
   "language": "python",
   "name": "python3"
  },
  "language_info": {
   "codemirror_mode": {
    "name": "ipython",
    "version": 3
   },
   "file_extension": ".py",
   "mimetype": "text/x-python",
   "name": "python",
   "nbconvert_exporter": "python",
   "pygments_lexer": "ipython3",
   "version": "3.11.0rc1"
  }
 },
 "nbformat": 4,
 "nbformat_minor": 2
}
