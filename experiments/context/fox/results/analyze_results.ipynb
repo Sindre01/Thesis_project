{
 "cells": [
  {
   "cell_type": "code",
   "execution_count": 5,
   "metadata": {},
   "outputs": [
    {
     "name": "stdout",
     "output_type": "stream",
     "text": [
      "signature_RAG_5_shot\n",
      "                model_name              created_at eval_method                  nodes@flow\n",
      "             phi4:14b-fp16 2025-05-02 18:49:12.423      3_fold {'mean': 0.71, 'std': 0.03}\n",
      " llama3.2:3b-instruct-fp16 2025-05-02 18:48:08.760      3_fold {'mean': 0.68, 'std': 0.05}\n",
      "llama3.3:70b-instruct-fp16 2025-05-02 18:49:03.701      3_fold {'mean': 0.79, 'std': 0.04}\n",
      "...\n",
      "Total documents/rows: 4      \n",
      "--------------------------------------------------\n"
     ]
    }
   ],
   "source": [
    "import os\n",
    "import sys\n",
    "sys.path.append(\"../../../..\")\n",
    "os.environ['EXPERIMENT_DB_NAME'] = \"context_experiments\"\n",
    "from my_packages.db_service.results_service import pretty_print_results\n",
    "\n",
    "\n",
    "for shot in [5]:\n",
    "    experiment_name = f\"signature_RAG_{shot}_shot\"\n",
    "        \n",
    "    print(experiment_name)\n",
    "    # results_to_df(f\"{experiment_name}_5_shot\")\n",
    "\n",
    "    pretty_print_results(\n",
    "        experiment_name, \n",
    "        filter= {\"eval_method\": \"3_fold\", \"model_name\": {\"$in\": [\"llama3.2:3b-instruct-fp16\", \"phi4:14b-fp16\", \"llama3.3:70b-instruct-fp16\"]}},\n",
    "        exclude_columns=[\n",
    "            \"ks\", \"temperature\", \"top_p\", \"top_k\", \"metrics\", \"seed\",\n",
    "            \"syntax@10\",\n",
    "            \"semantic@10\",\n",
    "            \"tests@10\",\n",
    "            \"syntax@5\",\n",
    "            \"semantic@5\",\n",
    "            \"tests@5\",\n",
    "            \"syntax@2\",\n",
    "            \"semantic@2\",\n",
    "            \"tests@2\",\n",
    "            \"syntax@1\",\n",
    "            \"semantic@1\",\n",
    "            \"tests@1\",\n",
    "            \"syntax@3\",\n",
    "            \"semantic@3\",\n",
    "            \"tests@3\",\n",
    "  \n",
    "        ]\n",
    "    )\n"
   ]
  }
 ],
 "metadata": {
  "kernelspec": {
   "display_name": ".venv_Master",
   "language": "python",
   "name": "python3"
  },
  "language_info": {
   "codemirror_mode": {
    "name": "ipython",
    "version": 3
   },
   "file_extension": ".py",
   "mimetype": "text/x-python",
   "name": "python",
   "nbconvert_exporter": "python",
   "pygments_lexer": "ipython3",
   "version": "3.11.0rc1"
  }
 },
 "nbformat": 4,
 "nbformat_minor": 2
}
