{
 "cells": [
  {
   "cell_type": "code",
   "execution_count": 6,
   "metadata": {},
   "outputs": [
    {
     "name": "stdout",
     "output_type": "stream",
     "text": [
      "signature_RAG_10_shot\n",
      "                model_name              created_at eval_method                    syntax@1                    syntax@3                  semantic@1                  semantic@3                     tests@1                     tests@3\n",
      "             phi4:14b-fp16 2025-04-08 06:56:16.114      3_fold {'mean': 0.85, 'std': 0.05} {'mean': 0.98, 'std': 0.01} {'mean': 0.71, 'std': 0.06} {'mean': 0.91, 'std': 0.03} {'mean': 0.47, 'std': 0.05}  {'mean': 0.7, 'std': 0.05}\n",
      " llama3.2:3b-instruct-fp16 2025-04-08 06:55:00.045      3_fold {'mean': 0.79, 'std': 0.03} {'mean': 0.94, 'std': 0.05} {'mean': 0.52, 'std': 0.15} {'mean': 0.75, 'std': 0.16} {'mean': 0.26, 'std': 0.08} {'mean': 0.48, 'std': 0.12}\n",
      "llama3.3:70b-instruct-fp16 2025-04-08 06:56:14.104      3_fold {'mean': 0.78, 'std': 0.02} {'mean': 0.96, 'std': 0.02} {'mean': 0.69, 'std': 0.06} {'mean': 0.89, 'std': 0.05} {'mean': 0.52, 'std': 0.08}  {'mean': 0.68, 'std': 0.1}\n",
      "...\n",
      "Total documents/rows: 3      \n",
      "--------------------------------------------------\n"
     ]
    }
   ],
   "source": [
    "import os\n",
    "import sys\n",
    "sys.path.append(\"../../../..\")\n",
    "os.environ['EXPERIMENT_DB_NAME'] = \"context_experiments\"\n",
    "from my_packages.db_service.results_service import pretty_print_results, results_to_df\n",
    "\n",
    "\n",
    "for shot in [10]:\n",
    "    experiment_name = f\"signature_RAG_{shot}_shot\"\n",
    "        \n",
    "    print(experiment_name)\n",
    "    # results_to_df(f\"{experiment_name}_5_shot\")\n",
    "\n",
    "    pretty_print_results(\n",
    "        experiment_name, \n",
    "        filter= {\"eval_method\": \"3_fold\", \"model_name\": {\"$in\": [\"llama3.2:3b-instruct-fp16\", \"phi4:14b-fp16\", \"llama3.3:70b-instruct-fp16\"]}},\n",
    "        exclude_columns=[\n",
    "            \"ks\", \"temperature\", \"top_p\", \"top_k\", \"metrics\", \"seed\",\n",
    "            \"syntax@10\",\n",
    "            \"semantic@10\",\n",
    "            \"tests@10\",\n",
    "            \"syntax@5\",\n",
    "            \"semantic@5\",\n",
    "            \"tests@5\",\n",
    "            \"syntax@2\",\n",
    "            \"semantic@2\",\n",
    "            \"tests@2\",\n",
    "        ]\n",
    "    )\n"
   ]
  },
  {
   "cell_type": "markdown",
   "metadata": {},
   "source": []
  }
 ],
 "metadata": {
  "kernelspec": {
   "display_name": ".venv_Master",
   "language": "python",
   "name": "python3"
  },
  "language_info": {
   "codemirror_mode": {
    "name": "ipython",
    "version": 3
   },
   "file_extension": ".py",
   "mimetype": "text/x-python",
   "name": "python",
   "nbconvert_exporter": "python",
   "pygments_lexer": "ipython3",
   "version": "3.11.0rc1"
  }
 },
 "nbformat": 4,
 "nbformat_minor": 2
}
