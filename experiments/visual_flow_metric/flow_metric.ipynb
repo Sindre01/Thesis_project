{
 "cells": [
  {
   "cell_type": "code",
   "execution_count": 1,
   "metadata": {},
   "outputs": [
    {
     "name": "stdout",
     "output_type": "stream",
     "text": [
      "\n",
      "        in(x: -769.6855759900376, y: -411.0358560546829, name: \"a\") property(Number) a_f37c19\n",
      "        in(x: -775.4615926769588, y: -311.94665736242496, name: \"b\") property(Number) b_ca79ac\n",
      "        in(x: -772.4906914682103, y: -226.85470946491404, name: \"c\") property(Number) c_a89f71\n",
      "\n",
      "        out(x: -59.0875497141829, y: -332.1206884918196, name: \"min\")  property(Number) smallest_8713cf\n",
      "\n",
      "        data_instance(x: -517.8, y: -342.4, stableId: \"y12hm245bcs4zl39zu4wyfw9\") data_9a9c70  = [\n",
      "                a,\n",
      "                b,\n",
      "                c\n",
      "            ]\n",
      "        instance(x: -293.0, y: -323.6) min_c3e343 root.Std_k98ojb.List.Min {}\n",
      "        a_f37c19 -> data_9a9c70.a\n",
      "        b_ca79ac -> data_9a9c70.b\n",
      "        c_a89f71 -> data_9a9c70.c\n",
      "        min_c3e343.min -> smallest_8713cf\n",
      "        data_9a9c70 -> min_c3e343.items\n",
      "    \n",
      "{'input_nodes': [{'type': 'in', 'x': -769.6855759900376, 'y': -411.0358560546829, 'name': 'a', 'height': 50, 'width': 100}, {'type': 'in', 'x': -775.4615926769588, 'y': -311.94665736242496, 'name': 'b', 'height': 50, 'width': 100}, {'type': 'in', 'x': -772.4906914682103, 'y': -226.85470946491404, 'name': 'c', 'height': 50, 'width': 100}], 'main_nodes': [{'type': 'instance', 'x': -293.0, 'y': -323.6, 'height': 100, 'width': 200}], 'output_nodes': [{'type': 'out', 'x': -59.0875497141829, 'y': -332.1206884918196, 'name': 'min', 'height': 50, 'width': 100}], 'flow_direction_score': 1.0, 'overlap_score': 1.0, 'overall_score': 1.0}\n",
      "Flow Direction Score: 1.00\n",
      "Overlap Score: 1.00\n",
      "Overall Score: 1.00\n"
     ]
    },
    {
     "ename": "TypeError",
     "evalue": "string indices must be integers, not 'str'",
     "output_type": "error",
     "traceback": [
      "\u001b[0;31m---------------------------------------------------------------------------\u001b[0m",
      "\u001b[0;31mTypeError\u001b[0m                                 Traceback (most recent call last)",
      "Cell \u001b[0;32mIn[1], line 42\u001b[0m\n\u001b[1;32m     38\u001b[0m \u001b[38;5;66;03m# print(\"Full Code:\")\u001b[39;00m\n\u001b[1;32m     39\u001b[0m \u001b[38;5;66;03m# print(code)\u001b[39;00m\n\u001b[1;32m     40\u001b[0m score \u001b[38;5;241m=\u001b[39m evaluate_visual_flow(code_snippet\u001b[38;5;241m=\u001b[39mcode)\n\u001b[0;32m---> 42\u001b[0m tests_task_ids \u001b[38;5;241m=\u001b[39m \u001b[43mget_train_task_ids\u001b[49m\u001b[43m(\u001b[49m\u001b[43m)\u001b[49m\n\u001b[1;32m     44\u001b[0m \u001b[38;5;66;03m# print(f\"Overall score: {score}\")\u001b[39;00m\n\u001b[1;32m     45\u001b[0m \u001b[38;5;28msum\u001b[39m \u001b[38;5;241m=\u001b[39m \u001b[38;5;241m0\u001b[39m\n",
      "File \u001b[0;32m~/Thesis_project/experiments/visual_flow_metric/../../my_packages/utils/file_utils.py:85\u001b[0m, in \u001b[0;36mget_train_task_ids\u001b[0;34m()\u001b[0m\n\u001b[1;32m     83\u001b[0m file_path \u001b[38;5;241m=\u001b[39m os\u001b[38;5;241m.\u001b[39mpath\u001b[38;5;241m.\u001b[39mjoin(project_root, \u001b[38;5;124m'\u001b[39m\u001b[38;5;124mdata/MBPP_Midio_50/splits/hold_out/test_dataset.json\u001b[39m\u001b[38;5;124m'\u001b[39m)\n\u001b[1;32m     84\u001b[0m \u001b[38;5;28;01mwith\u001b[39;00m \u001b[38;5;28mopen\u001b[39m(file_path, \u001b[38;5;124m'\u001b[39m\u001b[38;5;124mr\u001b[39m\u001b[38;5;124m'\u001b[39m) \u001b[38;5;28;01mas\u001b[39;00m file:\n\u001b[0;32m---> 85\u001b[0m     task_ids \u001b[38;5;241m=\u001b[39m \u001b[43m[\u001b[49m\u001b[38;5;28;43mint\u001b[39;49m\u001b[43m(\u001b[49m\u001b[43msample\u001b[49m\u001b[43m[\u001b[49m\u001b[38;5;124;43m\"\u001b[39;49m\u001b[38;5;124;43mtask_id\u001b[39;49m\u001b[38;5;124;43m\"\u001b[39;49m\u001b[43m]\u001b[49m\u001b[43m)\u001b[49m\u001b[43m \u001b[49m\u001b[38;5;28;43;01mfor\u001b[39;49;00m\u001b[43m \u001b[49m\u001b[43msample\u001b[49m\u001b[43m \u001b[49m\u001b[38;5;129;43;01min\u001b[39;49;00m\u001b[43m \u001b[49m\u001b[43mfile\u001b[49m\u001b[38;5;241;43m.\u001b[39;49m\u001b[43mreadlines\u001b[49m\u001b[43m(\u001b[49m\u001b[43m)\u001b[49m\u001b[43m]\u001b[49m\n\u001b[1;32m     86\u001b[0m \u001b[38;5;28;01mreturn\u001b[39;00m task_ids\n",
      "File \u001b[0;32m~/Thesis_project/experiments/visual_flow_metric/../../my_packages/utils/file_utils.py:85\u001b[0m, in \u001b[0;36m<listcomp>\u001b[0;34m(.0)\u001b[0m\n\u001b[1;32m     83\u001b[0m file_path \u001b[38;5;241m=\u001b[39m os\u001b[38;5;241m.\u001b[39mpath\u001b[38;5;241m.\u001b[39mjoin(project_root, \u001b[38;5;124m'\u001b[39m\u001b[38;5;124mdata/MBPP_Midio_50/splits/hold_out/test_dataset.json\u001b[39m\u001b[38;5;124m'\u001b[39m)\n\u001b[1;32m     84\u001b[0m \u001b[38;5;28;01mwith\u001b[39;00m \u001b[38;5;28mopen\u001b[39m(file_path, \u001b[38;5;124m'\u001b[39m\u001b[38;5;124mr\u001b[39m\u001b[38;5;124m'\u001b[39m) \u001b[38;5;28;01mas\u001b[39;00m file:\n\u001b[0;32m---> 85\u001b[0m     task_ids \u001b[38;5;241m=\u001b[39m [\u001b[38;5;28mint\u001b[39m(\u001b[43msample\u001b[49m\u001b[43m[\u001b[49m\u001b[38;5;124;43m\"\u001b[39;49m\u001b[38;5;124;43mtask_id\u001b[39;49m\u001b[38;5;124;43m\"\u001b[39;49m\u001b[43m]\u001b[49m) \u001b[38;5;28;01mfor\u001b[39;00m sample \u001b[38;5;129;01min\u001b[39;00m file\u001b[38;5;241m.\u001b[39mreadlines()]\n\u001b[1;32m     86\u001b[0m \u001b[38;5;28;01mreturn\u001b[39;00m task_ids\n",
      "\u001b[0;31mTypeError\u001b[0m: string indices must be integers, not 'str'"
     ]
    }
   ],
   "source": [
    "import json\n",
    "import re\n",
    "from typing import List, Dict, Any\n",
    "import sys\n",
    "sys.path.append('../../')  # Add the path to the my_packages module\n",
    "from my_packages.evaluation.visual_metric import evaluate_visual_flow\n",
    "from my_packages.utils.file_utils import get_train_task_ids, read_code_file\n",
    "\n",
    "\n",
    "# Example usage:\n",
    "# code = read_code_file(1)  # assuming this returns the code as a string\n",
    "code = \"\"\"\" \n",
    "import(\"std\", Std_k98ojb)\n",
    "import(\"http\", Http_q7o96c)\n",
    "\n",
    "module() main {\n",
    "    func() min_of_three {\n",
    "        in(x: -769.6855759900376, y: -411.0358560546829, name: \"a\") property(Number) a_f37c19\n",
    "        in(x: -775.4615926769588, y: -311.94665736242496, name: \"b\") property(Number) b_ca79ac\n",
    "        in(x: -772.4906914682103, y: -226.85470946491404, name: \"c\") property(Number) c_a89f71\n",
    "\n",
    "        out(x: -59.0875497141829, y: -332.1206884918196, name: \"min\")  property(Number) smallest_8713cf\n",
    "\n",
    "        data_instance(x: -517.8, y: -342.4, stableId: \"y12hm245bcs4zl39zu4wyfw9\") data_9a9c70  = [\n",
    "                a,\n",
    "                b,\n",
    "                c\n",
    "            ]\n",
    "        instance(x: -293.0, y: -323.6) min_c3e343 root.Std_k98ojb.List.Min {}\n",
    "        a_f37c19 -> data_9a9c70.a\n",
    "        b_ca79ac -> data_9a9c70.b\n",
    "        c_a89f71 -> data_9a9c70.c\n",
    "        min_c3e343.min -> smallest_8713cf\n",
    "        data_9a9c70 -> min_c3e343.items\n",
    "    }\n",
    "}\n",
    "\"\"\"\n",
    "# print(\"Full Code:\")\n",
    "# print(code)\n",
    "score = evaluate_visual_flow(code_snippet=code)\n",
    "\n",
    "tests_task_ids = get_train_task_ids()\n",
    "\n",
    "# print(f\"Overall score: {score}\")\n",
    "sum = 0\n",
    "for i in tests_task_ids:\n",
    "    code = read_code_file(i+1)\n",
    "    overall_score = evaluate_visual_flow(code_snippet=code)\n",
    "    sum += overall_score\n",
    "    if overall_score < 0.5:\n",
    "        print(f\"Warning: Overall score for task {i+1} is {overall_score} less than 1.0. Check the code snippet for issues.\")\n",
    "    #     print(code)\n",
    "print(\"Evaluation Metrics:\")\n",
    "print(\"Average Overall Score:\", sum / 50)\n",
    "# print(json.dumps(metrics, indent=2))\n",
    "\n"
   ]
  }
 ],
 "metadata": {
  "kernelspec": {
   "display_name": ".venv_Master",
   "language": "python",
   "name": "python3"
  },
  "language_info": {
   "codemirror_mode": {
    "name": "ipython",
    "version": 3
   },
   "file_extension": ".py",
   "mimetype": "text/x-python",
   "name": "python",
   "nbconvert_exporter": "python",
   "pygments_lexer": "ipython3",
   "version": "3.11.5"
  }
 },
 "nbformat": 4,
 "nbformat_minor": 2
}
