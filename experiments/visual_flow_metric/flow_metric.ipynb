{
 "cells": [
  {
   "cell_type": "code",
   "execution_count": 62,
   "metadata": {},
   "outputs": [
    {
     "name": "stdout",
     "output_type": "stream",
     "text": [
      "Warning: Overall score for task 5 is 0.0 less than 1.0. Check the code snippet for issues.\n",
      "Warning: Overall score for task 9 is 0.3 less than 1.0. Check the code snippet for issues.\n",
      "Evaluation Metrics:\n",
      "Average Overall Score: 0.9342243815008522\n"
     ]
    }
   ],
   "source": [
    "import json\n",
    "import re\n",
    "from typing import List, Dict, Any\n",
    "import sys\n",
    "sys.path.append('../../')  # Add the path to the my_packages module\n",
    "from my_packages.evaluation.visual_metric import evaluate_visual_flow\n",
    "from my_packages.utils.file_utils import read_code_file\n",
    "\n",
    "\n",
    "# Example usage:\n",
    "# code = read_code_file(1)  # assuming this returns the code as a string\n",
    "code = \"\"\"\" \n",
    "import(\"std\", Std_k98ojb)\n",
    "import(\"http\", Http_q7o96c)\n",
    "\n",
    "module() main {\n",
    "\n",
    "    func(doc: \"checks whether the given two integers have opposite sign or not.\") opposite_signs {\n",
    "        in(x: -426, y: -107, name: \"x\") property(Number) x_853326\n",
    "        in(x: -424, y: -20, name: \"y\") property(Number) y_5390f5\n",
    "        out(x: 159, y: -219, name: \"output\") property(Bool) output_3339a3\n",
    "\n",
    "        instance(x: -208, y: -217) expression_ea12d8 root.Std_k98ojb.Math.Expression {\n",
    "            expression: \"(x < 0 && y > 0) || (x > 0 && y < 0)\"\n",
    "        }\n",
    "        x_853326 -> expression_ea12d8.gen_0\n",
    "        y_5390f5 -> expression_ea12d8.gen_1\n",
    "        expression_ea12d8.result -> output_3339a3\n",
    "    }\n",
    "    \n",
    "    \n",
    "\n",
    "    instance(x: -745, y: -368) task_id_58_77805a root.main.opposite_signs {}\n",
    "}\n",
    "\"\"\"\n",
    "# print(\"Full Code:\")\n",
    "# print(code)\n",
    "\n",
    "sum = 0\n",
    "for i in range(0, 50):\n",
    "    code = read_code_file(i+1)\n",
    "    metrics = evaluate_visual_flow(code_snippet=code)\n",
    "    overall_score = metrics[\"overall_score\"]\n",
    "    sum += overall_score\n",
    "    if overall_score < 0.5:\n",
    "        print(f\"Warning: Overall score for task {i+1} is {overall_score} less than 1.0. Check the code snippet for issues.\")\n",
    "    #     print(code)\n",
    "print(\"Evaluation Metrics:\")\n",
    "print(\"Average Overall Score:\", sum / 50)\n",
    "# print(json.dumps(metrics, indent=2))\n",
    "\n"
   ]
  }
 ],
 "metadata": {
  "kernelspec": {
   "display_name": ".venv_Master",
   "language": "python",
   "name": "python3"
  },
  "language_info": {
   "codemirror_mode": {
    "name": "ipython",
    "version": 3
   },
   "file_extension": ".py",
   "mimetype": "text/x-python",
   "name": "python",
   "nbconvert_exporter": "python",
   "pygments_lexer": "ipython3",
   "version": "3.11.0rc1"
  }
 },
 "nbformat": 4,
 "nbformat_minor": 2
}
