{
 "cells": [
  {
   "cell_type": "code",
   "execution_count": null,
   "metadata": {},
   "outputs": [
    {
     "name": "stdout",
     "output_type": "stream",
     "text": [
      "signature_similarity_1_shot\n",
      "               model_name              created_at eval_method                    syntax@1                    syntax@3                 semantic@1                  semantic@3                     tests@1                     tests@3\n",
      "llama3.2:3b-instruct-fp16 2025-04-15 15:26:49.858      3_fold {'mean': 0.62, 'std': 0.06} {'mean': 0.77, 'std': 0.02} {'mean': 0.39, 'std': 0.1} {'mean': 0.48, 'std': 0.11} {'mean': 0.17, 'std': 0.04} {'mean': 0.23, 'std': 0.08}\n",
      "...\n",
      "Total documents/rows: 1      \n",
      "--------------------------------------------------\n",
      "signature_similarity_5_shot\n",
      "               model_name              created_at eval_method                   syntax@1                    syntax@3                 semantic@1                  semantic@3                     tests@1                     tests@3      visual@graph_placement\n",
      "llama3.2:3b-instruct-fp16 2025-04-11 08:32:00.504      3_fold {'mean': 0.6, 'std': 0.02} {'mean': 0.83, 'std': 0.05} {'mean': 0.4, 'std': 0.05} {'mean': 0.59, 'std': 0.07} {'mean': 0.25, 'std': 0.02} {'mean': 0.42, 'std': 0.03} {'mean': 0.72, 'std': 0.08}\n",
      "...\n",
      "Total documents/rows: 1      \n",
      "--------------------------------------------------\n",
      "signature_similarity_10_shot\n",
      "               model_name              created_at eval_method                    syntax@1                    syntax@3                  semantic@1                  semantic@3                     tests@1                     tests@3      visual@graph_placement\n",
      "llama3.2:3b-instruct-fp16 2025-04-11 08:32:06.362      3_fold {'mean': 0.61, 'std': 0.08} {'mean': 0.79, 'std': 0.09} {'mean': 0.45, 'std': 0.07} {'mean': 0.62, 'std': 0.09} {'mean': 0.27, 'std': 0.02} {'mean': 0.41, 'std': 0.04} {'mean': 0.65, 'std': 0.11}\n",
      "...\n",
      "Total documents/rows: 1      \n",
      "--------------------------------------------------\n"
     ]
    }
   ],
   "source": [
    "import sys\n",
    "import os\n",
    "sys.path.append(\"../../../..\")\n",
    "os.environ['EXPERIMENT_DB_NAME'] = \"Refinement_experiments\"\n",
    "from my_packages.db_service.results_service import pretty_print_results, results_to_df\n",
    "\n",
    "for shot in [1, 5, 10]:\n",
    "    experiment_name = f\"signature_similarity_{shot}_shot\"\n",
    "        \n",
    "    print(experiment_name)\n",
    "    # results_to_df(f\"{experiment_name}_5_shot\")\n",
    "\n",
    "    pretty_print_results(\n",
    "        experiment_name, \n",
    "        filter= {\"model_name\": {\"$in\": [\"llama3.2:3b-instruct-fp16\", \"phi4:14b-fp16\"]}},\n",
    "        exclude_columns=[\n",
    "            \"ks\", \"temperature\", \"top_p\", \"top_k\", \"metrics\", \"seed\",\n",
    "            \"syntax@10\",\n",
    "            \"semantic@10\",\n",
    "            \"tests@10\",\n",
    "            \"syntax@5\",\n",
    "            \"semantic@5\",\n",
    "            \"tests@5\",\n",
    "            \"syntax@2\",\n",
    "            \"semantic@2\",\n",
    "            \"tests@2\",\n",
    "        ]\n",
    "    )\n",
    "\n",
    "\n"
   ]
  }
 ],
 "metadata": {
  "kernelspec": {
   "display_name": ".venv_Master",
   "language": "python",
   "name": "python3"
  },
  "language_info": {
   "codemirror_mode": {
    "name": "ipython",
    "version": 3
   },
   "file_extension": ".py",
   "mimetype": "text/x-python",
   "name": "python",
   "nbconvert_exporter": "python",
   "pygments_lexer": "ipython3",
   "version": "3.11.5"
  }
 },
 "nbformat": 4,
 "nbformat_minor": 2
}
