{
 "cells": [
  {
   "cell_type": "markdown",
   "id": "605d132a-e3b2-42ee-82a2-50ccefbc9139",
   "metadata": {},
   "source": [
    "<!-- ## Install dependencies -->"
   ]
  },
  {
   "cell_type": "code",
   "execution_count": 1,
   "id": "6cf93b4f-f9b0-4929-bd2c-4bb7688d8576",
   "metadata": {},
   "outputs": [],
   "source": [
    "\n",
    "\n",
    "# For Notebook:\n",
    "# %pip install ollama\n",
    "# %pip install openai\n",
    "# %pip install anthropic\n",
    "# %pip install transformers\n",
    "# %pip install tiktoken\n",
    "# %pip install python-dotenv\n",
    "# %pip install colorama\n",
    "\n",
    "# For packages: \n",
    "# %pip install scikit-learn\n",
    "# %pip install matplotlib\n",
    "# %pip install numpy\n",
    "# %pip install pandas\n",
    "# %pip install iterative-stratification\n",
    "# %pip install langchain\n",
    "# %pip install \"langsmith<0.2.0\"\n",
    "\n",
    "# For WebUI testing:\n",
    "# %pip install open-webui\n",
    "import os\n",
    "os.environ['EXPERIMENT_DB_NAME'] = \"assisted-RAG_experiments\"\n",
    "\n",
    "%load_ext autoreload"
   ]
  },
  {
   "cell_type": "markdown",
   "id": "9d1a1f6f",
   "metadata": {},
   "source": [
    "# Static splits"
   ]
  },
  {
   "cell_type": "code",
   "execution_count": 2,
   "id": "1510069e",
   "metadata": {},
   "outputs": [
    {
     "name": "stdout",
     "output_type": "stream",
     "text": [
      "Script is located in: /root/Thesis_project/my_packages/common\n",
      "Project is located in: /root/Thesis_project\n",
      "Train data: 32\n",
      "Val data: 9\n",
      "Test data: 9\n",
      "[{'type': 'function', 'function_name': 'Std.If', 'module_path': 'Std', 'doc': 'If `input` is true, the `then` trigger is executed, otherwise the `else` trigger is executed. `value` contains the value of `input`.', 'body': 'extern func(doc: \"If `input` is true, the `then` trigger is executed, otherwise the `else` trigger is executed. `value` contains the value of `input`.\") If {\\n\\n        in(x: 0, y: 0, name: \"execute\") trigger() execute\\n\\n        in(x: 0, y: 0, name: \"input\") property(Bool) predicate\\n\\n        out(x: 0, y: 0, name: \"then\") trigger() then\\n\\n        out(x: 0, y: 0, name: \"else\") trigger() else\\n\\n        out(x: 0, y: 0, name: \"value\") property(Bool) value\\n\\n    }', 'types': 'type CountContext Number\\ntype AnyContext Any'}, {'type': 'function', 'function_name': 'Std.IfExpression', 'module_path': 'Std', 'doc': 'IfExpression is a function that allows you to create a conditional expression using a simple expression language provided through the `expression` parameter. Example: `a > b ? a : b` creates two inputs, `a` and `b`. The expression is executed using the provided inputs, and the result is available on the `value` output.', 'body': 'extern func(doc: \"IfExpression is a function that allows you to create a conditional expression using a simple expression language provided through the `expression` parameter. Example: `a > b ? a : b` creates two inputs, `a` and `b`. The expression is executed using the provided inputs, and the result is available on the `value` output.\") IfExpression {\\n\\n        parameter(\\n\\n            compilerPlugin: \"Expression\",\\n\\n            defaultValue: \"\",\\n\\n        ) expression\\n\\n\\n\\n        in trigger execute\\n\\n        out trigger then\\n\\n        out trigger else\\n\\n        out property(Bool) value\\n\\n    }', 'types': 'type CountContext Number\\ntype AnyContext Any'}, {'type': 'function', 'function_name': 'Std.Count', 'module_path': 'Std', 'doc': 'Count can be used to make sure a loop in a flow only runs for a certain number of iteartions. The `reset` input trigger resets the count, and the `count` trigger is used to increment it.', 'body': 'extern func(doc: \"Count can be used to make sure a loop in a flow only runs for a certain number of iteartions. The `reset` input trigger resets the count, and the `count` trigger is used to increment it.\") Count {\\n\\n        in(x: 0, y: 0, name: \"reset\") trigger() reset\\n\\n        in(x: 0, y: 0, name: \"count\") trigger(consumes: Std.CountContext, ) count\\n\\n        in(x: 0, y: 0, name: \"iterations\") property(Number) iterations\\n\\n        out(x: 0, y: 0, name: \"on count\") trigger(produces: Std.CountContext) onCount\\n\\n        out(x: 0, y: 0, name: \"done\") trigger() done\\n\\n        out(x: 0, y: 0, name: \"interation\") property(Number) interation\\n\\n    }', 'types': 'type CountContext Number\\ntype AnyContext Any'}, {'type': 'function', 'function_name': 'Std.For', 'module_path': 'Std', 'doc': 'For is a loop construct that can be used to iterate over a list of items. The `trigger` input is used to start the loop, the `reset` input is used to reset the loop, and the `next` input is used to move to the next item in the list. The `items` input is used to provide the list of items to iterate over. The `on item` output trigger is used to signal that an item has been processed, the `done` output trigger is used to signal that the loop has finished, the `item` output property is used to provide the current item, and the `index` output property is used to provide the current index.', 'body': 'extern func(doc: \"For is a loop construct that can be used to iterate over a list of items. The `trigger` input is used to start the loop, the `reset` input is used to reset the loop, and the `next` input is used to move to the next item in the list. The `items` input is used to provide the list of items to iterate over. The `on item` output trigger is used to signal that an item has been processed, the `done` output trigger is used to signal that the loop has finished, the `item` output property is used to provide the current item, and the `index` output property is used to provide the current index.\") For {\\n\\n        in trigger() reset\\n\\n        in trigger(consumes: Number) next\\n\\n        in property(List) items\\n\\n        out(name: \"on item\") trigger(produces: Number) onItem\\n\\n        out trigger done\\n\\n        out property(Any) item\\n\\n        out property(Number) index\\n\\n    }', 'types': 'type CountContext Number\\ntype AnyContext Any'}, {'type': 'function', 'function_name': 'Strings.Replace', 'module_path': 'Strings', 'doc': 'Returns the string `input` with all occurrences of `search` replaced with `replace`.', 'body': 'extern func(doc: \"Returns the string `input` with all occurrences of `search` replaced with `replace`.\") Replace {\\n\\n        in(x: 0, y: 0, name: \"input\") property(String) input\\n\\n        in(x: 0, y: 0, name: \"search\") property(String) search\\n\\n        in(x: 0, y: 0, name: \"replace\") property(String) replace\\n\\n        out(x: 0, y: 0, name: \"output\") property(String) output\\n\\n    }', 'types': ''}, {'type': 'function', 'function_name': 'Strings.ToLower', 'module_path': 'Strings', 'doc': 'Returns the string `input` with all characters converted to lowercase.', 'body': 'extern func(doc: \"Returns the string `input` with all characters converted to lowercase.\") ToLower {\\n\\n        in(x: 0, y: 0, name: \"input\") property(String) input\\n\\n        out(x: 0, y: 0, name: \"output\") property(String) output\\n\\n    }', 'types': ''}, {'type': 'function', 'function_name': 'Strings.ToUpper', 'module_path': 'Strings', 'doc': 'Returns the string `input` with all characters converted to uppercase.', 'body': 'extern func(doc: \"Returns the string `input` with all characters converted to uppercase.\") ToUpper {\\n\\n        in(x: 0, y: 0, name: \"input\") property(String) input\\n\\n        out(x: 0, y: 0, name: \"output\") property(String) output\\n\\n    }', 'types': ''}, {'type': 'function', 'function_name': 'Strings.IsNumeric', 'module_path': 'Strings', 'doc': 'Returns true if `input` is a numeric string.', 'body': 'extern func(doc: \"Returns true if `input` is a numeric string.\") IsNumeric {\\n\\n        in property(String) input\\n\\n        out(name: \"is numeric\") property(Bool) isNumeric\\n\\n    }', 'types': ''}, {'type': 'function', 'function_name': 'Strings.Characters', 'module_path': 'Strings', 'doc': \"Returns a list of characters in `input`, though the output 'characters' list.\", 'body': 'extern func(doc: \"Returns a list of characters in `input`, though the output \\'characters\\' list.\") Characters {\\n\\n        in property(String) input\\n\\n        out property(List) characters\\n\\n    }', 'types': ''}, {'type': 'function', 'function_name': 'Strings.Contains', 'module_path': 'Strings', 'doc': 'Returns true if `input` contains `contains` as a substring.', 'body': 'extern func(doc: \"Returns true if `input` contains `contains` as a substring.\") Contains {\\n\\n        in property(String) input\\n\\n        in property(String) contains\\n\\n        out property(Bool) result\\n\\n    }', 'types': ''}, {'type': 'function', 'function_name': 'List.Empty', 'module_path': 'List', 'doc': 'Creates an empty list', 'body': 'extern func(doc: \"Creates an empty list\") Empty {\\n\\n        out(x: 0, y: 0, name: \"empty list\") property(List) list\\n\\n    }', 'types': ''}, {'type': 'function', 'function_name': 'List.GetAt', 'module_path': 'List', 'doc': 'Gets the item at `index` from `list`, returning Null if the index is out of bounds.', 'body': 'extern func(doc: \"Gets the item at `index` from `list`, returning Null if the index is out of bounds.\") GetAt {\\n\\n        in(x: 0, y: 0, name: \"list\") property(List) list\\n\\n        in(x: 0, y: 0, name: \"index\") property(Number) index\\n\\n        out(x: 0, y: 0, name: \"itemAtIndex\") property(Any) itemAtIndex\\n\\n    }', 'types': ''}, {'type': 'function', 'function_name': 'List.Add', 'module_path': 'List', 'doc': 'Adds `item` to the `list` by creating a new list with the item added, available on the `listWithItem` output.', 'body': 'extern func(doc: \"Adds `item` to the `list` by creating a new list with the item added, available on the `listWithItem` output.\") Add {\\n\\n        in(x: 0, y: 0, name: \"list\") property list\\n\\n        in(x: 0, y: 0, name: \"item\") property item\\n\\n        out(x: 0, y: 0, name: \"listWithItem\") property listWithItem\\n\\n    }', 'types': ''}, {'type': 'function', 'function_name': 'List.Remove', 'module_path': 'List', 'doc': 'Removes the item at `index` from `list` by creating a new list with the item removed, available on the `listWithoutItem` output.', 'body': 'extern func(doc: \"Removes the item at `index` from `list` by creating a new list with the item removed, available on the `listWithoutItem` output.\") Remove {\\n\\n        in(x: 0, y: 0, name: \"list\") property list\\n\\n        in(x: 0, y: 0, name: \"index\") property index\\n\\n        out(x: 0, y: 0, name: \"listWithoutItem\") property listWithoutItem\\n\\n        out(x: 0, y: 0, name: \"removed item\") property removedItem\\n\\n    }', 'types': ''}, {'type': 'function', 'function_name': 'List.Length', 'module_path': 'List', 'doc': 'Returns the number of items in `list`.', 'body': 'extern func(doc: \"Returns the number of items in `list`.\") Length {\\n\\n        in(x: 0, y: 0, name: \"list\") property list\\n\\n        out(x: 0, y: 0, name: \"length\") property length\\n\\n    }', 'types': ''}, {'type': 'function', 'function_name': 'List.Contains', 'module_path': 'List', 'doc': 'Returns true if `item` is contained in `list`.', 'body': 'extern func(doc: \"Returns true if `item` is contained in `list`.\") Contains {\\n\\n        in(x: 0, y: 0, name: \"list\") property list\\n\\n        in(x: 0, y: 0, name: \"item\") property(Any) item\\n\\n        out(x: 0, y: 0, name: \"result\") property(Bool) is_contained\\n\\n    }', 'types': ''}, {'type': 'function', 'function_name': 'List.Sort', 'module_path': 'List', 'doc': 'Returns a sorted version of `list`', 'body': 'extern func(doc: \"Returns a sorted version of `list`\") Sort {\\n\\n        in(x: 0, y: 0, name: \"list\") property list\\n\\n        out(x: 0, y: 0, name: \"sorted list\") property sorted_list\\n\\n    }', 'types': ''}, {'type': 'function', 'function_name': 'List.GenerateRange', 'module_path': 'List', 'doc': 'A list containing number from `from` to `to`.', 'body': 'extern func(doc: \"A list containing number from `from` to `to`.\") GenerateRange {\\n\\n        in(x: 0, y: 0, name: \"from\") property from\\n\\n        in(x: 0, y: 0, name: \"to\") property to\\n\\n        out(x: 0, y: 0, name: \"list\") property list\\n\\n    }', 'types': ''}, {'type': 'function', 'function_name': 'List.Max', 'module_path': 'List', 'doc': 'Finds the largest item in a list of numbers', 'body': 'extern func(doc: \"Finds the largest item in a list of numbers\") Max {\\n\\n        in(x: 0, y: 0, name: \"items\") property(List) items\\n\\n        out property(Number) max\\n\\n    }', 'types': ''}, {'type': 'function', 'function_name': 'List.Min', 'module_path': 'List', 'doc': 'Finds the smallest item in a list of numbers', 'body': 'extern func(doc: \"Finds the smallest item in a list of numbers\") Min {\\n\\n        in(x: 0, y: 0, name: \"items\") property(List) items\\n\\n        out property(Number) min\\n\\n    }', 'types': ''}, {'type': 'function', 'function_name': 'List.Slice', 'module_path': 'List', 'doc': 'Gets a slice of the list from `start` to, but not including, `end`. Gets the rest of the list if end == -1', 'body': 'extern func(doc: \"Gets a slice of the list from `start` to, but not including, `end`. Gets the rest of the list if end == -1\") Slice {\\n\\n        in(x: 0, y: 0, name: \"items\") property(List) list\\n\\n        in property(Number) start\\n\\n        in property(Number) end\\n\\n        out property(List) slice\\n\\n    }', 'types': ''}, {'type': 'function', 'function_name': 'List.Reversed', 'module_path': 'List', 'doc': 'Reverses the order of the items in `list`', 'body': 'extern func(doc: \"Reverses the order of the items in `list`\") Reversed {\\n\\n        in(x: 0, y: 0, name: \"items\") property(List) list\\n\\n        out property(List) reversed\\n\\n    }', 'types': ''}, {'type': 'function', 'function_name': 'List.FirstItem', 'module_path': 'List', 'doc': \"Returns the first item in 'list', through the `item` output.\", 'body': 'extern func(doc: \"Returns the first item in \\'list\\', through the `item` output.\") FirstItem {\\n\\n        in property(List) list\\n\\n        out property(Any) item\\n\\n    }', 'types': ''}, {'type': 'function', 'function_name': 'List.LastItem', 'module_path': 'List', 'doc': \"Returns the last item in 'list', through the `item` output.\", 'body': 'extern func(doc: \"Returns the last item in \\'list\\', through the `item` output.\") LastItem {\\n\\n        in property(List) list\\n\\n        out property(Any) item\\n\\n    }', 'types': ''}, {'type': 'function', 'function_name': 'List.IsEmpty', 'module_path': 'List', 'doc': \"Returns true if `list` is empty, through the 'isEmpty' output\", 'body': 'extern func(doc: \"Returns true if `list` is empty, through the \\'isEmpty\\' output\") IsEmpty {\\n\\n        in property(List) list\\n\\n        out(name: \"is empty\") property(Bool) isEmpty\\n\\n    }', 'types': ''}, {'type': 'function', 'function_name': 'List.NotEmpty', 'module_path': 'List', 'doc': \"Returns true if `list` is not empty, through the 'isEmpty' output\", 'body': 'extern func(doc: \"Returns true if `list` is not empty, through the \\'isEmpty\\' output\") NotEmpty {\\n\\n        in property(List) list\\n\\n        out(name: \"is empty\") property(Bool) isEmpty\\n\\n    }', 'types': ''}, {'type': 'function', 'function_name': 'List.Flatten', 'module_path': 'List', 'doc': 'Converts a list of lists into a flattened list.', 'body': 'extern func(doc: \"Converts a list of lists into a flattened list.\") Flatten {\\n\\n        in property(List) items\\n\\n        out property(List) flattened\\n\\n    }', 'types': ''}, {'type': 'function', 'function_name': 'List.Concat', 'module_path': 'List', 'doc': 'Concatenates two lists', 'body': 'extern func(doc: \"Concatenates two lists\") Concat {\\n\\n        in property(List) left\\n\\n        in property(List) right\\n\\n        out property(List) result\\n\\n    }', 'types': ''}, {'type': 'function', 'function_name': 'Query.Filter', 'module_path': 'Query', 'doc': \"Filters a list of items with the `where` expression is true. If the list items are objects, fields on the object can be accessed using the field names directly. If the values are primitives, like number of bool, the value can be accessed using the variable name 'it'.\", 'body': 'extern func(doc: \"Filters a list of items with the `where` expression is true. If the list items are objects, fields on the object can be accessed using the field names directly. If the values are primitives, like number of bool, the value can be accessed using the variable name \\'it\\'.\") Filter {\\n\\n          parameter(defaultValue: \"it < 10\") where\\n\\n          in property(List) list\\n\\n          out property(List) result\\n\\n      }', 'types': ''}, {'type': 'function', 'function_name': 'Iteration.Map', 'module_path': 'Iteration', 'doc': 'Calls the given function instance (`handler`) once for each item in `items` returning a new list with the mapped values (`output_list`). Handle is expected to be a function which takes in at least one input (the item), and returns a single item, the mapped value. It can also take a second input, which is the index of the value, and a third value, an optional context value passed from the outside.', 'body': 'extern func(doc: \"Calls the given function instance (`handler`) once for each item in `items` returning a new list with the mapped values (`output_list`). Handle is expected to be a function which takes in at least one input (the item), and returns a single item, the mapped value. It can also take a second input, which is the index of the value, and a third value, an optional context value passed from the outside.\") Map {\\n\\n        in(x: 0, y: 0, name: \"items\") property items\\n\\n        in(x: 0, y: 0, name: \"handler\") property(Any) handler\\n\\n        in(x: 0, y: 0, name: \"context\") property(Any) context\\n\\n        out(x: 0, y: 0, name: \"output list\") property output_list\\n\\n    }', 'types': ''}, {'type': 'function', 'function_name': 'Iteration.Zip', 'module_path': 'Iteration', 'doc': \"Call the given function instance ('handler') on corresponding pairs of elements from 'left' and 'right' lists. The function applies 'handler(left[i], right[i])' for each index 'i', up to the length of the shorter list. The results are collected into the output property 'zipped'.\", 'body': 'extern func(doc: \"Call the given function instance (\\'handler\\') on corresponding pairs of elements from \\'left\\' and \\'right\\' lists. The function applies \\'handler(left[i], right[i])\\' for each index \\'i\\', up to the length of the shorter list. The results are collected into the output property \\'zipped\\'.\") Zip {\\n\\n        in property(List) left\\n\\n        in property(List) right\\n\\n        in property(Any) handler\\n\\n        out property zipped\\n\\n    }', 'types': ''}, {'type': 'function', 'function_name': 'Iteration.Filter', 'module_path': 'Iteration', 'doc': \"Filters the input list 'items' using the provided 'handler' function, which is expected to return a boolean value. The filtered list is available on the 'output_list' output.\", 'body': 'extern func(doc: \"Filters the input list \\'items\\' using the provided \\'handler\\' function, which is expected to return a boolean value. The filtered list is available on the \\'output_list\\' output.\") Filter {\\n\\n        in(x: 0, y: 0, name: \"items\") property items\\n\\n        in(x: 0, y: 0, name: \"handler\") property(Any) handler\\n\\n        in(x: 0, y: 0, name: \"context\") property(Any) context\\n\\n        out(x: 0, y: 0, name: \"output list\") property output_list\\n\\n    }', 'types': ''}, {'type': 'function', 'function_name': 'Iteration.Reduce', 'module_path': 'Iteration', 'doc': 'Reduces the list `item` using the provided reducer function, which is expected to accept 2-4 inputs, the first being the accumulated value, and the second the value being accumulated. A third optional input will contain the current index, while the fourth optional input will contain the context input.', 'body': 'extern func(doc: \"Reduces the list `item` using the provided reducer function, which is expected to accept 2-4 inputs, the first being the accumulated value, and the second the value being accumulated. A third optional input will contain the current index, while the fourth optional input will contain the context input.\") Reduce {\\n\\n        in(x: 0, y: 0, name: \"items\") property items\\n\\n        in(name: \"initial value\") property initialValue\\n\\n        in(x: 0, y: 0, name: \"reducer\") property(Any) reducer\\n\\n        in(x: 0, y: 0, name: \"context\") property(Any) context\\n\\n        out(x: 0, y: 0, name: \"output\") property output\\n\\n    }', 'types': ''}, {'type': 'function', 'function_name': 'Iteration.Find', 'module_path': 'Iteration', 'doc': 'Finds an item in the list `items` that satisfies the `predicate` function, and returns the item through the `item` output.', 'body': 'extern func(doc: \"Finds an item in the list `items` that satisfies the `predicate` function, and returns the item through the `item` output.\") Find {\\n\\n        in property(List) items\\n\\n        in property predicate\\n\\n        in property context\\n\\n        out property item\\n\\n    }', 'types': ''}, {'type': 'function', 'function_name': 'Math.Floor', 'module_path': 'Math', 'doc': 'Returns the largest integer less than or equal `input`', 'body': 'extern func(doc: \"Returns the largest integer less than or equal `input`\") Floor {\\n\\n        in(x: 0, y: 0, name: \"input\") property input\\n\\n        out(x: 0, y: 0, name: \"output\") property output\\n\\n    }', 'types': ''}, {'type': 'function', 'function_name': 'Math.Add', 'module_path': 'Math', 'doc': 'Adds `first` and `second` making the result avilable on the `result` output.', 'body': 'extern func(doc: \"Adds `first` and `second` making the result avilable on the `result` output.\") Add {\\n\\n        in(x: 0, y: 0, name: \"first\") property(Number) first\\n\\n        in(x: 0, y: 0, name: \"second\") property(Number) second\\n\\n        out(x: 0, y: 0, name: \"result\") property(Number) result\\n\\n    }', 'types': ''}, {'type': 'function', 'function_name': 'Math.Sub', 'module_path': 'Math', 'doc': 'Subtracts `first` and `second` making the result avilable on the `result` output.', 'body': 'extern func(doc: \"Subtracts `first` and `second` making the result avilable on the `result` output.\") Sub {\\n\\n        in(x: 0, y: 0, name: \"first\") property(Number) first\\n\\n        in(x: 0, y: 0, name: \"second\") property(Number) second\\n\\n        out(x: 0, y: 0, name: \"result\") property(Number) result\\n\\n    }', 'types': ''}, {'type': 'function', 'function_name': 'Math.Mul', 'module_path': 'Math', 'doc': 'Multiplies `first` and `second` making the result avilable on the `result` output.', 'body': 'extern func(doc: \"Multiplies `first` and `second` making the result avilable on the `result` output.\") Mul {\\n\\n        in(x: 0, y: 0, name: \"first\") property(Number) first\\n\\n        in(x: 0, y: 0, name: \"second\") property(Number) second\\n\\n        out(x: 0, y: 0, name: \"result\") property(Number) result\\n\\n    }', 'types': ''}, {'type': 'function', 'function_name': 'Math.Div', 'module_path': 'Math', 'doc': 'Divides `first` by `second` making the result avilable on the `result` output.', 'body': 'extern func(doc: \"Divides `first` by `second` making the result avilable on the `result` output.\") Div {\\n\\n        in(x: 0, y: 0, name: \"first\") property(Number) first\\n\\n        in(x: 0, y: 0, name: \"second\") property(Number) second\\n\\n        out(x: 0, y: 0, name: \"result\") property(Number) result\\n\\n    }', 'types': ''}, {'type': 'function', 'function_name': 'Math.GreaterThan', 'module_path': 'Math', 'doc': 'Checks if `left` is greater than `right`', 'body': 'extern func(doc: \"Checks if `left` is greater than `right`\") GreaterThan {\\n\\n        in(x: 0, y: 0, name: \"left\") property(Number) left\\n\\n        in(x: 0, y: 0, name: \"right\") property(Number) right\\n\\n        out(x: 0, y: 0, name: \"result\") property(Bool) result\\n\\n    }', 'types': ''}, {'type': 'function', 'function_name': 'Math.LessThanOrEqual', 'module_path': 'Math', 'doc': \"Checks if 'left' is les than or eqaul to the 'right'\", 'body': 'extern func(doc: \"Checks if \\'left\\' is les than or eqaul to the \\'right\\'\") LessThanOrEqual {\\n\\n        in(x: 0, y: 0, name: \"left\") property(Number) left\\n\\n        in(x: 0, y: 0, name: \"right\") property(Number) right\\n\\n        out(x: 0, y: 0, name: \"result\") property(Bool) result\\n\\n    }', 'types': ''}, {'type': 'function', 'function_name': 'Math.Expression', 'module_path': 'Math', 'doc': 'Creates a mathematical expression using a simple expression language provided through the `expression` parameter. Example: `a + b / 10` creates two inputs, `a` and `b`. The expression is executed using the provided inputs, and the result is available on the `result` output.', 'body': 'extern func(doc: \"Creates a mathematical expression using a simple expression language provided through the `expression` parameter. Example: `a + b / 10` creates two inputs, `a` and `b`. The expression is executed using the provided inputs, and the result is available on the `result` output.\") Expression {\\n\\n        parameter(\\n\\n            compilerPlugin: \"Expression\",\\n\\n            defaultValue: \"\",\\n\\n            aiSystemPrompt: \"You will generate math expressions based on a user prompt. The expression you generate will consist only of the following operators:\\n\\n                            - + (plus)\\n\\n                            - - (minus)\\n\\n                            - * (multiply)\\n\\n                            - / (divide)\\n\\n                            - % (modulo)\\n\\n\\n\\n                            Inputs that must be provided by the user are represented by valid C identifiers, and should prefer to be as short as possible, without confusing the user about what the input represents.\\n\\n\\n\\n                            Here are a few examples:\\n\\n\\n\\n                            Prompt: Calcualte the average of three number\\n\\n                            Response: (a + b + c) / 3\\n\\n\\n\\n                            Prompt: Calculate the area of a circle of radius r\\n\\n                            Response: 3.14 * r * r\\n\\n\\n\\n                            Prompt: Calculate the area of a rectangle\\n\\n                            Response: a * b\\n\\n                            \",\\n\\n        ) expression\\n\\n        out(x: 0, y: 0, name: \"result\") property result\\n\\n    }', 'types': ''}, {'type': 'function', 'function_name': 'Math.Pow', 'module_path': 'Math', 'doc': 'Returns `x` raised to the power of `y`.', 'body': 'extern func(doc: \"Returns `x` raised to the power of `y`.\") Pow {\\n\\n        in(x: 0, y: 0, name: \"x\") property x\\n\\n        in(x: 0, y: 0, name: \"y\") property y\\n\\n        out(x: 0, y: 0, name: \"result\") property result\\n\\n    }', 'types': ''}, {'type': 'function', 'function_name': 'Math.Modulo', 'module_path': 'Math', 'doc': 'Calculates the modulo of `value` and `divisor`, and returns the modulo through the `result` output.', 'body': 'extern func(doc: \"Calculates the modulo of `value` and `divisor`, and returns the modulo through the `result` output.\") Modulo {\\n\\n        in(x: 0, y: 0, name: \"value\") property value\\n\\n        in(x: 0, y: 0, name: \"divisor\") property divisor\\n\\n        out(x: 0, y: 0, name: \"result\") property result\\n\\n    }', 'types': ''}, {'type': 'function', 'function_name': 'Math.Min', 'module_path': 'Math', 'doc': 'Returns the smallest of the input numbers.', 'body': 'extern func(doc: \"Returns the smallest of the input numbers.\") Min {\\n\\n        in(x: 0, y: 0, name: \"values\") property values\\n\\n        out(x: 0, y: 0, name: \"result\") property result\\n\\n    }', 'types': ''}, {'type': 'function', 'function_name': 'Logic.Equal', 'module_path': 'Logic', 'doc': 'Checks if `left` and `right` are equal by performing a deep scan of the objects.', 'body': 'extern func(doc: \"Checks if `left` and `right` are equal by performing a deep scan of the objects.\") Equal {\\n\\n        in(x: 0, y: 0, name: \"left\") property(Any) left\\n\\n        in(x: 0, y: 0, name: \"right\") property(Any) right\\n\\n        out(x: 0, y: 0, name: \"result\") property(Bool) result\\n\\n    }', 'types': ''}, {'type': 'function', 'function_name': 'Logic.NotEqual', 'module_path': 'Logic', 'doc': 'Checks if `left` and `right` are not equal by performing a deep scan of the objects.', 'body': 'extern func(doc: \"Checks if `left` and `right` are not equal by performing a deep scan of the objects.\") NotEqual {\\n\\n        in(x: 0, y: 0, name: \"left\") property(Any) left\\n\\n        in(x: 0, y: 0, name: \"right\") property(Any) right\\n\\n        out(x: 0, y: 0, name: \"result\") property(Bool) result\\n\\n    }', 'types': ''}, {'type': 'function', 'function_name': 'Logic.Not', 'module_path': 'Logic', 'doc': 'The logic not operator', 'body': 'extern func(doc: \"The logic not operator\") Not {\\n\\n        in property(Bool) input\\n\\n        out property(Bool) result\\n\\n    }', 'types': ''}, {'type': 'function', 'function_name': 'Logic.And', 'module_path': 'Logic', 'doc': 'The logic and operator', 'body': 'extern func(doc: \"The logic and operator\") And {\\n\\n        in property(Bool) left\\n\\n        in property(Bool) right\\n\\n        out property(Bool) result\\n\\n    }', 'types': ''}, {'type': 'function', 'function_name': 'Sets.Intersection', 'module_path': 'Sets', 'doc': 'Returns the intersection of the two input lists, `left` and `right`, through the `intersect` output.', 'body': 'extern func(doc: \"Returns the intersection of the two input lists, `left` and `right`, through the `intersect` output.\") Intersection {\\n\\n        in property(List) left\\n\\n        in property(List) right\\n\\n        out property(List) intersect\\n\\n    }', 'types': ''}, {'type': 'function', 'function_name': 'Sets.Difference', 'module_path': 'Sets', 'doc': 'Returns the difference of the two input lists, `left` and `right`, through the `difference` output.', 'body': 'extern func(doc: \"Returns the difference of the two input lists, `left` and `right`, through the `difference` output.\") Difference {\\n\\n        in property(List) left\\n\\n        in property(List) right\\n\\n        out property(List) difference\\n\\n    }', 'types': ''}]\n"
     ]
    }
   ],
   "source": [
    "import sys\n",
    "sys.path.append('../../')  # Add the path to the my_packages module\n",
    "from my_packages.data_processing.attributes_processing import used_functions_to_string\n",
    "from my_packages.prompting.prompt_building import transform_code_data\n",
    "from my_packages.utils.file_utils import read_dataset_to_json\n",
    "\n",
    "main_dataset_folder = '../../data/MBPP_Midio_50/'\n",
    "\n",
    "\n",
    "def get_hold_out_splits(main_dataset_folder):\n",
    "    train_data = transform_code_data(read_dataset_to_json(main_dataset_folder + 'splits/hold_out/train_dataset.json'))\n",
    "    val_data = transform_code_data(read_dataset_to_json(main_dataset_folder + 'splits/hold_out/validation_dataset.json'))\n",
    "    test_data = transform_code_data(read_dataset_to_json(main_dataset_folder + 'splits/hold_out/test_dataset.json'))\n",
    "\n",
    "    print(f\"Train data: {len(train_data)}\")\n",
    "    print(f\"Val data: {len(val_data)}\")\n",
    "    print(f\"Test data: {len(test_data)}\")\n",
    "    return train_data, val_data, test_data\n",
    "\n",
    "# Use the static validation split for hyperparmeter tuning:\n",
    "_, val_data, _ = get_hold_out_splits(main_dataset_folder=main_dataset_folder)\n",
    "\n",
    "dataset = read_dataset_to_json(main_dataset_folder + \"MBPP-Midio-50.json\")\n",
    "used_functions_json = read_dataset_to_json(main_dataset_folder + \"/metadata/used_external_functions.json\")\n",
    "available_nodes = used_functions_to_string(used_functions_json)\n",
    "print(used_functions_json)\n",
    "\n",
    "\n"
   ]
  },
  {
   "cell_type": "markdown",
   "id": "87924b94",
   "metadata": {},
   "source": [
    "# 3_fold splits"
   ]
  },
  {
   "cell_type": "code",
   "execution_count": 3,
   "id": "8369e11b",
   "metadata": {},
   "outputs": [
    {
     "name": "stdout",
     "output_type": "stream",
     "text": [
      "Using existing 3-fold splits\n",
      "Train data: 27\n",
      "Test data: 14\n",
      "Chosen fold: 0\n"
     ]
    }
   ],
   "source": [
    "\n",
    "import os\n",
    "from my_packages.data_processing.split_dataset import create_kfold_splits\n",
    "\n",
    "main_dataset_folder = '../../data/MBPP_Midio_50/'\n",
    "run_k_fold = 0 # 0-2, because we have 3 folds\n",
    "\n",
    "def get_k_fold_splits(main_dataset_folder, k, k_folds=3):\n",
    "\n",
    "    if os.path.exists(main_dataset_folder + f'splits/{k_folds}_fold'):\n",
    "        print(f\"Using existing {k_folds}-fold splits\")\n",
    "    else:\n",
    "        print(f\"Creating {k_folds}-fold splits\")\n",
    "        train, _ ,test = get_hold_out_splits(main_dataset_folder)\n",
    "        # Only use train+train for k-fold splits\n",
    "        create_kfold_splits((train+test), k_folds=k_folds, write_to_file=True)\n",
    "\n",
    "    train_data = read_dataset_to_json(main_dataset_folder + f'splits/{k_folds}_fold/train_dataset_{k}.json')\n",
    "    test_data = read_dataset_to_json(main_dataset_folder + f'splits/{k_folds}_fold/test_dataset_{k}.json')\n",
    "\n",
    "    print(f\"Train data: {len(train_data)}\")\n",
    "    print(f\"Test data: {len(test_data)}\")\n",
    "    return train_data, test_data\n",
    "\n",
    "# Use the K_fold split for testing:\n",
    "train_data, test_data = get_k_fold_splits(\n",
    "    main_dataset_folder=main_dataset_folder, \n",
    "    k=run_k_fold, \n",
    "    k_folds=3\n",
    ")\n",
    "print(f\"Chosen fold: {run_k_fold}\")\n",
    "\n"
   ]
  },
  {
   "cell_type": "markdown",
   "id": "6b075a40",
   "metadata": {},
   "source": [
    "# Init client and selected models"
   ]
  },
  {
   "cell_type": "markdown",
   "id": "b02a6d5c",
   "metadata": {},
   "source": [
    "<!-- ## Experiments settings -->"
   ]
  },
  {
   "cell_type": "code",
   "execution_count": 4,
   "id": "8c44196a",
   "metadata": {},
   "outputs": [
    {
     "name": "stdout",
     "output_type": "stream",
     "text": [
      "Script is located in: /root/Thesis_project/my_packages/common\n",
      "Project is located in: /root/Thesis_project\n",
      "Env is located in: /root/Thesis_project/.env\n",
      "Number of all responses: 50\n",
      "Url: http://localhost:11434/api/tags\n",
      "Response: <Response [200]>\n",
      "Server is reachable.\n"
     ]
    }
   ],
   "source": [
    "\n",
    "import sys\n",
    "sys.path.append('../../')  # Add the path to the my_packages module\n",
    "import sys\n",
    "from dotenv import load_dotenv\n",
    "sys.path.append('../../')  # Add the path to the my_packages module\n",
    "from my_packages.common.config import model_configs\n",
    "from langchain_ollama import OllamaEmbeddings\n",
    "\n",
    "model_provider = 'ollama'\n",
    "\n",
    "load_dotenv(\"../../.env\")\n",
    "all_responses = [sample[\"response\"] for sample in train_data] + [sample[\"response\"] for sample in val_data] + [sample[\"response\"] for sample in test_data]\n",
    "print(f\"Number of all responses: {len(all_responses)}\")\n",
    "\n",
    "client, models = model_configs(\n",
    "    all_responses=all_responses,\n",
    "    model_provider=model_provider,\n",
    "    models=[\"phi4:14b-fp16\"],\n",
    ")"
   ]
  },
  {
   "cell_type": "markdown",
   "id": "6d4a530b",
   "metadata": {},
   "source": [
    "# Init Example selector"
   ]
  },
  {
   "cell_type": "code",
   "execution_count": 5,
   "id": "9c9f228b",
   "metadata": {},
   "outputs": [
    {
     "name": "stdout",
     "output_type": "stream",
     "text": [
      "Number of examples in the pool: 27\n"
     ]
    }
   ],
   "source": [
    "import sys\n",
    "sys.path.append('../../')  # Add the path to the my_packages module\n",
    "from my_packages.prompting.example_selectors import get_coverage_example_selector, get_semantic_similarity_example_selector\n",
    "\n",
    "# prompt_prefix = \"Create a function\" # \"e.g., \"Create a flow\"\n",
    "NUM_SHOTS = 5\n",
    "semantic_selector = True\n",
    "\n",
    "example_pool = train_data\n",
    "example_pool.sort(key=lambda x: int(x['task_id']))\n",
    "print(f\"Number of examples in the pool: {len(example_pool)}\")\n",
    "\n",
    "if semantic_selector:\n",
    "    selector = get_semantic_similarity_example_selector(\n",
    "        example_pool, \n",
    "        OllamaEmbeddings(model=\"nomic-embed-text\"),\n",
    "        shots=NUM_SHOTS,\n",
    "        input_keys=[\"task\"],\n",
    "    )\n",
    "else:\n",
    "    selector = get_coverage_example_selector(\n",
    "        example_pool, \n",
    "        label = \"external_functions\",\n",
    "        shots=NUM_SHOTS,\n",
    "        seed=9\n",
    "    )\n",
    "used_ids = []\n",
    "# for task in train_data:\n",
    "#     examples = selector.select_examples({\"task\": task[\"task\"]})\n",
    "#     used_ids += [e['task_id'] for e in examples]\n",
    "#     print(f\"Task: {task['task']}\")\n"
   ]
  },
  {
   "cell_type": "markdown",
   "id": "8d30fcb4",
   "metadata": {},
   "source": [
    "## Evaluation"
   ]
  },
  {
   "cell_type": "code",
   "execution_count": null,
   "id": "4ce8f017",
   "metadata": {},
   "outputs": [
    {
     "name": "stdout",
     "output_type": "stream",
     "text": [
      "Script is located in: /root/Thesis_project/experiments/assisted-RAG\n",
      "Project is located in: /root/Thesis_project\n",
      "Number of language docs: 20\n",
      "Number of node docs: 290\n",
      "✅ FAISS index saved successfully.\n",
      "✅ FAISS index saved successfully.\n",
      "regular_RAG_5_shot\n",
      "📂 Experiemnt 'regular_RAG_5_shot' already exists.\n",
      "\n",
      "🔍 Existing collections for regular_RAG_5_shot: \n",
      "==================================================\n",
      "\n",
      "📂 Collection: regular_RAG_5_shot_errors \n",
      "--------------------------------------------------\n",
      "⚠️ No data found in this collection.\n",
      "\n",
      "📂 Collection: regular_RAG_5_shot_best_params \n",
      "--------------------------------------------------\n",
      "⚠️ No data found in this collection.\n",
      "\n",
      "📂 Collection: regular_RAG_5_shot_results \n",
      "--------------------------------------------------\n",
      "⚠️ No data found in this collection.\n",
      "\n",
      "=== Running quality checks for hold_out experiment: regular_RAG_5_shot ===\n",
      "No models found for hold_out experiment 'regular_RAG_5_shot'.\n",
      "✅ All models passed quality checks successfully.\n",
      "=== End of quality checks ===\n",
      "\n",
      "\n",
      "\n",
      "\n",
      "✅ Existing hold_out best parameters for model 'phi4:14b-fp16' optimized on metric 'semantic@1': temperature=0.2, top_p=0.2, top_k=100, seed=9\n",
      "⚠️ No results found for model 'phi4:14b-fp16' in 3_fold experiment 'regular_RAG_5_shot_results'.\n",
      "\n",
      "Starting testing phase..\n",
      "\u001b[36m\u001b[1mTesting Phase:\u001b[0m\n",
      "\n",
      "Building NODE prompt...\n"
     ]
    },
    {
     "name": "stderr",
     "output_type": "stream",
     "text": [
      "Token indices sequence length is longer than the specified maximum sequence length for this model (2811 > 1024). Running this sequence through the model will result in indexing errors\n"
     ]
    },
    {
     "name": "stdout",
     "output_type": "stream",
     "text": [
      "Using 16000 for context window\n",
      "\n",
      "Prompt size = 2811, leaving 13139 tokens for RAG + buffer.\n",
      "Total available tokens after prompt:  13139\n",
      "Used 2650 tokens for language context\n",
      "\n",
      "allocating remaining 10489  tokens to node context\n",
      "Estimated to extract k = 87 documents.\n"
     ]
    }
   ],
   "source": [
    "import os\n",
    "import sys\n",
    "sys.path.append('../../')  # Add the path to the my_packages module\n",
    "%autoreload 2\n",
    "%reload_ext autoreload\n",
    "os.environ['EXPERIMENT_DB_NAME'] = \"assisted-RAG_experiments\"\n",
    "from my_packages.common.classes import PromptType\n",
    "from my_packages.db_service import get_db_connection\n",
    "from my_packages.db_service.best_params_service import get_db_best_params\n",
    "from my_packages.db_service.experiment_service import confirm_rerun, experiment_exists, pretty_print_experiment_collections, run_experiment_quality_checks, setup_experiment_collection\n",
    "from my_packages.evaluation.code_evaluation import run_validation, run_testing\n",
    "from my_packages.utils.tokens_utils import get_model_code_tokens_from_file\n",
    "from my_packages.common.rag import init_rag_data\n",
    "from colorama import Fore, Back, Style\n",
    "\n",
    "\n",
    "script_dir = os.getcwd()\n",
    "project_dir = os.path.abspath(f\"{script_dir}/../..\")\n",
    "\n",
    "sys.path.append(project_dir)\n",
    "print(\"Script is located in:\", script_dir)\n",
    "print(\"Project is located in:\", project_dir)\n",
    "\n",
    "\n",
    "metrics = ['syntax', 'semantic'] #['syntax', 'semantic', 'tests'] OR ['syntax', 'semantic']\n",
    "prompt_type = PromptType.REGULAR\n",
    "example_selector = f\"{'similarity' if semantic_selector else 'coverage'}\"\n",
    "experiment_type = \"RAG\" # \"RAG\" or \"full-context\"\n",
    "max_ctx = 16000\n",
    "context_data = init_rag_data()\n",
    "experiment_name = f\"{prompt_type.value}_{experiment_type}_{NUM_SHOTS}_shot\"\n",
    "best_params_experiment_name = f\"{prompt_type.value}_{example_selector}_{NUM_SHOTS}_shot\"\n",
    "\n",
    "print(experiment_name)\n",
    "\n",
    "# Create separate database for this experiment\n",
    "if experiment_exists(experiment_name):\n",
    "    # delete_experiment(experiment_name)\n",
    "    print(f\"📂 Experiemnt '{experiment_name}' already exists.\")\n",
    "    pretty_print_experiment_collections(\n",
    "        experiment_name,\n",
    "        exclude_columns=[\"stderr\", \"stdout\", \"code_candidate\", \"test_result\", \"error_msg\"]\n",
    "    )\n",
    "    if not run_experiment_quality_checks(experiment_name, ignore_best_params=True):\n",
    "        print(\"\\n❌ Experiment quality checks failed. Exiting.\")\n",
    "        raise Exception(\"Experiment quality checks failed.\")\n",
    "else:\n",
    "    setup_experiment_collection(experiment_name)\n",
    "\n",
    "results = {}\n",
    "for model_name in models:\n",
    "    print(\"\\n\\n\")\n",
    "    model = get_model_code_tokens_from_file(model_name, f'{project_dir}/data/max_tokens.json')\n",
    "    \n",
    "    results[model_name] = (None, None)\n",
    "\n",
    "    validation_result = get_db_best_params( \n",
    "        best_params_experiment_name, \n",
    "        model[\"name\"], \n",
    "        [metrics[-1]], # optimizer_metric\n",
    "        k = 1,\n",
    "        eval_method=\"hold_out\",\n",
    "        db_connection=get_db_connection(\"few_shot_experiments\") # Use the few_shot_experiments database to get best params\n",
    "    )[0]\n",
    "\n",
    "\n",
    "    if confirm_rerun(experiment_name, model_name, eval_method=\"3_fold\", phase=\"testing\"): # If results exists for model, prompt user to rerun testing. If not exists, return true to run testing first time.\n",
    "            test_results, final_result = run_testing(\n",
    "                client,\n",
    "                model,\n",
    "                available_nodes,\n",
    "                test_data[:3],\n",
    "                selector,\n",
    "                temperature=validation_result[\"temperature\"],\n",
    "                top_p=validation_result[\"top_p\"],\n",
    "                top_k=validation_result[\"top_k\"],\n",
    "                ks=[1, 2, 5, 10], # max(ks) generations per task. Thus, 10 generations per task.\n",
    "                seeds=[3, 75, 346],\n",
    "                debug=True,\n",
    "                metrics=metrics, # current metrics: [\"syntax\", \"semantic\"] OR [\"syntax\", \"semantic\", \"tests\"]\n",
    "                experiment_name=experiment_name,\n",
    "                env=\"DEV\", #'dev' for file storage and 'prod' for database storage, for errors and final result\n",
    "                prompt_type = prompt_type,\n",
    "                rag_data=context_data,\n",
    "                max_ctx=max_ctx,\n",
    "                two_step=True,\n",
    "                \n",
    "            )\n",
    "            results[model_name] = (test_results, final_result)\n",
    "\n",
    "        \n",
    "    print(f\"======\\n{model_name} FINAL RESULTS: ===============================\")\n",
    "    print(f\"{Style.BRIGHT}{Fore.CYAN} Model: {model_name} {Style.RESET_ALL}\")\n",
    "    test_runs = results[model_name][0]\n",
    "    final_result = results[model_name][1]\n",
    "    if test_runs:\n",
    "        for run in test_runs:\n",
    "            run.print()\n",
    "    if final_result:\n",
    "        final_result.print()\n",
    "\n",
    "      \n",
    "# Print the final results\n",
    "print(\"\\nALL MODELS FINAL RESULTS:\")\n",
    "for model_name, (test_runs, final_result) in results.items():\n",
    "    print(f\"{Style.BRIGHT}{Fore.CYAN} Model: {model_name} {Style.RESET_ALL}\")\n",
    "    for test_run in test_runs:\n",
    "        test_run.print()\n",
    "    final_result.print()\n",
    "\n"
   ]
  },
  {
   "cell_type": "markdown",
   "id": "29c4307f",
   "metadata": {},
   "source": [
    "<!-- ## Langsmith evaluate -->"
   ]
  },
  {
   "cell_type": "markdown",
   "id": "00dad6de",
   "metadata": {},
   "source": [
    "## Testing one run:"
   ]
  },
  {
   "cell_type": "code",
   "execution_count": null,
   "id": "1ed255c4",
   "metadata": {},
   "outputs": [
    {
     "name": "stderr",
     "output_type": "stream",
     "text": [
      "UsageError: Line magic function `%autoreload` not found.\n"
     ]
    }
   ],
   "source": [
    "%autoreload 2\n",
    "%reload_ext autoreload\n",
    "from my_packages.common.rag import init_rag_data\n",
    "from my_packages.evaluation.code_evaluation import evaluate_code, run_model, two_step_run\n",
    "\n",
    "context = init_rag_data()\n",
    "tokens = client(model=model[\"name\"], num_ctx=4000).get_num_tokens(context.formatted_language_context) \n",
    "print(f\"Number of tokens: {tokens}\")\n",
    "\n",
    "\n",
    "\n",
    "model_result, largest_context = two_step_run(\n",
    "    client,\n",
    "    model_name,\n",
    "    available_nodes=available_nodes,\n",
    "    data=val_data[:2],\n",
    "    example_pool=selector,\n",
    "    code_new_tokens = 1000,\n",
    "    node_max_new_tokens=200,\n",
    "    temperature = 0.2,\n",
    "    top_p = 0.9,\n",
    "    top_k = 50,\n",
    "    n = 1,\n",
    "    seed = 9,\n",
    "    debug =True, \n",
    "    prompt_type=PromptType.REGULAR,\n",
    "    rag_data=init_rag_data(),\n",
    "    max_ctx=16000\n",
    ")\n",
    "\n",
    "metric_results_lists = evaluate_code (\n",
    "    model_result,\n",
    "    ks=[1],\n",
    "    evaluation_metrics=[\"syntax\"],\n",
    "    experiment_name=\"test_RAG_5-shot\",\n",
    "    model_name=model_name,\n",
    "    env=\"dev\",\n",
    "    hyperparams={\"seed\": 9, \"temperature\": 0.2, \"top_p\": 0.9, \"top_k\": 50},\n",
    "    phase=\"validation\"\n",
    ")\n",
    "## Optimizing for the first k in the ks list\n",
    "pass_at_k_dict = metric_results_lists[0]\n",
    "val_metric = pass_at_k_dict[f\"pass@1\"]\n",
    "print(f\"Validation with temp={0.2}, top_k={50} and top_p={0.9}. Gave pass@1={val_metric} and pass@ks={pass_at_k_dict}\")\n"
   ]
  }
 ],
 "metadata": {
  "kernelspec": {
   "display_name": ".venv_Master",
   "language": "python",
   "name": "python3"
  },
  "language_info": {
   "codemirror_mode": {
    "name": "ipython",
    "version": 3
   },
   "file_extension": ".py",
   "mimetype": "text/x-python",
   "name": "python",
   "nbconvert_exporter": "python",
   "pygments_lexer": "ipython3",
   "version": "3.11.0rc1"
  }
 },
 "nbformat": 4,
 "nbformat_minor": 5
}
