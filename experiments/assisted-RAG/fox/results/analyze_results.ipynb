{
 "cells": [
  {
   "cell_type": "code",
   "execution_count": 7,
   "metadata": {},
   "outputs": [
    {
     "name": "stdout",
     "output_type": "stream",
     "text": [
      "signature_ONE_1_shot\n",
      "⚠️ No data found in this collection.\n",
      "signature_ONE_5_shot\n",
      "   model_name         seed              created_at eval_method                    syntax@1                    syntax@3                    syntax@5                  semantic@1                  semantic@3                  semantic@5                     tests@1                     tests@3                     tests@5\n",
      "phi4:14b-fp16 [3, 346, 75] 2025-03-25 09:40:02.473      3_fold {'mean': 0.73, 'std': 0.09} {'mean': 0.83, 'std': 0.07} {'mean': 0.86, 'std': 0.07} {'mean': 0.61, 'std': 0.05} {'mean': 0.72, 'std': 0.06} {'mean': 0.76, 'std': 0.06} {'mean': 0.44, 'std': 0.03} {'mean': 0.56, 'std': 0.06} {'mean': 0.61, 'std': 0.07}\n",
      "...\n",
      "Total documents/rows: 1      \n",
      "--------------------------------------------------\n",
      "signature_ONE_10_shot\n",
      "⚠️ No data found in this collection.\n"
     ]
    }
   ],
   "source": [
    "import os\n",
    "import sys\n",
    "sys.path.append(\"../../../..\")\n",
    "os.environ['EXPERIMENT_DB_NAME'] = \"assisted-RAG_experiments\"\n",
    "from my_packages.db_service.results_service import pretty_print_results, results_to_df\n",
    "\n",
    "\n",
    "for shot in [1, 5, 10]:\n",
    "    experiment_name = f\"signature_ONE_{shot}_shot\"\n",
    "        \n",
    "    print(experiment_name)\n",
    "    # results_to_df(f\"{experiment_name}_5_shot\")\n",
    "\n",
    "    pretty_print_results(\n",
    "        experiment_name, \n",
    "        filter= {\"eval_method\": \"3_fold\", \"model_name\": {\"$in\": [\"phi4:14b-fp16\"]}},\n",
    "        exclude_columns=[\n",
    "            \"ks\", \"temperature\", \"top_p\", \"top_k\", \"metrics\",\n",
    "            \"syntax@10\",\n",
    "            \"semantic@10\",\n",
    "            \"tests@10\",\n",
    "            \"syntax@2\",\n",
    "            \"semantic@2\",\n",
    "            \"tests@2\",\n",
    "        ]\n",
    "    )\n"
   ]
  },
  {
   "cell_type": "markdown",
   "metadata": {},
   "source": []
  }
 ],
 "metadata": {
  "kernelspec": {
   "display_name": ".venv_Master",
   "language": "python",
   "name": "python3"
  },
  "language_info": {
   "codemirror_mode": {
    "name": "ipython",
    "version": 3
   },
   "file_extension": ".py",
   "mimetype": "text/x-python",
   "name": "python",
   "nbconvert_exporter": "python",
   "pygments_lexer": "ipython3",
   "version": "3.11.0rc1"
  }
 },
 "nbformat": 4,
 "nbformat_minor": 2
}
