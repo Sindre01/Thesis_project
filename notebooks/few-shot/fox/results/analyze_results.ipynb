{
 "cells": [
  {
   "cell_type": "code",
   "execution_count": 16,
   "metadata": {},
   "outputs": [
    {
     "name": "stdout",
     "output_type": "stream",
     "text": [
      "signature_coverage_1_shot\n",
      "   model_name         seed              created_at eval_method                    syntax@1                    syntax@3                  semantic@1                  semantic@3                     tests@1                     tests@3\n",
      "phi4:14b-fp16 [3, 346, 75] 2025-03-14 10:40:19.529      3_fold {'mean': 0.82, 'std': 0.03} {'mean': 0.96, 'std': 0.02} {'mean': 0.62, 'std': 0.05} {'mean': 0.82, 'std': 0.05} {'mean': 0.38, 'std': 0.02} {'mean': 0.58, 'std': 0.02}\n",
      "...\n",
      "Total documents/rows: 9      \n",
      "--------------------------------------------------\n",
      "signature_coverage_5_shot\n",
      "   model_name         seed              created_at eval_method                    syntax@1                    syntax@3                  semantic@1                  semantic@3                     tests@1                     tests@3\n",
      "phi4:14b-fp16 [3, 346, 75] 2025-03-14 10:40:29.851      3_fold {'mean': 0.79, 'std': 0.02} {'mean': 0.93, 'std': 0.02} {'mean': 0.67, 'std': 0.05} {'mean': 0.84, 'std': 0.03} {'mean': 0.44, 'std': 0.11} {'mean': 0.65, 'std': 0.05}\n",
      "...\n",
      "Total documents/rows: 9      \n",
      "--------------------------------------------------\n",
      "signature_coverage_10_shot\n",
      "   model_name         seed              created_at eval_method                    syntax@1                    syntax@3                  semantic@1                  semantic@3                     tests@1                     tests@3\n",
      "phi4:14b-fp16 [3, 346, 75] 2025-03-14 10:40:44.273      3_fold {'mean': 0.82, 'std': 0.02} {'mean': 0.93, 'std': 0.02} {'mean': 0.69, 'std': 0.01} {'mean': 0.84, 'std': 0.03} {'mean': 0.48, 'std': 0.08} {'mean': 0.67, 'std': 0.04}\n",
      "...\n",
      "Total documents/rows: 8      \n",
      "--------------------------------------------------\n"
     ]
    }
   ],
   "source": [
    "import sys\n",
    "sys.path.append(\"../../../..\")\n",
    "from my_packages.db_service.results_service import pretty_print_results, results_to_df\n",
    "\n",
    "\n",
    "for shot in [1, 5, 10]:\n",
    "    experiment_name = f\"signature_coverage_{shot}_shot\"\n",
    "        \n",
    "    print(experiment_name)\n",
    "    # results_to_df(f\"{experiment_name}_5_shot\")\n",
    "\n",
    "    pretty_print_results(\n",
    "        experiment_name, \n",
    "        filter= {\"eval_method\": \"3_fold\", \"model_name\": {\"$in\": [\"phi4:14b-fp16\"]}},\n",
    "        exclude_columns=[\n",
    "            \"ks\", \"temperature\", \"top_p\", \"top_k\", \"metrics\",\n",
    "            \"syntax@10\",\n",
    "            \"semantic@10\",\n",
    "            \"tests@10\",\n",
    "            \"syntax@5\",\n",
    "            \"semantic@5\",\n",
    "            \"tests@5\",\n",
    "            \"syntax@2\",\n",
    "            \"semantic@2\",\n",
    "            \"tests@2\",\n",
    "        ]\n",
    "    )\n",
    "\n",
    "\n"
   ]
  },
  {
   "cell_type": "markdown",
   "metadata": {},
   "source": []
  }
 ],
 "metadata": {
  "kernelspec": {
   "display_name": ".venv_Master",
   "language": "python",
   "name": "python3"
  },
  "language_info": {
   "codemirror_mode": {
    "name": "ipython",
    "version": 3
   },
   "file_extension": ".py",
   "mimetype": "text/x-python",
   "name": "python",
   "nbconvert_exporter": "python",
   "pygments_lexer": "ipython3",
   "version": "3.10.12"
  }
 },
 "nbformat": 4,
 "nbformat_minor": 2
}
