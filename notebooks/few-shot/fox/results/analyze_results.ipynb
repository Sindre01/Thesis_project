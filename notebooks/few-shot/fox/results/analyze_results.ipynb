{
 "cells": [
  {
   "cell_type": "code",
   "execution_count": 20,
   "metadata": {},
   "outputs": [
    {
     "name": "stdout",
     "output_type": "stream",
     "text": [
      "regular_coverage_1_shot\n",
      "⚠️ No data found in this collection.\n"
     ]
    }
   ],
   "source": [
    "import sys\n",
    "sys.path.append(\"../../../..\")\n",
    "from my_packages.db_service.results_service import pretty_print_results, results_to_df\n",
    "\n",
    "experiment_name = f\"regular_coverage_1_shot\"\n",
    "print(experiment_name)\n",
    "# results_to_df(f\"{experiment_name}_5_shot\")\n",
    "\n",
    "pretty_print_results(\n",
    "    experiment_name, \n",
    "    filter= {\"eval_method\": \"3_fold\",\"model_name\": {\"$in\": [\"phi4:14b-fp16\", \"qwq:32b-fp16\", \"qwen2.5:72b-instruct-fp16\", \"llama3.3:70b-instruct-fp16\", \"gpt-4o\"]}},\n",
    "    exclude_columns=[\n",
    "        \"ks\", \"created_at\", \"temperature\", \"top_p\", \"top_k\", \"metrics\",\n",
    "        # \"syntax@10\",\n",
    "        # \"semantic@10\",\n",
    "        # \"tests@10\",\n",
    "        # \"syntax@5\",\n",
    "        # \"semantic@5\",\n",
    "        # \"tests@5\",\n",
    "        # \"syntax@2\",\n",
    "        # \"semantic@2\",\n",
    "        # \"tests@2\",\n",
    "    ]\n",
    ")\n",
    "\n",
    "\n"
   ]
  }
 ],
 "metadata": {
  "kernelspec": {
   "display_name": ".venv_Master",
   "language": "python",
   "name": "python3"
  },
  "language_info": {
   "codemirror_mode": {
    "name": "ipython",
    "version": 3
   },
   "file_extension": ".py",
   "mimetype": "text/x-python",
   "name": "python",
   "nbconvert_exporter": "python",
   "pygments_lexer": "ipython3",
   "version": "3.11.0rc1"
  }
 },
 "nbformat": 4,
 "nbformat_minor": 2
}
