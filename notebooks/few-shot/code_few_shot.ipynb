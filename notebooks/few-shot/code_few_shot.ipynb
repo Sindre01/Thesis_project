{
 "cells": [
  {
   "cell_type": "markdown",
   "id": "605d132a-e3b2-42ee-82a2-50ccefbc9139",
   "metadata": {},
   "source": [
    "<!-- ## Install dependencies -->"
   ]
  },
  {
   "cell_type": "code",
   "execution_count": 1,
   "id": "6cf93b4f-f9b0-4929-bd2c-4bb7688d8576",
   "metadata": {},
   "outputs": [],
   "source": [
    "\n",
    "\n",
    "# For Notebook:\n",
    "# %pip install ollama\n",
    "# %pip install openai\n",
    "# %pip install anthropic\n",
    "# %pip install transformers\n",
    "# %pip install tiktoken\n",
    "# %pip install python-dotenv\n",
    "# %pip install colorama\n",
    "\n",
    "# For packages: \n",
    "# %pip install scikit-learn\n",
    "# %pip install matplotlib\n",
    "# %pip install numpy\n",
    "# %pip install pandas\n",
    "# %pip install iterative-stratification\n",
    "# %pip install langchain\n",
    "# %pip install \"langsmith<0.2.0\"\n",
    "\n",
    "# For WebUI testing:\n",
    "# %pip install open-webui\n",
    "\n",
    "%load_ext autoreload"
   ]
  },
  {
   "cell_type": "code",
   "execution_count": 2,
   "id": "1510069e",
   "metadata": {},
   "outputs": [
    {
     "name": "stdout",
     "output_type": "stream",
     "text": [
      "Train data: 32\n",
      "Val data: 9\n",
      "Test data: 9\n"
     ]
    }
   ],
   "source": [
    "import sys\n",
    "sys.path.append('../../')  # Add the path to the my_packages module\n",
    "from my_packages.prompting.few_shot import transform_code_data\n",
    "from my_packages.utils.file_utils import read_dataset_to_json\n",
    "\n",
    "main_dataset_folder = '../../data/MBPP_Midio_50/'\n",
    "\n",
    "train_data = transform_code_data(read_dataset_to_json(main_dataset_folder + 'splits/train_dataset.json'))\n",
    "val_data = transform_code_data(read_dataset_to_json(main_dataset_folder + 'splits/validation_dataset.json'))\n",
    "test_data = transform_code_data(read_dataset_to_json(main_dataset_folder + 'splits/test_dataset.json'))\n",
    "\n",
    "print(f\"Train data: {len(train_data)}\")\n",
    "print(f\"Val data: {len(val_data)}\")\n",
    "print(f\"Test data: {len(test_data)}\")"
   ]
  },
  {
   "cell_type": "markdown",
   "id": "1aeea479",
   "metadata": {},
   "source": [
    "# Model configurations"
   ]
  },
  {
   "cell_type": "code",
   "execution_count": 3,
   "id": "5330f865",
   "metadata": {},
   "outputs": [
    {
     "name": "stdout",
     "output_type": "stream",
     "text": [
      "Number of all responses: 50\n",
      "Url: http://localhost:11434/api/tags\n",
      "Response: <Response [200]>\n",
      "Server is reachable.\n"
     ]
    }
   ],
   "source": [
    "import os\n",
    "import sys\n",
    "from dotenv import load_dotenv\n",
    "sys.path.append('../../')  # Add the path to the my_packages module\n",
    "from my_packages.utils.tokens_utils import models_not_in_file, write_models_tokens_to_file\n",
    "from my_packages.utils.server_utils import server_diagnostics, is_remote_server_reachable\n",
    "from langchain_ollama import OllamaEmbeddings, ChatOllama\n",
    "from langchain_anthropic import ChatAnthropic\n",
    "from langchain_openai import OpenAIEmbeddings, ChatOpenAI\n",
    "\n",
    "model_provider = 'ollama'\n",
    "\n",
    "load_dotenv(\"../../.env\")\n",
    "all_responses = [sample[\"response\"] for sample in train_data] + [sample[\"response\"] for sample in val_data] + [sample[\"response\"] for sample in test_data]\n",
    "print(f\"Number of all responses: {len(all_responses)}\")\n",
    "\n",
    "match model_provider:\n",
    "    case 'ollama':\n",
    "        host = 'http://localhost:11434'\n",
    "        if is_remote_server_reachable(url = host + \"/api/tags\"):\n",
    "            print(\"Server is reachable.\")\n",
    "        else:\n",
    "            server_diagnostics()\n",
    "            if not is_remote_server_reachable(url = host + \"/api/tags\"):\n",
    "                print(\"Ollama server is not reachable. Batch job might have finished. Try running bash script again.\")\n",
    "\n",
    "        client = ChatOllama\n",
    "   \n",
    "        models = [\n",
    "            # 14b models:\n",
    "            # \"phi4:14b-fp16\", #16k context length\n",
    "            # \"qwen2.5:14b-instruct-fp16\", #128 k\n",
    "\n",
    "            #32b models:\n",
    "            \"qwq:32b-preview-fp16\", #ctx: 32,768 tokens\n",
    "            \"qwen2.5-coder:32b-instruct-fp16\", #32,768 tokens\n",
    " \n",
    "            # #70b models:\n",
    "            # \"llama3.3:70b-instruct-fp16\", #ctx: 130k\n",
    "            # \"qwen2.5:72b-instruct-fp16\", #ctx: 139k\n",
    "        ]\n",
    "        models_not_tokenized = models_not_in_file(models, 'code_max_tokens.json')\n",
    "        write_models_tokens_to_file(client, models_not_tokenized, all_responses, 'code_max_tokens.json')\n",
    "\n",
    "    case 'openai':\n",
    "        openai_token = os.getenv('OPENAI_API_KEY')\n",
    "        if not openai_token:\n",
    "            raise Exception(\"OpenAI API key not found in .env file\")\n",
    "        client = ChatOpenAI\n",
    "        models = [\n",
    "            \"gpt-4o\",\n",
    "            # \"o1-preview\", \n",
    "        ]\n",
    "        # few_shot_messages = create_few_shot_messages(explained_used_libraries, train_prompts, train_responses, \"NODE_GENERATOR_TEMPLATE\", \"developer\")\n",
    "        models_not_tokenized = models_not_in_file(models, 'code_max_tokens.json')\n",
    "        write_models_tokens_to_file(client, models_not_tokenized, all_responses, 'code_max_tokens.json')\n",
    "\n",
    "    case 'anthropic':\n",
    "        anthropic_token = os.getenv('ANTHROPIC_API_KEY')\n",
    "        if not anthropic_token:\n",
    "            raise Exception(\"Anthropic API key not found in .env file\")\n",
    "        client = ChatAnthropic\n",
    "        # embed_client = AnthropicEmbeddings\n",
    "        models = [\n",
    "            \"claude-3-5-sonnet-latest\"\n",
    "        ]\n",
    "        models_not_tokenized = models_not_in_file(models, 'code_max_tokens.json')\n",
    "        write_models_tokens_to_file(client, models_not_tokenized, all_responses, 'code_max_tokens.json')\n",
    "    case _:\n",
    "        raise Exception(\"Model provider not supported\")\n",
    "\n",
    "\n"
   ]
  },
  {
   "cell_type": "markdown",
   "id": "6b075a40",
   "metadata": {},
   "source": [
    "# Task configurations"
   ]
  },
  {
   "cell_type": "markdown",
   "id": "b02a6d5c",
   "metadata": {},
   "source": [
    "<!-- ## Experiments settings -->"
   ]
  },
  {
   "cell_type": "code",
   "execution_count": 4,
   "id": "8c44196a",
   "metadata": {},
   "outputs": [
    {
     "name": "stdout",
     "output_type": "stream",
     "text": [
      "[{'type': 'function', 'function_name': 'Std.If', 'module_path': 'Std', 'doc': 'If `input` is true, the `then` trigger is executed, otherwise the `else` trigger is executed. `value` contains the value of `input`.', 'body': 'extern func(doc: \"If `input` is true, the `then` trigger is executed, otherwise the `else` trigger is executed. `value` contains the value of `input`.\") If {\\n\\n        in(x: 0, y: 0, name: \"execute\") trigger() execute\\n\\n        in(x: 0, y: 0, name: \"input\") property(Bool) predicate\\n\\n        out(x: 0, y: 0, name: \"then\") trigger() then\\n\\n        out(x: 0, y: 0, name: \"else\") trigger() else\\n\\n        out(x: 0, y: 0, name: \"value\") property(Bool) value\\n\\n    }', 'types': 'type CountContext Number\\ntype AnyContext Any'}, {'type': 'function', 'function_name': 'Std.IfExpression', 'module_path': 'Std', 'doc': 'IfExpression is a function that allows you to create a conditional expression using a simple expression language provided through the `expression` parameter. Example: `a > b ? a : b` creates two inputs, `a` and `b`. The expression is executed using the provided inputs, and the result is available on the `value` output.', 'body': 'extern func(doc: \"IfExpression is a function that allows you to create a conditional expression using a simple expression language provided through the `expression` parameter. Example: `a > b ? a : b` creates two inputs, `a` and `b`. The expression is executed using the provided inputs, and the result is available on the `value` output.\") IfExpression {\\n\\n        parameter(\\n\\n            compilerPlugin: \"Expression\",\\n\\n            defaultValue: \"\",\\n\\n        ) expression\\n\\n\\n\\n        in trigger execute\\n\\n        out trigger then\\n\\n        out trigger else\\n\\n        out property(Bool) value\\n\\n    }', 'types': 'type CountContext Number\\ntype AnyContext Any'}, {'type': 'function', 'function_name': 'Std.Count', 'module_path': 'Std', 'doc': 'Count can be used to make sure a loop in a flow only runs for a certain number of iteartions. The `reset` input trigger resets the count, and the `count` trigger is used to increment it.', 'body': 'extern func(doc: \"Count can be used to make sure a loop in a flow only runs for a certain number of iteartions. The `reset` input trigger resets the count, and the `count` trigger is used to increment it.\") Count {\\n\\n        in(x: 0, y: 0, name: \"reset\") trigger() reset\\n\\n        in(x: 0, y: 0, name: \"count\") trigger(consumes: Std.CountContext, ) count\\n\\n        in(x: 0, y: 0, name: \"iterations\") property(Number) iterations\\n\\n        out(x: 0, y: 0, name: \"on count\") trigger(produces: Std.CountContext) onCount\\n\\n        out(x: 0, y: 0, name: \"done\") trigger() done\\n\\n        out(x: 0, y: 0, name: \"interation\") property(Number) interation\\n\\n    }', 'types': 'type CountContext Number\\ntype AnyContext Any'}, {'type': 'function', 'function_name': 'Std.For', 'module_path': 'Std', 'doc': 'For is a loop construct that can be used to iterate over a list of items. The `trigger` input is used to start the loop, the `reset` input is used to reset the loop, and the `next` input is used to move to the next item in the list. The `items` input is used to provide the list of items to iterate over. The `on item` output trigger is used to signal that an item has been processed, the `done` output trigger is used to signal that the loop has finished, the `item` output property is used to provide the current item, and the `index` output property is used to provide the current index.', 'body': 'extern func(doc: \"For is a loop construct that can be used to iterate over a list of items. The `trigger` input is used to start the loop, the `reset` input is used to reset the loop, and the `next` input is used to move to the next item in the list. The `items` input is used to provide the list of items to iterate over. The `on item` output trigger is used to signal that an item has been processed, the `done` output trigger is used to signal that the loop has finished, the `item` output property is used to provide the current item, and the `index` output property is used to provide the current index.\") For {\\n\\n        in trigger() reset\\n\\n        in trigger(consumes: Number) next\\n\\n        in property(List) items\\n\\n        out(name: \"on item\") trigger(produces: Number) onItem\\n\\n        out trigger done\\n\\n        out property(Any) item\\n\\n        out property(Number) index\\n\\n    }', 'types': 'type CountContext Number\\ntype AnyContext Any'}, {'type': 'function', 'function_name': 'Strings.Replace', 'module_path': 'Strings', 'doc': 'Returns the string `input` with all occurrences of `search` replaced with `replace`.', 'body': 'extern func(doc: \"Returns the string `input` with all occurrences of `search` replaced with `replace`.\") Replace {\\n\\n        in(x: 0, y: 0, name: \"input\") property(String) input\\n\\n        in(x: 0, y: 0, name: \"search\") property(String) search\\n\\n        in(x: 0, y: 0, name: \"replace\") property(String) replace\\n\\n        out(x: 0, y: 0, name: \"output\") property(String) output\\n\\n    }', 'types': ''}, {'type': 'function', 'function_name': 'Strings.ToLower', 'module_path': 'Strings', 'doc': 'Returns the string `input` with all characters converted to lowercase.', 'body': 'extern func(doc: \"Returns the string `input` with all characters converted to lowercase.\") ToLower {\\n\\n        in(x: 0, y: 0, name: \"input\") property(String) input\\n\\n        out(x: 0, y: 0, name: \"output\") property(String) output\\n\\n    }', 'types': ''}, {'type': 'function', 'function_name': 'Strings.ToUpper', 'module_path': 'Strings', 'doc': 'Returns the string `input` with all characters converted to uppercase.', 'body': 'extern func(doc: \"Returns the string `input` with all characters converted to uppercase.\") ToUpper {\\n\\n        in(x: 0, y: 0, name: \"input\") property(String) input\\n\\n        out(x: 0, y: 0, name: \"output\") property(String) output\\n\\n    }', 'types': ''}, {'type': 'function', 'function_name': 'Strings.IsNumeric', 'module_path': 'Strings', 'doc': 'Returns true if `input` is a numeric string.', 'body': 'extern func(doc: \"Returns true if `input` is a numeric string.\") IsNumeric {\\n\\n        in property(String) input\\n\\n        out(name: \"is numeric\") property(Bool) isNumeric\\n\\n    }', 'types': ''}, {'type': 'function', 'function_name': 'Strings.Characters', 'module_path': 'Strings', 'doc': \"Returns a list of characters in `input`, though the output 'characters' list.\", 'body': 'extern func(doc: \"Returns a list of characters in `input`, though the output \\'characters\\' list.\") Characters {\\n\\n        in property(String) input\\n\\n        out property(List) characters\\n\\n    }', 'types': ''}, {'type': 'function', 'function_name': 'Strings.Contains', 'module_path': 'Strings', 'doc': 'Returns true if `input` contains `contains` as a substring.', 'body': 'extern func(doc: \"Returns true if `input` contains `contains` as a substring.\") Contains {\\n\\n        in property(String) input\\n\\n        in property(String) contains\\n\\n        out property(Bool) result\\n\\n    }', 'types': ''}, {'type': 'function', 'function_name': 'List.Empty', 'module_path': 'List', 'doc': 'Creates an empty list', 'body': 'extern func(doc: \"Creates an empty list\") Empty {\\n\\n        out(x: 0, y: 0, name: \"empty list\") property(List) list\\n\\n    }', 'types': ''}, {'type': 'function', 'function_name': 'List.GetAt', 'module_path': 'List', 'doc': 'Gets the item at `index` from `list`, returning Null if the index is out of bounds.', 'body': 'extern func(doc: \"Gets the item at `index` from `list`, returning Null if the index is out of bounds.\") GetAt {\\n\\n        in(x: 0, y: 0, name: \"list\") property(List) list\\n\\n        in(x: 0, y: 0, name: \"index\") property(Number) index\\n\\n        out(x: 0, y: 0, name: \"itemAtIndex\") property(Any) itemAtIndex\\n\\n    }', 'types': ''}, {'type': 'function', 'function_name': 'List.Add', 'module_path': 'List', 'doc': 'Adds `item` to the `list` by creating a new list with the item added, available on the `listWithItem` output.', 'body': 'extern func(doc: \"Adds `item` to the `list` by creating a new list with the item added, available on the `listWithItem` output.\") Add {\\n\\n        in(x: 0, y: 0, name: \"list\") property list\\n\\n        in(x: 0, y: 0, name: \"item\") property item\\n\\n        out(x: 0, y: 0, name: \"listWithItem\") property listWithItem\\n\\n    }', 'types': ''}, {'type': 'function', 'function_name': 'List.Remove', 'module_path': 'List', 'doc': 'Removes the item at `index` from `list` by creating a new list with the item removed, available on the `listWithoutItem` output.', 'body': 'extern func(doc: \"Removes the item at `index` from `list` by creating a new list with the item removed, available on the `listWithoutItem` output.\") Remove {\\n\\n        in(x: 0, y: 0, name: \"list\") property list\\n\\n        in(x: 0, y: 0, name: \"index\") property index\\n\\n        out(x: 0, y: 0, name: \"listWithoutItem\") property listWithoutItem\\n\\n        out(x: 0, y: 0, name: \"removed item\") property removedItem\\n\\n    }', 'types': ''}, {'type': 'function', 'function_name': 'List.Length', 'module_path': 'List', 'doc': 'Returns the number of items in `list`.', 'body': 'extern func(doc: \"Returns the number of items in `list`.\") Length {\\n\\n        in(x: 0, y: 0, name: \"list\") property list\\n\\n        out(x: 0, y: 0, name: \"length\") property length\\n\\n    }', 'types': ''}, {'type': 'function', 'function_name': 'List.Contains', 'module_path': 'List', 'doc': 'Returns true if `item` is contained in `list`.', 'body': 'extern func(doc: \"Returns true if `item` is contained in `list`.\") Contains {\\n\\n        in(x: 0, y: 0, name: \"list\") property list\\n\\n        in(x: 0, y: 0, name: \"item\") property(Any) item\\n\\n        out(x: 0, y: 0, name: \"result\") property(Bool) is_contained\\n\\n    }', 'types': ''}, {'type': 'function', 'function_name': 'List.Sort', 'module_path': 'List', 'doc': 'Returns a sorted version of `list`', 'body': 'extern func(doc: \"Returns a sorted version of `list`\") Sort {\\n\\n        in(x: 0, y: 0, name: \"list\") property list\\n\\n        out(x: 0, y: 0, name: \"sorted list\") property sorted_list\\n\\n    }', 'types': ''}, {'type': 'function', 'function_name': 'List.GenerateRange', 'module_path': 'List', 'doc': 'A list containing number from `from` to `to`.', 'body': 'extern func(doc: \"A list containing number from `from` to `to`.\") GenerateRange {\\n\\n        in(x: 0, y: 0, name: \"from\") property from\\n\\n        in(x: 0, y: 0, name: \"to\") property to\\n\\n        out(x: 0, y: 0, name: \"list\") property list\\n\\n    }', 'types': ''}, {'type': 'function', 'function_name': 'List.Max', 'module_path': 'List', 'doc': 'Finds the largest item in a list of numbers', 'body': 'extern func(doc: \"Finds the largest item in a list of numbers\") Max {\\n\\n        in(x: 0, y: 0, name: \"items\") property(List) items\\n\\n        out property(Number) max\\n\\n    }', 'types': ''}, {'type': 'function', 'function_name': 'List.Min', 'module_path': 'List', 'doc': 'Finds the smallest item in a list of numbers', 'body': 'extern func(doc: \"Finds the smallest item in a list of numbers\") Min {\\n\\n        in(x: 0, y: 0, name: \"items\") property(List) items\\n\\n        out property(Number) min\\n\\n    }', 'types': ''}, {'type': 'function', 'function_name': 'List.Slice', 'module_path': 'List', 'doc': 'Gets a slice of the list from `start` to, but not including, `end`. Gets the rest of the list if end == -1', 'body': 'extern func(doc: \"Gets a slice of the list from `start` to, but not including, `end`. Gets the rest of the list if end == -1\") Slice {\\n\\n        in(x: 0, y: 0, name: \"items\") property(List) list\\n\\n        in property(Number) start\\n\\n        in property(Number) end\\n\\n        out property(List) slice\\n\\n    }', 'types': ''}, {'type': 'function', 'function_name': 'List.Reversed', 'module_path': 'List', 'doc': 'Reverses the order of the items in `list`', 'body': 'extern func(doc: \"Reverses the order of the items in `list`\") Reversed {\\n\\n        in(x: 0, y: 0, name: \"items\") property(List) list\\n\\n        out property(List) reversed\\n\\n    }', 'types': ''}, {'type': 'function', 'function_name': 'List.FirstItem', 'module_path': 'List', 'doc': \"Returns the first item in 'list', through the `item` output.\", 'body': 'extern func(doc: \"Returns the first item in \\'list\\', through the `item` output.\") FirstItem {\\n\\n        in property(List) list\\n\\n        out property(Any) item\\n\\n    }', 'types': ''}, {'type': 'function', 'function_name': 'List.LastItem', 'module_path': 'List', 'doc': \"Returns the last item in 'list', through the `item` output.\", 'body': 'extern func(doc: \"Returns the last item in \\'list\\', through the `item` output.\") LastItem {\\n\\n        in property(List) list\\n\\n        out property(Any) item\\n\\n    }', 'types': ''}, {'type': 'function', 'function_name': 'List.IsEmpty', 'module_path': 'List', 'doc': \"Returns true if `list` is empty, through the 'isEmpty' output\", 'body': 'extern func(doc: \"Returns true if `list` is empty, through the \\'isEmpty\\' output\") IsEmpty {\\n\\n        in property(List) list\\n\\n        out(name: \"is empty\") property(Bool) isEmpty\\n\\n    }', 'types': ''}, {'type': 'function', 'function_name': 'List.NotEmpty', 'module_path': 'List', 'doc': \"Returns true if `list` is not empty, through the 'isEmpty' output\", 'body': 'extern func(doc: \"Returns true if `list` is not empty, through the \\'isEmpty\\' output\") NotEmpty {\\n\\n        in property(List) list\\n\\n        out(name: \"is empty\") property(Bool) isEmpty\\n\\n    }', 'types': ''}, {'type': 'function', 'function_name': 'List.Flatten', 'module_path': 'List', 'doc': 'Converts a list of lists into a flattened list.', 'body': 'extern func(doc: \"Converts a list of lists into a flattened list.\") Flatten {\\n\\n        in property(List) items\\n\\n        out property(List) flattened\\n\\n    }', 'types': ''}, {'type': 'function', 'function_name': 'List.Concat', 'module_path': 'List', 'doc': 'Concatenates two lists', 'body': 'extern func(doc: \"Concatenates two lists\") Concat {\\n\\n        in property(List) left\\n\\n        in property(List) right\\n\\n        out property(List) result\\n\\n    }', 'types': ''}, {'type': 'function', 'function_name': 'Query.Filter', 'module_path': 'Query', 'doc': \"Filters a list of items with the `where` expression is true. If the list items are objects, fields on the object can be accessed using the field names directly. If the values are primitives, like number of bool, the value can be accessed using the variable name 'it'.\", 'body': 'extern func(doc: \"Filters a list of items with the `where` expression is true. If the list items are objects, fields on the object can be accessed using the field names directly. If the values are primitives, like number of bool, the value can be accessed using the variable name \\'it\\'.\") Filter {\\n\\n          parameter(defaultValue: \"it < 10\") where\\n\\n          in property(List) list\\n\\n          out property(List) result\\n\\n      }', 'types': ''}, {'type': 'function', 'function_name': 'Iteration.Map', 'module_path': 'Iteration', 'doc': 'Calls the given function instance (`handler`) once for each item in `items` returning a new list with the mapped values (`output_list`). Handle is expected to be a function which takes in at least one input (the item), and returns a single item, the mapped value. It can also take a second input, which is the index of the value, and a third value, an optional context value passed from the outside.', 'body': 'extern func(doc: \"Calls the given function instance (`handler`) once for each item in `items` returning a new list with the mapped values (`output_list`). Handle is expected to be a function which takes in at least one input (the item), and returns a single item, the mapped value. It can also take a second input, which is the index of the value, and a third value, an optional context value passed from the outside.\") Map {\\n\\n        in(x: 0, y: 0, name: \"items\") property items\\n\\n        in(x: 0, y: 0, name: \"handler\") property(Any) handler\\n\\n        in(x: 0, y: 0, name: \"context\") property(Any) context\\n\\n        out(x: 0, y: 0, name: \"output list\") property output_list\\n\\n    }', 'types': ''}, {'type': 'function', 'function_name': 'Iteration.Zip', 'module_path': 'Iteration', 'doc': \"Call the given function instance ('handler') on corresponding pairs of elements from 'left' and 'right' lists. The function applies 'handler(left[i], right[i])' for each index 'i', up to the length of the shorter list. The results are collected into the output property 'zipped'.\", 'body': 'extern func(doc: \"Call the given function instance (\\'handler\\') on corresponding pairs of elements from \\'left\\' and \\'right\\' lists. The function applies \\'handler(left[i], right[i])\\' for each index \\'i\\', up to the length of the shorter list. The results are collected into the output property \\'zipped\\'.\") Zip {\\n\\n        in property(List) left\\n\\n        in property(List) right\\n\\n        in property(Any) handler\\n\\n        out property zipped\\n\\n    }', 'types': ''}, {'type': 'function', 'function_name': 'Iteration.Filter', 'module_path': 'Iteration', 'doc': \"Filters the input list 'items' using the provided 'handler' function, which is expected to return a boolean value. The filtered list is available on the 'output_list' output.\", 'body': 'extern func(doc: \"Filters the input list \\'items\\' using the provided \\'handler\\' function, which is expected to return a boolean value. The filtered list is available on the \\'output_list\\' output.\") Filter {\\n\\n        in(x: 0, y: 0, name: \"items\") property items\\n\\n        in(x: 0, y: 0, name: \"handler\") property(Any) handler\\n\\n        in(x: 0, y: 0, name: \"context\") property(Any) context\\n\\n        out(x: 0, y: 0, name: \"output list\") property output_list\\n\\n    }', 'types': ''}, {'type': 'function', 'function_name': 'Iteration.Reduce', 'module_path': 'Iteration', 'doc': 'Reduces the list `item` using the provided reducer function, which is expected to accept 2-4 inputs, the first being the accumulated value, and the second the value being accumulated. A third optional input will contain the current index, while the fourth optional input will contain the context input.', 'body': 'extern func(doc: \"Reduces the list `item` using the provided reducer function, which is expected to accept 2-4 inputs, the first being the accumulated value, and the second the value being accumulated. A third optional input will contain the current index, while the fourth optional input will contain the context input.\") Reduce {\\n\\n        in(x: 0, y: 0, name: \"items\") property items\\n\\n        in(name: \"initial value\") property initialValue\\n\\n        in(x: 0, y: 0, name: \"reducer\") property(Any) reducer\\n\\n        in(x: 0, y: 0, name: \"context\") property(Any) context\\n\\n        out(x: 0, y: 0, name: \"output\") property output\\n\\n    }', 'types': ''}, {'type': 'function', 'function_name': 'Iteration.Find', 'module_path': 'Iteration', 'doc': 'Finds an item in the list `items` that satisfies the `predicate` function, and returns the item through the `item` output.', 'body': 'extern func(doc: \"Finds an item in the list `items` that satisfies the `predicate` function, and returns the item through the `item` output.\") Find {\\n\\n        in property(List) items\\n\\n        in property predicate\\n\\n        in property context\\n\\n        out property item\\n\\n    }', 'types': ''}, {'type': 'function', 'function_name': 'Math.Floor', 'module_path': 'Math', 'doc': 'Returns the largest integer less than or equal `input`', 'body': 'extern func(doc: \"Returns the largest integer less than or equal `input`\") Floor {\\n\\n        in(x: 0, y: 0, name: \"input\") property input\\n\\n        out(x: 0, y: 0, name: \"output\") property output\\n\\n    }', 'types': ''}, {'type': 'function', 'function_name': 'Math.Add', 'module_path': 'Math', 'doc': 'Adds `first` and `second` making the result avilable on the `result` output.', 'body': 'extern func(doc: \"Adds `first` and `second` making the result avilable on the `result` output.\") Add {\\n\\n        in(x: 0, y: 0, name: \"first\") property(Number) first\\n\\n        in(x: 0, y: 0, name: \"second\") property(Number) second\\n\\n        out(x: 0, y: 0, name: \"result\") property(Number) result\\n\\n    }', 'types': ''}, {'type': 'function', 'function_name': 'Math.Sub', 'module_path': 'Math', 'doc': 'Subtracts `first` and `second` making the result avilable on the `result` output.', 'body': 'extern func(doc: \"Subtracts `first` and `second` making the result avilable on the `result` output.\") Sub {\\n\\n        in(x: 0, y: 0, name: \"first\") property(Number) first\\n\\n        in(x: 0, y: 0, name: \"second\") property(Number) second\\n\\n        out(x: 0, y: 0, name: \"result\") property(Number) result\\n\\n    }', 'types': ''}, {'type': 'function', 'function_name': 'Math.Mul', 'module_path': 'Math', 'doc': 'Multiplies `first` and `second` making the result avilable on the `result` output.', 'body': 'extern func(doc: \"Multiplies `first` and `second` making the result avilable on the `result` output.\") Mul {\\n\\n        in(x: 0, y: 0, name: \"first\") property(Number) first\\n\\n        in(x: 0, y: 0, name: \"second\") property(Number) second\\n\\n        out(x: 0, y: 0, name: \"result\") property(Number) result\\n\\n    }', 'types': ''}, {'type': 'function', 'function_name': 'Math.Div', 'module_path': 'Math', 'doc': 'Divides `first` by `second` making the result avilable on the `result` output.', 'body': 'extern func(doc: \"Divides `first` by `second` making the result avilable on the `result` output.\") Div {\\n\\n        in(x: 0, y: 0, name: \"first\") property(Number) first\\n\\n        in(x: 0, y: 0, name: \"second\") property(Number) second\\n\\n        out(x: 0, y: 0, name: \"result\") property(Number) result\\n\\n    }', 'types': ''}, {'type': 'function', 'function_name': 'Math.GreaterThan', 'module_path': 'Math', 'doc': 'Checks if `left` is greater than `right`', 'body': 'extern func(doc: \"Checks if `left` is greater than `right`\") GreaterThan {\\n\\n        in(x: 0, y: 0, name: \"left\") property(Number) left\\n\\n        in(x: 0, y: 0, name: \"right\") property(Number) right\\n\\n        out(x: 0, y: 0, name: \"result\") property(Bool) result\\n\\n    }', 'types': ''}, {'type': 'function', 'function_name': 'Math.LessThanOrEqual', 'module_path': 'Math', 'doc': \"Checks if 'left' is les than or eqaul to the 'right'\", 'body': 'extern func(doc: \"Checks if \\'left\\' is les than or eqaul to the \\'right\\'\") LessThanOrEqual {\\n\\n        in(x: 0, y: 0, name: \"left\") property(Number) left\\n\\n        in(x: 0, y: 0, name: \"right\") property(Number) right\\n\\n        out(x: 0, y: 0, name: \"result\") property(Bool) result\\n\\n    }', 'types': ''}, {'type': 'function', 'function_name': 'Math.Expression', 'module_path': 'Math', 'doc': 'Creates a mathematical expression using a simple expression language provided through the `expression` parameter. Example: `a + b / 10` creates two inputs, `a` and `b`. The expression is executed using the provided inputs, and the result is available on the `result` output.', 'body': 'extern func(doc: \"Creates a mathematical expression using a simple expression language provided through the `expression` parameter. Example: `a + b / 10` creates two inputs, `a` and `b`. The expression is executed using the provided inputs, and the result is available on the `result` output.\") Expression {\\n\\n        parameter(\\n\\n            compilerPlugin: \"Expression\",\\n\\n            defaultValue: \"\",\\n\\n            aiSystemPrompt: \"You will generate math expressions based on a user prompt. The expression you generate will consist only of the following operators:\\n\\n                            - + (plus)\\n\\n                            - - (minus)\\n\\n                            - * (multiply)\\n\\n                            - / (divide)\\n\\n                            - % (modulo)\\n\\n\\n\\n                            Inputs that must be provided by the user are represented by valid C identifiers, and should prefer to be as short as possible, without confusing the user about what the input represents.\\n\\n\\n\\n                            Here are a few examples:\\n\\n\\n\\n                            Prompt: Calcualte the average of three number\\n\\n                            Response: (a + b + c) / 3\\n\\n\\n\\n                            Prompt: Calculate the area of a circle of radius r\\n\\n                            Response: 3.14 * r * r\\n\\n\\n\\n                            Prompt: Calculate the area of a rectangle\\n\\n                            Response: a * b\\n\\n                            \",\\n\\n        ) expression\\n\\n        out(x: 0, y: 0, name: \"result\") property result\\n\\n    }', 'types': ''}, {'type': 'function', 'function_name': 'Math.Pow', 'module_path': 'Math', 'doc': 'Returns `x` raised to the power of `y`.', 'body': 'extern func(doc: \"Returns `x` raised to the power of `y`.\") Pow {\\n\\n        in(x: 0, y: 0, name: \"x\") property x\\n\\n        in(x: 0, y: 0, name: \"y\") property y\\n\\n        out(x: 0, y: 0, name: \"result\") property result\\n\\n    }', 'types': ''}, {'type': 'function', 'function_name': 'Math.Modulo', 'module_path': 'Math', 'doc': 'Calculates the modulo of `value` and `divisor`, and returns the modulo through the `result` output.', 'body': 'extern func(doc: \"Calculates the modulo of `value` and `divisor`, and returns the modulo through the `result` output.\") Modulo {\\n\\n        in(x: 0, y: 0, name: \"value\") property value\\n\\n        in(x: 0, y: 0, name: \"divisor\") property divisor\\n\\n        out(x: 0, y: 0, name: \"result\") property result\\n\\n    }', 'types': ''}, {'type': 'function', 'function_name': 'Math.Min', 'module_path': 'Math', 'doc': 'Returns the smallest of the input numbers.', 'body': 'extern func(doc: \"Returns the smallest of the input numbers.\") Min {\\n\\n        in(x: 0, y: 0, name: \"values\") property values\\n\\n        out(x: 0, y: 0, name: \"result\") property result\\n\\n    }', 'types': ''}, {'type': 'function', 'function_name': 'Logic.Equal', 'module_path': 'Logic', 'doc': 'Checks if `left` and `right` are equal by performing a deep scan of the objects.', 'body': 'extern func(doc: \"Checks if `left` and `right` are equal by performing a deep scan of the objects.\") Equal {\\n\\n        in(x: 0, y: 0, name: \"left\") property(Any) left\\n\\n        in(x: 0, y: 0, name: \"right\") property(Any) right\\n\\n        out(x: 0, y: 0, name: \"result\") property(Bool) result\\n\\n    }', 'types': ''}, {'type': 'function', 'function_name': 'Logic.NotEqual', 'module_path': 'Logic', 'doc': 'Checks if `left` and `right` are not equal by performing a deep scan of the objects.', 'body': 'extern func(doc: \"Checks if `left` and `right` are not equal by performing a deep scan of the objects.\") NotEqual {\\n\\n        in(x: 0, y: 0, name: \"left\") property(Any) left\\n\\n        in(x: 0, y: 0, name: \"right\") property(Any) right\\n\\n        out(x: 0, y: 0, name: \"result\") property(Bool) result\\n\\n    }', 'types': ''}, {'type': 'function', 'function_name': 'Logic.Not', 'module_path': 'Logic', 'doc': 'The logic not operator', 'body': 'extern func(doc: \"The logic not operator\") Not {\\n\\n        in property(Bool) input\\n\\n        out property(Bool) result\\n\\n    }', 'types': ''}, {'type': 'function', 'function_name': 'Logic.And', 'module_path': 'Logic', 'doc': 'The logic and operator', 'body': 'extern func(doc: \"The logic and operator\") And {\\n\\n        in property(Bool) left\\n\\n        in property(Bool) right\\n\\n        out property(Bool) result\\n\\n    }', 'types': ''}, {'type': 'function', 'function_name': 'Sets.Intersection', 'module_path': 'Sets', 'doc': 'Returns the intersection of the two input lists, `left` and `right`, through the `intersect` output.', 'body': 'extern func(doc: \"Returns the intersection of the two input lists, `left` and `right`, through the `intersect` output.\") Intersection {\\n\\n        in property(List) left\\n\\n        in property(List) right\\n\\n        out property(List) intersect\\n\\n    }', 'types': ''}, {'type': 'function', 'function_name': 'Sets.Difference', 'module_path': 'Sets', 'doc': 'Returns the difference of the two input lists, `left` and `right`, through the `difference` output.', 'body': 'extern func(doc: \"Returns the difference of the two input lists, `left` and `right`, through the `difference` output.\") Difference {\\n\\n        in property(List) left\\n\\n        in property(List) right\\n\\n        out property(List) difference\\n\\n    }', 'types': ''}]\n"
     ]
    }
   ],
   "source": [
    "import json\n",
    "import sys\n",
    "sys.path.append('../../')  # Add the path to the my_packages module\n",
    "from my_packages.common import PromptType\n",
    "from my_packages.data_processing.attributes_processing import used_functions_to_string\n",
    "from my_packages.utils.file_utils import read_dataset_to_json\n",
    "\n",
    "\n",
    "prompt_prefix = \"Create a function\" # \"e.g., \"Create a flow\"\n",
    "NUM_SHOTS = 5\n",
    "semantic_selector = False\n",
    "\n",
    "\n",
    "dataset = read_dataset_to_json(main_dataset_folder + \"MBPP-Midio-50.json\")\n",
    "used_functions_json = read_dataset_to_json(main_dataset_folder + \"/metadata/used_external_functions.json\")\n",
    "available_nodes = used_functions_to_string(used_functions_json)\n",
    "print(used_functions_json)\n"
   ]
  },
  {
   "cell_type": "markdown",
   "id": "6d4a530b",
   "metadata": {},
   "source": [
    "# Init Example selector"
   ]
  },
  {
   "cell_type": "code",
   "execution_count": 5,
   "id": "9c9f228b",
   "metadata": {},
   "outputs": [
    {
     "name": "stdout",
     "output_type": "stream",
     "text": [
      "Number of examples in the pool: 32\n",
      "Computes selection\n",
      "50\n",
      "29\n",
      "14\n",
      "47\n",
      "4\n"
     ]
    }
   ],
   "source": [
    "import sys\n",
    "sys.path.append('../../')  # Add the path to the my_packages module\n",
    "from my_packages.prompting.example_selectors import get_coverage_example_selector, get_semantic_similarity_example_selector\n",
    "\n",
    "example_pool = train_data\n",
    "example_pool.sort(key=lambda x: int(x['task_id']))\n",
    "print(f\"Number of examples in the pool: {len(example_pool)}\")\n",
    "\n",
    "if semantic_selector:\n",
    "    selector = get_semantic_similarity_example_selector(\n",
    "        example_pool, \n",
    "        OllamaEmbeddings(model=\"nomic-embed-text\"),\n",
    "        shots=NUM_SHOTS,\n",
    "        input_keys=[\"task\"],\n",
    "    )\n",
    "else:\n",
    "    selector = get_coverage_example_selector(\n",
    "        example_pool, \n",
    "        label = \"external_functions\",\n",
    "        shots=NUM_SHOTS,\n",
    "        seed=9\n",
    "    )\n",
    "\n",
    "examples = selector.select_examples({\"task\": \"Create a list of all the unique elements in a list.\"})\n",
    "\n",
    "for e in examples:\n",
    "    print(e['task_id'])"
   ]
  },
  {
   "cell_type": "markdown",
   "id": "8d30fcb4",
   "metadata": {},
   "source": [
    "## Evaluation"
   ]
  },
  {
   "cell_type": "code",
   "execution_count": null,
   "id": "4ce8f017",
   "metadata": {},
   "outputs": [
    {
     "name": "stdout",
     "output_type": "stream",
     "text": [
      "📂 Experiemnt 'signature_coverage_5_shot' already exists.\n",
      "\n",
      "🔍 Existing collections for signature_coverage_5_shot: \n",
      "==================================================\n",
      "\n",
      "📂 Collection: signature_coverage_5_shot_errors \n",
      "--------------------------------------------------\n",
      "   model_name  task_id  candidate_id metric error_type      phase  seed  temperature  top_p  top_k              created_at\n",
      "phi4:14b-fp16       48             1  tests   semantic validation     9          0.2    0.2     10 2025-02-18 10:59:02.723\n",
      "phi4:14b-fp16       34             1  tests      tests validation     9          0.2    0.2     10 2025-02-18 10:59:02.723\n",
      "phi4:14b-fp16       18             1  tests     syntax validation     9          0.2    0.2     10 2025-02-18 10:59:02.723\n",
      "phi4:14b-fp16       16             1  tests   semantic validation     9          0.2    0.2     10 2025-02-18 10:59:02.723\n",
      "phi4:14b-fp16        3             1  tests   semantic validation     9          0.2    0.2     10 2025-02-18 10:59:02.723\n",
      "...\n",
      "Total documents/rows: 1295      validation: 517, testing: 778\n",
      "--------------------------------------------------\n",
      "\n",
      "📂 Collection: signature_coverage_5_shot_results \n",
      "--------------------------------------------------\n",
      "                model_name         seed  temperature  top_p  top_k            ks                    syntax@1                    syntax@2                    syntax@5                 syntax@10                  semantic@1                  semantic@2                  semantic@5               semantic@10                     tests@1                     tests@2                     tests@5                    tests@10              created_at                   metrics\n",
      "             phi4:14b-fp16 [3, 75, 346]          0.2    0.9     50 [1, 2, 5, 10] {'mean': 0.83, 'std': 0.02} {'mean': 0.91, 'std': 0.01} {'mean': 0.97, 'std': 0.02} {'mean': 1.0, 'std': 0.0} {'mean': 0.74, 'std': 0.04} {'mean': 0.87, 'std': 0.03} {'mean': 0.97, 'std': 0.02} {'mean': 1.0, 'std': 0.0} {'mean': 0.63, 'std': 0.02} {'mean': 0.78, 'std': 0.04} {'mean': 0.91, 'std': 0.06} {'mean': 0.96, 'std': 0.05} 2025-02-18 10:59:02.723 [syntax, semantic, tests]\n",
      " qwen2.5:14b-instruct-fp16 [3, 75, 346]          0.2    0.9     50 [1, 2, 5, 10] {'mean': 0.77, 'std': 0.04} {'mean': 0.91, 'std': 0.03} {'mean': 0.99, 'std': 0.01} {'mean': 1.0, 'std': 0.0} {'mean': 0.71, 'std': 0.04} {'mean': 0.85, 'std': 0.04} {'mean': 0.96, 'std': 0.03} {'mean': 1.0, 'std': 0.0} {'mean': 0.51, 'std': 0.06} {'mean': 0.69, 'std': 0.07} {'mean': 0.87, 'std': 0.08} {'mean': 0.96, 'std': 0.05} 2025-02-18 10:59:02.723 [syntax, semantic, tests]\n",
      "llama3.3:70b-instruct-fp16 [3, 75, 346]          0.6    0.9     10 [1, 2, 5, 10] {'mean': 0.73, 'std': 0.02} {'mean': 0.91, 'std': 0.02}   {'mean': 1.0, 'std': 0.0} {'mean': 1.0, 'std': 0.0} {'mean': 0.67, 'std': 0.02} {'mean': 0.87, 'std': 0.02} {'mean': 0.98, 'std': 0.01} {'mean': 1.0, 'std': 0.0} {'mean': 0.54, 'std': 0.03} {'mean': 0.68, 'std': 0.03}  {'mean': 0.8, 'std': 0.04} {'mean': 0.85, 'std': 0.05} 2025-02-18 10:59:02.723 [syntax, semantic, tests]\n",
      "...\n",
      "Total documents/rows: 3      \n",
      "--------------------------------------------------\n",
      "\n",
      "📂 Collection: signature_coverage_5_shot_best_params \n",
      "--------------------------------------------------\n",
      "                model_name optimizer_metric  temperature  top_p  top_k  seed              created_at\n",
      "             phi4:14b-fp16            tests          0.2    0.9     50     9 2025-02-18 10:59:02.723\n",
      " qwen2.5:14b-instruct-fp16            tests          0.2    0.9     50     9 2025-02-18 10:59:02.723\n",
      "llama3.3:70b-instruct-fp16            tests          0.6    0.9     10     9 2025-02-18 10:59:02.723\n",
      "...\n",
      "Total documents/rows: 3      \n",
      "--------------------------------------------------\n",
      "\n",
      "=== Running quality checks for experiment: signature_coverage_5_shot ===\n",
      "Models found: ['qwen2.5:14b-instruct-fp16', 'phi4:14b-fp16', 'llama3.3:70b-instruct-fp16']\n",
      "✅ All models passed quality checks successfully.\n",
      "\n",
      "\n",
      "\n",
      "⚠️ No best params found for model 'qwq:32b-preview-fp16' in experiment 'signature_coverage_5_shot_best_params'.\n",
      "Starting validation phase..\n",
      "\u001b[36m\u001b[1mValidation Phase:\u001b[0m\n",
      "Optimizing for metric: tests\n"
     ]
    },
    {
     "name": "stderr",
     "output_type": "stream",
     "text": [
      "Token indices sequence length is longer than the specified maximum sequence length for this model (8881 > 1024). Running this sequence through the model will result in indexing errors\n"
     ]
    },
    {
     "name": "stdout",
     "output_type": "stream",
     "text": [
      "Generating response for sample 1..\r"
     ]
    },
    {
     "ename": "KeyboardInterrupt",
     "evalue": "",
     "output_type": "error",
     "traceback": [
      "\u001b[0;31m---------------------------------------------------------------------------\u001b[0m",
      "\u001b[0;31mKeyboardInterrupt\u001b[0m                         Traceback (most recent call last)",
      "Cell \u001b[0;32mIn[6], line 41\u001b[0m\n\u001b[1;32m     37\u001b[0m results[model_name] \u001b[38;5;241m=\u001b[39m (\u001b[38;5;28;01mNone\u001b[39;00m, \u001b[38;5;28;01mNone\u001b[39;00m)\n\u001b[1;32m     39\u001b[0m \u001b[38;5;28;01mif\u001b[39;00m confirm_validation_rerun(experiment_name, model_name): \u001b[38;5;66;03m# If best params exists for model, prompt user to rerun validation. If not exists, return true to run validation.\u001b[39;00m\n\u001b[0;32m---> 41\u001b[0m     validation_result \u001b[38;5;241m=\u001b[39m \u001b[43mrun_validation\u001b[49m\u001b[43m(\u001b[49m\n\u001b[1;32m     42\u001b[0m \u001b[43m        \u001b[49m\u001b[43mclient\u001b[49m\u001b[43m,\u001b[49m\n\u001b[1;32m     43\u001b[0m \u001b[43m        \u001b[49m\u001b[43mmodel\u001b[49m\u001b[43m,\u001b[49m\n\u001b[1;32m     44\u001b[0m \u001b[43m        \u001b[49m\u001b[43mavailable_nodes\u001b[49m\u001b[43m,\u001b[49m\n\u001b[1;32m     45\u001b[0m \u001b[43m        \u001b[49m\u001b[43mval_data\u001b[49m\u001b[43m,\u001b[49m\n\u001b[1;32m     46\u001b[0m \u001b[43m        \u001b[49m\u001b[43mselector\u001b[49m\u001b[43m,\u001b[49m\n\u001b[1;32m     47\u001b[0m \u001b[43m        \u001b[49m\u001b[43mtemperatures\u001b[49m\u001b[38;5;241;43m=\u001b[39;49m\u001b[43m[\u001b[49m\u001b[38;5;241;43m0.2\u001b[39;49m\u001b[43m,\u001b[49m\u001b[43m \u001b[49m\u001b[38;5;241;43m0.6\u001b[39;49m\u001b[43m,\u001b[49m\u001b[43m \u001b[49m\u001b[38;5;241;43m0.9\u001b[39;49m\u001b[43m]\u001b[49m\u001b[43m,\u001b[49m\n\u001b[1;32m     48\u001b[0m \u001b[43m        \u001b[49m\u001b[43mtop_ps\u001b[49m\u001b[38;5;241;43m=\u001b[39;49m\u001b[43m[\u001b[49m\u001b[38;5;241;43m0.2\u001b[39;49m\u001b[43m,\u001b[49m\u001b[43m \u001b[49m\u001b[38;5;241;43m0.6\u001b[39;49m\u001b[43m,\u001b[49m\u001b[43m \u001b[49m\u001b[38;5;241;43m0.9\u001b[39;49m\u001b[43m]\u001b[49m\u001b[43m,\u001b[49m\n\u001b[1;32m     49\u001b[0m \u001b[43m        \u001b[49m\u001b[43mtop_ks\u001b[49m\u001b[38;5;241;43m=\u001b[39;49m\u001b[43m[\u001b[49m\u001b[38;5;241;43m10\u001b[39;49m\u001b[43m,\u001b[49m\u001b[43m \u001b[49m\u001b[38;5;241;43m50\u001b[39;49m\u001b[43m,\u001b[49m\u001b[43m \u001b[49m\u001b[38;5;241;43m100\u001b[39;49m\u001b[43m]\u001b[49m\u001b[43m,\u001b[49m\n\u001b[1;32m     50\u001b[0m \u001b[43m        \u001b[49m\u001b[43mks\u001b[49m\u001b[38;5;241;43m=\u001b[39;49m\u001b[43m[\u001b[49m\u001b[38;5;241;43m1\u001b[39;49m\u001b[43m]\u001b[49m\u001b[43m,\u001b[49m\n\u001b[1;32m     51\u001b[0m \u001b[43m        \u001b[49m\u001b[43mseed\u001b[49m\u001b[38;5;241;43m=\u001b[39;49m\u001b[38;5;241;43m9\u001b[39;49m\u001b[43m,\u001b[49m\n\u001b[1;32m     52\u001b[0m \u001b[43m        \u001b[49m\u001b[43mdebug\u001b[49m\u001b[38;5;241;43m=\u001b[39;49m\u001b[38;5;28;43;01mFalse\u001b[39;49;00m\u001b[43m,\u001b[49m\n\u001b[1;32m     53\u001b[0m \u001b[43m        \u001b[49m\u001b[43moptimizer_metric\u001b[49m\u001b[38;5;241;43m=\u001b[39;49m\u001b[43mmetrics\u001b[49m\u001b[43m[\u001b[49m\u001b[38;5;241;43m-\u001b[39;49m\u001b[38;5;241;43m1\u001b[39;49m\u001b[43m]\u001b[49m\u001b[43m,\u001b[49m\n\u001b[1;32m     54\u001b[0m \u001b[43m        \u001b[49m\u001b[43mexperiment_name\u001b[49m\u001b[38;5;241;43m=\u001b[39;49m\u001b[43mexperiment_name\u001b[49m\u001b[43m,\u001b[49m\n\u001b[1;32m     55\u001b[0m \u001b[43m        \u001b[49m\u001b[43menv\u001b[49m\u001b[38;5;241;43m=\u001b[39;49m\u001b[38;5;124;43m\"\u001b[39;49m\u001b[38;5;124;43mprod\u001b[39;49m\u001b[38;5;124;43m\"\u001b[39;49m\u001b[43m,\u001b[49m\u001b[43m \u001b[49m\u001b[38;5;66;43;03m#'dev' for file storage and 'prod' for database storage, for errors, and best params\u001b[39;49;00m\n\u001b[1;32m     56\u001b[0m \u001b[43m        \u001b[49m\u001b[43mprompt_type\u001b[49m\u001b[38;5;241;43m=\u001b[39;49m\u001b[43mprompt_type\u001b[49m\u001b[43m,\u001b[49m\n\u001b[1;32m     57\u001b[0m \u001b[43m    \u001b[49m\u001b[43m)\u001b[49m\n\u001b[1;32m     58\u001b[0m     validation_result\u001b[38;5;241m.\u001b[39mprint()\n\u001b[1;32m     59\u001b[0m     test_results, final_result \u001b[38;5;241m=\u001b[39m run_testing( \u001b[38;5;66;03m# Must rerun testing if validation is rerun\u001b[39;00m\n\u001b[1;32m     60\u001b[0m         client, \n\u001b[1;32m     61\u001b[0m         model,\n\u001b[0;32m   (...)\u001b[0m\n\u001b[1;32m     74\u001b[0m         prompt_type\u001b[38;5;241m=\u001b[39mprompt_type,\n\u001b[1;32m     75\u001b[0m         )\n",
      "File \u001b[0;32m~/Thesis_project/notebooks/few-shot/../../my_packages/evaluation/code_evaluation.py:318\u001b[0m, in \u001b[0;36mrun_validation\u001b[0;34m(client, model, available_nodes, val_data, example_pool, temperatures, top_ps, top_ks, ks, seed, debug, optimizer_metric, experiment_name, env, prompt_type)\u001b[0m\n\u001b[1;32m    314\u001b[0m \u001b[38;5;28;01mfor\u001b[39;00m top_k \u001b[38;5;129;01min\u001b[39;00m top_ks:\n\u001b[1;32m    315\u001b[0m     \u001b[38;5;28;01mfor\u001b[39;00m top_p \u001b[38;5;129;01min\u001b[39;00m top_ps:\n\u001b[1;32m    316\u001b[0m         \u001b[38;5;66;03m# print(f\"Validating with temperature: {temp}, top_k: {top_k} and top_p: {top_p}\")\u001b[39;00m\n\u001b[0;32m--> 318\u001b[0m         model_result, largest_context \u001b[38;5;241m=\u001b[39m \u001b[43mrun_model\u001b[49m\u001b[43m(\u001b[49m\n\u001b[1;32m    319\u001b[0m \u001b[43m            \u001b[49m\u001b[43mclient\u001b[49m\u001b[43m,\u001b[49m\n\u001b[1;32m    320\u001b[0m \u001b[43m            \u001b[49m\u001b[43mmodel\u001b[49m\u001b[43m[\u001b[49m\u001b[38;5;124;43m\"\u001b[39;49m\u001b[38;5;124;43mname\u001b[39;49m\u001b[38;5;124;43m\"\u001b[39;49m\u001b[43m]\u001b[49m\u001b[43m,\u001b[49m\n\u001b[1;32m    321\u001b[0m \u001b[43m            \u001b[49m\u001b[43mavailable_nodes\u001b[49m\u001b[43m,\u001b[49m\n\u001b[1;32m    322\u001b[0m \u001b[43m            \u001b[49m\u001b[43mval_data\u001b[49m\u001b[43m,\u001b[49m\n\u001b[1;32m    323\u001b[0m \u001b[43m            \u001b[49m\u001b[43mexample_pool\u001b[49m\u001b[43m,\u001b[49m\n\u001b[1;32m    324\u001b[0m \u001b[43m            \u001b[49m\u001b[43mmodel\u001b[49m\u001b[43m[\u001b[49m\u001b[38;5;124;43m\"\u001b[39;49m\u001b[38;5;124;43mmax_tokens\u001b[39;49m\u001b[38;5;124;43m\"\u001b[39;49m\u001b[43m]\u001b[49m\u001b[43m,\u001b[49m\n\u001b[1;32m    325\u001b[0m \u001b[43m            \u001b[49m\u001b[43mtemp\u001b[49m\u001b[43m,\u001b[49m\n\u001b[1;32m    326\u001b[0m \u001b[43m            \u001b[49m\u001b[43mtop_p\u001b[49m\u001b[43m,\u001b[49m\n\u001b[1;32m    327\u001b[0m \u001b[43m            \u001b[49m\u001b[43mtop_k\u001b[49m\u001b[43m,\u001b[49m\n\u001b[1;32m    328\u001b[0m \u001b[43m            \u001b[49m\u001b[43mks\u001b[49m\u001b[43m,\u001b[49m\n\u001b[1;32m    329\u001b[0m \u001b[43m            \u001b[49m\u001b[43mseed\u001b[49m\u001b[43m,\u001b[49m\n\u001b[1;32m    330\u001b[0m \u001b[43m            \u001b[49m\u001b[43mdebug\u001b[49m\u001b[43m,\u001b[49m\u001b[43m \u001b[49m\n\u001b[1;32m    331\u001b[0m \u001b[43m            \u001b[49m\u001b[43mprompt_type\u001b[49m\n\u001b[1;32m    332\u001b[0m \u001b[43m        \u001b[49m\u001b[43m)\u001b[49m\n\u001b[1;32m    334\u001b[0m         metric_results_lists \u001b[38;5;241m=\u001b[39m evaluate_code (\n\u001b[1;32m    335\u001b[0m             model_result,\n\u001b[1;32m    336\u001b[0m             ks\u001b[38;5;241m=\u001b[39mks,\n\u001b[0;32m   (...)\u001b[0m\n\u001b[1;32m    342\u001b[0m             phase\u001b[38;5;241m=\u001b[39m\u001b[38;5;124m\"\u001b[39m\u001b[38;5;124mvalidation\u001b[39m\u001b[38;5;124m\"\u001b[39m\n\u001b[1;32m    343\u001b[0m         )\n\u001b[1;32m    344\u001b[0m         \u001b[38;5;66;03m## Optimizing for the first k in the ks list\u001b[39;00m\n",
      "File \u001b[0;32m~/Thesis_project/notebooks/few-shot/../../my_packages/evaluation/code_evaluation.py:201\u001b[0m, in \u001b[0;36mrun_model\u001b[0;34m(client, model, available_nodes, data, example_pool, max_new_tokens, temperature, top_p, top_k, ks, seed, debug, prompt_type)\u001b[0m\n\u001b[1;32m    187\u001b[0m     llm \u001b[38;5;241m=\u001b[39m client(\n\u001b[1;32m    188\u001b[0m         model\u001b[38;5;241m=\u001b[39mmodel,\n\u001b[1;32m    189\u001b[0m         temperature\u001b[38;5;241m=\u001b[39mtemperature,\n\u001b[0;32m   (...)\u001b[0m\n\u001b[1;32m    196\u001b[0m         seed\u001b[38;5;241m=\u001b[39mnew_seed\n\u001b[1;32m    197\u001b[0m     )\n\u001b[1;32m    199\u001b[0m chain \u001b[38;5;241m=\u001b[39m (final_prompt_template \u001b[38;5;241m|\u001b[39m llm)\n\u001b[0;32m--> 201\u001b[0m response \u001b[38;5;241m=\u001b[39m \u001b[43mchain\u001b[49m\u001b[38;5;241;43m.\u001b[39;49m\u001b[43minvoke\u001b[49m\u001b[43m(\u001b[49m\n\u001b[1;32m    202\u001b[0m \u001b[43m    \u001b[49m\u001b[43mprompt_variables_dict\u001b[49m\u001b[43m,\u001b[49m\n\u001b[1;32m    203\u001b[0m \u001b[43m    \u001b[49m\u001b[43m{\u001b[49m\u001b[38;5;124;43m\"\u001b[39;49m\u001b[38;5;124;43mrun_name\u001b[39;49m\u001b[38;5;124;43m\"\u001b[39;49m\u001b[43m:\u001b[49m\u001b[43m \u001b[49m\u001b[38;5;124;43mf\u001b[39;49m\u001b[38;5;124;43m\"\u001b[39;49m\u001b[38;5;124;43mFew-shot code prediction\u001b[39;49m\u001b[38;5;124;43m\"\u001b[39;49m\u001b[43m}\u001b[49m\n\u001b[1;32m    204\u001b[0m \u001b[43m\u001b[49m\u001b[43m)\u001b[49m\n\u001b[1;32m    206\u001b[0m generated \u001b[38;5;241m=\u001b[39m response\u001b[38;5;241m.\u001b[39mcontent\n\u001b[1;32m    207\u001b[0m \u001b[38;5;28;01mbreak\u001b[39;00m  \u001b[38;5;66;03m# If generation succeeded, break out of retry loop\u001b[39;00m\n",
      "File \u001b[0;32m~/Thesis_project/.venv_Master/lib/python3.11/site-packages/langchain_core/runnables/base.py:3016\u001b[0m, in \u001b[0;36mRunnableSequence.invoke\u001b[0;34m(self, input, config, **kwargs)\u001b[0m\n\u001b[1;32m   3014\u001b[0m             \u001b[38;5;28minput\u001b[39m \u001b[38;5;241m=\u001b[39m context\u001b[38;5;241m.\u001b[39mrun(step\u001b[38;5;241m.\u001b[39minvoke, \u001b[38;5;28minput\u001b[39m, config, \u001b[38;5;241m*\u001b[39m\u001b[38;5;241m*\u001b[39mkwargs)\n\u001b[1;32m   3015\u001b[0m         \u001b[38;5;28;01melse\u001b[39;00m:\n\u001b[0;32m-> 3016\u001b[0m             \u001b[38;5;28minput\u001b[39m \u001b[38;5;241m=\u001b[39m \u001b[43mcontext\u001b[49m\u001b[38;5;241;43m.\u001b[39;49m\u001b[43mrun\u001b[49m\u001b[43m(\u001b[49m\u001b[43mstep\u001b[49m\u001b[38;5;241;43m.\u001b[39;49m\u001b[43minvoke\u001b[49m\u001b[43m,\u001b[49m\u001b[43m \u001b[49m\u001b[38;5;28;43minput\u001b[39;49m\u001b[43m,\u001b[49m\u001b[43m \u001b[49m\u001b[43mconfig\u001b[49m\u001b[43m)\u001b[49m\n\u001b[1;32m   3017\u001b[0m \u001b[38;5;66;03m# finish the root run\u001b[39;00m\n\u001b[1;32m   3018\u001b[0m \u001b[38;5;28;01mexcept\u001b[39;00m \u001b[38;5;167;01mBaseException\u001b[39;00m \u001b[38;5;28;01mas\u001b[39;00m e:\n",
      "File \u001b[0;32m~/Thesis_project/.venv_Master/lib/python3.11/site-packages/langchain_core/language_models/chat_models.py:284\u001b[0m, in \u001b[0;36mBaseChatModel.invoke\u001b[0;34m(self, input, config, stop, **kwargs)\u001b[0m\n\u001b[1;32m    273\u001b[0m \u001b[38;5;28;01mdef\u001b[39;00m\u001b[38;5;250m \u001b[39m\u001b[38;5;21minvoke\u001b[39m(\n\u001b[1;32m    274\u001b[0m     \u001b[38;5;28mself\u001b[39m,\n\u001b[1;32m    275\u001b[0m     \u001b[38;5;28minput\u001b[39m: LanguageModelInput,\n\u001b[0;32m   (...)\u001b[0m\n\u001b[1;32m    279\u001b[0m     \u001b[38;5;241m*\u001b[39m\u001b[38;5;241m*\u001b[39mkwargs: Any,\n\u001b[1;32m    280\u001b[0m ) \u001b[38;5;241m-\u001b[39m\u001b[38;5;241m>\u001b[39m BaseMessage:\n\u001b[1;32m    281\u001b[0m     config \u001b[38;5;241m=\u001b[39m ensure_config(config)\n\u001b[1;32m    282\u001b[0m     \u001b[38;5;28;01mreturn\u001b[39;00m cast(\n\u001b[1;32m    283\u001b[0m         ChatGeneration,\n\u001b[0;32m--> 284\u001b[0m         \u001b[38;5;28;43mself\u001b[39;49m\u001b[38;5;241;43m.\u001b[39;49m\u001b[43mgenerate_prompt\u001b[49m\u001b[43m(\u001b[49m\n\u001b[1;32m    285\u001b[0m \u001b[43m            \u001b[49m\u001b[43m[\u001b[49m\u001b[38;5;28;43mself\u001b[39;49m\u001b[38;5;241;43m.\u001b[39;49m\u001b[43m_convert_input\u001b[49m\u001b[43m(\u001b[49m\u001b[38;5;28;43minput\u001b[39;49m\u001b[43m)\u001b[49m\u001b[43m]\u001b[49m\u001b[43m,\u001b[49m\n\u001b[1;32m    286\u001b[0m \u001b[43m            \u001b[49m\u001b[43mstop\u001b[49m\u001b[38;5;241;43m=\u001b[39;49m\u001b[43mstop\u001b[49m\u001b[43m,\u001b[49m\n\u001b[1;32m    287\u001b[0m \u001b[43m            \u001b[49m\u001b[43mcallbacks\u001b[49m\u001b[38;5;241;43m=\u001b[39;49m\u001b[43mconfig\u001b[49m\u001b[38;5;241;43m.\u001b[39;49m\u001b[43mget\u001b[49m\u001b[43m(\u001b[49m\u001b[38;5;124;43m\"\u001b[39;49m\u001b[38;5;124;43mcallbacks\u001b[39;49m\u001b[38;5;124;43m\"\u001b[39;49m\u001b[43m)\u001b[49m\u001b[43m,\u001b[49m\n\u001b[1;32m    288\u001b[0m \u001b[43m            \u001b[49m\u001b[43mtags\u001b[49m\u001b[38;5;241;43m=\u001b[39;49m\u001b[43mconfig\u001b[49m\u001b[38;5;241;43m.\u001b[39;49m\u001b[43mget\u001b[49m\u001b[43m(\u001b[49m\u001b[38;5;124;43m\"\u001b[39;49m\u001b[38;5;124;43mtags\u001b[39;49m\u001b[38;5;124;43m\"\u001b[39;49m\u001b[43m)\u001b[49m\u001b[43m,\u001b[49m\n\u001b[1;32m    289\u001b[0m \u001b[43m            \u001b[49m\u001b[43mmetadata\u001b[49m\u001b[38;5;241;43m=\u001b[39;49m\u001b[43mconfig\u001b[49m\u001b[38;5;241;43m.\u001b[39;49m\u001b[43mget\u001b[49m\u001b[43m(\u001b[49m\u001b[38;5;124;43m\"\u001b[39;49m\u001b[38;5;124;43mmetadata\u001b[39;49m\u001b[38;5;124;43m\"\u001b[39;49m\u001b[43m)\u001b[49m\u001b[43m,\u001b[49m\n\u001b[1;32m    290\u001b[0m \u001b[43m            \u001b[49m\u001b[43mrun_name\u001b[49m\u001b[38;5;241;43m=\u001b[39;49m\u001b[43mconfig\u001b[49m\u001b[38;5;241;43m.\u001b[39;49m\u001b[43mget\u001b[49m\u001b[43m(\u001b[49m\u001b[38;5;124;43m\"\u001b[39;49m\u001b[38;5;124;43mrun_name\u001b[39;49m\u001b[38;5;124;43m\"\u001b[39;49m\u001b[43m)\u001b[49m\u001b[43m,\u001b[49m\n\u001b[1;32m    291\u001b[0m \u001b[43m            \u001b[49m\u001b[43mrun_id\u001b[49m\u001b[38;5;241;43m=\u001b[39;49m\u001b[43mconfig\u001b[49m\u001b[38;5;241;43m.\u001b[39;49m\u001b[43mpop\u001b[49m\u001b[43m(\u001b[49m\u001b[38;5;124;43m\"\u001b[39;49m\u001b[38;5;124;43mrun_id\u001b[39;49m\u001b[38;5;124;43m\"\u001b[39;49m\u001b[43m,\u001b[49m\u001b[43m \u001b[49m\u001b[38;5;28;43;01mNone\u001b[39;49;00m\u001b[43m)\u001b[49m\u001b[43m,\u001b[49m\n\u001b[1;32m    292\u001b[0m \u001b[43m            \u001b[49m\u001b[38;5;241;43m*\u001b[39;49m\u001b[38;5;241;43m*\u001b[39;49m\u001b[43mkwargs\u001b[49m\u001b[43m,\u001b[49m\n\u001b[1;32m    293\u001b[0m \u001b[43m        \u001b[49m\u001b[43m)\u001b[49m\u001b[38;5;241m.\u001b[39mgenerations[\u001b[38;5;241m0\u001b[39m][\u001b[38;5;241m0\u001b[39m],\n\u001b[1;32m    294\u001b[0m     )\u001b[38;5;241m.\u001b[39mmessage\n",
      "File \u001b[0;32m~/Thesis_project/.venv_Master/lib/python3.11/site-packages/langchain_core/language_models/chat_models.py:860\u001b[0m, in \u001b[0;36mBaseChatModel.generate_prompt\u001b[0;34m(self, prompts, stop, callbacks, **kwargs)\u001b[0m\n\u001b[1;32m    852\u001b[0m \u001b[38;5;28;01mdef\u001b[39;00m\u001b[38;5;250m \u001b[39m\u001b[38;5;21mgenerate_prompt\u001b[39m(\n\u001b[1;32m    853\u001b[0m     \u001b[38;5;28mself\u001b[39m,\n\u001b[1;32m    854\u001b[0m     prompts: \u001b[38;5;28mlist\u001b[39m[PromptValue],\n\u001b[0;32m   (...)\u001b[0m\n\u001b[1;32m    857\u001b[0m     \u001b[38;5;241m*\u001b[39m\u001b[38;5;241m*\u001b[39mkwargs: Any,\n\u001b[1;32m    858\u001b[0m ) \u001b[38;5;241m-\u001b[39m\u001b[38;5;241m>\u001b[39m LLMResult:\n\u001b[1;32m    859\u001b[0m     prompt_messages \u001b[38;5;241m=\u001b[39m [p\u001b[38;5;241m.\u001b[39mto_messages() \u001b[38;5;28;01mfor\u001b[39;00m p \u001b[38;5;129;01min\u001b[39;00m prompts]\n\u001b[0;32m--> 860\u001b[0m     \u001b[38;5;28;01mreturn\u001b[39;00m \u001b[38;5;28;43mself\u001b[39;49m\u001b[38;5;241;43m.\u001b[39;49m\u001b[43mgenerate\u001b[49m\u001b[43m(\u001b[49m\u001b[43mprompt_messages\u001b[49m\u001b[43m,\u001b[49m\u001b[43m \u001b[49m\u001b[43mstop\u001b[49m\u001b[38;5;241;43m=\u001b[39;49m\u001b[43mstop\u001b[49m\u001b[43m,\u001b[49m\u001b[43m \u001b[49m\u001b[43mcallbacks\u001b[49m\u001b[38;5;241;43m=\u001b[39;49m\u001b[43mcallbacks\u001b[49m\u001b[43m,\u001b[49m\u001b[43m \u001b[49m\u001b[38;5;241;43m*\u001b[39;49m\u001b[38;5;241;43m*\u001b[39;49m\u001b[43mkwargs\u001b[49m\u001b[43m)\u001b[49m\n",
      "File \u001b[0;32m~/Thesis_project/.venv_Master/lib/python3.11/site-packages/langchain_core/language_models/chat_models.py:690\u001b[0m, in \u001b[0;36mBaseChatModel.generate\u001b[0;34m(self, messages, stop, callbacks, tags, metadata, run_name, run_id, **kwargs)\u001b[0m\n\u001b[1;32m    687\u001b[0m \u001b[38;5;28;01mfor\u001b[39;00m i, m \u001b[38;5;129;01min\u001b[39;00m \u001b[38;5;28menumerate\u001b[39m(messages):\n\u001b[1;32m    688\u001b[0m     \u001b[38;5;28;01mtry\u001b[39;00m:\n\u001b[1;32m    689\u001b[0m         results\u001b[38;5;241m.\u001b[39mappend(\n\u001b[0;32m--> 690\u001b[0m             \u001b[38;5;28;43mself\u001b[39;49m\u001b[38;5;241;43m.\u001b[39;49m\u001b[43m_generate_with_cache\u001b[49m\u001b[43m(\u001b[49m\n\u001b[1;32m    691\u001b[0m \u001b[43m                \u001b[49m\u001b[43mm\u001b[49m\u001b[43m,\u001b[49m\n\u001b[1;32m    692\u001b[0m \u001b[43m                \u001b[49m\u001b[43mstop\u001b[49m\u001b[38;5;241;43m=\u001b[39;49m\u001b[43mstop\u001b[49m\u001b[43m,\u001b[49m\n\u001b[1;32m    693\u001b[0m \u001b[43m                \u001b[49m\u001b[43mrun_manager\u001b[49m\u001b[38;5;241;43m=\u001b[39;49m\u001b[43mrun_managers\u001b[49m\u001b[43m[\u001b[49m\u001b[43mi\u001b[49m\u001b[43m]\u001b[49m\u001b[43m \u001b[49m\u001b[38;5;28;43;01mif\u001b[39;49;00m\u001b[43m \u001b[49m\u001b[43mrun_managers\u001b[49m\u001b[43m \u001b[49m\u001b[38;5;28;43;01melse\u001b[39;49;00m\u001b[43m \u001b[49m\u001b[38;5;28;43;01mNone\u001b[39;49;00m\u001b[43m,\u001b[49m\n\u001b[1;32m    694\u001b[0m \u001b[43m                \u001b[49m\u001b[38;5;241;43m*\u001b[39;49m\u001b[38;5;241;43m*\u001b[39;49m\u001b[43mkwargs\u001b[49m\u001b[43m,\u001b[49m\n\u001b[1;32m    695\u001b[0m \u001b[43m            \u001b[49m\u001b[43m)\u001b[49m\n\u001b[1;32m    696\u001b[0m         )\n\u001b[1;32m    697\u001b[0m     \u001b[38;5;28;01mexcept\u001b[39;00m \u001b[38;5;167;01mBaseException\u001b[39;00m \u001b[38;5;28;01mas\u001b[39;00m e:\n\u001b[1;32m    698\u001b[0m         \u001b[38;5;28;01mif\u001b[39;00m run_managers:\n",
      "File \u001b[0;32m~/Thesis_project/.venv_Master/lib/python3.11/site-packages/langchain_core/language_models/chat_models.py:925\u001b[0m, in \u001b[0;36mBaseChatModel._generate_with_cache\u001b[0;34m(self, messages, stop, run_manager, **kwargs)\u001b[0m\n\u001b[1;32m    923\u001b[0m \u001b[38;5;28;01melse\u001b[39;00m:\n\u001b[1;32m    924\u001b[0m     \u001b[38;5;28;01mif\u001b[39;00m inspect\u001b[38;5;241m.\u001b[39msignature(\u001b[38;5;28mself\u001b[39m\u001b[38;5;241m.\u001b[39m_generate)\u001b[38;5;241m.\u001b[39mparameters\u001b[38;5;241m.\u001b[39mget(\u001b[38;5;124m\"\u001b[39m\u001b[38;5;124mrun_manager\u001b[39m\u001b[38;5;124m\"\u001b[39m):\n\u001b[0;32m--> 925\u001b[0m         result \u001b[38;5;241m=\u001b[39m \u001b[38;5;28;43mself\u001b[39;49m\u001b[38;5;241;43m.\u001b[39;49m\u001b[43m_generate\u001b[49m\u001b[43m(\u001b[49m\n\u001b[1;32m    926\u001b[0m \u001b[43m            \u001b[49m\u001b[43mmessages\u001b[49m\u001b[43m,\u001b[49m\u001b[43m \u001b[49m\u001b[43mstop\u001b[49m\u001b[38;5;241;43m=\u001b[39;49m\u001b[43mstop\u001b[49m\u001b[43m,\u001b[49m\u001b[43m \u001b[49m\u001b[43mrun_manager\u001b[49m\u001b[38;5;241;43m=\u001b[39;49m\u001b[43mrun_manager\u001b[49m\u001b[43m,\u001b[49m\u001b[43m \u001b[49m\u001b[38;5;241;43m*\u001b[39;49m\u001b[38;5;241;43m*\u001b[39;49m\u001b[43mkwargs\u001b[49m\n\u001b[1;32m    927\u001b[0m \u001b[43m        \u001b[49m\u001b[43m)\u001b[49m\n\u001b[1;32m    928\u001b[0m     \u001b[38;5;28;01melse\u001b[39;00m:\n\u001b[1;32m    929\u001b[0m         result \u001b[38;5;241m=\u001b[39m \u001b[38;5;28mself\u001b[39m\u001b[38;5;241m.\u001b[39m_generate(messages, stop\u001b[38;5;241m=\u001b[39mstop, \u001b[38;5;241m*\u001b[39m\u001b[38;5;241m*\u001b[39mkwargs)\n",
      "File \u001b[0;32m~/Thesis_project/.venv_Master/lib/python3.11/site-packages/langchain_ollama/chat_models.py:701\u001b[0m, in \u001b[0;36mChatOllama._generate\u001b[0;34m(self, messages, stop, run_manager, **kwargs)\u001b[0m\n\u001b[1;32m    694\u001b[0m \u001b[38;5;28;01mdef\u001b[39;00m\u001b[38;5;250m \u001b[39m\u001b[38;5;21m_generate\u001b[39m(\n\u001b[1;32m    695\u001b[0m     \u001b[38;5;28mself\u001b[39m,\n\u001b[1;32m    696\u001b[0m     messages: List[BaseMessage],\n\u001b[0;32m   (...)\u001b[0m\n\u001b[1;32m    699\u001b[0m     \u001b[38;5;241m*\u001b[39m\u001b[38;5;241m*\u001b[39mkwargs: Any,\n\u001b[1;32m    700\u001b[0m ) \u001b[38;5;241m-\u001b[39m\u001b[38;5;241m>\u001b[39m ChatResult:\n\u001b[0;32m--> 701\u001b[0m     final_chunk \u001b[38;5;241m=\u001b[39m \u001b[38;5;28;43mself\u001b[39;49m\u001b[38;5;241;43m.\u001b[39;49m\u001b[43m_chat_stream_with_aggregation\u001b[49m\u001b[43m(\u001b[49m\n\u001b[1;32m    702\u001b[0m \u001b[43m        \u001b[49m\u001b[43mmessages\u001b[49m\u001b[43m,\u001b[49m\u001b[43m \u001b[49m\u001b[43mstop\u001b[49m\u001b[43m,\u001b[49m\u001b[43m \u001b[49m\u001b[43mrun_manager\u001b[49m\u001b[43m,\u001b[49m\u001b[43m \u001b[49m\u001b[43mverbose\u001b[49m\u001b[38;5;241;43m=\u001b[39;49m\u001b[38;5;28;43mself\u001b[39;49m\u001b[38;5;241;43m.\u001b[39;49m\u001b[43mverbose\u001b[49m\u001b[43m,\u001b[49m\u001b[43m \u001b[49m\u001b[38;5;241;43m*\u001b[39;49m\u001b[38;5;241;43m*\u001b[39;49m\u001b[43mkwargs\u001b[49m\n\u001b[1;32m    703\u001b[0m \u001b[43m    \u001b[49m\u001b[43m)\u001b[49m\n\u001b[1;32m    704\u001b[0m     generation_info \u001b[38;5;241m=\u001b[39m final_chunk\u001b[38;5;241m.\u001b[39mgeneration_info\n\u001b[1;32m    705\u001b[0m     chat_generation \u001b[38;5;241m=\u001b[39m ChatGeneration(\n\u001b[1;32m    706\u001b[0m         message\u001b[38;5;241m=\u001b[39mAIMessage(\n\u001b[1;32m    707\u001b[0m             content\u001b[38;5;241m=\u001b[39mfinal_chunk\u001b[38;5;241m.\u001b[39mtext,\n\u001b[0;32m   (...)\u001b[0m\n\u001b[1;32m    711\u001b[0m         generation_info\u001b[38;5;241m=\u001b[39mgeneration_info,\n\u001b[1;32m    712\u001b[0m     )\n",
      "File \u001b[0;32m~/Thesis_project/.venv_Master/lib/python3.11/site-packages/langchain_ollama/chat_models.py:602\u001b[0m, in \u001b[0;36mChatOllama._chat_stream_with_aggregation\u001b[0;34m(self, messages, stop, run_manager, verbose, **kwargs)\u001b[0m\n\u001b[1;32m    593\u001b[0m \u001b[38;5;28;01mdef\u001b[39;00m\u001b[38;5;250m \u001b[39m\u001b[38;5;21m_chat_stream_with_aggregation\u001b[39m(\n\u001b[1;32m    594\u001b[0m     \u001b[38;5;28mself\u001b[39m,\n\u001b[1;32m    595\u001b[0m     messages: List[BaseMessage],\n\u001b[0;32m   (...)\u001b[0m\n\u001b[1;32m    599\u001b[0m     \u001b[38;5;241m*\u001b[39m\u001b[38;5;241m*\u001b[39mkwargs: Any,\n\u001b[1;32m    600\u001b[0m ) \u001b[38;5;241m-\u001b[39m\u001b[38;5;241m>\u001b[39m ChatGenerationChunk:\n\u001b[1;32m    601\u001b[0m     final_chunk \u001b[38;5;241m=\u001b[39m \u001b[38;5;28;01mNone\u001b[39;00m\n\u001b[0;32m--> 602\u001b[0m \u001b[43m    \u001b[49m\u001b[38;5;28;43;01mfor\u001b[39;49;00m\u001b[43m \u001b[49m\u001b[43mstream_resp\u001b[49m\u001b[43m \u001b[49m\u001b[38;5;129;43;01min\u001b[39;49;00m\u001b[43m \u001b[49m\u001b[38;5;28;43mself\u001b[39;49m\u001b[38;5;241;43m.\u001b[39;49m\u001b[43m_create_chat_stream\u001b[49m\u001b[43m(\u001b[49m\u001b[43mmessages\u001b[49m\u001b[43m,\u001b[49m\u001b[43m \u001b[49m\u001b[43mstop\u001b[49m\u001b[43m,\u001b[49m\u001b[43m \u001b[49m\u001b[38;5;241;43m*\u001b[39;49m\u001b[38;5;241;43m*\u001b[39;49m\u001b[43mkwargs\u001b[49m\u001b[43m)\u001b[49m\u001b[43m:\u001b[49m\n\u001b[1;32m    603\u001b[0m \u001b[43m        \u001b[49m\u001b[38;5;28;43;01mif\u001b[39;49;00m\u001b[43m \u001b[49m\u001b[38;5;129;43;01mnot\u001b[39;49;00m\u001b[43m \u001b[49m\u001b[38;5;28;43misinstance\u001b[39;49m\u001b[43m(\u001b[49m\u001b[43mstream_resp\u001b[49m\u001b[43m,\u001b[49m\u001b[43m \u001b[49m\u001b[38;5;28;43mstr\u001b[39;49m\u001b[43m)\u001b[49m\u001b[43m:\u001b[49m\n\u001b[1;32m    604\u001b[0m \u001b[43m            \u001b[49m\u001b[43mchunk\u001b[49m\u001b[43m \u001b[49m\u001b[38;5;241;43m=\u001b[39;49m\u001b[43m \u001b[49m\u001b[43mChatGenerationChunk\u001b[49m\u001b[43m(\u001b[49m\n\u001b[1;32m    605\u001b[0m \u001b[43m                \u001b[49m\u001b[43mmessage\u001b[49m\u001b[38;5;241;43m=\u001b[39;49m\u001b[43mAIMessageChunk\u001b[49m\u001b[43m(\u001b[49m\n\u001b[1;32m    606\u001b[0m \u001b[43m                    \u001b[49m\u001b[43mcontent\u001b[49m\u001b[38;5;241;43m=\u001b[39;49m\u001b[43m(\u001b[49m\n\u001b[0;32m   (...)\u001b[0m\n\u001b[1;32m    619\u001b[0m \u001b[43m                \u001b[49m\u001b[43m)\u001b[49m\u001b[43m,\u001b[49m\n\u001b[1;32m    620\u001b[0m \u001b[43m            \u001b[49m\u001b[43m)\u001b[49m\n",
      "File \u001b[0;32m~/Thesis_project/.venv_Master/lib/python3.11/site-packages/langchain_ollama/chat_models.py:589\u001b[0m, in \u001b[0;36mChatOllama._create_chat_stream\u001b[0;34m(self, messages, stop, **kwargs)\u001b[0m\n\u001b[1;32m    586\u001b[0m chat_params \u001b[38;5;241m=\u001b[39m \u001b[38;5;28mself\u001b[39m\u001b[38;5;241m.\u001b[39m_chat_params(messages, stop, \u001b[38;5;241m*\u001b[39m\u001b[38;5;241m*\u001b[39mkwargs)\n\u001b[1;32m    588\u001b[0m \u001b[38;5;28;01mif\u001b[39;00m chat_params[\u001b[38;5;124m\"\u001b[39m\u001b[38;5;124mstream\u001b[39m\u001b[38;5;124m\"\u001b[39m]:\n\u001b[0;32m--> 589\u001b[0m     \u001b[38;5;28;01myield from\u001b[39;00m \u001b[38;5;28mself\u001b[39m\u001b[38;5;241m.\u001b[39m_client\u001b[38;5;241m.\u001b[39mchat(\u001b[38;5;241m*\u001b[39m\u001b[38;5;241m*\u001b[39mchat_params)\n\u001b[1;32m    590\u001b[0m \u001b[38;5;28;01melse\u001b[39;00m:\n\u001b[1;32m    591\u001b[0m     \u001b[38;5;28;01myield\u001b[39;00m \u001b[38;5;28mself\u001b[39m\u001b[38;5;241m.\u001b[39m_client\u001b[38;5;241m.\u001b[39mchat(\u001b[38;5;241m*\u001b[39m\u001b[38;5;241m*\u001b[39mchat_params)\n",
      "File \u001b[0;32m~/Thesis_project/.venv_Master/lib/python3.11/site-packages/ollama/_client.py:162\u001b[0m, in \u001b[0;36mClient._request.<locals>.inner\u001b[0;34m()\u001b[0m\n\u001b[1;32m    161\u001b[0m \u001b[38;5;28;01mdef\u001b[39;00m\u001b[38;5;250m \u001b[39m\u001b[38;5;21minner\u001b[39m():\n\u001b[0;32m--> 162\u001b[0m \u001b[43m  \u001b[49m\u001b[38;5;28;43;01mwith\u001b[39;49;00m\u001b[43m \u001b[49m\u001b[38;5;28;43mself\u001b[39;49m\u001b[38;5;241;43m.\u001b[39;49m\u001b[43m_client\u001b[49m\u001b[38;5;241;43m.\u001b[39;49m\u001b[43mstream\u001b[49m\u001b[43m(\u001b[49m\u001b[38;5;241;43m*\u001b[39;49m\u001b[43margs\u001b[49m\u001b[43m,\u001b[49m\u001b[43m \u001b[49m\u001b[38;5;241;43m*\u001b[39;49m\u001b[38;5;241;43m*\u001b[39;49m\u001b[43mkwargs\u001b[49m\u001b[43m)\u001b[49m\u001b[43m \u001b[49m\u001b[38;5;28;43;01mas\u001b[39;49;00m\u001b[43m \u001b[49m\u001b[43mr\u001b[49m\u001b[43m:\u001b[49m\n\u001b[1;32m    163\u001b[0m \u001b[43m    \u001b[49m\u001b[38;5;28;43;01mtry\u001b[39;49;00m\u001b[43m:\u001b[49m\n\u001b[1;32m    164\u001b[0m \u001b[43m      \u001b[49m\u001b[43mr\u001b[49m\u001b[38;5;241;43m.\u001b[39;49m\u001b[43mraise_for_status\u001b[49m\u001b[43m(\u001b[49m\u001b[43m)\u001b[49m\n",
      "File \u001b[0;32m/usr/lib/python3.11/contextlib.py:137\u001b[0m, in \u001b[0;36m_GeneratorContextManager.__enter__\u001b[0;34m(self)\u001b[0m\n\u001b[1;32m    135\u001b[0m \u001b[38;5;28;01mdel\u001b[39;00m \u001b[38;5;28mself\u001b[39m\u001b[38;5;241m.\u001b[39margs, \u001b[38;5;28mself\u001b[39m\u001b[38;5;241m.\u001b[39mkwds, \u001b[38;5;28mself\u001b[39m\u001b[38;5;241m.\u001b[39mfunc\n\u001b[1;32m    136\u001b[0m \u001b[38;5;28;01mtry\u001b[39;00m:\n\u001b[0;32m--> 137\u001b[0m     \u001b[38;5;28;01mreturn\u001b[39;00m \u001b[38;5;28mnext\u001b[39m(\u001b[38;5;28mself\u001b[39m\u001b[38;5;241m.\u001b[39mgen)\n\u001b[1;32m    138\u001b[0m \u001b[38;5;28;01mexcept\u001b[39;00m \u001b[38;5;167;01mStopIteration\u001b[39;00m:\n\u001b[1;32m    139\u001b[0m     \u001b[38;5;28;01mraise\u001b[39;00m \u001b[38;5;167;01mRuntimeError\u001b[39;00m(\u001b[38;5;124m\"\u001b[39m\u001b[38;5;124mgenerator didn\u001b[39m\u001b[38;5;124m'\u001b[39m\u001b[38;5;124mt yield\u001b[39m\u001b[38;5;124m\"\u001b[39m) \u001b[38;5;28;01mfrom\u001b[39;00m\u001b[38;5;250m \u001b[39m\u001b[38;5;28;01mNone\u001b[39;00m\n",
      "File \u001b[0;32m~/Thesis_project/.venv_Master/lib/python3.11/site-packages/httpx/_client.py:880\u001b[0m, in \u001b[0;36mClient.stream\u001b[0;34m(self, method, url, content, data, files, json, params, headers, cookies, auth, follow_redirects, timeout, extensions)\u001b[0m\n\u001b[1;32m    857\u001b[0m \u001b[38;5;250m\u001b[39m\u001b[38;5;124;03m\"\"\"\u001b[39;00m\n\u001b[1;32m    858\u001b[0m \u001b[38;5;124;03mAlternative to `httpx.request()` that streams the response body\u001b[39;00m\n\u001b[1;32m    859\u001b[0m \u001b[38;5;124;03minstead of loading it into memory at once.\u001b[39;00m\n\u001b[0;32m   (...)\u001b[0m\n\u001b[1;32m    865\u001b[0m \u001b[38;5;124;03m[0]: /quickstart#streaming-responses\u001b[39;00m\n\u001b[1;32m    866\u001b[0m \u001b[38;5;124;03m\"\"\"\u001b[39;00m\n\u001b[1;32m    867\u001b[0m request \u001b[38;5;241m=\u001b[39m \u001b[38;5;28mself\u001b[39m\u001b[38;5;241m.\u001b[39mbuild_request(\n\u001b[1;32m    868\u001b[0m     method\u001b[38;5;241m=\u001b[39mmethod,\n\u001b[1;32m    869\u001b[0m     url\u001b[38;5;241m=\u001b[39murl,\n\u001b[0;32m   (...)\u001b[0m\n\u001b[1;32m    878\u001b[0m     extensions\u001b[38;5;241m=\u001b[39mextensions,\n\u001b[1;32m    879\u001b[0m )\n\u001b[0;32m--> 880\u001b[0m response \u001b[38;5;241m=\u001b[39m \u001b[38;5;28;43mself\u001b[39;49m\u001b[38;5;241;43m.\u001b[39;49m\u001b[43msend\u001b[49m\u001b[43m(\u001b[49m\n\u001b[1;32m    881\u001b[0m \u001b[43m    \u001b[49m\u001b[43mrequest\u001b[49m\u001b[38;5;241;43m=\u001b[39;49m\u001b[43mrequest\u001b[49m\u001b[43m,\u001b[49m\n\u001b[1;32m    882\u001b[0m \u001b[43m    \u001b[49m\u001b[43mauth\u001b[49m\u001b[38;5;241;43m=\u001b[39;49m\u001b[43mauth\u001b[49m\u001b[43m,\u001b[49m\n\u001b[1;32m    883\u001b[0m \u001b[43m    \u001b[49m\u001b[43mfollow_redirects\u001b[49m\u001b[38;5;241;43m=\u001b[39;49m\u001b[43mfollow_redirects\u001b[49m\u001b[43m,\u001b[49m\n\u001b[1;32m    884\u001b[0m \u001b[43m    \u001b[49m\u001b[43mstream\u001b[49m\u001b[38;5;241;43m=\u001b[39;49m\u001b[38;5;28;43;01mTrue\u001b[39;49;00m\u001b[43m,\u001b[49m\n\u001b[1;32m    885\u001b[0m \u001b[43m\u001b[49m\u001b[43m)\u001b[49m\n\u001b[1;32m    886\u001b[0m \u001b[38;5;28;01mtry\u001b[39;00m:\n\u001b[1;32m    887\u001b[0m     \u001b[38;5;28;01myield\u001b[39;00m response\n",
      "File \u001b[0;32m~/Thesis_project/.venv_Master/lib/python3.11/site-packages/httpx/_client.py:926\u001b[0m, in \u001b[0;36mClient.send\u001b[0;34m(self, request, stream, auth, follow_redirects)\u001b[0m\n\u001b[1;32m    922\u001b[0m \u001b[38;5;28mself\u001b[39m\u001b[38;5;241m.\u001b[39m_set_timeout(request)\n\u001b[1;32m    924\u001b[0m auth \u001b[38;5;241m=\u001b[39m \u001b[38;5;28mself\u001b[39m\u001b[38;5;241m.\u001b[39m_build_request_auth(request, auth)\n\u001b[0;32m--> 926\u001b[0m response \u001b[38;5;241m=\u001b[39m \u001b[38;5;28;43mself\u001b[39;49m\u001b[38;5;241;43m.\u001b[39;49m\u001b[43m_send_handling_auth\u001b[49m\u001b[43m(\u001b[49m\n\u001b[1;32m    927\u001b[0m \u001b[43m    \u001b[49m\u001b[43mrequest\u001b[49m\u001b[43m,\u001b[49m\n\u001b[1;32m    928\u001b[0m \u001b[43m    \u001b[49m\u001b[43mauth\u001b[49m\u001b[38;5;241;43m=\u001b[39;49m\u001b[43mauth\u001b[49m\u001b[43m,\u001b[49m\n\u001b[1;32m    929\u001b[0m \u001b[43m    \u001b[49m\u001b[43mfollow_redirects\u001b[49m\u001b[38;5;241;43m=\u001b[39;49m\u001b[43mfollow_redirects\u001b[49m\u001b[43m,\u001b[49m\n\u001b[1;32m    930\u001b[0m \u001b[43m    \u001b[49m\u001b[43mhistory\u001b[49m\u001b[38;5;241;43m=\u001b[39;49m\u001b[43m[\u001b[49m\u001b[43m]\u001b[49m\u001b[43m,\u001b[49m\n\u001b[1;32m    931\u001b[0m \u001b[43m\u001b[49m\u001b[43m)\u001b[49m\n\u001b[1;32m    932\u001b[0m \u001b[38;5;28;01mtry\u001b[39;00m:\n\u001b[1;32m    933\u001b[0m     \u001b[38;5;28;01mif\u001b[39;00m \u001b[38;5;129;01mnot\u001b[39;00m stream:\n",
      "File \u001b[0;32m~/Thesis_project/.venv_Master/lib/python3.11/site-packages/httpx/_client.py:954\u001b[0m, in \u001b[0;36mClient._send_handling_auth\u001b[0;34m(self, request, auth, follow_redirects, history)\u001b[0m\n\u001b[1;32m    951\u001b[0m request \u001b[38;5;241m=\u001b[39m \u001b[38;5;28mnext\u001b[39m(auth_flow)\n\u001b[1;32m    953\u001b[0m \u001b[38;5;28;01mwhile\u001b[39;00m \u001b[38;5;28;01mTrue\u001b[39;00m:\n\u001b[0;32m--> 954\u001b[0m     response \u001b[38;5;241m=\u001b[39m \u001b[38;5;28;43mself\u001b[39;49m\u001b[38;5;241;43m.\u001b[39;49m\u001b[43m_send_handling_redirects\u001b[49m\u001b[43m(\u001b[49m\n\u001b[1;32m    955\u001b[0m \u001b[43m        \u001b[49m\u001b[43mrequest\u001b[49m\u001b[43m,\u001b[49m\n\u001b[1;32m    956\u001b[0m \u001b[43m        \u001b[49m\u001b[43mfollow_redirects\u001b[49m\u001b[38;5;241;43m=\u001b[39;49m\u001b[43mfollow_redirects\u001b[49m\u001b[43m,\u001b[49m\n\u001b[1;32m    957\u001b[0m \u001b[43m        \u001b[49m\u001b[43mhistory\u001b[49m\u001b[38;5;241;43m=\u001b[39;49m\u001b[43mhistory\u001b[49m\u001b[43m,\u001b[49m\n\u001b[1;32m    958\u001b[0m \u001b[43m    \u001b[49m\u001b[43m)\u001b[49m\n\u001b[1;32m    959\u001b[0m     \u001b[38;5;28;01mtry\u001b[39;00m:\n\u001b[1;32m    960\u001b[0m         \u001b[38;5;28;01mtry\u001b[39;00m:\n",
      "File \u001b[0;32m~/Thesis_project/.venv_Master/lib/python3.11/site-packages/httpx/_client.py:991\u001b[0m, in \u001b[0;36mClient._send_handling_redirects\u001b[0;34m(self, request, follow_redirects, history)\u001b[0m\n\u001b[1;32m    988\u001b[0m \u001b[38;5;28;01mfor\u001b[39;00m hook \u001b[38;5;129;01min\u001b[39;00m \u001b[38;5;28mself\u001b[39m\u001b[38;5;241m.\u001b[39m_event_hooks[\u001b[38;5;124m\"\u001b[39m\u001b[38;5;124mrequest\u001b[39m\u001b[38;5;124m\"\u001b[39m]:\n\u001b[1;32m    989\u001b[0m     hook(request)\n\u001b[0;32m--> 991\u001b[0m response \u001b[38;5;241m=\u001b[39m \u001b[38;5;28;43mself\u001b[39;49m\u001b[38;5;241;43m.\u001b[39;49m\u001b[43m_send_single_request\u001b[49m\u001b[43m(\u001b[49m\u001b[43mrequest\u001b[49m\u001b[43m)\u001b[49m\n\u001b[1;32m    992\u001b[0m \u001b[38;5;28;01mtry\u001b[39;00m:\n\u001b[1;32m    993\u001b[0m     \u001b[38;5;28;01mfor\u001b[39;00m hook \u001b[38;5;129;01min\u001b[39;00m \u001b[38;5;28mself\u001b[39m\u001b[38;5;241m.\u001b[39m_event_hooks[\u001b[38;5;124m\"\u001b[39m\u001b[38;5;124mresponse\u001b[39m\u001b[38;5;124m\"\u001b[39m]:\n",
      "File \u001b[0;32m~/Thesis_project/.venv_Master/lib/python3.11/site-packages/httpx/_client.py:1027\u001b[0m, in \u001b[0;36mClient._send_single_request\u001b[0;34m(self, request)\u001b[0m\n\u001b[1;32m   1022\u001b[0m     \u001b[38;5;28;01mraise\u001b[39;00m \u001b[38;5;167;01mRuntimeError\u001b[39;00m(\n\u001b[1;32m   1023\u001b[0m         \u001b[38;5;124m\"\u001b[39m\u001b[38;5;124mAttempted to send an async request with a sync Client instance.\u001b[39m\u001b[38;5;124m\"\u001b[39m\n\u001b[1;32m   1024\u001b[0m     )\n\u001b[1;32m   1026\u001b[0m \u001b[38;5;28;01mwith\u001b[39;00m request_context(request\u001b[38;5;241m=\u001b[39mrequest):\n\u001b[0;32m-> 1027\u001b[0m     response \u001b[38;5;241m=\u001b[39m \u001b[43mtransport\u001b[49m\u001b[38;5;241;43m.\u001b[39;49m\u001b[43mhandle_request\u001b[49m\u001b[43m(\u001b[49m\u001b[43mrequest\u001b[49m\u001b[43m)\u001b[49m\n\u001b[1;32m   1029\u001b[0m \u001b[38;5;28;01massert\u001b[39;00m \u001b[38;5;28misinstance\u001b[39m(response\u001b[38;5;241m.\u001b[39mstream, SyncByteStream)\n\u001b[1;32m   1031\u001b[0m response\u001b[38;5;241m.\u001b[39mrequest \u001b[38;5;241m=\u001b[39m request\n",
      "File \u001b[0;32m~/Thesis_project/.venv_Master/lib/python3.11/site-packages/httpx/_transports/default.py:236\u001b[0m, in \u001b[0;36mHTTPTransport.handle_request\u001b[0;34m(self, request)\u001b[0m\n\u001b[1;32m    223\u001b[0m req \u001b[38;5;241m=\u001b[39m httpcore\u001b[38;5;241m.\u001b[39mRequest(\n\u001b[1;32m    224\u001b[0m     method\u001b[38;5;241m=\u001b[39mrequest\u001b[38;5;241m.\u001b[39mmethod,\n\u001b[1;32m    225\u001b[0m     url\u001b[38;5;241m=\u001b[39mhttpcore\u001b[38;5;241m.\u001b[39mURL(\n\u001b[0;32m   (...)\u001b[0m\n\u001b[1;32m    233\u001b[0m     extensions\u001b[38;5;241m=\u001b[39mrequest\u001b[38;5;241m.\u001b[39mextensions,\n\u001b[1;32m    234\u001b[0m )\n\u001b[1;32m    235\u001b[0m \u001b[38;5;28;01mwith\u001b[39;00m map_httpcore_exceptions():\n\u001b[0;32m--> 236\u001b[0m     resp \u001b[38;5;241m=\u001b[39m \u001b[38;5;28;43mself\u001b[39;49m\u001b[38;5;241;43m.\u001b[39;49m\u001b[43m_pool\u001b[49m\u001b[38;5;241;43m.\u001b[39;49m\u001b[43mhandle_request\u001b[49m\u001b[43m(\u001b[49m\u001b[43mreq\u001b[49m\u001b[43m)\u001b[49m\n\u001b[1;32m    238\u001b[0m \u001b[38;5;28;01massert\u001b[39;00m \u001b[38;5;28misinstance\u001b[39m(resp\u001b[38;5;241m.\u001b[39mstream, typing\u001b[38;5;241m.\u001b[39mIterable)\n\u001b[1;32m    240\u001b[0m \u001b[38;5;28;01mreturn\u001b[39;00m Response(\n\u001b[1;32m    241\u001b[0m     status_code\u001b[38;5;241m=\u001b[39mresp\u001b[38;5;241m.\u001b[39mstatus,\n\u001b[1;32m    242\u001b[0m     headers\u001b[38;5;241m=\u001b[39mresp\u001b[38;5;241m.\u001b[39mheaders,\n\u001b[1;32m    243\u001b[0m     stream\u001b[38;5;241m=\u001b[39mResponseStream(resp\u001b[38;5;241m.\u001b[39mstream),\n\u001b[1;32m    244\u001b[0m     extensions\u001b[38;5;241m=\u001b[39mresp\u001b[38;5;241m.\u001b[39mextensions,\n\u001b[1;32m    245\u001b[0m )\n",
      "File \u001b[0;32m~/Thesis_project/.venv_Master/lib/python3.11/site-packages/httpcore/_sync/connection_pool.py:256\u001b[0m, in \u001b[0;36mConnectionPool.handle_request\u001b[0;34m(self, request)\u001b[0m\n\u001b[1;32m    253\u001b[0m         closing \u001b[38;5;241m=\u001b[39m \u001b[38;5;28mself\u001b[39m\u001b[38;5;241m.\u001b[39m_assign_requests_to_connections()\n\u001b[1;32m    255\u001b[0m     \u001b[38;5;28mself\u001b[39m\u001b[38;5;241m.\u001b[39m_close_connections(closing)\n\u001b[0;32m--> 256\u001b[0m     \u001b[38;5;28;01mraise\u001b[39;00m exc \u001b[38;5;28;01mfrom\u001b[39;00m\u001b[38;5;250m \u001b[39m\u001b[38;5;28;01mNone\u001b[39;00m\n\u001b[1;32m    258\u001b[0m \u001b[38;5;66;03m# Return the response. Note that in this case we still have to manage\u001b[39;00m\n\u001b[1;32m    259\u001b[0m \u001b[38;5;66;03m# the point at which the response is closed.\u001b[39;00m\n\u001b[1;32m    260\u001b[0m \u001b[38;5;28;01massert\u001b[39;00m \u001b[38;5;28misinstance\u001b[39m(response\u001b[38;5;241m.\u001b[39mstream, typing\u001b[38;5;241m.\u001b[39mIterable)\n",
      "File \u001b[0;32m~/Thesis_project/.venv_Master/lib/python3.11/site-packages/httpcore/_sync/connection_pool.py:236\u001b[0m, in \u001b[0;36mConnectionPool.handle_request\u001b[0;34m(self, request)\u001b[0m\n\u001b[1;32m    232\u001b[0m connection \u001b[38;5;241m=\u001b[39m pool_request\u001b[38;5;241m.\u001b[39mwait_for_connection(timeout\u001b[38;5;241m=\u001b[39mtimeout)\n\u001b[1;32m    234\u001b[0m \u001b[38;5;28;01mtry\u001b[39;00m:\n\u001b[1;32m    235\u001b[0m     \u001b[38;5;66;03m# Send the request on the assigned connection.\u001b[39;00m\n\u001b[0;32m--> 236\u001b[0m     response \u001b[38;5;241m=\u001b[39m \u001b[43mconnection\u001b[49m\u001b[38;5;241;43m.\u001b[39;49m\u001b[43mhandle_request\u001b[49m\u001b[43m(\u001b[49m\n\u001b[1;32m    237\u001b[0m \u001b[43m        \u001b[49m\u001b[43mpool_request\u001b[49m\u001b[38;5;241;43m.\u001b[39;49m\u001b[43mrequest\u001b[49m\n\u001b[1;32m    238\u001b[0m \u001b[43m    \u001b[49m\u001b[43m)\u001b[49m\n\u001b[1;32m    239\u001b[0m \u001b[38;5;28;01mexcept\u001b[39;00m ConnectionNotAvailable:\n\u001b[1;32m    240\u001b[0m     \u001b[38;5;66;03m# In some cases a connection may initially be available to\u001b[39;00m\n\u001b[1;32m    241\u001b[0m     \u001b[38;5;66;03m# handle a request, but then become unavailable.\u001b[39;00m\n\u001b[1;32m    242\u001b[0m     \u001b[38;5;66;03m#\u001b[39;00m\n\u001b[1;32m    243\u001b[0m     \u001b[38;5;66;03m# In this case we clear the connection and try again.\u001b[39;00m\n\u001b[1;32m    244\u001b[0m     pool_request\u001b[38;5;241m.\u001b[39mclear_connection()\n",
      "File \u001b[0;32m~/Thesis_project/.venv_Master/lib/python3.11/site-packages/httpcore/_sync/connection.py:103\u001b[0m, in \u001b[0;36mHTTPConnection.handle_request\u001b[0;34m(self, request)\u001b[0m\n\u001b[1;32m    100\u001b[0m     \u001b[38;5;28mself\u001b[39m\u001b[38;5;241m.\u001b[39m_connect_failed \u001b[38;5;241m=\u001b[39m \u001b[38;5;28;01mTrue\u001b[39;00m\n\u001b[1;32m    101\u001b[0m     \u001b[38;5;28;01mraise\u001b[39;00m exc\n\u001b[0;32m--> 103\u001b[0m \u001b[38;5;28;01mreturn\u001b[39;00m \u001b[38;5;28;43mself\u001b[39;49m\u001b[38;5;241;43m.\u001b[39;49m\u001b[43m_connection\u001b[49m\u001b[38;5;241;43m.\u001b[39;49m\u001b[43mhandle_request\u001b[49m\u001b[43m(\u001b[49m\u001b[43mrequest\u001b[49m\u001b[43m)\u001b[49m\n",
      "File \u001b[0;32m~/Thesis_project/.venv_Master/lib/python3.11/site-packages/httpcore/_sync/http11.py:136\u001b[0m, in \u001b[0;36mHTTP11Connection.handle_request\u001b[0;34m(self, request)\u001b[0m\n\u001b[1;32m    134\u001b[0m     \u001b[38;5;28;01mwith\u001b[39;00m Trace(\u001b[38;5;124m\"\u001b[39m\u001b[38;5;124mresponse_closed\u001b[39m\u001b[38;5;124m\"\u001b[39m, logger, request) \u001b[38;5;28;01mas\u001b[39;00m trace:\n\u001b[1;32m    135\u001b[0m         \u001b[38;5;28mself\u001b[39m\u001b[38;5;241m.\u001b[39m_response_closed()\n\u001b[0;32m--> 136\u001b[0m \u001b[38;5;28;01mraise\u001b[39;00m exc\n",
      "File \u001b[0;32m~/Thesis_project/.venv_Master/lib/python3.11/site-packages/httpcore/_sync/http11.py:106\u001b[0m, in \u001b[0;36mHTTP11Connection.handle_request\u001b[0;34m(self, request)\u001b[0m\n\u001b[1;32m     95\u001b[0m     \u001b[38;5;28;01mpass\u001b[39;00m\n\u001b[1;32m     97\u001b[0m \u001b[38;5;28;01mwith\u001b[39;00m Trace(\n\u001b[1;32m     98\u001b[0m     \u001b[38;5;124m\"\u001b[39m\u001b[38;5;124mreceive_response_headers\u001b[39m\u001b[38;5;124m\"\u001b[39m, logger, request, kwargs\n\u001b[1;32m     99\u001b[0m ) \u001b[38;5;28;01mas\u001b[39;00m trace:\n\u001b[1;32m    100\u001b[0m     (\n\u001b[1;32m    101\u001b[0m         http_version,\n\u001b[1;32m    102\u001b[0m         status,\n\u001b[1;32m    103\u001b[0m         reason_phrase,\n\u001b[1;32m    104\u001b[0m         headers,\n\u001b[1;32m    105\u001b[0m         trailing_data,\n\u001b[0;32m--> 106\u001b[0m     ) \u001b[38;5;241m=\u001b[39m \u001b[38;5;28;43mself\u001b[39;49m\u001b[38;5;241;43m.\u001b[39;49m\u001b[43m_receive_response_headers\u001b[49m\u001b[43m(\u001b[49m\u001b[38;5;241;43m*\u001b[39;49m\u001b[38;5;241;43m*\u001b[39;49m\u001b[43mkwargs\u001b[49m\u001b[43m)\u001b[49m\n\u001b[1;32m    107\u001b[0m     trace\u001b[38;5;241m.\u001b[39mreturn_value \u001b[38;5;241m=\u001b[39m (\n\u001b[1;32m    108\u001b[0m         http_version,\n\u001b[1;32m    109\u001b[0m         status,\n\u001b[1;32m    110\u001b[0m         reason_phrase,\n\u001b[1;32m    111\u001b[0m         headers,\n\u001b[1;32m    112\u001b[0m     )\n\u001b[1;32m    114\u001b[0m network_stream \u001b[38;5;241m=\u001b[39m \u001b[38;5;28mself\u001b[39m\u001b[38;5;241m.\u001b[39m_network_stream\n",
      "File \u001b[0;32m~/Thesis_project/.venv_Master/lib/python3.11/site-packages/httpcore/_sync/http11.py:177\u001b[0m, in \u001b[0;36mHTTP11Connection._receive_response_headers\u001b[0;34m(self, request)\u001b[0m\n\u001b[1;32m    174\u001b[0m timeout \u001b[38;5;241m=\u001b[39m timeouts\u001b[38;5;241m.\u001b[39mget(\u001b[38;5;124m\"\u001b[39m\u001b[38;5;124mread\u001b[39m\u001b[38;5;124m\"\u001b[39m, \u001b[38;5;28;01mNone\u001b[39;00m)\n\u001b[1;32m    176\u001b[0m \u001b[38;5;28;01mwhile\u001b[39;00m \u001b[38;5;28;01mTrue\u001b[39;00m:\n\u001b[0;32m--> 177\u001b[0m     event \u001b[38;5;241m=\u001b[39m \u001b[38;5;28;43mself\u001b[39;49m\u001b[38;5;241;43m.\u001b[39;49m\u001b[43m_receive_event\u001b[49m\u001b[43m(\u001b[49m\u001b[43mtimeout\u001b[49m\u001b[38;5;241;43m=\u001b[39;49m\u001b[43mtimeout\u001b[49m\u001b[43m)\u001b[49m\n\u001b[1;32m    178\u001b[0m     \u001b[38;5;28;01mif\u001b[39;00m \u001b[38;5;28misinstance\u001b[39m(event, h11\u001b[38;5;241m.\u001b[39mResponse):\n\u001b[1;32m    179\u001b[0m         \u001b[38;5;28;01mbreak\u001b[39;00m\n",
      "File \u001b[0;32m~/Thesis_project/.venv_Master/lib/python3.11/site-packages/httpcore/_sync/http11.py:217\u001b[0m, in \u001b[0;36mHTTP11Connection._receive_event\u001b[0;34m(self, timeout)\u001b[0m\n\u001b[1;32m    214\u001b[0m     event \u001b[38;5;241m=\u001b[39m \u001b[38;5;28mself\u001b[39m\u001b[38;5;241m.\u001b[39m_h11_state\u001b[38;5;241m.\u001b[39mnext_event()\n\u001b[1;32m    216\u001b[0m \u001b[38;5;28;01mif\u001b[39;00m event \u001b[38;5;129;01mis\u001b[39;00m h11\u001b[38;5;241m.\u001b[39mNEED_DATA:\n\u001b[0;32m--> 217\u001b[0m     data \u001b[38;5;241m=\u001b[39m \u001b[38;5;28;43mself\u001b[39;49m\u001b[38;5;241;43m.\u001b[39;49m\u001b[43m_network_stream\u001b[49m\u001b[38;5;241;43m.\u001b[39;49m\u001b[43mread\u001b[49m\u001b[43m(\u001b[49m\n\u001b[1;32m    218\u001b[0m \u001b[43m        \u001b[49m\u001b[38;5;28;43mself\u001b[39;49m\u001b[38;5;241;43m.\u001b[39;49m\u001b[43mREAD_NUM_BYTES\u001b[49m\u001b[43m,\u001b[49m\u001b[43m \u001b[49m\u001b[43mtimeout\u001b[49m\u001b[38;5;241;43m=\u001b[39;49m\u001b[43mtimeout\u001b[49m\n\u001b[1;32m    219\u001b[0m \u001b[43m    \u001b[49m\u001b[43m)\u001b[49m\n\u001b[1;32m    221\u001b[0m     \u001b[38;5;66;03m# If we feed this case through h11 we'll raise an exception like:\u001b[39;00m\n\u001b[1;32m    222\u001b[0m     \u001b[38;5;66;03m#\u001b[39;00m\n\u001b[1;32m    223\u001b[0m     \u001b[38;5;66;03m#     httpcore.RemoteProtocolError: can't handle event type\u001b[39;00m\n\u001b[0;32m   (...)\u001b[0m\n\u001b[1;32m    227\u001b[0m     \u001b[38;5;66;03m# perspective. Instead we handle this case distinctly and treat\u001b[39;00m\n\u001b[1;32m    228\u001b[0m     \u001b[38;5;66;03m# it as a ConnectError.\u001b[39;00m\n\u001b[1;32m    229\u001b[0m     \u001b[38;5;28;01mif\u001b[39;00m data \u001b[38;5;241m==\u001b[39m \u001b[38;5;124mb\u001b[39m\u001b[38;5;124m\"\u001b[39m\u001b[38;5;124m\"\u001b[39m \u001b[38;5;129;01mand\u001b[39;00m \u001b[38;5;28mself\u001b[39m\u001b[38;5;241m.\u001b[39m_h11_state\u001b[38;5;241m.\u001b[39mtheir_state \u001b[38;5;241m==\u001b[39m h11\u001b[38;5;241m.\u001b[39mSEND_RESPONSE:\n",
      "File \u001b[0;32m~/Thesis_project/.venv_Master/lib/python3.11/site-packages/httpcore/_backends/sync.py:128\u001b[0m, in \u001b[0;36mSyncStream.read\u001b[0;34m(self, max_bytes, timeout)\u001b[0m\n\u001b[1;32m    126\u001b[0m \u001b[38;5;28;01mwith\u001b[39;00m map_exceptions(exc_map):\n\u001b[1;32m    127\u001b[0m     \u001b[38;5;28mself\u001b[39m\u001b[38;5;241m.\u001b[39m_sock\u001b[38;5;241m.\u001b[39msettimeout(timeout)\n\u001b[0;32m--> 128\u001b[0m     \u001b[38;5;28;01mreturn\u001b[39;00m \u001b[38;5;28;43mself\u001b[39;49m\u001b[38;5;241;43m.\u001b[39;49m\u001b[43m_sock\u001b[49m\u001b[38;5;241;43m.\u001b[39;49m\u001b[43mrecv\u001b[49m\u001b[43m(\u001b[49m\u001b[43mmax_bytes\u001b[49m\u001b[43m)\u001b[49m\n",
      "\u001b[0;31mKeyboardInterrupt\u001b[0m: "
     ]
    }
   ],
   "source": [
    "import sys\n",
    "sys.path.append('../../')  # Add the path to the my_packages module\n",
    "%autoreload 2\n",
    "%reload_ext autoreload\n",
    "from my_packages.db_service.best_params_service import get_best_params\n",
    "from my_packages.db_service.experiment_service import confirm_testing_rerun, confirm_validation_rerun, experiment_exists, pretty_print_experiment_collections, run_experiment_quality_checks, setup_experiment_collection\n",
    "from my_packages.evaluation.code_evaluation import run_validation, run_testing\n",
    "from my_packages.utils.tokens_utils import get_model_code_tokens_from_file\n",
    "from colorama import Fore, Back, Style\n",
    "import os\n",
    "os.environ['EXPERIMENT_DB_NAME'] = \"few_shot_experiments\"\n",
    "\n",
    "metrics = ['syntax', 'semantic', 'tests'] #['syntax', 'semantic', 'tests'] OR ['syntax', 'semantic']\n",
    "prompt_type = PromptType.SIGNATURE if 'tests' in metrics else PromptType.REGULAR\n",
    "example_selector = f\"{'semantic' if semantic_selector else 'coverage'}\"\n",
    "experiment_name = f\"{prompt_type.value}_{example_selector}_{NUM_SHOTS}_shot\"\n",
    "\n",
    "# Create separate database for this experiment\n",
    "if experiment_exists(experiment_name):\n",
    "    # delete_experiment(experiment_name)\n",
    "    print(f\"📂 Experiemnt '{experiment_name}' already exists.\")\n",
    "    pretty_print_experiment_collections(\n",
    "        experiment_name,\n",
    "        exclude_columns=[\"stderr\", \"stdout\", \"code_candidate\", \"test_result\", \"error_msg\"]\n",
    "    )\n",
    "    if not run_experiment_quality_checks(experiment_name):\n",
    "        print(\"\\n❌ Experiment quality checks failed. Exiting.\")\n",
    "        raise Exception(\"Experiment quality checks failed.\")\n",
    "else:\n",
    "    setup_experiment_collection(experiment_name)\n",
    "\n",
    "results = {}\n",
    "\n",
    "for model_name in models:\n",
    "    print(\"\\n\\n\")\n",
    "    model = get_model_code_tokens_from_file(model_name, 'code_max_tokens.json')\n",
    "    results[model_name] = (None, None)\n",
    "\n",
    "    if confirm_validation_rerun(experiment_name, model_name): # If best params exists for model, prompt user to rerun validation. If not exists, return true to run validation.\n",
    "\n",
    "        validation_result = run_validation(\n",
    "            client,\n",
    "            model,\n",
    "            available_nodes,\n",
    "            val_data,\n",
    "            selector,\n",
    "            temperatures=[0.2, 0.6, 0.9],\n",
    "            top_ps=[0.2, 0.6, 0.9],\n",
    "            top_ks=[10, 50, 100],\n",
    "            ks=[1],\n",
    "            seed=9,\n",
    "            debug=False,\n",
    "            optimizer_metric=metrics[-1],\n",
    "            experiment_name=experiment_name,\n",
    "            env=\"prod\", #'dev' for file storage and 'prod' for database storage, for errors, and best params\n",
    "            prompt_type=prompt_type,\n",
    "        )\n",
    "        validation_result.print()\n",
    "        test_results, final_result = run_testing( # Must rerun testing if validation is rerun\n",
    "            client, \n",
    "            model,\n",
    "            available_nodes,\n",
    "            test_data,\n",
    "            selector,\n",
    "            temperature=validation_result.temperature,\n",
    "            top_p=validation_result.top_p,\n",
    "            top_k=validation_result.top_k,\n",
    "            ks=[1, 2, 5, 10], # max(ks) generations per task. Thus, 10 generations per task.\n",
    "            seeds=[3, 75, 346],\n",
    "            debug=False,\n",
    "            metrics=metrics, # current metrics: [\"syntax\", \"semantic\"] OR [\"syntax\", \"semantic\", \"tests\"]\n",
    "            experiment_name=experiment_name,\n",
    "            env=\"prod\", #'dev' for file storage and 'prod' for database storage, for errors and final result\n",
    "            prompt_type=prompt_type,\n",
    "            )\n",
    "        results[model_name] = (test_results, final_result)\n",
    "\n",
    "    else:\n",
    "        validation_result = get_best_params( \n",
    "            experiment_name, \n",
    "            model, \n",
    "            metrics[-1], # optimizer_metric\n",
    "            k = 1\n",
    "        )\n",
    "        # validation_result = Run(\n",
    "        #     phase=\"validation\",\n",
    "        #     temperature=0.6,\n",
    "        #     top_p=0.9,\n",
    "        #     top_k=10,\n",
    "        #     metric_results={\n",
    "        #         \"pass@1\": 0.2,\n",
    "        #     },\n",
    "        #     seed=None\n",
    "        # )\n",
    "    \n",
    "        validation_result.print()\n",
    "        if confirm_testing_rerun(experiment_name, model_name): # If results exists for model, prompt user to rerun testing. If not exists, return true to run testing first time.\n",
    "                test_results, final_result = run_testing(\n",
    "                    client,\n",
    "                    model,\n",
    "                    available_nodes,\n",
    "                    test_data,\n",
    "                    selector,\n",
    "                    temperature=validation_result.temperature,\n",
    "                    top_p=validation_result.top_p,\n",
    "                    top_k=validation_result.top_k,\n",
    "                    ks=[1, 2, 5, 10], # max(ks) generations per task. Thus, 10 generations per task.\n",
    "                    seeds=[3, 75, 346],\n",
    "                    debug=False,\n",
    "                    metrics=metrics, # current metrics: [\"syntax\", \"semantic\"] OR [\"syntax\", \"semantic\", \"tests\"]\n",
    "                    experiment_name=experiment_name,\n",
    "                    env=\"prod\" #'dev' for file storage and 'prod' for database storage, for errors and final result\n",
    "                )\n",
    "                results[model_name] = (test_results, final_result)\n",
    "    \n",
    "        \n",
    "    print(f\"======\\n{model_name} FINAL RESULTS: ===============================\")\n",
    "    print(f\"{Style.BRIGHT}{Fore.CYAN} Model: {model_name} {Style.RESET_ALL}\")\n",
    "    test_runs = results[model_name][0]\n",
    "    final_result = results[model_name][1]\n",
    "    if test_runs:\n",
    "        for run in test_runs:\n",
    "            run.print()\n",
    "    if final_result:\n",
    "        final_result.print()\n",
    "\n",
    "      \n",
    "# Print the final results\n",
    "print(\"\\nALL MODELS FINAL RESULTS:\")\n",
    "for model_name, (test_runs, final_result) in results.items():\n",
    "    print(f\"{Style.BRIGHT}{Fore.CYAN} Model: {model_name} {Style.RESET_ALL}\")\n",
    "    for test_run in test_runs:\n",
    "        test_run.print()\n",
    "    final_result.print()\n",
    "\n"
   ]
  },
  {
   "cell_type": "markdown",
   "id": "29c4307f",
   "metadata": {},
   "source": [
    "<!-- ## Langsmith evaluate -->"
   ]
  },
  {
   "cell_type": "markdown",
   "id": "173b9537",
   "metadata": {},
   "source": [
    "# Pretty print"
   ]
  },
  {
   "cell_type": "code",
   "execution_count": null,
   "id": "f337c1a0",
   "metadata": {},
   "outputs": [
    {
     "name": "stdout",
     "output_type": "stream",
     "text": [
      "\n",
      "🔍 Existing collections for signature_coverage_5_shot: \n",
      "==================================================\n",
      "\n",
      "📂 Collection: signature_coverage_5_shot_errors \n",
      "--------------------------------------------------\n",
      "   model_name  task_id  candidate_id metric error_type      phase  seed  temperature  top_p  top_k              created_at\n",
      "phi4:14b-fp16       48             1  tests   semantic validation     9          0.2    0.2     10 2025-02-18 10:59:02.723\n",
      "phi4:14b-fp16       34             1  tests      tests validation     9          0.2    0.2     10 2025-02-18 10:59:02.723\n",
      "phi4:14b-fp16       18             1  tests     syntax validation     9          0.2    0.2     10 2025-02-18 10:59:02.723\n",
      "phi4:14b-fp16       16             1  tests   semantic validation     9          0.2    0.2     10 2025-02-18 10:59:02.723\n",
      "phi4:14b-fp16        3             1  tests   semantic validation     9          0.2    0.2     10 2025-02-18 10:59:02.723\n",
      "...\n",
      "Total documents/rows: 1295      validation: 517, testing: 778\n",
      "--------------------------------------------------\n",
      "\n",
      "📂 Collection: signature_coverage_5_shot_results \n",
      "--------------------------------------------------\n",
      "                model_name         seed  temperature  top_p  top_k            ks                    syntax@1                    syntax@2                    syntax@5                 syntax@10                  semantic@1                  semantic@2                  semantic@5               semantic@10                     tests@1                     tests@2                     tests@5                    tests@10              created_at                   metrics\n",
      "             phi4:14b-fp16 [3, 75, 346]          0.2    0.9     50 [1, 2, 5, 10] {'mean': 0.83, 'std': 0.02} {'mean': 0.91, 'std': 0.01} {'mean': 0.97, 'std': 0.02} {'mean': 1.0, 'std': 0.0} {'mean': 0.74, 'std': 0.04} {'mean': 0.87, 'std': 0.03} {'mean': 0.97, 'std': 0.02} {'mean': 1.0, 'std': 0.0} {'mean': 0.63, 'std': 0.02} {'mean': 0.78, 'std': 0.04} {'mean': 0.91, 'std': 0.06} {'mean': 0.96, 'std': 0.05} 2025-02-18 10:59:02.723 [syntax, semantic, tests]\n",
      " qwen2.5:14b-instruct-fp16 [3, 75, 346]          0.2    0.9     50 [1, 2, 5, 10] {'mean': 0.77, 'std': 0.04} {'mean': 0.91, 'std': 0.03} {'mean': 0.99, 'std': 0.01} {'mean': 1.0, 'std': 0.0} {'mean': 0.71, 'std': 0.04} {'mean': 0.85, 'std': 0.04} {'mean': 0.96, 'std': 0.03} {'mean': 1.0, 'std': 0.0} {'mean': 0.51, 'std': 0.06} {'mean': 0.69, 'std': 0.07} {'mean': 0.87, 'std': 0.08} {'mean': 0.96, 'std': 0.05} 2025-02-18 10:59:02.723 [syntax, semantic, tests]\n",
      "llama3.3:70b-instruct-fp16 [3, 75, 346]          0.6    0.9     10 [1, 2, 5, 10] {'mean': 0.73, 'std': 0.02} {'mean': 0.91, 'std': 0.02}   {'mean': 1.0, 'std': 0.0} {'mean': 1.0, 'std': 0.0} {'mean': 0.67, 'std': 0.02} {'mean': 0.87, 'std': 0.02} {'mean': 0.98, 'std': 0.01} {'mean': 1.0, 'std': 0.0} {'mean': 0.54, 'std': 0.03} {'mean': 0.68, 'std': 0.03}  {'mean': 0.8, 'std': 0.04} {'mean': 0.85, 'std': 0.05} 2025-02-18 10:59:02.723 [syntax, semantic, tests]\n",
      "...\n",
      "Total documents/rows: 3      \n",
      "--------------------------------------------------\n",
      "\n",
      "📂 Collection: signature_coverage_5_shot_best_params \n",
      "--------------------------------------------------\n",
      "                model_name optimizer_metric  temperature  top_p  top_k  seed              created_at\n",
      "             phi4:14b-fp16            tests          0.2    0.9     50     9 2025-02-18 10:59:02.723\n",
      " qwen2.5:14b-instruct-fp16            tests          0.2    0.9     50     9 2025-02-18 10:59:02.723\n",
      "llama3.3:70b-instruct-fp16            tests          0.6    0.9     10     9 2025-02-18 10:59:02.723\n",
      "...\n",
      "Total documents/rows: 3      \n",
      "--------------------------------------------------\n"
     ]
    }
   ],
   "source": [
    "\n",
    "pretty_print_experiment_collections(experiment_name, exclude_columns=[\"stderr\", \"stdout\", \"code_candidate\", \"test_result\", \"error_msg\"])"
   ]
  },
  {
   "cell_type": "markdown",
   "id": "00dad6de",
   "metadata": {},
   "source": [
    "## Testing one run:"
   ]
  },
  {
   "cell_type": "code",
   "execution_count": null,
   "id": "1ed255c4",
   "metadata": {},
   "outputs": [
    {
     "ename": "RuntimeError",
     "evalue": "Only a single TORCH_LIBRARY can be used to register the namespace prims; please put all of your definitions in a single TORCH_LIBRARY block.  If you were trying to specify implementations, consider using TORCH_LIBRARY_IMPL (which can be duplicated).  If you really intended to define operators for a single namespace in a distributed way, you can use TORCH_LIBRARY_FRAGMENT to explicitly indicate this.  Previous registration of TORCH_LIBRARY was registered at /dev/null:241; latest registration was registered at /dev/null:241",
     "output_type": "error",
     "traceback": [
      "\u001b[0;31m---------------------------------------------------------------------------\u001b[0m",
      "\u001b[0;31mRuntimeError\u001b[0m                              Traceback (most recent call last)",
      "Cell \u001b[0;32mIn[12], line 4\u001b[0m\n\u001b[1;32m      1\u001b[0m \u001b[38;5;28;01mfrom\u001b[39;00m\u001b[38;5;250m \u001b[39m\u001b[38;5;21;01mmy_packages\u001b[39;00m\u001b[38;5;21;01m.\u001b[39;00m\u001b[38;5;21;01mevaluation\u001b[39;00m\u001b[38;5;21;01m.\u001b[39;00m\u001b[38;5;21;01mcode_evaluation\u001b[39;00m\u001b[38;5;250m \u001b[39m\u001b[38;5;28;01mimport\u001b[39;00m evaluate_code, run_model\n\u001b[0;32m----> 4\u001b[0m model_result, largest_context \u001b[38;5;241m=\u001b[39m \u001b[43mrun_model\u001b[49m\u001b[43m(\u001b[49m\n\u001b[1;32m      5\u001b[0m \u001b[43m    \u001b[49m\u001b[43mclient\u001b[49m\u001b[43m,\u001b[49m\n\u001b[1;32m      6\u001b[0m \u001b[43m    \u001b[49m\u001b[38;5;124;43m\"\u001b[39;49m\u001b[38;5;124;43mphi4:14b-fp16\u001b[39;49m\u001b[38;5;124;43m\"\u001b[39;49m\u001b[43m,\u001b[49m\n\u001b[1;32m      7\u001b[0m \u001b[43m    \u001b[49m\u001b[43mavailable_nodes\u001b[49m\u001b[43m,\u001b[49m\n\u001b[1;32m      8\u001b[0m \u001b[43m    \u001b[49m\u001b[43mval_data\u001b[49m\u001b[43m,\u001b[49m\n\u001b[1;32m      9\u001b[0m \u001b[43m    \u001b[49m\u001b[43mselector\u001b[49m\u001b[43m,\u001b[49m\n\u001b[1;32m     10\u001b[0m \u001b[43m    \u001b[49m\u001b[43mmodel\u001b[49m\u001b[43m[\u001b[49m\u001b[38;5;124;43m\"\u001b[39;49m\u001b[38;5;124;43mmax_tokens\u001b[39;49m\u001b[38;5;124;43m\"\u001b[39;49m\u001b[43m]\u001b[49m\u001b[43m,\u001b[49m\n\u001b[1;32m     11\u001b[0m \u001b[43m    \u001b[49m\u001b[38;5;241;43m0.2\u001b[39;49m\u001b[43m,\u001b[49m\n\u001b[1;32m     12\u001b[0m \u001b[43m    \u001b[49m\u001b[38;5;241;43m0.9\u001b[39;49m\u001b[43m,\u001b[49m\n\u001b[1;32m     13\u001b[0m \u001b[43m    \u001b[49m\u001b[38;5;241;43m50\u001b[39;49m\u001b[43m,\u001b[49m\n\u001b[1;32m     14\u001b[0m \u001b[43m    \u001b[49m\u001b[43m[\u001b[49m\u001b[38;5;241;43m1\u001b[39;49m\u001b[43m]\u001b[49m\u001b[43m,\u001b[49m\n\u001b[1;32m     15\u001b[0m \u001b[43m    \u001b[49m\u001b[38;5;241;43m9\u001b[39;49m\u001b[43m,\u001b[49m\n\u001b[1;32m     16\u001b[0m \u001b[43m    \u001b[49m\u001b[38;5;28;43;01mTrue\u001b[39;49;00m\u001b[43m,\u001b[49m\u001b[43m \u001b[49m\n\u001b[1;32m     17\u001b[0m \u001b[43m    \u001b[49m\u001b[43m[\u001b[49m\u001b[38;5;124;43m\"\u001b[39;49m\u001b[38;5;124;43mtests\u001b[39;49m\u001b[38;5;124;43m\"\u001b[39;49m\u001b[43m]\u001b[49m\n\u001b[1;32m     18\u001b[0m \u001b[43m)\u001b[49m\n\u001b[1;32m     20\u001b[0m metric_results_lists \u001b[38;5;241m=\u001b[39m evaluate_code (\n\u001b[1;32m     21\u001b[0m     model_result,\n\u001b[1;32m     22\u001b[0m     ks\u001b[38;5;241m=\u001b[39m[\u001b[38;5;241m1\u001b[39m],\n\u001b[0;32m   (...)\u001b[0m\n\u001b[1;32m     28\u001b[0m     phase\u001b[38;5;241m=\u001b[39m\u001b[38;5;124m\"\u001b[39m\u001b[38;5;124mvalidation\u001b[39m\u001b[38;5;124m\"\u001b[39m\n\u001b[1;32m     29\u001b[0m )\n\u001b[1;32m     30\u001b[0m \u001b[38;5;66;03m## Optimizing for the first k in the ks list\u001b[39;00m\n",
      "File \u001b[0;32m~/Thesis_project/notebooks/few-shot/../../my_packages/evaluation/code_evaluation.py:159\u001b[0m, in \u001b[0;36mrun_model\u001b[0;34m(client, model, available_nodes, data, example_pool, max_new_tokens, temperature, top_p, top_k, ks, seed, debug, prompt_type)\u001b[0m\n\u001b[1;32m    153\u001b[0m     prompt_variables_dict \u001b[38;5;241m=\u001b[39m{\n\u001b[1;32m    154\u001b[0m         \u001b[38;5;124m\"\u001b[39m\u001b[38;5;124mtask\u001b[39m\u001b[38;5;124m\"\u001b[39m: task, \n\u001b[1;32m    155\u001b[0m         \u001b[38;5;124m\"\u001b[39m\u001b[38;5;124mexternal_functions\u001b[39m\u001b[38;5;124m\"\u001b[39m: available_nodes\n\u001b[1;32m    156\u001b[0m     }\n\u001b[1;32m    158\u001b[0m prompt \u001b[38;5;241m=\u001b[39m final_prompt_template\u001b[38;5;241m.\u001b[39mformat(\u001b[38;5;241m*\u001b[39m\u001b[38;5;241m*\u001b[39mprompt_variables_dict)\n\u001b[0;32m--> 159\u001b[0m prompt_size \u001b[38;5;241m=\u001b[39m \u001b[43mclient\u001b[49m\u001b[43m(\u001b[49m\u001b[43mmodel\u001b[49m\u001b[38;5;241;43m=\u001b[39;49m\u001b[43mmodel\u001b[49m\u001b[43m)\u001b[49m\u001b[38;5;241;43m.\u001b[39;49m\u001b[43mget_num_tokens\u001b[49m\u001b[43m(\u001b[49m\u001b[43mprompt\u001b[49m\u001b[43m)\u001b[49m \u001b[38;5;66;03m# Will print warning if prompt is too big for model\u001b[39;00m\n\u001b[1;32m    160\u001b[0m \u001b[38;5;28mprint\u001b[39m(\u001b[38;5;124mf\u001b[39m\u001b[38;5;124m\"\u001b[39m\u001b[38;5;124mTokens in the final prompt: \u001b[39m\u001b[38;5;132;01m{\u001b[39;00mprompt_size\u001b[38;5;132;01m}\u001b[39;00m\u001b[38;5;124m\"\u001b[39m, end\u001b[38;5;241m=\u001b[39m\u001b[38;5;124m\"\u001b[39m\u001b[38;5;130;01m\\r\u001b[39;00m\u001b[38;5;124m\"\u001b[39m)\n\u001b[1;32m    162\u001b[0m \u001b[38;5;28;01mif\u001b[39;00m prompt_size \u001b[38;5;241m>\u001b[39m largest_prompt_ctx_size:\n",
      "File \u001b[0;32m~/Thesis_project/.venv_Master/lib/python3.11/site-packages/langchain_core/language_models/base.py:366\u001b[0m, in \u001b[0;36mBaseLanguageModel.get_num_tokens\u001b[0;34m(self, text)\u001b[0m\n\u001b[1;32m    355\u001b[0m \u001b[38;5;28;01mdef\u001b[39;00m\u001b[38;5;250m \u001b[39m\u001b[38;5;21mget_num_tokens\u001b[39m(\u001b[38;5;28mself\u001b[39m, text: \u001b[38;5;28mstr\u001b[39m) \u001b[38;5;241m-\u001b[39m\u001b[38;5;241m>\u001b[39m \u001b[38;5;28mint\u001b[39m:\n\u001b[1;32m    356\u001b[0m \u001b[38;5;250m    \u001b[39m\u001b[38;5;124;03m\"\"\"Get the number of tokens present in the text.\u001b[39;00m\n\u001b[1;32m    357\u001b[0m \n\u001b[1;32m    358\u001b[0m \u001b[38;5;124;03m    Useful for checking if an input fits in a model's context window.\u001b[39;00m\n\u001b[0;32m   (...)\u001b[0m\n\u001b[1;32m    364\u001b[0m \u001b[38;5;124;03m        The integer number of tokens in the text.\u001b[39;00m\n\u001b[1;32m    365\u001b[0m \u001b[38;5;124;03m    \"\"\"\u001b[39;00m\n\u001b[0;32m--> 366\u001b[0m     \u001b[38;5;28;01mreturn\u001b[39;00m \u001b[38;5;28mlen\u001b[39m(\u001b[38;5;28;43mself\u001b[39;49m\u001b[38;5;241;43m.\u001b[39;49m\u001b[43mget_token_ids\u001b[49m\u001b[43m(\u001b[49m\u001b[43mtext\u001b[49m\u001b[43m)\u001b[49m)\n",
      "File \u001b[0;32m~/Thesis_project/.venv_Master/lib/python3.11/site-packages/langchain_core/language_models/base.py:353\u001b[0m, in \u001b[0;36mBaseLanguageModel.get_token_ids\u001b[0;34m(self, text)\u001b[0m\n\u001b[1;32m    351\u001b[0m     \u001b[38;5;28;01mreturn\u001b[39;00m \u001b[38;5;28mself\u001b[39m\u001b[38;5;241m.\u001b[39mcustom_get_token_ids(text)\n\u001b[1;32m    352\u001b[0m \u001b[38;5;28;01melse\u001b[39;00m:\n\u001b[0;32m--> 353\u001b[0m     \u001b[38;5;28;01mreturn\u001b[39;00m \u001b[43m_get_token_ids_default_method\u001b[49m\u001b[43m(\u001b[49m\u001b[43mtext\u001b[49m\u001b[43m)\u001b[49m\n",
      "File \u001b[0;32m~/Thesis_project/.venv_Master/lib/python3.11/site-packages/langchain_core/language_models/base.py:77\u001b[0m, in \u001b[0;36m_get_token_ids_default_method\u001b[0;34m(text)\u001b[0m\n\u001b[1;32m     75\u001b[0m \u001b[38;5;250m\u001b[39m\u001b[38;5;124;03m\"\"\"Encode the text into token IDs.\"\"\"\u001b[39;00m\n\u001b[1;32m     76\u001b[0m \u001b[38;5;66;03m# get the cached tokenizer\u001b[39;00m\n\u001b[0;32m---> 77\u001b[0m tokenizer \u001b[38;5;241m=\u001b[39m \u001b[43mget_tokenizer\u001b[49m\u001b[43m(\u001b[49m\u001b[43m)\u001b[49m\n\u001b[1;32m     79\u001b[0m \u001b[38;5;66;03m# tokenize the text using the GPT-2 tokenizer\u001b[39;00m\n\u001b[1;32m     80\u001b[0m \u001b[38;5;28;01mreturn\u001b[39;00m tokenizer\u001b[38;5;241m.\u001b[39mencode(text)\n",
      "File \u001b[0;32m~/Thesis_project/.venv_Master/lib/python3.11/site-packages/langchain_core/language_models/base.py:62\u001b[0m, in \u001b[0;36mget_tokenizer\u001b[0;34m()\u001b[0m\n\u001b[1;32m     56\u001b[0m \u001b[38;5;250m\u001b[39m\u001b[38;5;124;03m\"\"\"Get a GPT-2 tokenizer instance.\u001b[39;00m\n\u001b[1;32m     57\u001b[0m \n\u001b[1;32m     58\u001b[0m \u001b[38;5;124;03mThis function is cached to avoid re-loading the tokenizer\u001b[39;00m\n\u001b[1;32m     59\u001b[0m \u001b[38;5;124;03mevery time it is called.\u001b[39;00m\n\u001b[1;32m     60\u001b[0m \u001b[38;5;124;03m\"\"\"\u001b[39;00m\n\u001b[1;32m     61\u001b[0m \u001b[38;5;28;01mtry\u001b[39;00m:\n\u001b[0;32m---> 62\u001b[0m     \u001b[38;5;28;01mfrom\u001b[39;00m\u001b[38;5;250m \u001b[39m\u001b[38;5;21;01mtransformers\u001b[39;00m\u001b[38;5;250m \u001b[39m\u001b[38;5;28;01mimport\u001b[39;00m GPT2TokenizerFast  \u001b[38;5;66;03m# type: ignore[import]\u001b[39;00m\n\u001b[1;32m     63\u001b[0m \u001b[38;5;28;01mexcept\u001b[39;00m \u001b[38;5;167;01mImportError\u001b[39;00m \u001b[38;5;28;01mas\u001b[39;00m e:\n\u001b[1;32m     64\u001b[0m     msg \u001b[38;5;241m=\u001b[39m (\n\u001b[1;32m     65\u001b[0m         \u001b[38;5;124m\"\u001b[39m\u001b[38;5;124mCould not import transformers python package. \u001b[39m\u001b[38;5;124m\"\u001b[39m\n\u001b[1;32m     66\u001b[0m         \u001b[38;5;124m\"\u001b[39m\u001b[38;5;124mThis is needed in order to calculate get_token_ids. \u001b[39m\u001b[38;5;124m\"\u001b[39m\n\u001b[1;32m     67\u001b[0m         \u001b[38;5;124m\"\u001b[39m\u001b[38;5;124mPlease install it with `pip install transformers`.\u001b[39m\u001b[38;5;124m\"\u001b[39m\n\u001b[1;32m     68\u001b[0m     )\n",
      "File \u001b[0;32m~/Thesis_project/.venv_Master/lib/python3.11/site-packages/transformers/__init__.py:26\u001b[0m\n\u001b[1;32m     23\u001b[0m \u001b[38;5;28;01mfrom\u001b[39;00m\u001b[38;5;250m \u001b[39m\u001b[38;5;21;01mtyping\u001b[39;00m\u001b[38;5;250m \u001b[39m\u001b[38;5;28;01mimport\u001b[39;00m TYPE_CHECKING\n\u001b[1;32m     25\u001b[0m \u001b[38;5;66;03m# Check the dependencies satisfy the minimal versions required.\u001b[39;00m\n\u001b[0;32m---> 26\u001b[0m \u001b[38;5;28;01mfrom\u001b[39;00m\u001b[38;5;250m \u001b[39m\u001b[38;5;21;01m.\u001b[39;00m\u001b[38;5;250m \u001b[39m\u001b[38;5;28;01mimport\u001b[39;00m dependency_versions_check\n\u001b[1;32m     27\u001b[0m \u001b[38;5;28;01mfrom\u001b[39;00m\u001b[38;5;250m \u001b[39m\u001b[38;5;21;01m.\u001b[39;00m\u001b[38;5;21;01mutils\u001b[39;00m\u001b[38;5;250m \u001b[39m\u001b[38;5;28;01mimport\u001b[39;00m (\n\u001b[1;32m     28\u001b[0m     OptionalDependencyNotAvailable,\n\u001b[1;32m     29\u001b[0m     _LazyModule,\n\u001b[0;32m   (...)\u001b[0m\n\u001b[1;32m     48\u001b[0m     logging,\n\u001b[1;32m     49\u001b[0m )\n\u001b[1;32m     52\u001b[0m logger \u001b[38;5;241m=\u001b[39m logging\u001b[38;5;241m.\u001b[39mget_logger(\u001b[38;5;18m__name__\u001b[39m)  \u001b[38;5;66;03m# pylint: disable=invalid-name\u001b[39;00m\n",
      "File \u001b[0;32m~/Thesis_project/.venv_Master/lib/python3.11/site-packages/transformers/dependency_versions_check.py:16\u001b[0m\n\u001b[1;32m      1\u001b[0m \u001b[38;5;66;03m# Copyright 2020 The HuggingFace Team. All rights reserved.\u001b[39;00m\n\u001b[1;32m      2\u001b[0m \u001b[38;5;66;03m#\u001b[39;00m\n\u001b[1;32m      3\u001b[0m \u001b[38;5;66;03m# Licensed under the Apache License, Version 2.0 (the \"License\");\u001b[39;00m\n\u001b[0;32m   (...)\u001b[0m\n\u001b[1;32m     12\u001b[0m \u001b[38;5;66;03m# See the License for the specific language governing permissions and\u001b[39;00m\n\u001b[1;32m     13\u001b[0m \u001b[38;5;66;03m# limitations under the License.\u001b[39;00m\n\u001b[1;32m     15\u001b[0m \u001b[38;5;28;01mfrom\u001b[39;00m\u001b[38;5;250m \u001b[39m\u001b[38;5;21;01m.\u001b[39;00m\u001b[38;5;21;01mdependency_versions_table\u001b[39;00m\u001b[38;5;250m \u001b[39m\u001b[38;5;28;01mimport\u001b[39;00m deps\n\u001b[0;32m---> 16\u001b[0m \u001b[38;5;28;01mfrom\u001b[39;00m\u001b[38;5;250m \u001b[39m\u001b[38;5;21;01m.\u001b[39;00m\u001b[38;5;21;01mutils\u001b[39;00m\u001b[38;5;21;01m.\u001b[39;00m\u001b[38;5;21;01mversions\u001b[39;00m\u001b[38;5;250m \u001b[39m\u001b[38;5;28;01mimport\u001b[39;00m require_version, require_version_core\n\u001b[1;32m     19\u001b[0m \u001b[38;5;66;03m# define which module versions we always want to check at run time\u001b[39;00m\n\u001b[1;32m     20\u001b[0m \u001b[38;5;66;03m# (usually the ones defined in `install_requires` in setup.py)\u001b[39;00m\n\u001b[1;32m     21\u001b[0m \u001b[38;5;66;03m#\u001b[39;00m\n\u001b[1;32m     22\u001b[0m \u001b[38;5;66;03m# order specific notes:\u001b[39;00m\n\u001b[1;32m     23\u001b[0m \u001b[38;5;66;03m# - tqdm must be checked before tokenizers\u001b[39;00m\n\u001b[1;32m     25\u001b[0m pkgs_to_check_at_runtime \u001b[38;5;241m=\u001b[39m [\n\u001b[1;32m     26\u001b[0m     \u001b[38;5;124m\"\u001b[39m\u001b[38;5;124mpython\u001b[39m\u001b[38;5;124m\"\u001b[39m,\n\u001b[1;32m     27\u001b[0m     \u001b[38;5;124m\"\u001b[39m\u001b[38;5;124mtqdm\u001b[39m\u001b[38;5;124m\"\u001b[39m,\n\u001b[0;32m   (...)\u001b[0m\n\u001b[1;32m     37\u001b[0m     \u001b[38;5;124m\"\u001b[39m\u001b[38;5;124mpyyaml\u001b[39m\u001b[38;5;124m\"\u001b[39m,\n\u001b[1;32m     38\u001b[0m ]\n",
      "File \u001b[0;32m~/Thesis_project/.venv_Master/lib/python3.11/site-packages/transformers/utils/__init__.py:27\u001b[0m\n\u001b[1;32m     25\u001b[0m \u001b[38;5;28;01mfrom\u001b[39;00m\u001b[38;5;250m \u001b[39m\u001b[38;5;21;01m.\u001b[39;00m\u001b[38;5;21;01m.\u001b[39;00m\u001b[38;5;250m \u001b[39m\u001b[38;5;28;01mimport\u001b[39;00m __version__\n\u001b[1;32m     26\u001b[0m \u001b[38;5;28;01mfrom\u001b[39;00m\u001b[38;5;250m \u001b[39m\u001b[38;5;21;01m.\u001b[39;00m\u001b[38;5;21;01mbackbone_utils\u001b[39;00m\u001b[38;5;250m \u001b[39m\u001b[38;5;28;01mimport\u001b[39;00m BackboneConfigMixin, BackboneMixin\n\u001b[0;32m---> 27\u001b[0m \u001b[38;5;28;01mfrom\u001b[39;00m\u001b[38;5;250m \u001b[39m\u001b[38;5;21;01m.\u001b[39;00m\u001b[38;5;21;01mchat_template_utils\u001b[39;00m\u001b[38;5;250m \u001b[39m\u001b[38;5;28;01mimport\u001b[39;00m DocstringParsingException, TypeHintParsingException, get_json_schema\n\u001b[1;32m     28\u001b[0m \u001b[38;5;28;01mfrom\u001b[39;00m\u001b[38;5;250m \u001b[39m\u001b[38;5;21;01m.\u001b[39;00m\u001b[38;5;21;01mconstants\u001b[39;00m\u001b[38;5;250m \u001b[39m\u001b[38;5;28;01mimport\u001b[39;00m IMAGENET_DEFAULT_MEAN, IMAGENET_DEFAULT_STD, IMAGENET_STANDARD_MEAN, IMAGENET_STANDARD_STD\n\u001b[1;32m     29\u001b[0m \u001b[38;5;28;01mfrom\u001b[39;00m\u001b[38;5;250m \u001b[39m\u001b[38;5;21;01m.\u001b[39;00m\u001b[38;5;21;01mdoc\u001b[39;00m\u001b[38;5;250m \u001b[39m\u001b[38;5;28;01mimport\u001b[39;00m (\n\u001b[1;32m     30\u001b[0m     add_code_sample_docstrings,\n\u001b[1;32m     31\u001b[0m     add_end_docstrings,\n\u001b[0;32m   (...)\u001b[0m\n\u001b[1;32m     35\u001b[0m     replace_return_docstrings,\n\u001b[1;32m     36\u001b[0m )\n",
      "File \u001b[0;32m~/Thesis_project/.venv_Master/lib/python3.11/site-packages/transformers/utils/chat_template_utils.py:40\u001b[0m\n\u001b[1;32m     37\u001b[0m     \u001b[38;5;28;01mfrom\u001b[39;00m\u001b[38;5;250m \u001b[39m\u001b[38;5;21;01mPIL\u001b[39;00m\u001b[38;5;21;01m.\u001b[39;00m\u001b[38;5;21;01mImage\u001b[39;00m\u001b[38;5;250m \u001b[39m\u001b[38;5;28;01mimport\u001b[39;00m Image\n\u001b[1;32m     39\u001b[0m \u001b[38;5;28;01mif\u001b[39;00m is_torch_available():\n\u001b[0;32m---> 40\u001b[0m     \u001b[38;5;28;01mfrom\u001b[39;00m\u001b[38;5;250m \u001b[39m\u001b[38;5;21;01mtorch\u001b[39;00m\u001b[38;5;250m \u001b[39m\u001b[38;5;28;01mimport\u001b[39;00m Tensor\n\u001b[1;32m     43\u001b[0m BASIC_TYPES \u001b[38;5;241m=\u001b[39m (\u001b[38;5;28mint\u001b[39m, \u001b[38;5;28mfloat\u001b[39m, \u001b[38;5;28mstr\u001b[39m, \u001b[38;5;28mbool\u001b[39m, Any, \u001b[38;5;28mtype\u001b[39m(\u001b[38;5;28;01mNone\u001b[39;00m), \u001b[38;5;241m.\u001b[39m\u001b[38;5;241m.\u001b[39m\u001b[38;5;241m.\u001b[39m)\n\u001b[1;32m     44\u001b[0m \u001b[38;5;66;03m# Extracts the initial segment of the docstring, containing the function description\u001b[39;00m\n",
      "File \u001b[0;32m~/Thesis_project/.venv_Master/lib/python3.11/site-packages/torch/__init__.py:2486\u001b[0m\n\u001b[1;32m   2482\u001b[0m \u001b[38;5;28;01mfrom\u001b[39;00m\u001b[38;5;250m \u001b[39m\u001b[38;5;21;01mtorch\u001b[39;00m\u001b[38;5;21;01m.\u001b[39;00m\u001b[38;5;21;01mfunc\u001b[39;00m\u001b[38;5;250m \u001b[39m\u001b[38;5;28;01mimport\u001b[39;00m vmap \u001b[38;5;28;01mas\u001b[39;00m vmap\n\u001b[1;32m   2485\u001b[0m \u001b[38;5;28;01mif\u001b[39;00m \u001b[38;5;129;01mnot\u001b[39;00m TYPE_CHECKING:\n\u001b[0;32m-> 2486\u001b[0m     \u001b[38;5;28;01mfrom\u001b[39;00m\u001b[38;5;250m \u001b[39m\u001b[38;5;21;01mtorch\u001b[39;00m\u001b[38;5;250m \u001b[39m\u001b[38;5;28;01mimport\u001b[39;00m _meta_registrations\n\u001b[1;32m   2488\u001b[0m \u001b[38;5;66;03m# Enable CUDA Sanitizer\u001b[39;00m\n\u001b[1;32m   2489\u001b[0m \u001b[38;5;28;01mif\u001b[39;00m \u001b[38;5;124m\"\u001b[39m\u001b[38;5;124mTORCH_CUDA_SANITIZER\u001b[39m\u001b[38;5;124m\"\u001b[39m \u001b[38;5;129;01min\u001b[39;00m os\u001b[38;5;241m.\u001b[39menviron:\n",
      "File \u001b[0;32m~/Thesis_project/.venv_Master/lib/python3.11/site-packages/torch/_meta_registrations.py:10\u001b[0m\n\u001b[1;32m      8\u001b[0m \u001b[38;5;28;01mimport\u001b[39;00m\u001b[38;5;250m \u001b[39m\u001b[38;5;21;01mtorch\u001b[39;00m\u001b[38;5;21;01m.\u001b[39;00m\u001b[38;5;21;01m_prims_common\u001b[39;00m\u001b[38;5;250m \u001b[39m\u001b[38;5;28;01mas\u001b[39;00m\u001b[38;5;250m \u001b[39m\u001b[38;5;21;01mutils\u001b[39;00m\n\u001b[1;32m      9\u001b[0m \u001b[38;5;28;01mfrom\u001b[39;00m\u001b[38;5;250m \u001b[39m\u001b[38;5;21;01mtorch\u001b[39;00m\u001b[38;5;250m \u001b[39m\u001b[38;5;28;01mimport\u001b[39;00m SymBool, SymFloat, Tensor\n\u001b[0;32m---> 10\u001b[0m \u001b[38;5;28;01mfrom\u001b[39;00m\u001b[38;5;250m \u001b[39m\u001b[38;5;21;01mtorch\u001b[39;00m\u001b[38;5;21;01m.\u001b[39;00m\u001b[38;5;21;01m_decomp\u001b[39;00m\u001b[38;5;250m \u001b[39m\u001b[38;5;28;01mimport\u001b[39;00m (\n\u001b[1;32m     11\u001b[0m     _add_op_to_registry,\n\u001b[1;32m     12\u001b[0m     _convert_out_params,\n\u001b[1;32m     13\u001b[0m     global_decomposition_table,\n\u001b[1;32m     14\u001b[0m     meta_table,\n\u001b[1;32m     15\u001b[0m )\n\u001b[1;32m     16\u001b[0m \u001b[38;5;28;01mfrom\u001b[39;00m\u001b[38;5;250m \u001b[39m\u001b[38;5;21;01mtorch\u001b[39;00m\u001b[38;5;21;01m.\u001b[39;00m\u001b[38;5;21;01m_ops\u001b[39;00m\u001b[38;5;250m \u001b[39m\u001b[38;5;28;01mimport\u001b[39;00m OpOverload\n\u001b[1;32m     17\u001b[0m \u001b[38;5;28;01mfrom\u001b[39;00m\u001b[38;5;250m \u001b[39m\u001b[38;5;21;01mtorch\u001b[39;00m\u001b[38;5;21;01m.\u001b[39;00m\u001b[38;5;21;01m_prims\u001b[39;00m\u001b[38;5;250m \u001b[39m\u001b[38;5;28;01mimport\u001b[39;00m _prim_elementwise_meta, ELEMENTWISE_PRIM_TYPE_PROMOTION_KIND\n",
      "File \u001b[0;32m~/Thesis_project/.venv_Master/lib/python3.11/site-packages/torch/_decomp/__init__.py:249\u001b[0m\n\u001b[1;32m    245\u001b[0m             decompositions\u001b[38;5;241m.\u001b[39mpop(op, \u001b[38;5;28;01mNone\u001b[39;00m)\n\u001b[1;32m    248\u001b[0m \u001b[38;5;66;03m# populate the table\u001b[39;00m\n\u001b[0;32m--> 249\u001b[0m \u001b[38;5;28;01mimport\u001b[39;00m\u001b[38;5;250m \u001b[39m\u001b[38;5;21;01mtorch\u001b[39;00m\u001b[38;5;21;01m.\u001b[39;00m\u001b[38;5;21;01m_decomp\u001b[39;00m\u001b[38;5;21;01m.\u001b[39;00m\u001b[38;5;21;01mdecompositions\u001b[39;00m\n\u001b[1;32m    250\u001b[0m \u001b[38;5;28;01mimport\u001b[39;00m\u001b[38;5;250m \u001b[39m\u001b[38;5;21;01mtorch\u001b[39;00m\u001b[38;5;21;01m.\u001b[39;00m\u001b[38;5;21;01m_refs\u001b[39;00m\n\u001b[1;32m    253\u001b[0m \u001b[38;5;66;03m# See NOTE [Core ATen Ops]\u001b[39;00m\n\u001b[1;32m    254\u001b[0m \u001b[38;5;66;03m#\u001b[39;00m\n\u001b[1;32m    255\u001b[0m \u001b[38;5;66;03m# list was copied from torch/_inductor/decomposition.py\u001b[39;00m\n\u001b[1;32m    256\u001b[0m \u001b[38;5;66;03m# excluding decompositions that results in prim ops\u001b[39;00m\n\u001b[1;32m    257\u001b[0m \u001b[38;5;66;03m# Resulting opset of decomposition is core aten ops\u001b[39;00m\n",
      "File \u001b[0;32m~/Thesis_project/.venv_Master/lib/python3.11/site-packages/torch/_decomp/decompositions.py:15\u001b[0m\n\u001b[1;32m     13\u001b[0m \u001b[38;5;28;01mimport\u001b[39;00m\u001b[38;5;250m \u001b[39m\u001b[38;5;21;01mtorch\u001b[39;00m\n\u001b[1;32m     14\u001b[0m \u001b[38;5;28;01mimport\u001b[39;00m\u001b[38;5;250m \u001b[39m\u001b[38;5;21;01mtorch\u001b[39;00m\u001b[38;5;21;01m.\u001b[39;00m\u001b[38;5;21;01m_meta_registrations\u001b[39;00m\n\u001b[0;32m---> 15\u001b[0m \u001b[38;5;28;01mimport\u001b[39;00m\u001b[38;5;250m \u001b[39m\u001b[38;5;21;01mtorch\u001b[39;00m\u001b[38;5;21;01m.\u001b[39;00m\u001b[38;5;21;01m_prims\u001b[39;00m\u001b[38;5;250m \u001b[39m\u001b[38;5;28;01mas\u001b[39;00m\u001b[38;5;250m \u001b[39m\u001b[38;5;21;01mprims\u001b[39;00m\n\u001b[1;32m     16\u001b[0m \u001b[38;5;28;01mimport\u001b[39;00m\u001b[38;5;250m \u001b[39m\u001b[38;5;21;01mtorch\u001b[39;00m\u001b[38;5;21;01m.\u001b[39;00m\u001b[38;5;21;01m_prims_common\u001b[39;00m\u001b[38;5;250m \u001b[39m\u001b[38;5;28;01mas\u001b[39;00m\u001b[38;5;250m \u001b[39m\u001b[38;5;21;01mutils\u001b[39;00m\n\u001b[1;32m     17\u001b[0m \u001b[38;5;28;01mimport\u001b[39;00m\u001b[38;5;250m \u001b[39m\u001b[38;5;21;01mtorch\u001b[39;00m\u001b[38;5;21;01m.\u001b[39;00m\u001b[38;5;21;01mnn\u001b[39;00m\u001b[38;5;21;01m.\u001b[39;00m\u001b[38;5;21;01mfunctional\u001b[39;00m\u001b[38;5;250m \u001b[39m\u001b[38;5;28;01mas\u001b[39;00m\u001b[38;5;250m \u001b[39m\u001b[38;5;21;01mF\u001b[39;00m\n",
      "File \u001b[0;32m~/Thesis_project/.venv_Master/lib/python3.11/site-packages/torch/_prims/__init__.py:36\u001b[0m\n\u001b[1;32m     32\u001b[0m \u001b[38;5;28;01mfrom\u001b[39;00m\u001b[38;5;250m \u001b[39m\u001b[38;5;21;01mtorch\u001b[39;00m\u001b[38;5;21;01m.\u001b[39;00m\u001b[38;5;21;01moverrides\u001b[39;00m\u001b[38;5;250m \u001b[39m\u001b[38;5;28;01mimport\u001b[39;00m handle_torch_function, has_torch_function\n\u001b[1;32m     33\u001b[0m \u001b[38;5;28;01mfrom\u001b[39;00m\u001b[38;5;250m \u001b[39m\u001b[38;5;21;01mtorch\u001b[39;00m\u001b[38;5;21;01m.\u001b[39;00m\u001b[38;5;21;01mutils\u001b[39;00m\u001b[38;5;21;01m.\u001b[39;00m\u001b[38;5;21;01m_pytree\u001b[39;00m\u001b[38;5;250m \u001b[39m\u001b[38;5;28;01mimport\u001b[39;00m tree_flatten, tree_map, tree_unflatten\n\u001b[0;32m---> 36\u001b[0m prim \u001b[38;5;241m=\u001b[39m \u001b[43mtorch\u001b[49m\u001b[38;5;241;43m.\u001b[39;49m\u001b[43mlibrary\u001b[49m\u001b[38;5;241;43m.\u001b[39;49m\u001b[43mLibrary\u001b[49m\u001b[43m(\u001b[49m\u001b[38;5;124;43m\"\u001b[39;49m\u001b[38;5;124;43mprims\u001b[39;49m\u001b[38;5;124;43m\"\u001b[39;49m\u001b[43m,\u001b[49m\u001b[43m \u001b[49m\u001b[38;5;124;43m\"\u001b[39;49m\u001b[38;5;124;43mDEF\u001b[39;49m\u001b[38;5;124;43m\"\u001b[39;49m\u001b[43m)\u001b[49m\n\u001b[1;32m     37\u001b[0m prim_impl \u001b[38;5;241m=\u001b[39m torch\u001b[38;5;241m.\u001b[39mlibrary\u001b[38;5;241m.\u001b[39mLibrary(\u001b[38;5;124m\"\u001b[39m\u001b[38;5;124mprims\u001b[39m\u001b[38;5;124m\"\u001b[39m, \u001b[38;5;124m\"\u001b[39m\u001b[38;5;124mIMPL\u001b[39m\u001b[38;5;124m\"\u001b[39m, \u001b[38;5;124m\"\u001b[39m\u001b[38;5;124mCompositeExplicitAutograd\u001b[39m\u001b[38;5;124m\"\u001b[39m)\n\u001b[1;32m     38\u001b[0m prim_backend_select_impl \u001b[38;5;241m=\u001b[39m torch\u001b[38;5;241m.\u001b[39mlibrary\u001b[38;5;241m.\u001b[39mLibrary(\u001b[38;5;124m\"\u001b[39m\u001b[38;5;124mprims\u001b[39m\u001b[38;5;124m\"\u001b[39m, \u001b[38;5;124m\"\u001b[39m\u001b[38;5;124mIMPL\u001b[39m\u001b[38;5;124m\"\u001b[39m, \u001b[38;5;124m\"\u001b[39m\u001b[38;5;124mBackendSelect\u001b[39m\u001b[38;5;124m\"\u001b[39m)\n",
      "File \u001b[0;32m~/Thesis_project/.venv_Master/lib/python3.11/site-packages/torch/library.py:87\u001b[0m, in \u001b[0;36mLibrary.__init__\u001b[0;34m(self, ns, kind, dispatch_key)\u001b[0m\n\u001b[1;32m     85\u001b[0m frame \u001b[38;5;241m=\u001b[39m traceback\u001b[38;5;241m.\u001b[39mextract_stack(limit\u001b[38;5;241m=\u001b[39m\u001b[38;5;241m3\u001b[39m)[\u001b[38;5;241m0\u001b[39m]\n\u001b[1;32m     86\u001b[0m filename, lineno \u001b[38;5;241m=\u001b[39m frame\u001b[38;5;241m.\u001b[39mfilename, frame\u001b[38;5;241m.\u001b[39mlineno\n\u001b[0;32m---> 87\u001b[0m \u001b[38;5;28mself\u001b[39m\u001b[38;5;241m.\u001b[39mm: Optional[Any] \u001b[38;5;241m=\u001b[39m \u001b[43mtorch\u001b[49m\u001b[38;5;241;43m.\u001b[39;49m\u001b[43m_C\u001b[49m\u001b[38;5;241;43m.\u001b[39;49m\u001b[43m_dispatch_library\u001b[49m\u001b[43m(\u001b[49m\n\u001b[1;32m     88\u001b[0m \u001b[43m    \u001b[49m\u001b[43mkind\u001b[49m\u001b[43m,\u001b[49m\u001b[43m \u001b[49m\u001b[43mns\u001b[49m\u001b[43m,\u001b[49m\u001b[43m \u001b[49m\u001b[43mdispatch_key\u001b[49m\u001b[43m,\u001b[49m\u001b[43m \u001b[49m\u001b[43mfilename\u001b[49m\u001b[43m,\u001b[49m\u001b[43m \u001b[49m\u001b[43mlineno\u001b[49m\n\u001b[1;32m     89\u001b[0m \u001b[43m\u001b[49m\u001b[43m)\u001b[49m\n\u001b[1;32m     90\u001b[0m \u001b[38;5;28mself\u001b[39m\u001b[38;5;241m.\u001b[39mns \u001b[38;5;241m=\u001b[39m ns\n\u001b[1;32m     91\u001b[0m \u001b[38;5;28mself\u001b[39m\u001b[38;5;241m.\u001b[39m_op_defs: Set[\u001b[38;5;28mstr\u001b[39m] \u001b[38;5;241m=\u001b[39m \u001b[38;5;28mset\u001b[39m()\n",
      "\u001b[0;31mRuntimeError\u001b[0m: Only a single TORCH_LIBRARY can be used to register the namespace prims; please put all of your definitions in a single TORCH_LIBRARY block.  If you were trying to specify implementations, consider using TORCH_LIBRARY_IMPL (which can be duplicated).  If you really intended to define operators for a single namespace in a distributed way, you can use TORCH_LIBRARY_FRAGMENT to explicitly indicate this.  Previous registration of TORCH_LIBRARY was registered at /dev/null:241; latest registration was registered at /dev/null:241"
     ]
    }
   ],
   "source": [
    "from my_packages.evaluation.code_evaluation import evaluate_code, run_model\n",
    "\n",
    "\n",
    "model_result, largest_context = run_model(\n",
    "    client,\n",
    "    \"phi4:14b-fp16\",\n",
    "    available_nodes,\n",
    "    val_data,\n",
    "    selector,\n",
    "    model[\"max_tokens\"],\n",
    "    0.2,\n",
    "    0.9,\n",
    "    50,\n",
    "    [1],\n",
    "    9,\n",
    "    True, \n",
    "    [\"tests\"]\n",
    ")\n",
    "\n",
    "metric_results_lists = evaluate_code (\n",
    "    model_result,\n",
    "    ks=[1],\n",
    "    evaluation_metric=[\"tests\"],\n",
    "    experiment_name=experiment_name,\n",
    "    model_name=model[\"name\"],\n",
    "    env=\"dev\",\n",
    "    hyperparams={\"seed\": 9, \"temperature\": 0.2, \"top_p\": 0.9, \"top_k\": 50},\n",
    "    phase=\"validation\"\n",
    ")\n",
    "## Optimizing for the first k in the ks list\n",
    "pass_at_k_dict = metric_results_lists[0]\n",
    "val_metric = pass_at_k_dict[f\"pass@1\"]\n",
    "print(f\"Validation with temp={0.2}, top_k={50} and top_p={0.9}. Gave pass@1={val_metric} and pass@ks={pass_at_k_dict}\")"
   ]
  },
  {
   "cell_type": "markdown",
   "id": "2237203f",
   "metadata": {},
   "source": [
    "# Write experiment to file"
   ]
  },
  {
   "cell_type": "code",
   "execution_count": null,
   "id": "7c790cce",
   "metadata": {},
   "outputs": [],
   "source": [
    "from my_packages.db_service.few_shots.few_shot_db_service import export_collection\n",
    "\n",
    "\n",
    "export_collection(experiment_name, \"errors\", \"json\", exclude_columns=[])"
   ]
  },
  {
   "cell_type": "markdown",
   "id": "508c8bcc",
   "metadata": {},
   "source": [
    "# Visualization"
   ]
  },
  {
   "cell_type": "code",
   "execution_count": null,
   "id": "ff7fdc81",
   "metadata": {},
   "outputs": [],
   "source": [
    "from my_packages.db_service.few_shots.few_shot_db_service import visualize_error_flow_for_model\n",
    "# Assuming the experiment 'GPT4_signature_exp1' exists,\n",
    "# and you evaluated 100 candidates for model 'GPT-4':\n",
    "visualize_error_flow_for_model(experiment_name, models[0])\n"
   ]
  }
 ],
 "metadata": {
  "kernelspec": {
   "display_name": ".venv_Master",
   "language": "python",
   "name": "python3"
  },
  "language_info": {
   "codemirror_mode": {
    "name": "ipython",
    "version": 3
   },
   "file_extension": ".py",
   "mimetype": "text/x-python",
   "name": "python",
   "nbconvert_exporter": "python",
   "pygments_lexer": "ipython3",
   "version": "3.11.0rc1"
  }
 },
 "nbformat": 4,
 "nbformat_minor": 5
}
