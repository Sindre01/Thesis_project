{
 "cells": [
  {
   "cell_type": "markdown",
   "id": "605d132a-e3b2-42ee-82a2-50ccefbc9139",
   "metadata": {},
   "source": [
    "<!-- ## Install dependencies -->"
   ]
  },
  {
   "cell_type": "code",
   "execution_count": 6,
   "id": "6cf93b4f-f9b0-4929-bd2c-4bb7688d8576",
   "metadata": {},
   "outputs": [],
   "source": [
    "\n",
    "\n",
    "# For Notebook:\n",
    "# %pip install ollama\n",
    "# %pip install openai\n",
    "# %pip install anthropic\n",
    "# %pip install transformers\n",
    "# %pip install tiktoken\n",
    "# %pip install python-dotenv\n",
    "# %pip install colorama\n",
    "\n",
    "\n",
    "\n",
    "# For packages: \n",
    "# %pip install scikit-learn\n",
    "# %pip install matplotlib\n",
    "# %pip install numpy\n",
    "# %pip install pandas\n",
    "# %pip install iterative-stratification\n",
    "# %pip install langchain\n",
    "# %pip install \"langsmith<0.2.0\"\n",
    "\n",
    "\n",
    "# For WebUI testing:\n",
    "# %pip install open-webui\n",
    "\n"
   ]
  },
  {
   "cell_type": "markdown",
   "id": "315b4428-6b24-441c-90da-44e03336f79d",
   "metadata": {},
   "source": [
    "<!-- # Get data from Langsmith -->"
   ]
  },
  {
   "cell_type": "markdown",
   "id": "8b3fe237",
   "metadata": {},
   "source": [
    "# Get dataset from Langsmith"
   ]
  },
  {
   "cell_type": "code",
   "execution_count": 7,
   "id": "d51ed17d-7b3a-469b-8da6-bfb763f9e532",
   "metadata": {},
   "outputs": [
    {
     "name": "stdout",
     "output_type": "stream",
     "text": [
      "Existing dataset found.\n",
      "dataset_id=UUID('182c3f50-5f19-4b67-a6b1-c98b33bb2d12') inputs={'task': 'Create a function to check whether the given number is a perfect square or not.', 'function_signature': 'func(doc: \"checks whether the given number is a perfect square or not.\") is_perfect_square {\\nin(x: 354.8534228128, y: -53.570902536908875, name: \"input\") property(Number) input_f5c03d\\n in(x: 161.86656944950778, y: -211.44732045205976, name: \"execute\") trigger() execute_27b8c3\\n out(x: 1748.7398492866953, y: -10.179326168336845, name: \"out\") property(Bool) out_f3db9f\\n out(x: 1894.6987078855211, y: 120.75836251660428, name: \"continue\") trigger() continue_8ba06b'} outputs={'response': 'import(\"std\", Std_k98ojb)\\nimport(\"http\", Http_q7o96c)\\n\\nmodule() main {\\n    func(doc: \"checks whether the given number is a perfect square or not.\") is_perfect_square {\\n        in(x: 354, y: -53, name: \"input\") property(Number) input_f5c03d\\n        in(x: 161, y: -211, name: \"execute\") trigger() execute_27b8c3\\n\\n        out(x: 1748, y: -10, name: \"out\") property(Bool) out_f3db9f\\n        out(x: 1894, y: 120, name: \"continue\") trigger() continue_8ba06b\\n\\n        instance(x: 352, y: -493) map_6030c9 root.Std_k98ojb.Iteration.Map {}\\n        instance(x: 591, y: 74) generaterange_038fce root.Std_k98ojb.List.GenerateRange {}\\n        instance(x: 933, y: 25) lessthanorequal_f11fda root.Std_k98ojb.Math.LessThanOrEqual {}\\n        instance(x: 714, y: -155) for_8cb3f6 root.Std_k98ojb.Std.For {}\\n        instance(x: 1812, y: -319) and_80a119 root.Std_k98ojb.Logic.And {}\\n        instance(x: 1121, y: -54) if_07b8c7 root.Std_k98ojb.Std.If {}\\n        instance(x: 1504, y: -400) expression_b720d7 root.Std_k98ojb.Math.Expression {\\n            expression: \"(n % i == 0)\"\\n        }\\n        instance(x: 1496, y: -187) expression_9fba8c root.Std_k98ojb.Math.Expression {\\n            expression: \"(n / i == i)\"\\n        }\\n        instance(x: 2136, y: -356) if_e19a62 root.Std_k98ojb.Std.If {}\\n        instance(x: 1088, y: -256) add_b4554f root.Std_k98ojb.Math.Add {}\\n        1 -> generaterange_038fce.from\\n        input_f5c03d -> generaterange_038fce.to\\n        generaterange_038fce.list -> map_6030c9.items\\n        func() {\\n            in(x: -76, y: 46, name: \"element\") property(Number) element_5f51f7\\n\\n            out(x: 382, y: 19, name: \"out\") property(Number) out_d0fd24\\n\\n            instance(x: 106, y: 17) mul_2f9d09 root.Std_k98ojb.Math.Mul {}\\n            element_5f51f7 -> mul_2f9d09.first\\n            element_5f51f7 -> mul_2f9d09.second\\n            mul_2f9d09.result -> out_d0fd24\\n        } -> map_6030c9.handler\\n        map_6030c9.output_list -> for_8cb3f6.items\\n        for_8cb3f6.item -> lessthanorequal_f11fda.left\\n        input_f5c03d -> lessthanorequal_f11fda.right\\n        lessthanorequal_f11fda.result -> if_07b8c7.predicate\\n        for_8cb3f6.onItem -> if_07b8c7.execute\\n        if_07b8c7.else -> continue_8ba06b\\n        expression_b720d7.result -> and_80a119.left\\n        expression_9fba8c.result -> and_80a119.right\\n        and_80a119.result -> if_e19a62.predicate\\n        if_07b8c7.then -> if_e19a62.execute\\n        for_8cb3f6.index -> add_b4554f.first\\n        1 -> add_b4554f.second\\n        add_b4554f.result -> expression_b720d7.gen_1\\n        add_b4554f.result -> expression_9fba8c.gen_1\\n        input_f5c03d -> expression_9fba8c.gen_0\\n        input_f5c03d -> expression_b720d7.gen_0\\n        if_07b8c7.value -> out_f3db9f\\n        if_e19a62.then -> continue_8ba06b\\n        for_8cb3f6.done -> continue_8ba06b\\n        execute_27b8c3 -> for_8cb3f6.reset\\n        if_e19a62.else -> for_8cb3f6.next\\n    }\\n\\n    instance(x: -189, y: 222) is_perfect_square_f0be66 root.main.is_perfect_square {}\\n}'} metadata={'task_id': '50', 'testing': {'tests': {'test_cases': [{'input': 10, 'expected_output': False}, {'input': 36, 'expected_output': True}, {'input': 14, 'expected_output': False}]}, 'function_signature': 'func(doc: \"checks whether the given number is a perfect square or not.\") is_perfect_square {\\nin(x: 354.8534228128, y: -53.570902536908875, name: \"input\") property(Number) input_f5c03d\\n in(x: 161.86656944950778, y: -211.44732045205976, name: \"execute\") trigger() execute_27b8c3\\n out(x: 1748.7398492866953, y: -10.179326168336845, name: \"out\") property(Bool) out_f3db9f\\n out(x: 1894.6987078855211, y: 120.75836251660428, name: \"continue\") trigger() continue_8ba06b'}, 'MBPP_task_id': '803', 'dataset_split': ['train'], 'external_functions': 'Iteration.Map, List.GenerateRange, Math.LessThanOrEqual, Std.For, Logic.And, Std.If, Math.Expression, Math.Add, Math.Mul'} id=UUID('6588db42-1e35-4d14-8815-1d1292703b08') created_at=datetime.datetime(2025, 2, 12, 9, 38, 12, 417838, tzinfo=datetime.timezone.utc) modified_at=datetime.datetime(2025, 2, 12, 9, 38, 12, 417838, tzinfo=datetime.timezone.utc) runs=[] source_run_id=None attachments={}\n",
      "Number of train examples loaded: 32\n",
      "Number of validation examples loaded: 9\n",
      "Number of test examples loaded: 9\n"
     ]
    }
   ],
   "source": [
    "from dotenv import load_dotenv\n",
    "from langsmith import Client\n",
    "from langsmith.schemas import Example\n",
    "\n",
    "dataset_name = \"Code prediction\"\n",
    "\n",
    "load_dotenv(\"../../.env\")\n",
    "langsmith_client = Client()\n",
    "\n",
    "if langsmith_client.has_dataset(dataset_name=dataset_name):\n",
    "    langsmith_dataset=langsmith_client.read_dataset(dataset_name=dataset_name)\n",
    "    print(\"Existing dataset found.\")\n",
    "    \n",
    "    train_data = list(langsmith_client.list_examples(\n",
    "        dataset_name=dataset_name,\n",
    "        splits=[\"train\"],\n",
    "        # metadata={\"task_id\": \"1\"},\n",
    "        # limit=1\n",
    "    ))\n",
    "    \n",
    "\n",
    "    # train_data = [example.dict(include={\"inputs\", \"outputs\", \"metadata\"}) for example in train_data]\n",
    "    print(train_data[0])\n",
    "    print(f\"Number of train examples loaded: {len(train_data)}\")\n",
    "    \n",
    "    val_data = list(langsmith_client.list_examples(\n",
    "        dataset_name=dataset_name,\n",
    "        splits=[\"validation\"],\n",
    "        # metadata={\"task_id\": \"1\"},\n",
    "        # limit=5\n",
    "    ))\n",
    "    print(f\"Number of validation examples loaded: {len(val_data)}\")\n",
    "    # val_data = [example.dict(include={\"inputs\", \"outputs\", \"metadata\"}) for example in val_data]\n",
    "\n",
    "\n",
    "    test_data = list(langsmith_client.list_examples(\n",
    "        dataset_name=dataset_name,\n",
    "        splits=[\"test\"],\n",
    "        # metadata={\"task_id\": \"1\"},\n",
    "        # limit=5\n",
    "    ))\n",
    "    print(f\"Number of test examples loaded: {len(test_data)}\")\n",
    "    # test_data = [example.dict(include={\"inputs\", \"outputs\", \"metadata\"}) for example in test_data]\n",
    "    \n",
    "    # make the rest of the code work with Example object, instead of [{'task_id': str, 'task': str, 'response': list, 'MBPP_task_id': str}]. \n",
    "    # Create an database of type chat\n",
    " \n",
    "else:\n",
    "    print(f\"No existing dataset found with name: {dataset_name}.\")\n",
    "\n"
   ]
  },
  {
   "cell_type": "markdown",
   "id": "c83cf60e",
   "metadata": {},
   "source": [
    "<!-- # Init model provider -->"
   ]
  },
  {
   "cell_type": "markdown",
   "id": "1aeea479",
   "metadata": {},
   "source": [
    "# Model configurations"
   ]
  },
  {
   "cell_type": "code",
   "execution_count": 8,
   "id": "5330f865",
   "metadata": {},
   "outputs": [
    {
     "name": "stdout",
     "output_type": "stream",
     "text": [
      "Number of all responses: 50\n",
      "Server is reachable.\n"
     ]
    }
   ],
   "source": [
    "import os\n",
    "import sys\n",
    "from dotenv import load_dotenv\n",
    "sys.path.append('../../')  # Add the path to the my_packages module\n",
    "from my_packages.utils.tokens_utils import models_not_in_file, write_models_tokens_to_file\n",
    "from my_packages.utils.server_utils import server_diagnostics, is_remote_server_reachable\n",
    "from langchain_ollama import OllamaEmbeddings, ChatOllama\n",
    "from langchain_anthropic import ChatAnthropic\n",
    "from langchain_openai import OpenAIEmbeddings, ChatOpenAI\n",
    "\n",
    "model_provider = 'ollama'\n",
    "\n",
    "load_dotenv(\"../../.env\")\n",
    "all_responses = [sample.outputs['response'] for sample in train_data] + [sample.outputs['response'] for sample in val_data] + [sample.outputs['response'] for sample in test_data]\n",
    "print(f\"Number of all responses: {len(all_responses)}\")\n",
    "\n",
    "match model_provider:\n",
    "    case 'ollama':\n",
    "        host = 'http://localhost:11434'\n",
    "        if is_remote_server_reachable(url = host + \"/api/tags\"):\n",
    "            print(\"Server is reachable.\")\n",
    "        else:\n",
    "            server_diagnostics()\n",
    "            print(\"Ollama server is not reachable. Batch job might have finished. Try running bash script again.\")\n",
    "        client = ChatOllama\n",
    "   \n",
    "    \n",
    "        models = [\n",
    "            # 14b models:\n",
    "            # \"phi4:14b-fp16\", #16k context length\n",
    "            # \"deepseek-r1:14b\",\n",
    "            \"qwen2.5:14b-instruct-fp16\", #128 k\n",
    "\n",
    "            #32b models:\n",
    "            # \"qwq:32b-preview-fp16\", #ctx: 32,768 tokens\n",
    "            # \"qwen2.5-coder:32b-instruct-fp16\", #32,768 tokens\n",
    " \n",
    "            # #70b models:\n",
    "            # \"llama3.3:70b-instruct-fp16\", #ctx: 130k\n",
    "            # \"qwen2.5:72b-instruct-fp16\", #ctx: 139k\n",
    "        ]\n",
    "        models_not_tokenized = models_not_in_file(models, 'code_max_tokens.json')\n",
    "        write_models_tokens_to_file(client, models_not_tokenized, all_responses, 'code_max_tokens.json')\n",
    "\n",
    "    case 'openai':\n",
    "        openai_token = os.getenv('OPENAI_API_KEY')\n",
    "        if not openai_token:\n",
    "            raise Exception(\"OpenAI API key not found in .env file\")\n",
    "        client = ChatOpenAI\n",
    "        models = [\n",
    "            \"gpt-4o\",\n",
    "            # \"o1-preview\", \n",
    "        ]\n",
    "        # few_shot_messages = create_few_shot_messages(explained_used_libraries, train_prompts, train_responses, \"NODE_GENERATOR_TEMPLATE\", \"developer\")\n",
    "        models_not_tokenized = models_not_in_file(models, 'code_max_tokens.json')\n",
    "        write_models_tokens_to_file(client, models_not_tokenized, all_responses, 'code_max_tokens.json')\n",
    "\n",
    "    case 'anthropic':\n",
    "        anthropic_token = os.getenv('ANTHROPIC_API_KEY')\n",
    "        if not anthropic_token:\n",
    "            raise Exception(\"Anthropic API key not found in .env file\")\n",
    "        client = ChatAnthropic\n",
    "        # embed_client = AnthropicEmbeddings\n",
    "        models = [\n",
    "            \"claude-3-5-sonnet-latest\"\n",
    "        ]\n",
    "        models_not_tokenized = models_not_in_file(models, 'code_max_tokens.json')\n",
    "        write_models_tokens_to_file(client, models_not_tokenized, all_responses, 'code_max_tokens.json')\n",
    "    case _:\n",
    "        raise Exception(\"Model provider not supported\")\n",
    "\n",
    "\n"
   ]
  },
  {
   "cell_type": "markdown",
   "id": "6b075a40",
   "metadata": {},
   "source": [
    "# Task configurations"
   ]
  },
  {
   "cell_type": "markdown",
   "id": "b02a6d5c",
   "metadata": {},
   "source": [
    "<!-- ## Experiments settings -->"
   ]
  },
  {
   "cell_type": "code",
   "execution_count": 9,
   "id": "8c44196a",
   "metadata": {},
   "outputs": [
    {
     "name": "stdout",
     "output_type": "stream",
     "text": [
      "Library functions included in the dataset: 51\n"
     ]
    }
   ],
   "source": [
    "from my_packages.data_processing.attributes_processing import used_functions_from_dataset, used_functions_to_string\n",
    "from my_packages.data_processing.split_dataset import read_dataset_to_json\n",
    "\n",
    "prompt_prefix = \"Create a function\" # \"e.g., \"Create a flow\"\n",
    "NUM_SHOTS = 5\n",
    "semantic_selector = False\n",
    "\n",
    "main_dataset_folder = '../../data/MBPP-Midio-50.json'\n",
    "dataset = read_dataset_to_json(main_dataset_folder)\n",
    "used_functions_json = used_functions_from_dataset(dataset)\n",
    "available_nodes = used_functions_to_string(used_functions_json)\n"
   ]
  },
  {
   "cell_type": "markdown",
   "id": "6d4a530b",
   "metadata": {},
   "source": [
    "# Init Example selector"
   ]
  },
  {
   "cell_type": "code",
   "execution_count": 10,
   "id": "9c9f228b",
   "metadata": {},
   "outputs": [
    {
     "name": "stdout",
     "output_type": "stream",
     "text": [
      "Number of examples in the pool: 32\n",
      "Computes selection\n",
      "50\n",
      "29\n",
      "14\n",
      "47\n",
      "4\n"
     ]
    }
   ],
   "source": [
    "import sys\n",
    "import numpy as np\n",
    "sys.path.append('../../')  # Add the path to the my_packages module\n",
    "from my_packages.prompting.example_selectors import get_coverage_example_selector, get_semantic_similarity_example_selector\n",
    "\n",
    "def example_to_dict(example):\n",
    "    example = example.dict()\n",
    "    return {\n",
    "        \"task\": example[\"inputs\"][\"task\"],\n",
    "        \"function_signature\": example[\"inputs\"][\"function_signature\"],\n",
    "        \"response\": example[\"outputs\"][\"response\"],\n",
    "        \"task_id\": example[\"metadata\"][\"task_id\"],\n",
    "        \"MBPP_task_id\": example[\"metadata\"][\"MBPP_task_id\"],\n",
    "        \"external_functions\": example[\"metadata\"][\"external_functions\"]\n",
    "    }\n",
    "\n",
    "# Transform train_data to a list of dictionaries, and sort them by task_id\n",
    "example_pool = [example_to_dict(example) for example in train_data]\n",
    "example_pool.sort(key=lambda x: int(x['task_id']))\n",
    "print(f\"Number of examples in the pool: {len(example_pool)}\")\n",
    "\n",
    "if semantic_selector:\n",
    "    selector = get_semantic_similarity_example_selector(\n",
    "        example_pool, \n",
    "        OllamaEmbeddings(model=\"nomic-embed-text\"),\n",
    "        shots=NUM_SHOTS,\n",
    "        input_keys=[\"task\"],\n",
    "    )\n",
    "else:\n",
    "    selector = get_coverage_example_selector(\n",
    "        example_pool, \n",
    "        label = \"external_functions\",\n",
    "        shots=NUM_SHOTS,\n",
    "        seed=9\n",
    "    )\n",
    "\n",
    "examples = selector.select_examples({\"task\": \"Create a list of all the unique elements in a list.\"})\n",
    "\n",
    "for e in examples:\n",
    "    print(e['task_id'])"
   ]
  },
  {
   "cell_type": "markdown",
   "id": "8d30fcb4",
   "metadata": {},
   "source": [
    "## Evaluation"
   ]
  },
  {
   "cell_type": "markdown",
   "id": "4e3807a2",
   "metadata": {},
   "source": [
    "#### Testing functional correctness:"
   ]
  },
  {
   "cell_type": "code",
   "execution_count": 11,
   "id": "e242cb44",
   "metadata": {},
   "outputs": [
    {
     "name": "stderr",
     "output_type": "stream",
     "text": [
      "Token indices sequence length is longer than the specified maximum sequence length for this model (32152 > 1024). Running this sequence through the model will result in indexing errors\n"
     ]
    },
    {
     "data": {
      "text/plain": [
       "32152"
      ]
     },
     "execution_count": 11,
     "metadata": {},
     "output_type": "execute_result"
    }
   ],
   "source": [
    "# import sys\n",
    "# sys.path.append('../../')  # Add the path to the my_packages module\n",
    "# from my_packages.evaluation.code_evaluation import calculate_pass_at_k_scores\n",
    "# from my_packages.evaluation.metrics import check_correctness\n",
    "# all_data = train_data + val_data + test_data\n",
    "# results = {}\n",
    "# for example in all_data:\n",
    "#     task_id = example.metadata['task_id']\n",
    "#     # if task_id in results:\n",
    "#     #     continue\n",
    "#     results[task_id] = [example.outputs['response']]\n",
    "\n",
    "# test_results = check_correctness(results)\n",
    "# print(\"\\n\\nTESTS FAILED:\")\n",
    "# for task_id, responses in test_results.items():\n",
    "#     if not responses[0]['passed']:\n",
    "#         print(task_id)\n",
    "#         print(responses[0])\n",
    "# pass_at_ks = calculate_pass_at_k_scores(results, ks=[1], metric=\"tests\")\n",
    "prompt = \"\"\n",
    "for e in train_data + val_data + test_data:\n",
    "    prompt += f\"{e.inputs['task']} {e.outputs['response']}\\n\"\n",
    "\n",
    "client(model=\"phi4:14b-fp16\").get_num_tokens(prompt)\n"
   ]
  },
  {
   "cell_type": "code",
   "execution_count": null,
   "id": "4ce8f017",
   "metadata": {},
   "outputs": [
    {
     "name": "stdout",
     "output_type": "stream",
     "text": [
      "The autoreload extension is already loaded. To reload it, use:\n",
      "  %reload_ext autoreload\n",
      "Model: qwen2.5:14b-instruct-fp16\n",
      "\n",
      "===  VALIDATION ===\n",
      "\u001b[32m\u001b[1m  > Temperature: 0.60\n",
      "  > Top_k: 10.00\n",
      "  > Top_p: 0.90\n",
      "\u001b[0m  > Optimized metric result:: {\n",
      "    \"pass@1\": 0.2\n",
      "} > Metadata: null\n",
      "\u001b[36m\u001b[1mTesting Phase:\u001b[0m\n",
      "\n",
      "Tokens in the final prompt: 8961\n",
      "Generating response for sample 1..\r"
     ]
    }
   ],
   "source": [
    "import json\n",
    "import sys\n",
    "%load_ext autoreload\n",
    "%autoreload 2\n",
    "from my_packages.prompting.few_shot import get_prompt_template_variables\n",
    "sys.path.append('../../')  # Add the path to the my_packages module\n",
    "from my_packages.evaluation.code_evaluation import Run, run_validation, run_testing, calculate_final_result\n",
    "from my_packages.utils.tokens_utils import get_model_code_tokens_from_file\n",
    "from colorama import Fore, Back, Style\n",
    "\n",
    "def dict_to_example(dict) -> Example:\n",
    "    return Example(\n",
    "        inputs=dict[\"task\"],\n",
    "        outputs=dict[\"response\"],\n",
    "        metadata=dict[\"MBPP_task_id\"]\n",
    "    )\n",
    "\n",
    "results = {}\n",
    "for model_name in models:\n",
    "    print(f\"Model: {model_name}\")\n",
    "    \n",
    "    model = get_model_code_tokens_from_file(model_name, 'code_max_tokens.json')\n",
    "\n",
    "    validation_result = None\n",
    "    validation_result = Run(\n",
    "        phase=\"validation\",\n",
    "        temperature=0.6,\n",
    "        top_p=0.9,\n",
    "        top_k=10,\n",
    "        metric_results={\n",
    "            \"pass@1\": 0.2,\n",
    "        },\n",
    "        seed=None\n",
    "    )\n",
    "\n",
    "    if validation_result == None:\n",
    "  \n",
    "        validation_result = run_validation(\n",
    "            client,\n",
    "            model,\n",
    "            available_nodes,\n",
    "            val_data,\n",
    "            selector,\n",
    "            temperatures=[0.2, 0.6, 0.9],\n",
    "            top_ps=[0.2, 0.6, 0.9],\n",
    "            top_ks=[10, 50, 100],\n",
    "            ks=[1],\n",
    "            seed=9,\n",
    "            debug=True,\n",
    "            optimizer_metric=\"semantic\", # \"semantic\"  \"syntax\", \"tests\"\n",
    "        )\n",
    "    validation_result.print()\n",
    "   \n",
    "    test_results = run_testing(\n",
    "        client,\n",
    "        model,\n",
    "        available_nodes,\n",
    "        test_data[:1],\n",
    "        selector,\n",
    "        temperature=validation_result.temperature,\n",
    "        top_p=validation_result.top_p,\n",
    "        top_k=validation_result.top_k,\n",
    "        ks=[1, 5], # k generations per task\n",
    "        seeds=[3, 75, 346],\n",
    "        debug=True,\n",
    "        metrics=[\"syntax\", \"semantic\", \"tests\"] # current metrics: \"semantic\",  \"syntax\", \"tests\"\n",
    "    )\n",
    "    results[model[\"name\"]] = (validation_result, test_results)\n",
    "      \n",
    "# Print the final results\n",
    "print(\"\\nFINAL RESULTS:\")\n",
    "for model_name, (val_run, test_runs) in results.items():\n",
    "    print(f\"{Style.BRIGHT}{Fore.CYAN} Model: {model_name} {Style.RESET_ALL}\")\n",
    "    val_run.print()\n",
    "    for test_run in test_runs:\n",
    "        test_run.print()\n",
    "    \n",
    "    result_run = calculate_final_result(test_runs)\n",
    "    result_run.print()"
   ]
  },
  {
   "cell_type": "code",
   "execution_count": null,
   "id": "63b457e0",
   "metadata": {},
   "outputs": [
    {
     "data": {
      "text/plain": [
       "CompletedProcess(args=['package-manager', 'build', '/tmp/tmpa3uywe9a'], returncode=0, stdout='\\x1b[96mInstalling dependencies for midio_example@0.1.0\\n\\x1b[0m\\n\\x1b[92mNo external dependencies\\x1b[0m\\n\\n\\x1b[93mBuilding package...\\x1b[0m\\n\\x1b[92mPackage built successfully!\\n\\x1b[0m\\n', stderr='')"
      ]
     },
     "execution_count": 17,
     "metadata": {},
     "output_type": "execute_result"
    }
   ],
   "source": [
    "from my_packages.evaluation.midio_compiler import compile_code\n",
    "\n",
    "\n",
    "code = \"\"\"\n",
    "import(\"std\", Std_k98ojb)\n",
    "import(\"http\", Http_q7o96c)\n",
    "\n",
    "module() main {\n",
    "    func(doc: \"Finds the last position of an element in a sorted array.\") last {\n",
    "        in(x: -231, y: -29, name: \"list\") property(List) list_2bbadf\n",
    "        in(x: -246, y: 105, name: \"elem\") property(Number) elem_94ca57\n",
    "\n",
    "        out(x: -84, y: 349, name: \"continue\") trigger() continue_4e6c4a\n",
    "        out(x: 121, y: 319, name: \"last_position\") property(Number) last_position_f0d45b\n",
    "\n",
    "        instance(x: -187, y: 323) for_0 root.Std_k98ojb.Std.For {}\n",
    "        instance(x: -169, y: 256) ifexpression_0 root.Std_k98ojb.Std.IfExpression {\n",
    "            expression: \"item == elem\"\n",
    "        }\n",
    "        setter(x: -347, y: 258, name: \"setter_0\") setter_0 = last_position\n",
    "        getter(x: -109, y: 359, name: \"getter_0\") getter_0 = last_position\n",
    "\n",
    "        list_2bbadf -> for_0.items\n",
    "        for_0.item -> ifexpression_0.gen_0\n",
    "        elem_94ca57 -> ifexpression_0.gen_1\n",
    "        ifexpression_0.then -> setter_0.execute\n",
    "        setter_0.new_value -> last_position_f0d45b\n",
    "        setter_0.continue -> for_0.next\n",
    "        getter_0.value -> last_position_f0d45b\n",
    "        list_2bbadf -> for_0.items\n",
    "    }\n",
    "\n",
    "    instance(x: -319, y: 6) last_8a7e8f root.main.last {}\n",
    "}\n",
    "module(doc: \"Contains three different tests for the 'last' function node\") tests {\n",
    "        instance(x: -359, y: 161) test_e0e516 root.Std_k98ojb.Testing.Test {\n",
    "            name: \"Test last\"\n",
    "        }\n",
    "        instance(x: -108, y: 266) assertequal_e535d3 root.Std_k98ojb.Testing.AssertEqual {}\n",
    "        instance(x: -359, y: 269) last_ec893e root.main.last {}\n",
    "        instance(x: 362, y: 266) assertequal_83e73c root.Std_k98ojb.Testing.AssertEqual {}\n",
    "        instance(x: 111, y: 269) last_2e9081 root.main.last {}\n",
    "        instance(x: 829, y: 279) assertequal_96a0a1 root.Std_k98ojb.Testing.AssertEqual {}\n",
    "        instance(x: 578, y: 282) last_f37b3f root.main.last {}\n",
    "        data_instance(x: -562, y: 304) data_99c885  = [1, 2, 3]\n",
    "        data_instance(x: 93, y: 460) data_3e9e23  = [1, 1, 1, 2, 3, 4]\n",
    "        data_instance(x: 596, y: 464) data_09ea6a  = [2, 3, 2, 3, 6, 8, 9]\n",
    "        test_e0e516.onRun -> last_ec893e.execute_076885\n",
    "        last_ec893e.continue_9f5f84 -> assertequal_e535d3.execute\n",
    "        last_ec893e.index_fc05e7 -> assertequal_e535d3.actual\n",
    "        last_2e9081.continue_9f5f84 -> assertequal_83e73c.execute\n",
    "        last_2e9081.index_fc05e7 -> assertequal_83e73c.actual\n",
    "        last_f37b3f.continue_9f5f84 -> assertequal_96a0a1.execute\n",
    "        last_f37b3f.index_fc05e7 -> assertequal_96a0a1.actual\n",
    "        assertequal_e535d3.continue -> last_2e9081.execute_076885\n",
    "        assertequal_83e73c.continue -> last_f37b3f.execute_076885\n",
    "        1 -> last_ec893e.elem_94ca57\n",
    "        data_99c885 -> last_ec893e.list_2bbadf\n",
    "        data_3e9e23 -> last_2e9081.list_2bbadf\n",
    "        0 -> assertequal_e535d3.expect\n",
    "        2 -> assertequal_83e73c.expect\n",
    "        3 -> assertequal_96a0a1.expect\n",
    "        data_09ea6a -> last_f37b3f.list_2bbadf\n",
    "        3 -> last_f37b3f.elem_94ca57\n",
    "        1 -> last_2e9081.elem_94ca57\n",
    "\n",
    "\n",
    "    }\n",
    "\n",
    "\n",
    "\"\"\"\n",
    "\n",
    "compile_code(code)"
   ]
  },
  {
   "cell_type": "markdown",
   "id": "29c4307f",
   "metadata": {},
   "source": [
    "<!-- ## Langsmith evaluate -->"
   ]
  }
 ],
 "metadata": {
  "kernelspec": {
   "display_name": ".venv_Master",
   "language": "python",
   "name": "python3"
  },
  "language_info": {
   "codemirror_mode": {
    "name": "ipython",
    "version": 3
   },
   "file_extension": ".py",
   "mimetype": "text/x-python",
   "name": "python",
   "nbconvert_exporter": "python",
   "pygments_lexer": "ipython3",
   "version": "3.11.0rc1"
  }
 },
 "nbformat": 4,
 "nbformat_minor": 5
}
