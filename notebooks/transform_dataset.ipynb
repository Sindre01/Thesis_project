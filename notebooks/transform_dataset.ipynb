{
 "cells": [
  {
   "cell_type": "code",
   "execution_count": null,
   "metadata": {},
   "outputs": [
    {
     "name": "stdout",
     "output_type": "stream",
     "text": [
      "The autoreload extension is already loaded. To reload it, use:\n",
      "  %reload_ext autoreload\n"
     ]
    },
    {
     "ename": "FileNotFoundError",
     "evalue": "[Errno 2] No such file or directory: 'Thesis_project/data/MBPP_Midio_50/MBPP-Midio-50.json'",
     "output_type": "error",
     "traceback": [
      "\u001b[0;31m---------------------------------------------------------------------------\u001b[0m",
      "\u001b[0;31mFileNotFoundError\u001b[0m                         Traceback (most recent call last)",
      "Cell \u001b[0;32mIn[12], line 47\u001b[0m\n\u001b[1;32m     45\u001b[0m new_dataset_name \u001b[38;5;241m=\u001b[39m \u001b[38;5;124m'\u001b[39m\u001b[38;5;124mUPDATED-MBPP-Midio-50.json\u001b[39m\u001b[38;5;124m'\u001b[39m\n\u001b[1;32m     46\u001b[0m samples_folder \u001b[38;5;241m=\u001b[39m \u001b[38;5;124m'\u001b[39m\u001b[38;5;124m../data/MBPP_Midio_50/only_files\u001b[39m\u001b[38;5;124m'\u001b[39m\n\u001b[0;32m---> 47\u001b[0m dataset \u001b[38;5;241m=\u001b[39m \u001b[43mread_dataset_to_json\u001b[49m\u001b[43m(\u001b[49m\u001b[43mmain_dataset_folder\u001b[49m\u001b[43m)\u001b[49m\n\u001b[1;32m     49\u001b[0m \u001b[38;5;28;01mfor\u001b[39;00m sample \u001b[38;5;129;01min\u001b[39;00m dataset:\n\u001b[1;32m     50\u001b[0m     sample[\u001b[38;5;124m'\u001b[39m\u001b[38;5;124mtesting\u001b[39m\u001b[38;5;124m'\u001b[39m][\u001b[38;5;124m'\u001b[39m\u001b[38;5;124mpython_tests\u001b[39m\u001b[38;5;124m'\u001b[39m] \u001b[38;5;241m=\u001b[39m sample[\u001b[38;5;124m'\u001b[39m\u001b[38;5;124mtesting\u001b[39m\u001b[38;5;124m'\u001b[39m][\u001b[38;5;124m'\u001b[39m\u001b[38;5;124mtest_list\u001b[39m\u001b[38;5;124m'\u001b[39m]\n",
      "File \u001b[0;32m~/Thesis_project/notebooks/../my_packages/data_processing/split_dataset.py:210\u001b[0m, in \u001b[0;36mread_dataset_to_json\u001b[0;34m(file_path)\u001b[0m\n\u001b[1;32m    209\u001b[0m \u001b[38;5;28;01mdef\u001b[39;00m\u001b[38;5;250m \u001b[39m\u001b[38;5;21mread_dataset_to_json\u001b[39m(file_path: \u001b[38;5;28mstr\u001b[39m):\n\u001b[0;32m--> 210\u001b[0m     \u001b[38;5;28;01mwith\u001b[39;00m \u001b[38;5;28mopen\u001b[39m(file_path, \u001b[38;5;124m'\u001b[39m\u001b[38;5;124mr\u001b[39m\u001b[38;5;124m'\u001b[39m) \u001b[38;5;28;01mas\u001b[39;00m file:\n\u001b[1;32m    211\u001b[0m         dataset \u001b[38;5;241m=\u001b[39m json\u001b[38;5;241m.\u001b[39mload(file)\n\u001b[1;32m    212\u001b[0m     \u001b[38;5;28;01mreturn\u001b[39;00m dataset\n",
      "\u001b[0;31mFileNotFoundError\u001b[0m: [Errno 2] No such file or directory: 'Thesis_project/data/MBPP_Midio_50/MBPP-Midio-50.json'"
     ]
    }
   ],
   "source": [
    "\n",
    "%load_ext autoreload\n",
    "%autoreload 2\n",
    "import json\n",
    "import os\n",
    "import sys\n",
    "\n",
    "from my_packages.utils.file_utils import extract_func_signature, read_code_file, read_dataset_to_json, read_test_code_file\n",
    "sys.path.append('../')\n",
    "from my_packages.data_processing.attributes_processing import transform_test_list\n",
    "import re\n",
    "    \n",
    "def to_inline_string(text: str) -> str:\n",
    "    \"\"\"Convert a multi-line string to an inline string with literal \\\\n characters and escaped quotes.\"\"\"\n",
    "    # Escape double quotes by replacing \" with \\\"\n",
    "    text = text.replace('\"', r'\\\"')\n",
    "    # Replace actual newline characters with the literal string \"\\n\"\n",
    "    return text.replace(\"\\n\", r\"\\n\")\n",
    "\n",
    "main_dataset_folder = 'Thesis_project/data/MBPP_Midio_50/MBPP-Midio-50.json'\n",
    "new_dataset_name = 'UPDATED-MBPP-Midio-50.json'\n",
    "dataset = read_dataset_to_json(main_dataset_folder)\n",
    "\n",
    "for sample in dataset:\n",
    "    sample['testing']['python_tests'] = sample['testing']['test_list']\n",
    "    sample['testing']['tests'] = transform_test_list(sample['testing']['test_list'])\n",
    "    sample['testing'].pop('test_list')\n",
    "    code = read_test_code_file(sample['id'])\n",
    "    sample['specification']['function_signature'] = to_inline_string(extract_func_signature(code))\n",
    "    \n",
    "\n",
    "print(json.dumps(dataset[0], indent=4))\n",
    "current_dir = os.getcwd()  # Gets the current working directory\n",
    "full_path = os.path.join(current_dir, '../data')\n",
    "\n",
    "os.makedirs(full_path, exist_ok=True)\n",
    "\n",
    "with open(f'{full_path}/{new_dataset_name}', 'w') as train_file:\n",
    "    json.dump(dataset, train_file, indent=4)"
   ]
  }
 ],
 "metadata": {
  "kernelspec": {
   "display_name": ".venv_Master",
   "language": "python",
   "name": "python3"
  },
  "language_info": {
   "codemirror_mode": {
    "name": "ipython",
    "version": 3
   },
   "file_extension": ".py",
   "mimetype": "text/x-python",
   "name": "python",
   "nbconvert_exporter": "python",
   "pygments_lexer": "ipython3",
   "version": "3.11.0rc1"
  }
 },
 "nbformat": 4,
 "nbformat_minor": 2
}
