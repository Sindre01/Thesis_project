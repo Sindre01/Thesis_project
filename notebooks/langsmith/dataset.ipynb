{
 "cells": [
  {
   "cell_type": "markdown",
   "metadata": {},
   "source": [
    "# Get dataset from Langsmith"
   ]
  },
  {
   "cell_type": "code",
   "execution_count": null,
   "metadata": {},
   "outputs": [
    {
     "name": "stdout",
     "output_type": "stream",
     "text": [
      "Existing dataset found.\n",
      "dataset_id=UUID('cfbffc6c-8db2-4ac1-aa5b-66381852d34f') inputs={'task': 'Create a function to check whether the given number is a perfect square or not.', 'function_signature': 'func(doc: \"checks whether the given number is a perfect square or not.\") is_perfect_square {\\n\\tin(x: 354, y: -53, name: \"input\") property(Number) input_f5c03d\\n\\tin(x: 161, y: -211, name: \"execute\") trigger() execute_27b8c3\\n\\tout(x: 1748, y: -10, name: \"out\") property(Bool) out_f3db9f\\n\\tout(x: 1894, y: 120, name: \"continue\") trigger() continue_8ba06b\\n}'} outputs={'response': 'import(\"std\", Std_k98ojb)\\nimport(\"http\", Http_q7o96c)\\n\\nmodule() main {\\n    func(doc: \"checks whether the given number is a perfect square or not.\") is_perfect_square {\\n        in(x: 354, y: -53, name: \"input\") property(Number) input_f5c03d\\n        in(x: 161, y: -211, name: \"execute\") trigger() execute_27b8c3\\n\\n        out(x: 1748, y: -10, name: \"out\") property(Bool) out_f3db9f\\n        out(x: 1894, y: 120, name: \"continue\") trigger() continue_8ba06b\\n\\n        instance(x: 352, y: -493) map_6030c9 root.Std_k98ojb.Iteration.Map {}\\n        instance(x: 591, y: 74) generaterange_038fce root.Std_k98ojb.List.GenerateRange {}\\n        instance(x: 933, y: 25) lessthanorequal_f11fda root.Std_k98ojb.Math.LessThanOrEqual {}\\n        instance(x: 714, y: -155) for_8cb3f6 root.Std_k98ojb.Std.For {}\\n        instance(x: 1812, y: -319) and_80a119 root.Std_k98ojb.Logic.And {}\\n        instance(x: 1121, y: -54) if_07b8c7 root.Std_k98ojb.Std.If {}\\n        instance(x: 1504, y: -400) expression_b720d7 root.Std_k98ojb.Math.Expression {\\n            expression: \"(n % i == 0)\"\\n        }\\n        instance(x: 1496, y: -187) expression_9fba8c root.Std_k98ojb.Math.Expression {\\n            expression: \"(n / i == i)\"\\n        }\\n        instance(x: 2136, y: -356) if_e19a62 root.Std_k98ojb.Std.If {}\\n        instance(x: 1088, y: -256) add_b4554f root.Std_k98ojb.Math.Add {}\\n        1 -> generaterange_038fce.from\\n        input_f5c03d -> generaterange_038fce.to\\n        generaterange_038fce.list -> map_6030c9.items\\n        func() {\\n            in(x: -76, y: 46, name: \"element\") property(Number) element_5f51f7\\n\\n            out(x: 382, y: 19, name: \"out\") property(Number) out_d0fd24\\n\\n            instance(x: 106, y: 17) mul_2f9d09 root.Std_k98ojb.Math.Mul {}\\n            element_5f51f7 -> mul_2f9d09.first\\n            element_5f51f7 -> mul_2f9d09.second\\n            mul_2f9d09.result -> out_d0fd24\\n        } -> map_6030c9.handler\\n        map_6030c9.output_list -> for_8cb3f6.items\\n        for_8cb3f6.item -> lessthanorequal_f11fda.left\\n        input_f5c03d -> lessthanorequal_f11fda.right\\n        lessthanorequal_f11fda.result -> if_07b8c7.predicate\\n        for_8cb3f6.onItem -> if_07b8c7.execute\\n        if_07b8c7.else -> continue_8ba06b\\n        expression_b720d7.result -> and_80a119.left\\n        expression_9fba8c.result -> and_80a119.right\\n        and_80a119.result -> if_e19a62.predicate\\n        if_07b8c7.then -> if_e19a62.execute\\n        for_8cb3f6.index -> add_b4554f.first\\n        1 -> add_b4554f.second\\n        add_b4554f.result -> expression_b720d7.gen_1\\n        add_b4554f.result -> expression_9fba8c.gen_1\\n        input_f5c03d -> expression_9fba8c.gen_0\\n        input_f5c03d -> expression_b720d7.gen_0\\n        if_07b8c7.value -> out_f3db9f\\n        if_e19a62.then -> continue_8ba06b\\n        for_8cb3f6.done -> continue_8ba06b\\n        execute_27b8c3 -> for_8cb3f6.reset\\n        if_e19a62.else -> for_8cb3f6.next\\n    }\\n\\n    \\n\\n    instance(x: -189, y: 222) is_perfect_square_f0be66 root.main.is_perfect_square {}\\n}'} metadata={'task_id': '50', 'testing': {'tests': {'test_cases': [{'input': 10, 'expected_output': False}, {'input': 36, 'expected_output': True}, {'input': 14, 'expected_output': False}]}, 'function_signature': 'func(doc: \"checks whether the given number is a perfect square or not.\") is_perfect_square {\\n\\tin(x: 354, y: -53, name: \"input\") property(Number) input_f5c03d\\n\\tin(x: 161, y: -211, name: \"execute\") trigger() execute_27b8c3\\n\\tout(x: 1748, y: -10, name: \"out\") property(Bool) out_f3db9f\\n\\tout(x: 1894, y: 120, name: \"continue\") trigger() continue_8ba06b\\n}'}, 'MBPP_task_id': '803', 'dataset_split': ['train'], 'external_functions': 'Iteration.Map, List.GenerateRange, Math.LessThanOrEqual, Std.For, Logic.And, Std.If, Math.Expression, Math.Add, Math.Mul'} id=UUID('8725564f-986b-429b-843d-ea1108d2c52e') created_at=datetime.datetime(2025, 2, 13, 16, 8, 52, 219676, tzinfo=datetime.timezone.utc) modified_at=datetime.datetime(2025, 2, 13, 16, 8, 52, 219676, tzinfo=datetime.timezone.utc) runs=[] source_run_id=None attachments={}\n",
      "Number of train examples loaded: 32\n",
      "Number of validation examples loaded: 9\n",
      "Number of test examples loaded: 9\n"
     ]
    }
   ],
   "source": [
    "from dotenv import load_dotenv\n",
    "from langsmith import Client\n",
    "from langsmith.schemas import Example\n",
    "\n",
    "dataset_name = \"Code prediction\"\n",
    "\n",
    "load_dotenv(\"../../.env\")\n",
    "langsmith_client = Client()\n",
    "\n",
    "if langsmith_client.has_dataset(dataset_name=dataset_name):\n",
    "    langsmith_dataset=langsmith_client.read_dataset(dataset_name=dataset_name)\n",
    "    print(\"Existing dataset found.\")\n",
    "    \n",
    "    train_data = list(langsmith_client.list_examples(\n",
    "        dataset_name=dataset_name,\n",
    "        splits=[\"train\"],\n",
    "        # metadata={\"task_id\": \"1\"},\n",
    "        # limit=1\n",
    "    ))\n",
    "    \n",
    "\n",
    "    # train_data = [example.dict(include={\"inputs\", \"outputs\", \"metadata\"}) for example in train_data]\n",
    "    print(train_data[0])\n",
    "    print(f\"Number of train examples loaded: {len(train_data)}\")\n",
    "    \n",
    "    val_data = list(langsmith_client.list_examples(\n",
    "        dataset_name=dataset_name,\n",
    "        splits=[\"validation\"],\n",
    "        # metadata={\"task_id\": \"1\"},\n",
    "        # limit=5\n",
    "    ))\n",
    "    print(f\"Number of validation examples loaded: {len(val_data)}\")\n",
    "    # val_data = [example.dict(include={\"inputs\", \"outputs\", \"metadata\"}) for example in val_data]\n",
    "\n",
    "\n",
    "    test_data = list(langsmith_client.list_examples(\n",
    "        dataset_name=dataset_name,\n",
    "        splits=[\"test\"],\n",
    "        # metadata={\"task_id\": \"1\"},\n",
    "        # limit=5\n",
    "    ))\n",
    "    print(f\"Number of test examples loaded: {len(test_data)}\")\n",
    "    # test_data = [example.dict(include={\"inputs\", \"outputs\", \"metadata\"}) for example in test_data]\n",
    "    \n",
    "    # make the rest of the code work with Example object, instead of [{'task_id': str, 'task': str, 'response': list, 'MBPP_task_id': str}]. \n",
    "    # Create an database of type chat\n",
    " \n",
    "else:\n",
    "    print(f\"No existing dataset found with name: {dataset_name}.\")\n",
    "\n"
   ]
  }
 ],
 "metadata": {
  "language_info": {
   "name": "python"
  }
 },
 "nbformat": 4,
 "nbformat_minor": 2
}
