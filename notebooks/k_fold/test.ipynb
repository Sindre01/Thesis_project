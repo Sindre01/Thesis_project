{
 "cells": [
  {
   "cell_type": "code",
   "execution_count": null,
   "metadata": {},
   "outputs": [
    {
     "ename": "NameError",
     "evalue": "name '__file__' is not defined",
     "output_type": "error",
     "traceback": [
      "\u001b[0;31m---------------------------------------------------------------------------\u001b[0m",
      "\u001b[0;31mNameError\u001b[0m                                 Traceback (most recent call last)",
      "Cell \u001b[0;32mIn[4], line 10\u001b[0m\n\u001b[1;32m      7\u001b[0m \u001b[38;5;28;01mfrom\u001b[39;00m\u001b[38;5;250m \u001b[39m\u001b[38;5;21;01mmy_packages\u001b[39;00m\u001b[38;5;21;01m.\u001b[39;00m\u001b[38;5;21;01mprompting\u001b[39;00m\u001b[38;5;21;01m.\u001b[39;00m\u001b[38;5;21;01mfew_shot\u001b[39;00m\u001b[38;5;250m \u001b[39m\u001b[38;5;28;01mimport\u001b[39;00m transform_code_data\n\u001b[1;32m      8\u001b[0m \u001b[38;5;28;01mfrom\u001b[39;00m\u001b[38;5;250m \u001b[39m\u001b[38;5;21;01mmy_packages\u001b[39;00m\u001b[38;5;21;01m.\u001b[39;00m\u001b[38;5;21;01mutils\u001b[39;00m\u001b[38;5;21;01m.\u001b[39;00m\u001b[38;5;21;01mfile_utils\u001b[39;00m\u001b[38;5;250m \u001b[39m\u001b[38;5;28;01mimport\u001b[39;00m read_dataset_to_json\n\u001b[0;32m---> 10\u001b[0m script_dir \u001b[38;5;241m=\u001b[39m os\u001b[38;5;241m.\u001b[39mpath\u001b[38;5;241m.\u001b[39mdirname(os\u001b[38;5;241m.\u001b[39mpath\u001b[38;5;241m.\u001b[39mabspath(\u001b[38;5;18;43m__file__\u001b[39;49m))\n\u001b[1;32m     11\u001b[0m project_dir \u001b[38;5;241m=\u001b[39m os\u001b[38;5;241m.\u001b[39mpath\u001b[38;5;241m.\u001b[39mabspath(\u001b[38;5;124mf\u001b[39m\u001b[38;5;124m\"\u001b[39m\u001b[38;5;132;01m{\u001b[39;00mscript_dir\u001b[38;5;132;01m}\u001b[39;00m\u001b[38;5;124m/../..\u001b[39m\u001b[38;5;124m\"\u001b[39m)\n\u001b[1;32m     12\u001b[0m main_dataset_folder \u001b[38;5;241m=\u001b[39m \u001b[38;5;124mf\u001b[39m\u001b[38;5;124m'\u001b[39m\u001b[38;5;132;01m{\u001b[39;00mproject_dir\u001b[38;5;132;01m}\u001b[39;00m\u001b[38;5;124m/data/MBPP_Midio_50/\u001b[39m\u001b[38;5;124m'\u001b[39m\n",
      "\u001b[0;31mNameError\u001b[0m: name '__file__' is not defined"
     ]
    }
   ],
   "source": [
    "\n",
    "\n",
    "import os\n",
    "import sys\n",
    "sys.path.append('../..')\n",
    "\n",
    "from my_packages.analysis.analyze_datasets import analyze_functions_distribution, analyze_instance_distribution, analyze_visual_node_types_distribution\n",
    "from my_packages.data_processing.split_dataset import create_kfold_splits\n",
    "from my_packages.prompting.few_shot import transform_code_data\n",
    "from my_packages.utils.file_utils import read_dataset_to_json\n",
    "\n",
    "script_dir = os.path.dirname(os.path.abspath(__file__))\n",
    "project_dir = os.path.abspath(f\"{script_dir}/../..\")\n",
    "main_dataset_folder = f'{project_dir}/data/MBPP_Midio_50/'\n",
    "\n",
    "print(\"\\n==== Splits data ====\")\n",
    "\n",
    "def get_dataset_splits(main_dataset_folder):\n",
    "    train_data = read_dataset_to_json(main_dataset_folder + 'splits/train_dataset.json')\n",
    "    val_data = read_dataset_to_json(main_dataset_folder + 'splits/validation_dataset.json')\n",
    "    test_data = read_dataset_to_json(main_dataset_folder + 'splits/test_dataset.json')\n",
    "\n",
    "    print(f\"Train data: {len(train_data)}\")\n",
    "    print(f\"Val data: {len(val_data)}\")\n",
    "    print(f\"Test data: {len(test_data)}\")\n",
    "    return train_data, val_data, test_data\n",
    "\n",
    "# def get_k_fold_splits(main_dataset_folder, k, k_folds=5):\n",
    "\n",
    "#     if os.path.exists(main_dataset_folder + f'splits/{k_folds}_fold'):\n",
    "#         print(f\"Using existing {k_folds}-fold splits\")\n",
    "#     else:\n",
    "#         print(f\"Creating {k_folds}-fold splits\")\n",
    "#         train, _ , test = get_dataset_splits(main_dataset_folder)\n",
    "#         create_kfold_splits((test+train), k_folds=k_folds, write_to_file=True)\n",
    "\n",
    "#     train_data = read_dataset_to_json(main_dataset_folder + f'splits/{k_folds}_fold/train_dataset_{k}.json')\n",
    "#     test_data = read_dataset_to_json(main_dataset_folder + f'splits/{k_folds}_fold/test_dataset_{k}.json')\n",
    "\n",
    "#     print(f\"Train data: {len(train_data)}\")\n",
    "#     print(f\"Test data: {len(test_data)}\")\n",
    "#     return train_data, test_data\n",
    "\n",
    "# get_k_fold_splits(main_dataset_folder, 1, k_folds=5)\n",
    "train, _ , test = get_dataset_splits(main_dataset_folder)\n",
    "data, folds = create_kfold_splits((train+test), k_folds=3, write_to_file=True)\n",
    "print(folds)\n",
    "main_dataset_folder = f'{project_dir}/data/MBPP_Midio_50/'\n",
    "\n",
    "for fold in range(3):\n",
    "    train_data = [data[i] for i in folds[fold][0]]\n",
    "    test_data = [data[i] for i in folds[fold][1]]\n",
    "\n",
    "    print(f\"Fold {fold+1}\")\n",
    "    print(f\"len(train_data): {len(train_data)}\")\n",
    "    print(f\"len(test_data): {len(test_data)}\")\n",
    "    analyze_functions_distribution(train, [], test)\n",
    "    analyze_instance_distribution(train, [], test)\n",
    "    analyze_visual_node_types_distribution(train, [], test) \n"
   ]
  }
 ],
 "metadata": {
  "kernelspec": {
   "display_name": ".venv_Master",
   "language": "python",
   "name": "python3"
  },
  "language_info": {
   "codemirror_mode": {
    "name": "ipython",
    "version": 3
   },
   "file_extension": ".py",
   "mimetype": "text/x-python",
   "name": "python",
   "nbconvert_exporter": "python",
   "pygments_lexer": "ipython3",
   "version": "3.11.0rc1"
  }
 },
 "nbformat": 4,
 "nbformat_minor": 2
}
