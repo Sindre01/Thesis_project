{
 "cells": [
  {
   "cell_type": "code",
   "execution_count": null,
   "metadata": {},
   "outputs": [],
   "source": [
    "\n",
    "%load_ext autoreload\n",
    "%autoreload 2\n",
    "import json\n",
    "import os\n",
    "import sys\n",
    "sys.path.append('../../')\n",
    "from my_packages.data_processing.code_files import extract_func_signature, format_func_string\n",
    "from my_packages.utils.file_utils import read_code_file, read_test_code_file, read_dataset_to_json, read_test_code_file\n",
    "from my_packages.data_processing.attributes_processing import transform_test_list\n",
    "import re\n",
    "    \n",
    "main_dataset_folder = '../../data/MBPP_Midio_50/MBPP-Midio-50.json'\n",
    "new_dataset_name = 'MBPP-Midio-50.json'\n",
    "dataset = read_dataset_to_json(main_dataset_folder)\n",
    "\n",
    "for sample in dataset:\n",
    "    del sample['testing'][\"tests\"]\n",
    "\n",
    "    \n",
    "print(json.dumps(dataset[0], indent=4))\n",
    "current_dir = os.getcwd()  # Gets the current working directory\n",
    "full_path = os.path.join(current_dir, '../../data/MBPP_Midio_50')\n",
    "\n",
    "os.makedirs(full_path, exist_ok=True)\n",
    "\n",
    "with open(f'{full_path}/{new_dataset_name}', 'w') as updated:\n",
    "    json.dump(dataset, updated, indent=4)"
   ]
  }
 ],
 "metadata": {
  "kernelspec": {
   "display_name": ".venv",
   "language": "python",
   "name": "python3"
  },
  "language_info": {
   "codemirror_mode": {
    "name": "ipython",
    "version": 3
   },
   "file_extension": ".py",
   "mimetype": "text/x-python",
   "name": "python",
   "nbconvert_exporter": "python",
   "pygments_lexer": "ipython3",
   "version": "3.11.12"
  }
 },
 "nbformat": 4,
 "nbformat_minor": 2
}
