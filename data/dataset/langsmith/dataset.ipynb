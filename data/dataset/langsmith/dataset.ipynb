{
 "cells": [
  {
   "cell_type": "markdown",
   "metadata": {},
   "source": [
    "# Get dataset from Langsmith"
   ]
  },
  {
   "cell_type": "code",
   "execution_count": 2,
   "metadata": {},
   "outputs": [
    {
     "name": "stdout",
     "output_type": "stream",
     "text": [
      "Existing dataset found.\n",
      "dataset_id=UUID('c2245c82-2cee-4b2e-a096-7b04b271ad3d') inputs={'task': 'Create a function to find the first odd number in a given list of numbers.', 'function_signature': 'func(doc: \"Finds the first odd number in a given list of numbers.\") first_odd {\\n\\tin(x: -284, y: -0, name: \"list\") property(List) list_abed4a\\n\\tout(x: 593, y: -1, name: \"number\") property(Number) number_3bc2ae\\n}'} outputs={'response': 'import(\"std\", Std_k98ojb)\\nimport(\"http\", Http_q7o96c)\\n\\nmodule() main { \\n     func(doc: \"Finds the first odd number in a given list of numbers.\") first_odd {\\n        in(x: -284, y: -0, name: \"list\") property(List) list_abed4a\\n\\n        out(x: 593, y: -1, name: \"number\") property(Number) number_3bc2ae\\n\\n        instance(x: 0, y: 0) find_6d05b0 root.Std_k98ojb.Iteration.Find {}\\n        func() {\\n            in(x: -113, y: 34, name: \"elem\") property(Number) elem_9f6850\\n\\n            out(x: 515, y: 44, name: \"bool\") property(Bool) bool_af09a7\\n\\n            instance(x: 89, y: 29) modulo_1088d5 root.Std_k98ojb.Math.Modulo {}\\n            instance(x: 310, y: 35) notequal_807ffd root.Std_k98ojb.Logic.NotEqual {}\\n            0 -> notequal_807ffd.right\\n            modulo_1088d5.result -> notequal_807ffd.left\\n            2 -> modulo_1088d5.divisor\\n            elem_9f6850 -> modulo_1088d5.value\\n            notequal_807ffd.result -> bool_af09a7\\n        } -> find_6d05b0.predicate\\n        list_abed4a -> find_6d05b0.items\\n        find_6d05b0.item -> number_3bc2ae\\n    }\\n\\n    \\n\\n    instance(x: -55, y: 529) first_odd_2c856f root.main.first_odd {}\\n}'} metadata={'task_id': '43', 'testing': {'tests': {'test_cases': [{'input': [1, 3, 5], 'expected_output': 1}, {'input': [2, 4, 1, 3], 'expected_output': 1}]}, 'function_signature': 'func(doc: \"Finds the first odd number in a given list of numbers.\") first_odd {\\n\\tin(x: -284, y: -0, name: \"list\") property(List) list_abed4a\\n\\tout(x: 593, y: -1, name: \"number\") property(Number) number_3bc2ae\\n}'}, 'MBPP_task_id': '807', 'dataset_split': ['train'], 'external_functions': 'Iteration.Find, Math.Modulo, Logic.NotEqual'} id=UUID('174812b9-a154-45d6-baad-4c8a485ea3db') created_at=datetime.datetime(2025, 3, 7, 14, 17, 50, 807419, tzinfo=datetime.timezone.utc) modified_at=datetime.datetime(2025, 3, 7, 14, 17, 50, 807419, tzinfo=datetime.timezone.utc) runs=[] source_run_id=None attachments={}\n",
      "Number of train examples loaded: 20\n",
      "Number of validation examples loaded: 10\n",
      "Number of test examples loaded: 20\n"
     ]
    }
   ],
   "source": [
    "from dotenv import load_dotenv\n",
    "from langsmith import Client\n",
    "from langsmith.schemas import Example\n",
    "\n",
    "dataset_name = \"Code prediction V2\"\n",
    "\n",
    "load_dotenv(\"../../.env\")\n",
    "langsmith_client = Client()\n",
    "\n",
    "if langsmith_client.has_dataset(dataset_name=dataset_name):\n",
    "    langsmith_dataset=langsmith_client.read_dataset(dataset_name=dataset_name)\n",
    "    print(\"Existing dataset found.\")\n",
    "    \n",
    "    train_data = list(langsmith_client.list_examples(\n",
    "        dataset_name=dataset_name,\n",
    "        splits=[\"train\"],\n",
    "        # metadata={\"task_id\": \"1\"},\n",
    "        # limit=1\n",
    "    ))\n",
    "    \n",
    "\n",
    "    # train_data = [example.dict(include={\"inputs\", \"outputs\", \"metadata\"}) for example in train_data]\n",
    "    print(train_data[0])\n",
    "    print(f\"Number of train examples loaded: {len(train_data)}\")\n",
    "    \n",
    "    val_data = list(langsmith_client.list_examples(\n",
    "        dataset_name=dataset_name,\n",
    "        splits=[\"validation\"],\n",
    "        # metadata={\"task_id\": \"1\"},\n",
    "        # limit=5\n",
    "    ))\n",
    "    print(f\"Number of validation examples loaded: {len(val_data)}\")\n",
    "    # val_data = [example.dict(include={\"inputs\", \"outputs\", \"metadata\"}) for example in val_data]\n",
    "\n",
    "\n",
    "    test_data = list(langsmith_client.list_examples(\n",
    "        dataset_name=dataset_name,\n",
    "        splits=[\"test\"],\n",
    "        # metadata={\"task_id\": \"1\"},\n",
    "        # limit=5\n",
    "    ))\n",
    "    print(f\"Number of test examples loaded: {len(test_data)}\")\n",
    "    # test_data = [example.dict(include={\"inputs\", \"outputs\", \"metadata\"}) for example in test_data]\n",
    "    \n",
    "    # make the rest of the code work with Example object, instead of [{'task_id': str, 'task': str, 'response': list, 'MBPP_task_id': str}]. \n",
    "    # Create an database of type chat\n",
    " \n",
    "else:\n",
    "    print(f\"No existing dataset found with name: {dataset_name}.\")\n",
    "\n"
   ]
  }
 ],
 "metadata": {
  "kernelspec": {
   "display_name": ".venv_Master",
   "language": "python",
   "name": "python3"
  },
  "language_info": {
   "codemirror_mode": {
    "name": "ipython",
    "version": 3
   },
   "file_extension": ".py",
   "mimetype": "text/x-python",
   "name": "python",
   "nbconvert_exporter": "python",
   "pygments_lexer": "ipython3",
   "version": "3.11.0rc1"
  }
 },
 "nbformat": 4,
 "nbformat_minor": 2
}
